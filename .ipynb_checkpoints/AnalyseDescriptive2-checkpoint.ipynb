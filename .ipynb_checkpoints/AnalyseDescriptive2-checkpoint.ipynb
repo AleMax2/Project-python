{
 "cells": [
  {
   "cell_type": "markdown",
   "metadata": {},
   "source": [
    "# Partie 0: Traitement des données et libraries"
   ]
  },
  {
   "cell_type": "code",
   "execution_count": 13,
   "metadata": {},
   "outputs": [
    {
     "ename": "ModuleNotFoundError",
     "evalue": "No module named 'plotly'",
     "output_type": "error",
     "traceback": [
      "\u001b[0;31m---------------------------------------------------------------------------\u001b[0m",
      "\u001b[0;31mModuleNotFoundError\u001b[0m                       Traceback (most recent call last)",
      "\u001b[0;32m<ipython-input-13-88fdfd8380bf>\u001b[0m in \u001b[0;36m<module>\u001b[0;34m()\u001b[0m\n\u001b[1;32m      7\u001b[0m \u001b[0;32mimport\u001b[0m \u001b[0mdatetime\u001b[0m \u001b[0;32mas\u001b[0m \u001b[0mdt\u001b[0m\u001b[0;34m\u001b[0m\u001b[0m\n\u001b[1;32m      8\u001b[0m \u001b[0;32mimport\u001b[0m \u001b[0mseaborn\u001b[0m \u001b[0;32mas\u001b[0m \u001b[0msns\u001b[0m\u001b[0;34m\u001b[0m\u001b[0m\n\u001b[0;32m----> 9\u001b[0;31m \u001b[0;32mimport\u001b[0m \u001b[0mplotly\u001b[0m\u001b[0;34m.\u001b[0m\u001b[0mexpress\u001b[0m \u001b[0;32mas\u001b[0m \u001b[0mpx\u001b[0m\u001b[0;34m\u001b[0m\u001b[0m\n\u001b[0m\u001b[1;32m     10\u001b[0m \u001b[0mget_ipython\u001b[0m\u001b[0;34m(\u001b[0m\u001b[0;34m)\u001b[0m\u001b[0;34m.\u001b[0m\u001b[0mrun_line_magic\u001b[0m\u001b[0;34m(\u001b[0m\u001b[0;34m'matplotlib'\u001b[0m\u001b[0;34m,\u001b[0m \u001b[0;34m'inline'\u001b[0m\u001b[0;34m)\u001b[0m\u001b[0;34m\u001b[0m\u001b[0m\n\u001b[1;32m     11\u001b[0m \u001b[0;32mimport\u001b[0m \u001b[0msys\u001b[0m\u001b[0;34m\u001b[0m\u001b[0m\n",
      "\u001b[0;31mModuleNotFoundError\u001b[0m: No module named 'plotly'"
     ]
    }
   ],
   "source": [
    "import pandas as pd\n",
    "import numpy as np\n",
    "#import edatk as eda\n",
    "import math\n",
    "from matplotlib import pyplot as plt\n",
    "#from pandas_profiling import ProfileReport\n",
    "import datetime as dt\n",
    "import seaborn as sns\n",
    "import plotly.express as px\n",
    "%matplotlib inline\n",
    "import sys\n",
    "import warnings\n",
    "from  matplotlib.colors import LinearSegmentedColormap\n",
    "if not sys.warnoptions:\n",
    "    warnings.simplefilter(\"ignore\")"
   ]
  },
  {
   "cell_type": "code",
   "execution_count": null,
   "metadata": {},
   "outputs": [],
   "source": [
    "df_brevet=pd.read_csv(\"fr-en-dnb-par-etablissement.csv\",  encoding='utf-8-sig', sep=';',na_values=[\"-\"])\n"
   ]
  },
  {
   "cell_type": "code",
   "execution_count": null,
   "metadata": {},
   "outputs": [],
   "source": [
    "#Traiter les données pour transformer en valeur flotante\n",
    "df_brevet['taux_de_reussite']=df_brevet['taux_de_reussite'].replace('[\\%,]', '', regex=True).astype(float)/100"
   ]
  },
  {
   "cell_type": "code",
   "execution_count": null,
   "metadata": {},
   "outputs": [],
   "source": [
    "#Convertir automatiquement les données \n",
    "df_brevet.convert_dtypes(infer_objects=True, convert_string=True,\n",
    "      convert_integer=True, convert_boolean=True, convert_floating=True)"
   ]
  },
  {
   "cell_type": "code",
   "execution_count": null,
   "metadata": {},
   "outputs": [],
   "source": [
    "#Convertir manuellement les donnees en datetime et object\n",
    "df_brevet['session']=pd.to_datetime(df_brevet['session'], format= '%Y')\n",
    "df_brevet['academie']=df_brevet['academie'].astype(str)\n",
    "df_brevet['region']=df_brevet['region'].astype(str)\n",
    "df_brevet['session'] = pd.DatetimeIndex(df_brevet['session']).year"
   ]
  },
  {
   "cell_type": "code",
   "execution_count": null,
   "metadata": {},
   "outputs": [],
   "source": [
    "#Sélectionner les départements de la petite couronne\n",
    "df1_brevet=df_brevet[df_brevet['departement'].isin(['075','092','093','094'])]"
   ]
  },
  {
   "cell_type": "code",
   "execution_count": null,
   "metadata": {},
   "outputs": [],
   "source": [
    "df1_brevet['academie_libelle'].unique()"
   ]
  },
  {
   "cell_type": "code",
   "execution_count": null,
   "metadata": {},
   "outputs": [],
   "source": [
    "# Base de données pour l'analyse de BAC\n",
    "df_bac=pd.read_csv('fr-en-indicateurs-de-resultat-des-lycees-denseignement-general-et-technologique.csv',   encoding='utf-8-sig', sep=';')"
   ]
  },
  {
   "cell_type": "code",
   "execution_count": null,
   "metadata": {},
   "outputs": [],
   "source": [
    "#Convertir automatiquement les données \n",
    "df_bac.convert_dtypes(infer_objects=True, convert_string=True,\n",
    "      convert_integer=True, convert_boolean=True, convert_floating=True)"
   ]
  },
  {
   "cell_type": "code",
   "execution_count": null,
   "metadata": {},
   "outputs": [],
   "source": [
    "df_bac['total_eleves_general']=df_bac['Presents - L']+df_bac['Presents - ES']+df_bac['Presents - S']\n",
    "df_bac['Taux_reussite_general']=(df_bac['Presents - L']*df_bac['Taux de reussite - L']+df_bac['Presents - S']*df_bac['Taux de reussite - S']+df_bac['Presents - ES']*df_bac['Taux de reussite - ES'])/df_bac['total_eleves_general']\n",
    "df_bac['Taux_mentions_general']=(df_bac['Presents - L']*df_bac['Taux de mentions - L']+df_bac['Presents - S']*df_bac['Taux de mentions - S']+df_bac['Presents - ES']*df_bac['Taux de mentions - ES'])/df_bac['total_eleves_general']\n",
    "\n",
    "df_ayuda=df_bac[[\n",
    " 'Presents - STG',\n",
    " 'Presents - STI2D',\n",
    " 'Presents - STD2A',\n",
    " 'Presents - STMG',\n",
    " 'Presents - STI',\n",
    " 'Presents - STL',\n",
    " 'Presents - ST2S',\n",
    " 'Presents - TMD',\n",
    " 'Presents - STHR',\n",
    " 'Taux de reussite - STG',\n",
    " 'Taux de reussite - STI2D',\n",
    " 'Taux de reussite - STD2A',\n",
    " 'Taux de reussite - STMG',\n",
    " 'Taux de reussite - STI',\n",
    " 'Taux de reussite - STL',\n",
    " 'Taux de reussite - ST2S',\n",
    " 'Taux de reussite - TMD',\n",
    " 'Taux de reussite - STHR',\n",
    " 'Taux de mentions - STI2D',\n",
    " 'Taux de mentions - STD2A',\n",
    " 'Taux de mentions - STMG',\n",
    " 'Taux de mentions - STL',\n",
    " 'Taux de mentions - ST2S',\n",
    " 'Taux de mentions - TMD',\n",
    " 'Taux de mentions - STHR']]  \n",
    "df_ayuda=df_ayuda.fillna(0)\n",
    "\n",
    "df_bac['total_eleves_technique']=df_ayuda['Presents - STG']+df_ayuda['Presents - STI2D']+df_ayuda['Presents - STD2A']+df_ayuda['Presents - STMG']+df_ayuda['Presents - STI']+df_ayuda['Presents - STL']+df_ayuda['Presents - ST2S']+df_ayuda['Presents - TMD']+df_ayuda['Presents - STHR']\n",
    "df_bac['Taux_reussite_technique']= (df_ayuda['Presents - STG']*df_ayuda['Taux de reussite - STG']+ df_ayuda['Presents - STI2D']*df_ayuda['Taux de reussite - STI2D']+df_ayuda['Presents - STD2A']*df_ayuda['Taux de reussite - STD2A']+df_ayuda['Presents - STMG']*df_ayuda['Taux de reussite - STMG']+df_ayuda['Presents - STI']*df_ayuda['Taux de reussite - STI']+df_ayuda['Presents - STL']*df_ayuda['Taux de reussite - STL']+df_ayuda['Presents - ST2S']*df_ayuda['Taux de reussite - ST2S']+df_ayuda['Presents - TMD']*df_ayuda['Taux de reussite - TMD']+df_ayuda['Presents - STHR']*df_ayuda['Taux de reussite - STHR'])/df_bac['total_eleves_technique']\n",
    "df_bac['Taux_mentions_technique']= (df_ayuda['Presents - STI2D']*df_ayuda['Taux de mentions - STI2D']+df_ayuda['Presents - STD2A']*df_ayuda['Taux de mentions - STD2A']+df_ayuda['Presents - STMG']*df_ayuda['Taux de mentions - STMG']+df_ayuda['Presents - STL']*df_ayuda['Taux de mentions - STL']+df_ayuda['Presents - ST2S']*df_ayuda['Taux de mentions - ST2S']+df_ayuda['Presents - TMD']*df_ayuda['Taux de mentions - TMD']+df_ayuda['Presents - STHR']*df_ayuda['Taux de mentions - STHR'])/(df_bac['total_eleves_technique']-df_ayuda['Presents - STI']-df_ayuda['Presents - STG'])\n",
    "\n",
    "df_bac['STG']=np.where(df_bac[\"Presents - STG\"]>0, 1,0)\n",
    "df_bac['STI2D']=np.where(df_bac[\"Presents - STI2D\"]>0, 1,0)\n",
    "df_bac['STD2A']=np.where(df_bac[\"Presents - STD2A\"]>0, 1,0)\n",
    "df_bac['STMG']=np.where(df_bac[\"Presents - STMG\"]>0, 1,0)\n",
    "df_bac['STI']=np.where(df_bac[\"Presents - STI\"]>0, 1,0)\n",
    "df_bac['STL']=np.where(df_bac[\"Presents - STL\"]>0, 1,0)\n",
    "df_bac['ST2S']=np.where(df_bac[\"Presents - ST2S\"]>0, 1,0)\n",
    "df_bac['TMD']=np.where(df_bac[\"Presents - TMD\"]>0, 1,0)\n",
    "df_bac['STHR']=np.where(df_bac[\"Presents - STHR\"]>0, 1,0)\n",
    "\n",
    "df_bac['Nombre_section_tecnique']=df_bac['STG']+df_bac['STI2D']+df_bac['STD2A']+df_bac['STMG']+df_bac['STI']+df_bac['STL']+df_bac['ST2S']+df_bac['TMD']+df_bac['STHR']"
   ]
  },
  {
   "cell_type": "code",
   "execution_count": null,
   "metadata": {},
   "outputs": [],
   "source": [
    "df1_bac=df_bac[df_bac['Region'].isin(['Ile-de-France']) & df_bac['code_departement'].isin(['75','92','93','94'])]"
   ]
  },
  {
   "cell_type": "code",
   "execution_count": null,
   "metadata": {},
   "outputs": [],
   "source": [
    "df1_bac=df1_bac[[\"Taux_mentions_technique\", \"Taux_mentions_general\",\"total_eleves_general\",\"total_eleves_technique\",\"Nombre_section_tecnique\", \"Taux_reussite_general\", \"Taux_reussite_technique\", \"Etablissement\",\"Annee\",\"Ville\",\"UAI\",\"Code commune\",\"Academie\",\"Departement\",\"Secteur\",\"Presents - L\",\"Presents - ES\",\"Presents - S\",\"Presents - STG\",\"Presents - STI2D\",\"Presents - STD2A\",\"Presents - STMG\",\"Presents - STI\",\"Presents - STL\",\"Presents - ST2S\",\"Presents - TMD\",\"Presents - STHR\",\"Presents - Toutes series\",\"Taux de reussite - L\",\"Taux de reussite - ES\",\"Taux de reussite - S\",\"Taux de reussite - STG\",\"Taux de reussite - STI2D\",\"Taux de reussite - STD2A\",\"Taux de reussite - STMG\",\"Taux de reussite - STI\",\"Taux de reussite - STL\",\"Taux de reussite - ST2S\",\"Taux de reussite - TMD\",\"Taux de reussite - STHR\",\"Taux de reussite - Toutes series\",\"Taux de reussite attendu france - L\",\"Taux de reussite attendu france - ES\",\"Taux de reussite attendu france - S\",\"Taux de reussite attendu france - STG\",\"Taux de reussite attendu france - STI2D\",\"Taux de reussite attendu france - STD2A\",\"Taux de reussite attendu france - STMG\",\"Taux de reussite attendu france - STI\",\"Taux de reussite attendu france - STL\",\"Taux de reussite attendu france - ST2S\",\"Taux de reussite attendu france - TMD\",\"Taux de reussite attendu france - STHR\",\"Taux de reussite attendu france - Toutes series\",\"Taux de mentions - L\",\"Taux de mentions - ES\",\"Taux de mentions - S\",\"Taux de mentions - STI2D\",\"Taux de mentions - STD2A\",\"Taux de mentions - STMG\",\"Taux de mentions - STL\",\"Taux de mentions - ST2S\",\"Taux de mentions - TMD\",\"Taux de mentions - STHR\",\"Taux de mentions - Toutes series\",\"Taux de mentions attendu - L\",\"Taux de mentions attendu - ES\",\"Taux de mentions attendu - S\",\"Taux de mentions attendu - STI2D\",\"Taux de mentions attendu - STD2A\",\"Taux de mentions attendu - STMG\",\"Taux de mentions attendu - STL\",\"Taux de mentions attendu - ST2S\",\"Taux de mentions attendu - TMD\",\"Taux de mentions attendu - STHR\",\"Taux de mentions attendu - Toutes series\",\"Structure pedagogique 5 groupes\",\"Structure pedagogique 7 groupes\",\"Effectif de seconde\",\"Effectif de premiere\",\"Effectif de terminale\",\"Taux d'acces 2nde-bac\",\"Taux d'acces attendu france 2nde-bac\",\"Taux d'acces 1ere-bac\",\"Taux d'acces attendu france 1ere-bac\",\"Taux d'acces terminale-bac\", \"Taux d'acces attendu france terminale-bac\",\"Region\",\"Code region\",\"code_departement\"]]"
   ]
  },
  {
   "cell_type": "code",
   "execution_count": null,
   "metadata": {},
   "outputs": [],
   "source": [
    "df1_bac['Academie'].unique()"
   ]
  },
  {
   "cell_type": "code",
   "execution_count": 2,
   "metadata": {},
   "outputs": [
    {
     "ename": "NameError",
     "evalue": "name 'LinearSegmentedColormap' is not defined",
     "output_type": "error",
     "traceback": [
      "\u001b[0;31m---------------------------------------------------------------------------\u001b[0m",
      "\u001b[0;31mNameError\u001b[0m                                 Traceback (most recent call last)",
      "\u001b[0;32m<ipython-input-2-21a752b0c053>\u001b[0m in \u001b[0;36m<module>\u001b[0;34m()\u001b[0m\n\u001b[0;32m----> 1\u001b[0;31m \u001b[0mcmap\u001b[0m\u001b[0;34m=\u001b[0m\u001b[0mLinearSegmentedColormap\u001b[0m\u001b[0;34m.\u001b[0m\u001b[0mfrom_list\u001b[0m\u001b[0;34m(\u001b[0m\u001b[0;34m'rg'\u001b[0m\u001b[0;34m,\u001b[0m\u001b[0;34m[\u001b[0m\u001b[0;34m\"r\"\u001b[0m\u001b[0;34m,\u001b[0m \u001b[0;34m\"w\"\u001b[0m\u001b[0;34m,\u001b[0m \u001b[0;34m\"g\"\u001b[0m\u001b[0;34m]\u001b[0m\u001b[0;34m,\u001b[0m \u001b[0mN\u001b[0m\u001b[0;34m=\u001b[0m\u001b[0;36m256\u001b[0m\u001b[0;34m)\u001b[0m\u001b[0;34m\u001b[0m\u001b[0m\n\u001b[0m",
      "\u001b[0;31mNameError\u001b[0m: name 'LinearSegmentedColormap' is not defined"
     ]
    }
   ],
   "source": [
    "cmap=LinearSegmentedColormap.from_list('rg',[\"r\", \"w\", \"g\"], N=256)"
   ]
  },
  {
   "cell_type": "markdown",
   "metadata": {},
   "source": [
    "# Partie 1. Analyse du taux de réussite de Paris 2020 "
   ]
  },
  {
   "cell_type": "markdown",
   "metadata": {},
   "source": [
    "## 1.1 BAC"
   ]
  },
  {
   "cell_type": "markdown",
   "metadata": {},
   "source": [
    "## 1.2 Nombre d'élève par département"
   ]
  },
  {
   "cell_type": "code",
   "execution_count": 3,
   "metadata": {},
   "outputs": [
    {
     "ename": "NameError",
     "evalue": "name 'px' is not defined",
     "output_type": "error",
     "traceback": [
      "\u001b[0;31m---------------------------------------------------------------------------\u001b[0m",
      "\u001b[0;31mNameError\u001b[0m                                 Traceback (most recent call last)",
      "\u001b[0;32m<ipython-input-3-c3acc4026be2>\u001b[0m in \u001b[0;36m<module>\u001b[0;34m()\u001b[0m\n\u001b[0;32m----> 1\u001b[0;31m \u001b[0mfig\u001b[0m \u001b[0;34m=\u001b[0m \u001b[0mpx\u001b[0m\u001b[0;34m.\u001b[0m\u001b[0mhistogram\u001b[0m\u001b[0;34m(\u001b[0m\u001b[0mdf1_bac\u001b[0m\u001b[0;34m[\u001b[0m\u001b[0mdf1_bac\u001b[0m\u001b[0;34m[\u001b[0m\u001b[0;34m'Annee'\u001b[0m\u001b[0;34m]\u001b[0m\u001b[0;34m==\u001b[0m\u001b[0;36m2020\u001b[0m\u001b[0;34m]\u001b[0m\u001b[0;34m.\u001b[0m\u001b[0mgroupby\u001b[0m\u001b[0;34m(\u001b[0m\u001b[0;34m[\u001b[0m\u001b[0;34m'Annee'\u001b[0m\u001b[0;34m,\u001b[0m\u001b[0;34m'code_departement'\u001b[0m\u001b[0;34m]\u001b[0m\u001b[0;34m)\u001b[0m\u001b[0;34m[\u001b[0m\u001b[0;34m'total_eleves_technique'\u001b[0m\u001b[0;34m]\u001b[0m\u001b[0;34m.\u001b[0m\u001b[0msum\u001b[0m\u001b[0;34m(\u001b[0m\u001b[0;34m)\u001b[0m\u001b[0;34m.\u001b[0m\u001b[0mreset_index\u001b[0m\u001b[0;34m(\u001b[0m\u001b[0;34m)\u001b[0m\u001b[0;34m,\u001b[0m \u001b[0mx\u001b[0m\u001b[0;34m=\u001b[0m\u001b[0;34m'code_departement'\u001b[0m\u001b[0;34m,\u001b[0m\u001b[0my\u001b[0m\u001b[0;34m=\u001b[0m\u001b[0;34m\"total_eleves_technique\"\u001b[0m\u001b[0;34m,\u001b[0m \u001b[0mtitle\u001b[0m\u001b[0;34m=\u001b[0m\u001b[0;34m'Total eleves - TECHNIQUE'\u001b[0m\u001b[0;34m,\u001b[0m \u001b[0mwidth\u001b[0m\u001b[0;34m=\u001b[0m\u001b[0;36m950\u001b[0m\u001b[0;34m,\u001b[0m \u001b[0mheight\u001b[0m\u001b[0;34m=\u001b[0m\u001b[0;36m560\u001b[0m\u001b[0;34m)\u001b[0m\u001b[0;34m\u001b[0m\u001b[0m\n\u001b[0m\u001b[1;32m      2\u001b[0m fig.update_layout(legend =dict(font = dict(family = \"Courier\", size = 10, color = \"black\")),\n\u001b[1;32m      3\u001b[0m                   legend_title = dict(font = dict(size = 20, color = \"blue\")))\n\u001b[1;32m      4\u001b[0m \u001b[0mfig\u001b[0m\u001b[0;34m.\u001b[0m\u001b[0mshow\u001b[0m\u001b[0;34m(\u001b[0m\u001b[0;34m)\u001b[0m\u001b[0;34m\u001b[0m\u001b[0m\n",
      "\u001b[0;31mNameError\u001b[0m: name 'px' is not defined"
     ]
    }
   ],
   "source": [
    "fig = px.histogram(df1_bac[df1_bac['Annee']==2020].groupby(['Annee','code_departement'])['total_eleves_technique'].sum().reset_index(), x='code_departement',y=\"total_eleves_technique\", title='Total eleves - TECHNIQUE', width=950, height=560)\n",
    "fig.update_layout(legend =dict(font = dict(family = \"Courier\", size = 10, color = \"black\")),\n",
    "                  legend_title = dict(font = dict(size = 20, color = \"blue\")))\n",
    "fig.show()"
   ]
  },
  {
   "cell_type": "code",
   "execution_count": 4,
   "metadata": {},
   "outputs": [
    {
     "ename": "NameError",
     "evalue": "name 'px' is not defined",
     "output_type": "error",
     "traceback": [
      "\u001b[0;31m---------------------------------------------------------------------------\u001b[0m",
      "\u001b[0;31mNameError\u001b[0m                                 Traceback (most recent call last)",
      "\u001b[0;32m<ipython-input-4-8a4a530ed31d>\u001b[0m in \u001b[0;36m<module>\u001b[0;34m()\u001b[0m\n\u001b[0;32m----> 1\u001b[0;31m \u001b[0mfig\u001b[0m \u001b[0;34m=\u001b[0m \u001b[0mpx\u001b[0m\u001b[0;34m.\u001b[0m\u001b[0mhistogram\u001b[0m\u001b[0;34m(\u001b[0m\u001b[0mdf1_bac\u001b[0m\u001b[0;34m[\u001b[0m\u001b[0mdf1_bac\u001b[0m\u001b[0;34m[\u001b[0m\u001b[0;34m'Annee'\u001b[0m\u001b[0;34m]\u001b[0m\u001b[0;34m==\u001b[0m\u001b[0;36m2019\u001b[0m\u001b[0;34m]\u001b[0m\u001b[0;34m.\u001b[0m\u001b[0mgroupby\u001b[0m\u001b[0;34m(\u001b[0m\u001b[0;34m[\u001b[0m\u001b[0;34m'Annee'\u001b[0m\u001b[0;34m,\u001b[0m\u001b[0;34m'code_departement'\u001b[0m\u001b[0;34m]\u001b[0m\u001b[0;34m)\u001b[0m\u001b[0;34m[\u001b[0m\u001b[0;34m'total_eleves_general'\u001b[0m\u001b[0;34m]\u001b[0m\u001b[0;34m.\u001b[0m\u001b[0msum\u001b[0m\u001b[0;34m(\u001b[0m\u001b[0;34m)\u001b[0m\u001b[0;34m.\u001b[0m\u001b[0mreset_index\u001b[0m\u001b[0;34m(\u001b[0m\u001b[0;34m)\u001b[0m\u001b[0;34m,\u001b[0m \u001b[0mx\u001b[0m\u001b[0;34m=\u001b[0m\u001b[0;34m'code_departement'\u001b[0m\u001b[0;34m,\u001b[0m\u001b[0my\u001b[0m\u001b[0;34m=\u001b[0m\u001b[0;34m\"total_eleves_general\"\u001b[0m\u001b[0;34m,\u001b[0m \u001b[0mtitle\u001b[0m\u001b[0;34m=\u001b[0m\u001b[0;34m'Total eleves - GENERAL'\u001b[0m\u001b[0;34m,\u001b[0m \u001b[0mwidth\u001b[0m\u001b[0;34m=\u001b[0m\u001b[0;36m950\u001b[0m\u001b[0;34m,\u001b[0m \u001b[0mheight\u001b[0m\u001b[0;34m=\u001b[0m\u001b[0;36m560\u001b[0m\u001b[0;34m)\u001b[0m\u001b[0;34m\u001b[0m\u001b[0m\n\u001b[0m\u001b[1;32m      2\u001b[0m fig.update_layout(legend =dict(font = dict(family = \"Courier\", size = 10, color = \"black\")),\n\u001b[1;32m      3\u001b[0m                   legend_title = dict(font = dict(size = 20, color = \"blue\")))\n\u001b[1;32m      4\u001b[0m \u001b[0mfig\u001b[0m\u001b[0;34m.\u001b[0m\u001b[0mshow\u001b[0m\u001b[0;34m(\u001b[0m\u001b[0;34m)\u001b[0m\u001b[0;34m\u001b[0m\u001b[0m\n",
      "\u001b[0;31mNameError\u001b[0m: name 'px' is not defined"
     ]
    }
   ],
   "source": [
    "fig = px.histogram(df1_bac[df1_bac['Annee']==2019].groupby(['Annee','code_departement'])['total_eleves_general'].sum().reset_index(), x='code_departement',y=\"total_eleves_general\", title='Total eleves - GENERAL', width=950, height=560)\n",
    "fig.update_layout(legend =dict(font = dict(family = \"Courier\", size = 10, color = \"black\")),\n",
    "                  legend_title = dict(font = dict(size = 20, color = \"blue\")))\n",
    "fig.show()"
   ]
  },
  {
   "cell_type": "markdown",
   "metadata": {},
   "source": [
    "On constate qu'il existe une différence dans la proportion du nombre d'étudiants en section générale et technique entre les départements. Nous avons plus d'étudiants en section générale en 75 et plus d'étudiants en section technique en 93."
   ]
  },
  {
   "cell_type": "markdown",
   "metadata": {},
   "source": [
    "## 1.3 Nombre d'élève par commune"
   ]
  },
  {
   "cell_type": "code",
   "execution_count": 5,
   "metadata": {},
   "outputs": [
    {
     "ename": "NameError",
     "evalue": "name 'df1_bac' is not defined",
     "output_type": "error",
     "traceback": [
      "\u001b[0;31m---------------------------------------------------------------------------\u001b[0m",
      "\u001b[0;31mNameError\u001b[0m                                 Traceback (most recent call last)",
      "\u001b[0;32m<ipython-input-5-89c0d15e1df9>\u001b[0m in \u001b[0;36m<module>\u001b[0;34m()\u001b[0m\n\u001b[0;32m----> 1\u001b[0;31m \u001b[0mdf2_bac\u001b[0m\u001b[0;34m=\u001b[0m\u001b[0mdf1_bac\u001b[0m\u001b[0;34m[\u001b[0m\u001b[0mdf1_bac\u001b[0m\u001b[0;34m[\u001b[0m\u001b[0;34m'Academie'\u001b[0m\u001b[0;34m]\u001b[0m\u001b[0;34m==\u001b[0m\u001b[0;34m'PARIS'\u001b[0m\u001b[0;34m]\u001b[0m\u001b[0;34m\u001b[0m\u001b[0m\n\u001b[0m\u001b[1;32m      2\u001b[0m \u001b[0mfig\u001b[0m \u001b[0;34m=\u001b[0m \u001b[0mpx\u001b[0m\u001b[0;34m.\u001b[0m\u001b[0mhistogram\u001b[0m\u001b[0;34m(\u001b[0m\u001b[0mdf2_bac\u001b[0m\u001b[0;34m[\u001b[0m\u001b[0mdf2_bac\u001b[0m\u001b[0;34m[\u001b[0m\u001b[0;34m'Annee'\u001b[0m\u001b[0;34m]\u001b[0m\u001b[0;34m==\u001b[0m\u001b[0;36m2019\u001b[0m\u001b[0;34m]\u001b[0m\u001b[0;34m.\u001b[0m\u001b[0mgroupby\u001b[0m\u001b[0;34m(\u001b[0m\u001b[0;34m[\u001b[0m\u001b[0;34m'Annee'\u001b[0m\u001b[0;34m,\u001b[0m\u001b[0;34m'Ville'\u001b[0m\u001b[0;34m]\u001b[0m\u001b[0;34m)\u001b[0m\u001b[0;34m[\u001b[0m\u001b[0;34m'total_eleves_technique'\u001b[0m\u001b[0;34m]\u001b[0m\u001b[0;34m.\u001b[0m\u001b[0msum\u001b[0m\u001b[0;34m(\u001b[0m\u001b[0;34m)\u001b[0m\u001b[0;34m.\u001b[0m\u001b[0mreset_index\u001b[0m\u001b[0;34m(\u001b[0m\u001b[0;34m)\u001b[0m\u001b[0;34m,\u001b[0m \u001b[0mx\u001b[0m\u001b[0;34m=\u001b[0m\u001b[0;34m'Ville'\u001b[0m\u001b[0;34m,\u001b[0m\u001b[0my\u001b[0m\u001b[0;34m=\u001b[0m\u001b[0;34m\"total_eleves_technique\"\u001b[0m\u001b[0;34m,\u001b[0m \u001b[0mtitle\u001b[0m\u001b[0;34m=\u001b[0m\u001b[0;34m'Total eleves - TECHNIQUE'\u001b[0m\u001b[0;34m,\u001b[0m \u001b[0mwidth\u001b[0m\u001b[0;34m=\u001b[0m\u001b[0;36m950\u001b[0m\u001b[0;34m,\u001b[0m \u001b[0mheight\u001b[0m\u001b[0;34m=\u001b[0m\u001b[0;36m560\u001b[0m\u001b[0;34m)\u001b[0m\u001b[0;34m\u001b[0m\u001b[0m\n\u001b[1;32m      3\u001b[0m fig.update_layout(legend =dict(font = dict(family = \"Courier\", size = 10, color = \"black\")),\n\u001b[1;32m      4\u001b[0m                   legend_title = dict(font = dict(size = 20, color = \"blue\")))\n\u001b[1;32m      5\u001b[0m \u001b[0mfig\u001b[0m\u001b[0;34m.\u001b[0m\u001b[0mshow\u001b[0m\u001b[0;34m(\u001b[0m\u001b[0;34m)\u001b[0m\u001b[0;34m\u001b[0m\u001b[0m\n",
      "\u001b[0;31mNameError\u001b[0m: name 'df1_bac' is not defined"
     ]
    }
   ],
   "source": [
    "df2_bac=df1_bac[df1_bac['Academie']=='PARIS']\n",
    "fig = px.histogram(df2_bac[df2_bac['Annee']==2019].groupby(['Annee','Ville'])['total_eleves_technique'].sum().reset_index(), x='Ville',y=\"total_eleves_technique\", title='Total eleves - TECHNIQUE', width=950, height=560)\n",
    "fig.update_layout(legend =dict(font = dict(family = \"Courier\", size = 10, color = \"black\")),\n",
    "                  legend_title = dict(font = dict(size = 20, color = \"blue\")))\n",
    "fig.show()"
   ]
  },
  {
   "cell_type": "code",
   "execution_count": 6,
   "metadata": {},
   "outputs": [
    {
     "ename": "NameError",
     "evalue": "name 'df1_bac' is not defined",
     "output_type": "error",
     "traceback": [
      "\u001b[0;31m---------------------------------------------------------------------------\u001b[0m",
      "\u001b[0;31mNameError\u001b[0m                                 Traceback (most recent call last)",
      "\u001b[0;32m<ipython-input-6-69ec7617c90e>\u001b[0m in \u001b[0;36m<module>\u001b[0;34m()\u001b[0m\n\u001b[0;32m----> 1\u001b[0;31m \u001b[0mdf2_bac\u001b[0m\u001b[0;34m=\u001b[0m\u001b[0mdf1_bac\u001b[0m\u001b[0;34m[\u001b[0m\u001b[0mdf1_bac\u001b[0m\u001b[0;34m[\u001b[0m\u001b[0;34m'Academie'\u001b[0m\u001b[0;34m]\u001b[0m\u001b[0;34m==\u001b[0m\u001b[0;34m'PARIS'\u001b[0m\u001b[0;34m]\u001b[0m\u001b[0;34m\u001b[0m\u001b[0m\n\u001b[0m\u001b[1;32m      2\u001b[0m \u001b[0mfig\u001b[0m \u001b[0;34m=\u001b[0m \u001b[0mpx\u001b[0m\u001b[0;34m.\u001b[0m\u001b[0mhistogram\u001b[0m\u001b[0;34m(\u001b[0m\u001b[0mdf2_bac\u001b[0m\u001b[0;34m[\u001b[0m\u001b[0mdf2_bac\u001b[0m\u001b[0;34m[\u001b[0m\u001b[0;34m'Annee'\u001b[0m\u001b[0;34m]\u001b[0m\u001b[0;34m==\u001b[0m\u001b[0;36m2019\u001b[0m\u001b[0;34m]\u001b[0m\u001b[0;34m.\u001b[0m\u001b[0mgroupby\u001b[0m\u001b[0;34m(\u001b[0m\u001b[0;34m[\u001b[0m\u001b[0;34m'Annee'\u001b[0m\u001b[0;34m,\u001b[0m\u001b[0;34m'Ville'\u001b[0m\u001b[0;34m]\u001b[0m\u001b[0;34m)\u001b[0m\u001b[0;34m[\u001b[0m\u001b[0;34m'total_eleves_general'\u001b[0m\u001b[0;34m]\u001b[0m\u001b[0;34m.\u001b[0m\u001b[0msum\u001b[0m\u001b[0;34m(\u001b[0m\u001b[0;34m)\u001b[0m\u001b[0;34m.\u001b[0m\u001b[0mreset_index\u001b[0m\u001b[0;34m(\u001b[0m\u001b[0;34m)\u001b[0m\u001b[0;34m,\u001b[0m \u001b[0mx\u001b[0m\u001b[0;34m=\u001b[0m\u001b[0;34m'Ville'\u001b[0m\u001b[0;34m,\u001b[0m\u001b[0my\u001b[0m\u001b[0;34m=\u001b[0m\u001b[0;34m\"total_eleves_general\"\u001b[0m\u001b[0;34m,\u001b[0m \u001b[0mtitle\u001b[0m\u001b[0;34m=\u001b[0m\u001b[0;34m'Total eleves - GENERAL'\u001b[0m\u001b[0;34m,\u001b[0m \u001b[0mwidth\u001b[0m\u001b[0;34m=\u001b[0m\u001b[0;36m950\u001b[0m\u001b[0;34m,\u001b[0m \u001b[0mheight\u001b[0m\u001b[0;34m=\u001b[0m\u001b[0;36m560\u001b[0m\u001b[0;34m)\u001b[0m\u001b[0;34m\u001b[0m\u001b[0m\n\u001b[1;32m      3\u001b[0m fig.update_layout(legend =dict(font = dict(family = \"Courier\", size = 10, color = \"black\")),\n\u001b[1;32m      4\u001b[0m                   legend_title = dict(font = dict(size = 20, color = \"blue\")))\n\u001b[1;32m      5\u001b[0m \u001b[0mfig\u001b[0m\u001b[0;34m.\u001b[0m\u001b[0mshow\u001b[0m\u001b[0;34m(\u001b[0m\u001b[0;34m)\u001b[0m\u001b[0;34m\u001b[0m\u001b[0m\n",
      "\u001b[0;31mNameError\u001b[0m: name 'df1_bac' is not defined"
     ]
    }
   ],
   "source": [
    "df2_bac=df1_bac[df1_bac['Academie']=='PARIS']\n",
    "fig = px.histogram(df2_bac[df2_bac['Annee']==2019].groupby(['Annee','Ville'])['total_eleves_general'].sum().reset_index(), x='Ville',y=\"total_eleves_general\", title='Total eleves - GENERAL', width=950, height=560)\n",
    "fig.update_layout(legend =dict(font = dict(family = \"Courier\", size = 10, color = \"black\")),\n",
    "                  legend_title = dict(font = dict(size = 20, color = \"blue\")))\n",
    "fig.show()"
   ]
  },
  {
   "cell_type": "code",
   "execution_count": 7,
   "metadata": {},
   "outputs": [
    {
     "ename": "NameError",
     "evalue": "name 'df' is not defined",
     "output_type": "error",
     "traceback": [
      "\u001b[0;31m---------------------------------------------------------------------------\u001b[0m",
      "\u001b[0;31mNameError\u001b[0m                                 Traceback (most recent call last)",
      "\u001b[0;32m<ipython-input-7-905c3d85e632>\u001b[0m in \u001b[0;36m<module>\u001b[0;34m()\u001b[0m\n\u001b[0;32m----> 1\u001b[0;31m \u001b[0mdf\u001b[0m\u001b[0;34m.\u001b[0m\u001b[0misnull\u001b[0m\u001b[0;34m(\u001b[0m\u001b[0;34m)\u001b[0m\u001b[0;34m.\u001b[0m\u001b[0msum\u001b[0m\u001b[0;34m(\u001b[0m\u001b[0;34m)\u001b[0m\u001b[0;34m.\u001b[0m\u001b[0mhead\u001b[0m\u001b[0;34m(\u001b[0m\u001b[0;36m30\u001b[0m\u001b[0;34m)\u001b[0m\u001b[0;34m\u001b[0m\u001b[0m\n\u001b[0m",
      "\u001b[0;31mNameError\u001b[0m: name 'df' is not defined"
     ]
    }
   ],
   "source": [
    "df.isnull().sum().head(30)"
   ]
  },
  {
   "cell_type": "code",
   "execution_count": 8,
   "metadata": {},
   "outputs": [
    {
     "ename": "NameError",
     "evalue": "name 'df' is not defined",
     "output_type": "error",
     "traceback": [
      "\u001b[0;31m---------------------------------------------------------------------------\u001b[0m",
      "\u001b[0;31mNameError\u001b[0m                                 Traceback (most recent call last)",
      "\u001b[0;32m<ipython-input-8-c1e3468b8deb>\u001b[0m in \u001b[0;36m<module>\u001b[0;34m()\u001b[0m\n\u001b[1;32m      1\u001b[0m \u001b[0;31m# BAC général\u001b[0m\u001b[0;34m\u001b[0m\u001b[0;34m\u001b[0m\u001b[0m\n\u001b[0;32m----> 2\u001b[0;31m \u001b[0mdf1\u001b[0m\u001b[0;34m=\u001b[0m\u001b[0mdf\u001b[0m\u001b[0;34m.\u001b[0m\u001b[0mloc\u001b[0m\u001b[0;34m[\u001b[0m\u001b[0mdf\u001b[0m\u001b[0;34m[\u001b[0m\u001b[0;34m'Academie'\u001b[0m\u001b[0;34m]\u001b[0m \u001b[0;34m==\u001b[0m \u001b[0;34m'PARIS'\u001b[0m\u001b[0;34m]\u001b[0m\u001b[0;34m\u001b[0m\u001b[0m\n\u001b[0m\u001b[1;32m      3\u001b[0m \u001b[0mdf2\u001b[0m \u001b[0;34m=\u001b[0m \u001b[0mdf1\u001b[0m\u001b[0;34m[\u001b[0m\u001b[0;34m[\u001b[0m\u001b[0;34m'Etablissement'\u001b[0m\u001b[0;34m,\u001b[0m\u001b[0;34m'Annee'\u001b[0m\u001b[0;34m,\u001b[0m\u001b[0;34m'Ville'\u001b[0m\u001b[0;34m,\u001b[0m\u001b[0;34m'Academie'\u001b[0m\u001b[0;34m,\u001b[0m\u001b[0;34m'Taux de reussite - L'\u001b[0m\u001b[0;34m,\u001b[0m\u001b[0;34m'Taux de reussite - ES'\u001b[0m\u001b[0;34m,\u001b[0m\u001b[0;34m'Taux de reussite - S'\u001b[0m\u001b[0;34m]\u001b[0m\u001b[0;34m]\u001b[0m\u001b[0;34m\u001b[0m\u001b[0m\n",
      "\u001b[0;31mNameError\u001b[0m: name 'df' is not defined"
     ]
    }
   ],
   "source": [
    "# BAC général\n",
    "df1=df.loc[df['Academie'] == 'PARIS']\n",
    "df2 = df1[['Etablissement','Annee','Ville','Academie','Taux de reussite - L','Taux de reussite - ES','Taux de reussite - S']]"
   ]
  },
  {
   "cell_type": "code",
   "execution_count": 9,
   "metadata": {},
   "outputs": [
    {
     "ename": "NameError",
     "evalue": "name 'df2' is not defined",
     "output_type": "error",
     "traceback": [
      "\u001b[0;31m---------------------------------------------------------------------------\u001b[0m",
      "\u001b[0;31mNameError\u001b[0m                                 Traceback (most recent call last)",
      "\u001b[0;32m<ipython-input-9-5e1a52a6a979>\u001b[0m in \u001b[0;36m<module>\u001b[0;34m()\u001b[0m\n\u001b[1;32m      1\u001b[0m \u001b[0;31m# check the missing value\u001b[0m\u001b[0;34m\u001b[0m\u001b[0;34m\u001b[0m\u001b[0m\n\u001b[0;32m----> 2\u001b[0;31m \u001b[0mval_manq\u001b[0m \u001b[0;34m=\u001b[0m \u001b[0mdf2\u001b[0m\u001b[0;34m.\u001b[0m\u001b[0misna\u001b[0m\u001b[0;34m(\u001b[0m\u001b[0;34m)\u001b[0m\u001b[0;34m.\u001b[0m\u001b[0msum\u001b[0m\u001b[0;34m(\u001b[0m\u001b[0;34m)\u001b[0m\u001b[0;34m\u001b[0m\u001b[0m\n\u001b[0m\u001b[1;32m      3\u001b[0m \u001b[0mval_manq\u001b[0m\u001b[0;34m\u001b[0m\u001b[0m\n",
      "\u001b[0;31mNameError\u001b[0m: name 'df2' is not defined"
     ]
    }
   ],
   "source": [
    "# check the missing value\n",
    "val_manq = df2.isna().sum()\n",
    "val_manq"
   ]
  },
  {
   "cell_type": "code",
   "execution_count": 10,
   "metadata": {},
   "outputs": [
    {
     "ename": "NameError",
     "evalue": "name 'df2' is not defined",
     "output_type": "error",
     "traceback": [
      "\u001b[0;31m---------------------------------------------------------------------------\u001b[0m",
      "\u001b[0;31mNameError\u001b[0m                                 Traceback (most recent call last)",
      "\u001b[0;32m<ipython-input-10-b3334a94af70>\u001b[0m in \u001b[0;36m<module>\u001b[0;34m()\u001b[0m\n\u001b[0;32m----> 1\u001b[0;31m \u001b[0mdf3\u001b[0m \u001b[0;34m=\u001b[0m \u001b[0mdf2\u001b[0m\u001b[0;34m[\u001b[0m\u001b[0;34m[\u001b[0m\u001b[0;34m'Etablissement'\u001b[0m\u001b[0;34m,\u001b[0m\u001b[0;34m'Annee'\u001b[0m\u001b[0;34m,\u001b[0m\u001b[0;34m'Ville'\u001b[0m\u001b[0;34m,\u001b[0m\u001b[0;34m'Academie'\u001b[0m\u001b[0;34m,\u001b[0m\u001b[0;34m'Taux de reussite - L'\u001b[0m\u001b[0;34m,\u001b[0m\u001b[0;34m'Taux de reussite - ES'\u001b[0m\u001b[0;34m,\u001b[0m\u001b[0;34m'Taux de reussite - S'\u001b[0m\u001b[0;34m]\u001b[0m\u001b[0;34m]\u001b[0m\u001b[0;34m\u001b[0m\u001b[0m\n\u001b[0m\u001b[1;32m      2\u001b[0m \u001b[0mdf3\u001b[0m\u001b[0;34m=\u001b[0m\u001b[0mdf2\u001b[0m\u001b[0;34m.\u001b[0m\u001b[0mloc\u001b[0m\u001b[0;34m[\u001b[0m\u001b[0mdf2\u001b[0m\u001b[0;34m[\u001b[0m\u001b[0;34m'Annee'\u001b[0m\u001b[0;34m]\u001b[0m \u001b[0;34m==\u001b[0m \u001b[0;36m2020.0\u001b[0m\u001b[0;34m]\u001b[0m\u001b[0;34m\u001b[0m\u001b[0m\n",
      "\u001b[0;31mNameError\u001b[0m: name 'df2' is not defined"
     ]
    }
   ],
   "source": [
    "df3 = df2[['Etablissement','Annee','Ville','Academie','Taux de reussite - L','Taux de reussite - ES','Taux de reussite - S']]\n",
    "df3=df2.loc[df2['Annee'] == 2020.0]"
   ]
  },
  {
   "cell_type": "code",
   "execution_count": 11,
   "metadata": {},
   "outputs": [
    {
     "ename": "NameError",
     "evalue": "name 'df3' is not defined",
     "output_type": "error",
     "traceback": [
      "\u001b[0;31m---------------------------------------------------------------------------\u001b[0m",
      "\u001b[0;31mNameError\u001b[0m                                 Traceback (most recent call last)",
      "\u001b[0;32m<ipython-input-11-e6976ab3bbf2>\u001b[0m in \u001b[0;36m<module>\u001b[0;34m()\u001b[0m\n\u001b[0;32m----> 1\u001b[0;31m \u001b[0mdf3\u001b[0m\u001b[0;34m.\u001b[0m\u001b[0mgroupby\u001b[0m\u001b[0;34m(\u001b[0m\u001b[0;34m[\u001b[0m\u001b[0;34m'Ville'\u001b[0m\u001b[0;34m,\u001b[0m\u001b[0;34m'Annee'\u001b[0m\u001b[0;34m]\u001b[0m\u001b[0;34m)\u001b[0m\u001b[0;34m.\u001b[0m\u001b[0magg\u001b[0m\u001b[0;34m(\u001b[0m\u001b[0mavg_tx_réussite_L\u001b[0m\u001b[0;34m=\u001b[0m\u001b[0;34m(\u001b[0m\u001b[0;34m'Taux de reussite - L'\u001b[0m\u001b[0;34m,\u001b[0m\u001b[0;34m'mean'\u001b[0m\u001b[0;34m)\u001b[0m\u001b[0;34m,\u001b[0m\u001b[0mavg_tx_réussite_ES\u001b[0m \u001b[0;34m=\u001b[0m \u001b[0;34m(\u001b[0m\u001b[0;34m'Taux de reussite - ES'\u001b[0m\u001b[0;34m,\u001b[0m \u001b[0;34m'mean'\u001b[0m\u001b[0;34m)\u001b[0m\u001b[0;34m,\u001b[0m\u001b[0mavg_tx_réussite_S\u001b[0m \u001b[0;34m=\u001b[0m \u001b[0;34m(\u001b[0m\u001b[0;34m'Taux de reussite - S'\u001b[0m\u001b[0;34m,\u001b[0m \u001b[0;34m'mean'\u001b[0m\u001b[0;34m)\u001b[0m\u001b[0;34m)\u001b[0m\u001b[0;34m\u001b[0m\u001b[0m\n\u001b[0m",
      "\u001b[0;31mNameError\u001b[0m: name 'df3' is not defined"
     ]
    }
   ],
   "source": [
    "df3.groupby(['Ville','Annee']).agg(avg_tx_réussite_L=('Taux de reussite - L','mean'),avg_tx_réussite_ES = ('Taux de reussite - ES', 'mean'),avg_tx_réussite_S = ('Taux de reussite - S', 'mean'))"
   ]
  },
  {
   "cell_type": "markdown",
   "metadata": {},
   "source": [
    "On observe que les 4e，5e，7e, 8e, 17e arrondissements de Paris sont très performants et que les moins performants sont les 12e, 13e, 18e et 19e arrondissements de Paris."
   ]
  },
  {
   "cell_type": "code",
   "execution_count": 12,
   "metadata": {},
   "outputs": [
    {
     "ename": "NameError",
     "evalue": "name 'df1' is not defined",
     "output_type": "error",
     "traceback": [
      "\u001b[0;31m---------------------------------------------------------------------------\u001b[0m",
      "\u001b[0;31mNameError\u001b[0m                                 Traceback (most recent call last)",
      "\u001b[0;32m<ipython-input-12-ce3e89ed49e9>\u001b[0m in \u001b[0;36m<module>\u001b[0;34m()\u001b[0m\n\u001b[1;32m      1\u001b[0m \u001b[0;31m# BAC technique\u001b[0m\u001b[0;34m\u001b[0m\u001b[0;34m\u001b[0m\u001b[0m\n\u001b[0;32m----> 2\u001b[0;31m \u001b[0mdf2a\u001b[0m \u001b[0;34m=\u001b[0m \u001b[0mdf1\u001b[0m\u001b[0;34m[\u001b[0m\u001b[0;34m[\u001b[0m\u001b[0;34m'Etablissement'\u001b[0m\u001b[0;34m,\u001b[0m\u001b[0;34m'Annee'\u001b[0m\u001b[0;34m,\u001b[0m\u001b[0;34m'Ville'\u001b[0m\u001b[0;34m,\u001b[0m\u001b[0;34m'Academie'\u001b[0m\u001b[0;34m,\u001b[0m\u001b[0;34m\"Taux de reussite - STL\"\u001b[0m\u001b[0;34m,\u001b[0m\u001b[0;34m'Taux de reussite - STI2D'\u001b[0m\u001b[0;34m,\u001b[0m\u001b[0;34m'Taux de reussite - STD2A'\u001b[0m\u001b[0;34m,\u001b[0m\u001b[0;34m\"Taux de reussite - STMG\"\u001b[0m\u001b[0;34m,\u001b[0m\u001b[0;34m\"Taux de reussite - STG\"\u001b[0m\u001b[0;34m]\u001b[0m\u001b[0;34m]\u001b[0m\u001b[0;34m\u001b[0m\u001b[0m\n\u001b[0m\u001b[1;32m      3\u001b[0m \u001b[0mdf4\u001b[0m\u001b[0;34m=\u001b[0m\u001b[0mdf2a\u001b[0m\u001b[0;34m.\u001b[0m\u001b[0mloc\u001b[0m\u001b[0;34m[\u001b[0m\u001b[0mdf2\u001b[0m\u001b[0;34m[\u001b[0m\u001b[0;34m'Annee'\u001b[0m\u001b[0;34m]\u001b[0m \u001b[0;34m==\u001b[0m \u001b[0;36m2020.0\u001b[0m\u001b[0;34m]\u001b[0m\u001b[0;34m\u001b[0m\u001b[0m\n",
      "\u001b[0;31mNameError\u001b[0m: name 'df1' is not defined"
     ]
    }
   ],
   "source": [
    "# BAC technique\n",
    "df2a = df1[['Etablissement','Annee','Ville','Academie',\"Taux de reussite - STL\",'Taux de reussite - STI2D','Taux de reussite - STD2A',\"Taux de reussite - STMG\",\"Taux de reussite - STG\"]]\n",
    "df4=df2a.loc[df2['Annee'] == 2020.0]"
   ]
  },
  {
   "cell_type": "code",
   "execution_count": 72,
   "metadata": {},
   "outputs": [
    {
     "data": {
      "text/html": [
       "<div>\n",
       "<style scoped>\n",
       "    .dataframe tbody tr th:only-of-type {\n",
       "        vertical-align: middle;\n",
       "    }\n",
       "\n",
       "    .dataframe tbody tr th {\n",
       "        vertical-align: top;\n",
       "    }\n",
       "\n",
       "    .dataframe thead th {\n",
       "        text-align: right;\n",
       "    }\n",
       "</style>\n",
       "<table border=\"1\" class=\"dataframe\">\n",
       "  <thead>\n",
       "    <tr style=\"text-align: right;\">\n",
       "      <th></th>\n",
       "      <th></th>\n",
       "      <th>avg_tx_réussite_STL</th>\n",
       "      <th>avg_tx_réussite_STMG</th>\n",
       "      <th>avg_tx_réussite_STI2D</th>\n",
       "      <th>avg_tx_réussite_STD2A</th>\n",
       "      <th>avg_tx_réussite_STG</th>\n",
       "    </tr>\n",
       "    <tr>\n",
       "      <th>Ville</th>\n",
       "      <th>Annee</th>\n",
       "      <th></th>\n",
       "      <th></th>\n",
       "      <th></th>\n",
       "      <th></th>\n",
       "      <th></th>\n",
       "    </tr>\n",
       "  </thead>\n",
       "  <tbody>\n",
       "    <tr>\n",
       "      <th>PARIS 03</th>\n",
       "      <th>2020.0</th>\n",
       "      <td>NaN</td>\n",
       "      <td>92.00</td>\n",
       "      <td>NaN</td>\n",
       "      <td>NaN</td>\n",
       "      <td>NaN</td>\n",
       "    </tr>\n",
       "    <tr>\n",
       "      <th>PARIS 04</th>\n",
       "      <th>2020.0</th>\n",
       "      <td>NaN</td>\n",
       "      <td>96.50</td>\n",
       "      <td>NaN</td>\n",
       "      <td>NaN</td>\n",
       "      <td>NaN</td>\n",
       "    </tr>\n",
       "    <tr>\n",
       "      <th>PARIS 05</th>\n",
       "      <th>2020.0</th>\n",
       "      <td>NaN</td>\n",
       "      <td>NaN</td>\n",
       "      <td>88.0</td>\n",
       "      <td>NaN</td>\n",
       "      <td>NaN</td>\n",
       "    </tr>\n",
       "    <tr>\n",
       "      <th>PARIS 06</th>\n",
       "      <th>2020.0</th>\n",
       "      <td>NaN</td>\n",
       "      <td>98.50</td>\n",
       "      <td>100.0</td>\n",
       "      <td>99.5</td>\n",
       "      <td>NaN</td>\n",
       "    </tr>\n",
       "    <tr>\n",
       "      <th>PARIS 07</th>\n",
       "      <th>2020.0</th>\n",
       "      <td>NaN</td>\n",
       "      <td>99.00</td>\n",
       "      <td>100.0</td>\n",
       "      <td>100.0</td>\n",
       "      <td>NaN</td>\n",
       "    </tr>\n",
       "    <tr>\n",
       "      <th>PARIS 08</th>\n",
       "      <th>2020.0</th>\n",
       "      <td>NaN</td>\n",
       "      <td>94.00</td>\n",
       "      <td>100.0</td>\n",
       "      <td>NaN</td>\n",
       "      <td>NaN</td>\n",
       "    </tr>\n",
       "    <tr>\n",
       "      <th>PARIS 09</th>\n",
       "      <th>2020.0</th>\n",
       "      <td>NaN</td>\n",
       "      <td>84.00</td>\n",
       "      <td>NaN</td>\n",
       "      <td>NaN</td>\n",
       "      <td>NaN</td>\n",
       "    </tr>\n",
       "    <tr>\n",
       "      <th>PARIS 10</th>\n",
       "      <th>2020.0</th>\n",
       "      <td>NaN</td>\n",
       "      <td>NaN</td>\n",
       "      <td>NaN</td>\n",
       "      <td>NaN</td>\n",
       "      <td>NaN</td>\n",
       "    </tr>\n",
       "    <tr>\n",
       "      <th>PARIS 11</th>\n",
       "      <th>2020.0</th>\n",
       "      <td>NaN</td>\n",
       "      <td>100.00</td>\n",
       "      <td>99.0</td>\n",
       "      <td>NaN</td>\n",
       "      <td>NaN</td>\n",
       "    </tr>\n",
       "    <tr>\n",
       "      <th>PARIS 12</th>\n",
       "      <th>2020.0</th>\n",
       "      <td>100.0</td>\n",
       "      <td>91.50</td>\n",
       "      <td>93.0</td>\n",
       "      <td>100.0</td>\n",
       "      <td>NaN</td>\n",
       "    </tr>\n",
       "    <tr>\n",
       "      <th>PARIS 13</th>\n",
       "      <th>2020.0</th>\n",
       "      <td>94.0</td>\n",
       "      <td>100.00</td>\n",
       "      <td>NaN</td>\n",
       "      <td>NaN</td>\n",
       "      <td>NaN</td>\n",
       "    </tr>\n",
       "    <tr>\n",
       "      <th>PARIS 14</th>\n",
       "      <th>2020.0</th>\n",
       "      <td>NaN</td>\n",
       "      <td>91.75</td>\n",
       "      <td>NaN</td>\n",
       "      <td>NaN</td>\n",
       "      <td>NaN</td>\n",
       "    </tr>\n",
       "    <tr>\n",
       "      <th>PARIS 15</th>\n",
       "      <th>2020.0</th>\n",
       "      <td>NaN</td>\n",
       "      <td>84.00</td>\n",
       "      <td>96.0</td>\n",
       "      <td>NaN</td>\n",
       "      <td>NaN</td>\n",
       "    </tr>\n",
       "    <tr>\n",
       "      <th>PARIS 16</th>\n",
       "      <th>2020.0</th>\n",
       "      <td>NaN</td>\n",
       "      <td>98.00</td>\n",
       "      <td>100.0</td>\n",
       "      <td>NaN</td>\n",
       "      <td>NaN</td>\n",
       "    </tr>\n",
       "    <tr>\n",
       "      <th>PARIS 17</th>\n",
       "      <th>2020.0</th>\n",
       "      <td>NaN</td>\n",
       "      <td>95.00</td>\n",
       "      <td>NaN</td>\n",
       "      <td>NaN</td>\n",
       "      <td>NaN</td>\n",
       "    </tr>\n",
       "    <tr>\n",
       "      <th>PARIS 18</th>\n",
       "      <th>2020.0</th>\n",
       "      <td>91.0</td>\n",
       "      <td>100.00</td>\n",
       "      <td>NaN</td>\n",
       "      <td>98.0</td>\n",
       "      <td>NaN</td>\n",
       "    </tr>\n",
       "    <tr>\n",
       "      <th>PARIS 19</th>\n",
       "      <th>2020.0</th>\n",
       "      <td>NaN</td>\n",
       "      <td>96.00</td>\n",
       "      <td>98.0</td>\n",
       "      <td>NaN</td>\n",
       "      <td>NaN</td>\n",
       "    </tr>\n",
       "    <tr>\n",
       "      <th>PARIS 20</th>\n",
       "      <th>2020.0</th>\n",
       "      <td>NaN</td>\n",
       "      <td>89.00</td>\n",
       "      <td>NaN</td>\n",
       "      <td>NaN</td>\n",
       "      <td>NaN</td>\n",
       "    </tr>\n",
       "  </tbody>\n",
       "</table>\n",
       "</div>"
      ],
      "text/plain": [
       "                 avg_tx_réussite_STL  avg_tx_réussite_STMG  \\\n",
       "Ville    Annee                                               \n",
       "PARIS 03 2020.0                  NaN                 92.00   \n",
       "PARIS 04 2020.0                  NaN                 96.50   \n",
       "PARIS 05 2020.0                  NaN                   NaN   \n",
       "PARIS 06 2020.0                  NaN                 98.50   \n",
       "PARIS 07 2020.0                  NaN                 99.00   \n",
       "PARIS 08 2020.0                  NaN                 94.00   \n",
       "PARIS 09 2020.0                  NaN                 84.00   \n",
       "PARIS 10 2020.0                  NaN                   NaN   \n",
       "PARIS 11 2020.0                  NaN                100.00   \n",
       "PARIS 12 2020.0                100.0                 91.50   \n",
       "PARIS 13 2020.0                 94.0                100.00   \n",
       "PARIS 14 2020.0                  NaN                 91.75   \n",
       "PARIS 15 2020.0                  NaN                 84.00   \n",
       "PARIS 16 2020.0                  NaN                 98.00   \n",
       "PARIS 17 2020.0                  NaN                 95.00   \n",
       "PARIS 18 2020.0                 91.0                100.00   \n",
       "PARIS 19 2020.0                  NaN                 96.00   \n",
       "PARIS 20 2020.0                  NaN                 89.00   \n",
       "\n",
       "                 avg_tx_réussite_STI2D  avg_tx_réussite_STD2A  \\\n",
       "Ville    Annee                                                  \n",
       "PARIS 03 2020.0                    NaN                    NaN   \n",
       "PARIS 04 2020.0                    NaN                    NaN   \n",
       "PARIS 05 2020.0                   88.0                    NaN   \n",
       "PARIS 06 2020.0                  100.0                   99.5   \n",
       "PARIS 07 2020.0                  100.0                  100.0   \n",
       "PARIS 08 2020.0                  100.0                    NaN   \n",
       "PARIS 09 2020.0                    NaN                    NaN   \n",
       "PARIS 10 2020.0                    NaN                    NaN   \n",
       "PARIS 11 2020.0                   99.0                    NaN   \n",
       "PARIS 12 2020.0                   93.0                  100.0   \n",
       "PARIS 13 2020.0                    NaN                    NaN   \n",
       "PARIS 14 2020.0                    NaN                    NaN   \n",
       "PARIS 15 2020.0                   96.0                    NaN   \n",
       "PARIS 16 2020.0                  100.0                    NaN   \n",
       "PARIS 17 2020.0                    NaN                    NaN   \n",
       "PARIS 18 2020.0                    NaN                   98.0   \n",
       "PARIS 19 2020.0                   98.0                    NaN   \n",
       "PARIS 20 2020.0                    NaN                    NaN   \n",
       "\n",
       "                 avg_tx_réussite_STG  \n",
       "Ville    Annee                        \n",
       "PARIS 03 2020.0                  NaN  \n",
       "PARIS 04 2020.0                  NaN  \n",
       "PARIS 05 2020.0                  NaN  \n",
       "PARIS 06 2020.0                  NaN  \n",
       "PARIS 07 2020.0                  NaN  \n",
       "PARIS 08 2020.0                  NaN  \n",
       "PARIS 09 2020.0                  NaN  \n",
       "PARIS 10 2020.0                  NaN  \n",
       "PARIS 11 2020.0                  NaN  \n",
       "PARIS 12 2020.0                  NaN  \n",
       "PARIS 13 2020.0                  NaN  \n",
       "PARIS 14 2020.0                  NaN  \n",
       "PARIS 15 2020.0                  NaN  \n",
       "PARIS 16 2020.0                  NaN  \n",
       "PARIS 17 2020.0                  NaN  \n",
       "PARIS 18 2020.0                  NaN  \n",
       "PARIS 19 2020.0                  NaN  \n",
       "PARIS 20 2020.0                  NaN  "
      ]
     },
     "execution_count": 72,
     "metadata": {},
     "output_type": "execute_result"
    }
   ],
   "source": [
    "df4.groupby(['Ville','Annee']).agg(avg_tx_réussite_STL = ('Taux de reussite - STL','mean'),avg_tx_réussite_STMG=('Taux de reussite - STMG', 'mean'),avg_tx_réussite_STI2D=('Taux de reussite - STI2D', 'mean'),avg_tx_réussite_STD2A=('Taux de reussite - STD2A', 'mean'),avg_tx_réussite_STG = ('Taux de reussite - STG', 'mean'))"
   ]
  },
  {
   "cell_type": "markdown",
   "metadata": {},
   "source": [
    "Ce tableau ne nous donne pas beaucoup d'informations utiles，nous pouvons juste dire que paris 11e,13e et 18e arrondissement a un bon performant en taux de réussite STMG ensuite 9e et 15e arrondissement sont les moins performants."
   ]
  },
  {
   "cell_type": "markdown",
   "metadata": {},
   "source": [
    "## Pour les données socio-economiques"
   ]
  },
  {
   "cell_type": "code",
   "execution_count": 45,
   "metadata": {},
   "outputs": [],
   "source": [
    "idf= pd.read_excel('Ale/Donn/soceco2018.xlsx')"
   ]
  },
  {
   "cell_type": "code",
   "execution_count": 46,
   "metadata": {},
   "outputs": [],
   "source": [
    "# Le taux de chomage \n",
    "# Tous 15-64\n",
    "idf['TCHOM1564']= 100*idf['P18_CHOM1564'] / idf['P18_ACT1564']"
   ]
  },
  {
   "cell_type": "code",
   "execution_count": 47,
   "metadata": {},
   "outputs": [],
   "source": [
    "# Part de cadres dans la population active\n",
    "idf['TCADACTOCC1564'] = 100*idf['C18_ACTOCC1564_CS3'] / idf['C18_ACTOCC1564']"
   ]
  },
  {
   "cell_type": "code",
   "execution_count": 48,
   "metadata": {},
   "outputs": [],
   "source": [
    "# Le taux d'emploi \n",
    "# Tous 15-64\n",
    "idf['TEMPL1564']= 100*idf['P18_ACTOCC1564'] / idf['P18_POP1564']"
   ]
  },
  {
   "cell_type": "code",
   "execution_count": 49,
   "metadata": {},
   "outputs": [],
   "source": [
    "# On vien de computer les statistiques pour les autres categories socioprofessionnelles.\n",
    "# Part d'artisans, commercants et chefs d'entreprise dans la population active\n",
    "idf['TACCACTOCC1564'] = 100*idf['C18_ACTOCC1564_CS2'] / idf['C18_ACTOCC1564']"
   ]
  },
  {
   "cell_type": "code",
   "execution_count": 50,
   "metadata": {},
   "outputs": [],
   "source": [
    "# Part de professionnelles intermediares dans la population active occupée.\n",
    "idf['TINTACTOCC1564'] = 100*idf['C18_ACTOCC1564_CS4'] / idf['C18_ACTOCC1564']"
   ]
  },
  {
   "cell_type": "code",
   "execution_count": 51,
   "metadata": {},
   "outputs": [],
   "source": [
    "# Part d'employés dans la population active occupée.\n",
    "idf['TEMPLACTOCC1564'] = 100*idf['C18_ACTOCC1564_CS5'] / idf['C18_ACTOCC1564']"
   ]
  },
  {
   "cell_type": "code",
   "execution_count": 52,
   "metadata": {},
   "outputs": [],
   "source": [
    "# Part d'ouvriers dans la population active occupée.\n",
    "idf['TOUVRACTOCC1564'] = 100*idf['C18_ACTOCC1564_CS6'] / idf['C18_ACTOCC1564']"
   ]
  },
  {
   "cell_type": "markdown",
   "metadata": {},
   "source": [
    "### Pour une meilleure visualisation et computation des statistiques descriptives on selectionne que les variables qu'on veut observer."
   ]
  },
  {
   "cell_type": "code",
   "execution_count": 53,
   "metadata": {},
   "outputs": [],
   "source": [
    "idf= idf[['CODGEO','DEP','LIBGEO','TEMPL1564','TCHOM1564','TCADACTOCC1564','TACCACTOCC1564','TINTACTOCC1564','TEMPLACTOCC1564',\n",
    "         'TOUVRACTOCC1564']]\n",
    "# On selectionne que les colomnes que on utiliserà "
   ]
  },
  {
   "cell_type": "code",
   "execution_count": null,
   "metadata": {},
   "outputs": [],
   "source": [
    "idf.groupby('DEP')['TEMPL1564','TCHOM1564','TCADACTOCC1564','TACCACTOCC1564','TINTACTOCC1564','TEMPLACTOCC1564',\n",
    "         'TOUVRACTOCC1564'].agg(['mean','std'])\n",
    "# On montre le moyenne et la deviation standard pour les données"
   ]
  }
 ],
 "metadata": {
  "kernelspec": {
   "display_name": "Python 3",
   "language": "python",
   "name": "python3"
  },
  "language_info": {
   "codemirror_mode": {
    "name": "ipython",
    "version": 3
   },
   "file_extension": ".py",
   "mimetype": "text/x-python",
   "name": "python",
   "nbconvert_exporter": "python",
   "pygments_lexer": "ipython3",
   "version": "3.6.5"
  }
 },
 "nbformat": 4,
 "nbformat_minor": 5
}
