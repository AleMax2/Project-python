{
 "cells": [
  {
   "cell_type": "markdown",
   "id": "e94895fb",
   "metadata": {},
   "source": [
    "**Dans cette section, on fait l'analyse descriptive de l'année 2018 dans la petite courounne de Paris pour les variables suivantes:**\n",
    "* **Brevet**\n",
    "* **Bac**\n",
    "* **Catégorie Socioprofessionnelle**"
   ]
  },
  {
   "cell_type": "markdown",
   "id": "1668196e",
   "metadata": {},
   "source": [
    "# 0. Traitement des données et libraries"
   ]
  },
  {
   "cell_type": "code",
   "execution_count": 1,
   "id": "6d5131ac",
   "metadata": {},
   "outputs": [],
   "source": [
    "import pandas as pd\n",
    "import numpy as np\n",
    "import math\n",
    "from matplotlib import pyplot as plt\n",
    "import datetime as dt\n",
    "import seaborn as sns\n",
    "import plotly.express as px\n",
    "%matplotlib inline\n",
    "import sys\n",
    "import warnings\n",
    "from  matplotlib.colors import LinearSegmentedColormap\n",
    "if not sys.warnoptions:\n",
    "    warnings.simplefilter(\"ignore\")"
   ]
  },
  {
   "cell_type": "code",
   "execution_count": 2,
   "id": "dcf4764f",
   "metadata": {},
   "outputs": [],
   "source": [
    "# Base de données pour l'analyse de Brevet\n",
    "#SOURCE:https://data.education.gouv.fr/explore/dataset/fr-en-dnb-par-etablissement/information/?disjunctive.session&disjunctive.numero_d_etablissement&disjunctive.denomination_principale&disjunctive.secteur_d_enseignement&disjunctive.commune_et_arrondissement&disjunctive.commune_et_arrondissement_lib_l&disjunctive.departement&disjunctive.departement_libelle&disjunctive.academie&disjunctive.academie_libelle&disjunctive.region&disjunctive.region_libelle\n",
    "df_brevet=pd.read_csv(\"fr-en-dnb-par-etablissement.csv\",  encoding='utf-8-sig', sep=';',na_values=[\"-\"])"
   ]
  },
  {
   "cell_type": "code",
   "execution_count": 3,
   "id": "32afc1e0",
   "metadata": {},
   "outputs": [],
   "source": [
    "#Traiter les données pour transformer en valeur flotante\n",
    "df_brevet['taux_de_reussite']=df_brevet['taux_de_reussite'].replace('[\\%,]', '', regex=True).astype(float)/100"
   ]
  },
  {
   "cell_type": "code",
   "execution_count": 79,
   "id": "7241ccd4",
   "metadata": {},
   "outputs": [],
   "source": [
    "#Convertir automatiquement les données \n",
    "df_brevet.convert_dtypes(infer_objects=True, convert_string=True,\n",
    "      convert_integer=True, convert_boolean=True, convert_floating=True);"
   ]
  },
  {
   "cell_type": "code",
   "execution_count": 5,
   "id": "90e89e5e",
   "metadata": {},
   "outputs": [],
   "source": [
    "#Convertir manuellement les donnees en datetime et object\n",
    "df_brevet['session']=pd.to_datetime(df_brevet['session'], format= '%Y')\n",
    "df_brevet['academie']=df_brevet['academie'].astype(str)\n",
    "df_brevet['region']=df_brevet['region'].astype(str)\n",
    "df_brevet['session'] = pd.DatetimeIndex(df_brevet['session']).year"
   ]
  },
  {
   "cell_type": "code",
   "execution_count": 6,
   "id": "0d537277",
   "metadata": {},
   "outputs": [],
   "source": [
    "#Sélectionner les départements de la petite couronne\n",
    "df1_brevet=df_brevet[df_brevet['departement'].isin(['075','092','093','094'])]"
   ]
  },
  {
   "cell_type": "code",
   "execution_count": 38,
   "id": "1521937b",
   "metadata": {},
   "outputs": [
    {
     "data": {
      "text/plain": [
       "session                             0\n",
       "numero_d_etablissement              0\n",
       "denomination_principale             0\n",
       "patronyme                          24\n",
       "secteur_d_enseignement              0\n",
       "commune_et_arrondissement           0\n",
       "commune_et_arrondissement_lib_l     0\n",
       "departement                         0\n",
       "departement_libelle                 0\n",
       "academie                            0\n",
       "academie_libelle                    0\n",
       "region                              0\n",
       "region_libelle                      0\n",
       "nombre_d_inscrits                   0\n",
       "nombre_de_presents                  0\n",
       "nombre_total_d_admis                0\n",
       "nombre_d_admis_sans_mention         0\n",
       "nombre_d_admis_mention_ab           0\n",
       "nombre_d_admis_mention_b            0\n",
       "nombre_d_admis_mention_tb           0\n",
       "taux_de_reussite                    0\n",
       "dtype: int64"
      ]
     },
     "execution_count": 38,
     "metadata": {},
     "output_type": "execute_result"
    }
   ],
   "source": [
    "#Valeur Manquantes\n",
    "df1_brevet.isnull().sum().head(30)"
   ]
  },
  {
   "cell_type": "code",
   "execution_count": 37,
   "id": "4fe2a486",
   "metadata": {},
   "outputs": [],
   "source": [
    "# Base de données pour l'analyse de BAC\n",
    "#SOURCE:https://data.education.gouv.fr/explore/dataset/fr-en-indicateurs-de-resultat-des-lycees-denseignement-general-et-technologique/table/\n",
    "df_bac=pd.read_csv('fr-en-indicateurs-de-resultat-des-lycees-denseignement-general-et-technologique.csv',   encoding='utf-8-sig', sep=';')"
   ]
  },
  {
   "cell_type": "code",
   "execution_count": 80,
   "id": "e7cb9164",
   "metadata": {},
   "outputs": [],
   "source": [
    "#Convertir automatiquement les données \n",
    "df_bac.convert_dtypes(infer_objects=True, convert_string=True,\n",
    "      convert_integer=True, convert_boolean=True, convert_floating=True);"
   ]
  },
  {
   "cell_type": "code",
   "execution_count": 9,
   "id": "09d8a1cc",
   "metadata": {},
   "outputs": [],
   "source": [
    "#Comme les lycées n'ont pas les mêmes sections techniques, \n",
    "#une moyenne pondérée par le nombre d'élèves et le taux de réussite est calculée \n",
    "#afin d'avoir un indicateur représentatif.\n",
    "df_bac['total_eleves_general']=df_bac['Presents - L']+df_bac['Presents - ES']+df_bac['Presents - S']\n",
    "df_bac['Taux_reussite_general']=(df_bac['Presents - L']*df_bac['Taux de reussite - L']+df_bac['Presents - S']*df_bac['Taux de reussite - S']+df_bac['Presents - ES']*df_bac['Taux de reussite - ES'])/df_bac['total_eleves_general']\n",
    "df_bac['Taux_mentions_general']=(df_bac['Presents - L']*df_bac['Taux de mentions - L']+df_bac['Presents - S']*df_bac['Taux de mentions - S']+df_bac['Presents - ES']*df_bac['Taux de mentions - ES'])/df_bac['total_eleves_general']\n",
    "\n",
    "df_ayuda=df_bac[[\n",
    " 'Presents - STG',\n",
    " 'Presents - STI2D',\n",
    " 'Presents - STD2A',\n",
    " 'Presents - STMG',\n",
    " 'Presents - STI',\n",
    " 'Presents - STL',\n",
    " 'Presents - ST2S',\n",
    " 'Presents - TMD',\n",
    " 'Presents - STHR',\n",
    " 'Taux de reussite - STG',\n",
    " 'Taux de reussite - STI2D',\n",
    " 'Taux de reussite - STD2A',\n",
    " 'Taux de reussite - STMG',\n",
    " 'Taux de reussite - STI',\n",
    " 'Taux de reussite - STL',\n",
    " 'Taux de reussite - ST2S',\n",
    " 'Taux de reussite - TMD',\n",
    " 'Taux de reussite - STHR',\n",
    " 'Taux de mentions - STI2D',\n",
    " 'Taux de mentions - STD2A',\n",
    " 'Taux de mentions - STMG',\n",
    " 'Taux de mentions - STL',\n",
    " 'Taux de mentions - ST2S',\n",
    " 'Taux de mentions - TMD',\n",
    " 'Taux de mentions - STHR']]  \n",
    "df_ayuda=df_ayuda.fillna(0)\n",
    "\n",
    "df_bac['total_eleves_technique']=df_ayuda['Presents - STG']+df_ayuda['Presents - STI2D']+df_ayuda['Presents - STD2A']+df_ayuda['Presents - STMG']+df_ayuda['Presents - STI']+df_ayuda['Presents - STL']+df_ayuda['Presents - ST2S']+df_ayuda['Presents - TMD']+df_ayuda['Presents - STHR']\n",
    "df_bac['Taux_reussite_technique']= (df_ayuda['Presents - STG']*df_ayuda['Taux de reussite - STG']+ df_ayuda['Presents - STI2D']*df_ayuda['Taux de reussite - STI2D']+df_ayuda['Presents - STD2A']*df_ayuda['Taux de reussite - STD2A']+df_ayuda['Presents - STMG']*df_ayuda['Taux de reussite - STMG']+df_ayuda['Presents - STI']*df_ayuda['Taux de reussite - STI']+df_ayuda['Presents - STL']*df_ayuda['Taux de reussite - STL']+df_ayuda['Presents - ST2S']*df_ayuda['Taux de reussite - ST2S']+df_ayuda['Presents - TMD']*df_ayuda['Taux de reussite - TMD']+df_ayuda['Presents - STHR']*df_ayuda['Taux de reussite - STHR'])/df_bac['total_eleves_technique']\n",
    "df_bac['Taux_mentions_technique']= (df_ayuda['Presents - STI2D']*df_ayuda['Taux de mentions - STI2D']+df_ayuda['Presents - STD2A']*df_ayuda['Taux de mentions - STD2A']+df_ayuda['Presents - STMG']*df_ayuda['Taux de mentions - STMG']+df_ayuda['Presents - STL']*df_ayuda['Taux de mentions - STL']+df_ayuda['Presents - ST2S']*df_ayuda['Taux de mentions - ST2S']+df_ayuda['Presents - TMD']*df_ayuda['Taux de mentions - TMD']+df_ayuda['Presents - STHR']*df_ayuda['Taux de mentions - STHR'])/(df_bac['total_eleves_technique']-df_ayuda['Presents - STI']-df_ayuda['Presents - STG'])\n",
    "\n",
    "df_bac['STG']=np.where(df_bac[\"Presents - STG\"]>0, 1,0)\n",
    "df_bac['STI2D']=np.where(df_bac[\"Presents - STI2D\"]>0, 1,0)\n",
    "df_bac['STD2A']=np.where(df_bac[\"Presents - STD2A\"]>0, 1,0)\n",
    "df_bac['STMG']=np.where(df_bac[\"Presents - STMG\"]>0, 1,0)\n",
    "df_bac['STI']=np.where(df_bac[\"Presents - STI\"]>0, 1,0)\n",
    "df_bac['STL']=np.where(df_bac[\"Presents - STL\"]>0, 1,0)\n",
    "df_bac['ST2S']=np.where(df_bac[\"Presents - ST2S\"]>0, 1,0)\n",
    "df_bac['TMD']=np.where(df_bac[\"Presents - TMD\"]>0, 1,0)\n",
    "df_bac['STHR']=np.where(df_bac[\"Presents - STHR\"]>0, 1,0)\n",
    "\n",
    "df_bac['Nombre_section_tecnique']=df_bac['STG']+df_bac['STI2D']+df_bac['STD2A']+df_bac['STMG']+df_bac['STI']+df_bac['STL']+df_bac['ST2S']+df_bac['TMD']+df_bac['STHR']"
   ]
  },
  {
   "cell_type": "code",
   "execution_count": 10,
   "id": "b82290a5",
   "metadata": {},
   "outputs": [],
   "source": [
    "df1_bac=df_bac[df_bac['Region'].isin(['Ile-de-France']) & df_bac['code_departement'].isin(['75','92','93','94'])]"
   ]
  },
  {
   "cell_type": "code",
   "execution_count": 11,
   "id": "c9608e2f",
   "metadata": {},
   "outputs": [],
   "source": [
    "df1_bac=df1_bac[[\"Taux_mentions_technique\", \"Taux_mentions_general\",\"total_eleves_general\",\"total_eleves_technique\",\"Nombre_section_tecnique\", \"Taux_reussite_general\", \"Taux_reussite_technique\", \"Etablissement\",\"Annee\",\"Ville\",\"UAI\",\"Code commune\",\"Academie\",\"Departement\",\"Secteur\",\"Presents - L\",\"Presents - ES\",\"Presents - S\",\"Presents - STG\",\"Presents - STI2D\",\"Presents - STD2A\",\"Presents - STMG\",\"Presents - STI\",\"Presents - STL\",\"Presents - ST2S\",\"Presents - TMD\",\"Presents - STHR\",\"Presents - Toutes series\",\"Taux de reussite - L\",\"Taux de reussite - ES\",\"Taux de reussite - S\",\"Taux de reussite - STG\",\"Taux de reussite - STI2D\",\"Taux de reussite - STD2A\",\"Taux de reussite - STMG\",\"Taux de reussite - STI\",\"Taux de reussite - STL\",\"Taux de reussite - ST2S\",\"Taux de reussite - TMD\",\"Taux de reussite - STHR\",\"Taux de reussite - Toutes series\",\"Taux de reussite attendu france - L\",\"Taux de reussite attendu france - ES\",\"Taux de reussite attendu france - S\",\"Taux de reussite attendu france - STG\",\"Taux de reussite attendu france - STI2D\",\"Taux de reussite attendu france - STD2A\",\"Taux de reussite attendu france - STMG\",\"Taux de reussite attendu france - STI\",\"Taux de reussite attendu france - STL\",\"Taux de reussite attendu france - ST2S\",\"Taux de reussite attendu france - TMD\",\"Taux de reussite attendu france - STHR\",\"Taux de reussite attendu france - Toutes series\",\"Taux de mentions - L\",\"Taux de mentions - ES\",\"Taux de mentions - S\",\"Taux de mentions - STI2D\",\"Taux de mentions - STD2A\",\"Taux de mentions - STMG\",\"Taux de mentions - STL\",\"Taux de mentions - ST2S\",\"Taux de mentions - TMD\",\"Taux de mentions - STHR\",\"Taux de mentions - Toutes series\",\"Taux de mentions attendu - L\",\"Taux de mentions attendu - ES\",\"Taux de mentions attendu - S\",\"Taux de mentions attendu - STI2D\",\"Taux de mentions attendu - STD2A\",\"Taux de mentions attendu - STMG\",\"Taux de mentions attendu - STL\",\"Taux de mentions attendu - ST2S\",\"Taux de mentions attendu - TMD\",\"Taux de mentions attendu - STHR\",\"Taux de mentions attendu - Toutes series\",\"Structure pedagogique 5 groupes\",\"Structure pedagogique 7 groupes\",\"Effectif de seconde\",\"Effectif de premiere\",\"Effectif de terminale\",\"Taux d'acces 2nde-bac\",\"Taux d'acces attendu france 2nde-bac\",\"Taux d'acces 1ere-bac\",\"Taux d'acces attendu france 1ere-bac\",\"Taux d'acces terminale-bac\", \"Taux d'acces attendu france terminale-bac\",\"Region\",\"Code region\",\"code_departement\"]]"
   ]
  },
  {
   "cell_type": "code",
   "execution_count": 12,
   "id": "43e2b928",
   "metadata": {},
   "outputs": [],
   "source": [
    "cmap=LinearSegmentedColormap.from_list('rg',[\"r\", \"w\", \"g\"], N=256)"
   ]
  },
  {
   "cell_type": "markdown",
   "id": "079d4810",
   "metadata": {},
   "source": [
    "# 1. Analyse des indicateurs en 2018"
   ]
  },
  {
   "cell_type": "markdown",
   "id": "946fde82",
   "metadata": {},
   "source": [
    "## 1.1 Analyse du taux de réussite au Brevet "
   ]
  },
  {
   "cell_type": "markdown",
   "id": "c985c806",
   "metadata": {},
   "source": [
    "### 1.1.1 Par département"
   ]
  },
  {
   "cell_type": "code",
   "execution_count": 47,
   "id": "88ff0440",
   "metadata": {},
   "outputs": [
    {
     "data": {
      "text/html": [
       "<div>\n",
       "<style scoped>\n",
       "    .dataframe tbody tr th:only-of-type {\n",
       "        vertical-align: middle;\n",
       "    }\n",
       "\n",
       "    .dataframe tbody tr th {\n",
       "        vertical-align: top;\n",
       "    }\n",
       "\n",
       "    .dataframe thead th {\n",
       "        text-align: right;\n",
       "    }\n",
       "</style>\n",
       "<table border=\"1\" class=\"dataframe\">\n",
       "  <thead>\n",
       "    <tr style=\"text-align: right;\">\n",
       "      <th></th>\n",
       "      <th>taux_de_reussite</th>\n",
       "      <th>nombre_d_admis_mention_tb</th>\n",
       "      <th>nombre_d_admis_mention_ab</th>\n",
       "      <th>nombre_d_admis_mention_b</th>\n",
       "      <th>nombre_d_admis_sans_mention</th>\n",
       "    </tr>\n",
       "    <tr>\n",
       "      <th>departement_libelle</th>\n",
       "      <th></th>\n",
       "      <th></th>\n",
       "      <th></th>\n",
       "      <th></th>\n",
       "      <th></th>\n",
       "    </tr>\n",
       "  </thead>\n",
       "  <tbody>\n",
       "    <tr>\n",
       "      <th>HAUTS-DE-SEINE</th>\n",
       "      <td>90.66</td>\n",
       "      <td>37.98</td>\n",
       "      <td>22.07</td>\n",
       "      <td>28.16</td>\n",
       "      <td>22.90</td>\n",
       "    </tr>\n",
       "    <tr>\n",
       "      <th>PARIS</th>\n",
       "      <td>87.03</td>\n",
       "      <td>40.86</td>\n",
       "      <td>16.78</td>\n",
       "      <td>22.57</td>\n",
       "      <td>13.62</td>\n",
       "    </tr>\n",
       "    <tr>\n",
       "      <th>SEINE-SAINT-DENIS</th>\n",
       "      <td>82.46</td>\n",
       "      <td>19.14</td>\n",
       "      <td>25.19</td>\n",
       "      <td>21.47</td>\n",
       "      <td>29.51</td>\n",
       "    </tr>\n",
       "    <tr>\n",
       "      <th>VAL-DE-MARNE</th>\n",
       "      <td>85.17</td>\n",
       "      <td>25.22</td>\n",
       "      <td>21.40</td>\n",
       "      <td>22.59</td>\n",
       "      <td>23.16</td>\n",
       "    </tr>\n",
       "  </tbody>\n",
       "</table>\n",
       "</div>"
      ],
      "text/plain": [
       "                     taux_de_reussite  nombre_d_admis_mention_tb  \\\n",
       "departement_libelle                                                \n",
       "HAUTS-DE-SEINE                  90.66                      37.98   \n",
       "PARIS                           87.03                      40.86   \n",
       "SEINE-SAINT-DENIS               82.46                      19.14   \n",
       "VAL-DE-MARNE                    85.17                      25.22   \n",
       "\n",
       "                     nombre_d_admis_mention_ab  nombre_d_admis_mention_b  \\\n",
       "departement_libelle                                                        \n",
       "HAUTS-DE-SEINE                           22.07                     28.16   \n",
       "PARIS                                    16.78                     22.57   \n",
       "SEINE-SAINT-DENIS                        25.19                     21.47   \n",
       "VAL-DE-MARNE                             21.40                     22.59   \n",
       "\n",
       "                     nombre_d_admis_sans_mention  \n",
       "departement_libelle                               \n",
       "HAUTS-DE-SEINE                             22.90  \n",
       "PARIS                                      13.62  \n",
       "SEINE-SAINT-DENIS                          29.51  \n",
       "VAL-DE-MARNE                               23.16  "
      ]
     },
     "execution_count": 47,
     "metadata": {},
     "output_type": "execute_result"
    }
   ],
   "source": [
    "df1_brevet[df1_brevet['session']==2018].groupby(['departement_libelle'])['taux_de_reussite','nombre_d_admis_mention_tb','nombre_d_admis_mention_ab', 'nombre_d_admis_mention_b', 'nombre_d_admis_sans_mention'].mean().round(2)"
   ]
  },
  {
   "cell_type": "markdown",
   "id": "098f771b",
   "metadata": {},
   "source": [
    "***On voit que Paris et des Hautes-de-Seine presentent les meilleurs taux de réussite au Brevet 2018, soutenus par une nombre plus grande de mentions très bien et un nombre plus faible de sans mentions.***"
   ]
  },
  {
   "cell_type": "markdown",
   "id": "7f7afeaf",
   "metadata": {},
   "source": [
    "### 1.1.2 Par Commune"
   ]
  },
  {
   "cell_type": "code",
   "execution_count": 93,
   "id": "c7b01e2d",
   "metadata": {},
   "outputs": [
    {
     "data": {
      "text/html": [
       "<div>\n",
       "<style scoped>\n",
       "    .dataframe tbody tr th:only-of-type {\n",
       "        vertical-align: middle;\n",
       "    }\n",
       "\n",
       "    .dataframe tbody tr th {\n",
       "        vertical-align: top;\n",
       "    }\n",
       "\n",
       "    .dataframe thead th {\n",
       "        text-align: right;\n",
       "    }\n",
       "</style>\n",
       "<table border=\"1\" class=\"dataframe\">\n",
       "  <thead>\n",
       "    <tr style=\"text-align: right;\">\n",
       "      <th></th>\n",
       "      <th>taux_de_reussite</th>\n",
       "      <th>nombre_d_admis_mention_tb</th>\n",
       "      <th>nombre_d_admis_mention_ab</th>\n",
       "      <th>nombre_d_admis_mention_b</th>\n",
       "      <th>nombre_d_admis_sans_mention</th>\n",
       "    </tr>\n",
       "    <tr>\n",
       "      <th>commune_et_arrondissement_lib_l</th>\n",
       "      <th></th>\n",
       "      <th></th>\n",
       "      <th></th>\n",
       "      <th></th>\n",
       "      <th></th>\n",
       "    </tr>\n",
       "  </thead>\n",
       "  <tbody>\n",
       "    <tr>\n",
       "      <th>PARIS  8E  ARRONDISSEMENT</th>\n",
       "      <td>97.98</td>\n",
       "      <td>122.25</td>\n",
       "      <td>25.50</td>\n",
       "      <td>39.75</td>\n",
       "      <td>10.50</td>\n",
       "    </tr>\n",
       "    <tr>\n",
       "      <th>PARIS  5E  ARRONDISSEMENT</th>\n",
       "      <td>97.83</td>\n",
       "      <td>65.86</td>\n",
       "      <td>12.71</td>\n",
       "      <td>23.29</td>\n",
       "      <td>7.71</td>\n",
       "    </tr>\n",
       "    <tr>\n",
       "      <th>PARIS  4E  ARRONDISSEMENT</th>\n",
       "      <td>95.78</td>\n",
       "      <td>64.20</td>\n",
       "      <td>17.60</td>\n",
       "      <td>36.60</td>\n",
       "      <td>9.00</td>\n",
       "    </tr>\n",
       "    <tr>\n",
       "      <th>PARIS  7E  ARRONDISSEMENT</th>\n",
       "      <td>94.92</td>\n",
       "      <td>44.50</td>\n",
       "      <td>14.88</td>\n",
       "      <td>24.88</td>\n",
       "      <td>8.38</td>\n",
       "    </tr>\n",
       "    <tr>\n",
       "      <th>PARIS  2E  ARRONDISSEMENT</th>\n",
       "      <td>94.90</td>\n",
       "      <td>43.00</td>\n",
       "      <td>15.00</td>\n",
       "      <td>11.00</td>\n",
       "      <td>6.00</td>\n",
       "    </tr>\n",
       "    <tr>\n",
       "      <th>PARIS 16E  ARRONDISSEMENT</th>\n",
       "      <td>92.98</td>\n",
       "      <td>80.47</td>\n",
       "      <td>17.73</td>\n",
       "      <td>29.67</td>\n",
       "      <td>8.33</td>\n",
       "    </tr>\n",
       "    <tr>\n",
       "      <th>PARIS  1ER ARRONDISSEMENT</th>\n",
       "      <td>91.40</td>\n",
       "      <td>36.00</td>\n",
       "      <td>5.00</td>\n",
       "      <td>22.00</td>\n",
       "      <td>12.00</td>\n",
       "    </tr>\n",
       "    <tr>\n",
       "      <th>PARIS 11E  ARRONDISSEMENT</th>\n",
       "      <td>89.86</td>\n",
       "      <td>26.91</td>\n",
       "      <td>14.27</td>\n",
       "      <td>20.55</td>\n",
       "      <td>12.36</td>\n",
       "    </tr>\n",
       "    <tr>\n",
       "      <th>PARIS  9E  ARRONDISSEMENT</th>\n",
       "      <td>89.82</td>\n",
       "      <td>33.80</td>\n",
       "      <td>16.20</td>\n",
       "      <td>18.60</td>\n",
       "      <td>11.20</td>\n",
       "    </tr>\n",
       "    <tr>\n",
       "      <th>PARIS  6E  ARRONDISSEMENT</th>\n",
       "      <td>89.10</td>\n",
       "      <td>58.90</td>\n",
       "      <td>12.00</td>\n",
       "      <td>20.40</td>\n",
       "      <td>9.00</td>\n",
       "    </tr>\n",
       "    <tr>\n",
       "      <th>PARIS 13E  ARRONDISSEMENT</th>\n",
       "      <td>88.41</td>\n",
       "      <td>34.41</td>\n",
       "      <td>18.18</td>\n",
       "      <td>24.65</td>\n",
       "      <td>17.00</td>\n",
       "    </tr>\n",
       "    <tr>\n",
       "      <th>PARIS 12E  ARRONDISSEMENT</th>\n",
       "      <td>87.78</td>\n",
       "      <td>42.92</td>\n",
       "      <td>18.92</td>\n",
       "      <td>27.77</td>\n",
       "      <td>14.08</td>\n",
       "    </tr>\n",
       "    <tr>\n",
       "      <th>PARIS 17E  ARRONDISSEMENT</th>\n",
       "      <td>85.47</td>\n",
       "      <td>55.75</td>\n",
       "      <td>17.75</td>\n",
       "      <td>26.00</td>\n",
       "      <td>12.17</td>\n",
       "    </tr>\n",
       "    <tr>\n",
       "      <th>PARIS  3E  ARRONDISSEMENT</th>\n",
       "      <td>84.42</td>\n",
       "      <td>30.25</td>\n",
       "      <td>12.25</td>\n",
       "      <td>20.75</td>\n",
       "      <td>13.00</td>\n",
       "    </tr>\n",
       "    <tr>\n",
       "      <th>PARIS 19E  ARRONDISSEMENT</th>\n",
       "      <td>84.18</td>\n",
       "      <td>21.28</td>\n",
       "      <td>16.78</td>\n",
       "      <td>19.50</td>\n",
       "      <td>17.33</td>\n",
       "    </tr>\n",
       "    <tr>\n",
       "      <th>PARIS 10E  ARRONDISSEMENT</th>\n",
       "      <td>83.60</td>\n",
       "      <td>33.75</td>\n",
       "      <td>16.88</td>\n",
       "      <td>24.88</td>\n",
       "      <td>11.75</td>\n",
       "    </tr>\n",
       "    <tr>\n",
       "      <th>PARIS 14E  ARRONDISSEMENT</th>\n",
       "      <td>82.89</td>\n",
       "      <td>25.50</td>\n",
       "      <td>14.40</td>\n",
       "      <td>14.50</td>\n",
       "      <td>14.90</td>\n",
       "    </tr>\n",
       "    <tr>\n",
       "      <th>PARIS 18E  ARRONDISSEMENT</th>\n",
       "      <td>82.32</td>\n",
       "      <td>22.07</td>\n",
       "      <td>19.60</td>\n",
       "      <td>14.87</td>\n",
       "      <td>18.13</td>\n",
       "    </tr>\n",
       "    <tr>\n",
       "      <th>PARIS 15E  ARRONDISSEMENT</th>\n",
       "      <td>81.70</td>\n",
       "      <td>35.73</td>\n",
       "      <td>15.27</td>\n",
       "      <td>21.00</td>\n",
       "      <td>14.07</td>\n",
       "    </tr>\n",
       "    <tr>\n",
       "      <th>PARIS 20E  ARRONDISSEMENT</th>\n",
       "      <td>79.95</td>\n",
       "      <td>20.83</td>\n",
       "      <td>19.00</td>\n",
       "      <td>18.56</td>\n",
       "      <td>19.00</td>\n",
       "    </tr>\n",
       "  </tbody>\n",
       "</table>\n",
       "</div>"
      ],
      "text/plain": [
       "                                 taux_de_reussite  nombre_d_admis_mention_tb  \\\n",
       "commune_et_arrondissement_lib_l                                                \n",
       "PARIS  8E  ARRONDISSEMENT                   97.98                     122.25   \n",
       "PARIS  5E  ARRONDISSEMENT                   97.83                      65.86   \n",
       "PARIS  4E  ARRONDISSEMENT                   95.78                      64.20   \n",
       "PARIS  7E  ARRONDISSEMENT                   94.92                      44.50   \n",
       "PARIS  2E  ARRONDISSEMENT                   94.90                      43.00   \n",
       "PARIS 16E  ARRONDISSEMENT                   92.98                      80.47   \n",
       "PARIS  1ER ARRONDISSEMENT                   91.40                      36.00   \n",
       "PARIS 11E  ARRONDISSEMENT                   89.86                      26.91   \n",
       "PARIS  9E  ARRONDISSEMENT                   89.82                      33.80   \n",
       "PARIS  6E  ARRONDISSEMENT                   89.10                      58.90   \n",
       "PARIS 13E  ARRONDISSEMENT                   88.41                      34.41   \n",
       "PARIS 12E  ARRONDISSEMENT                   87.78                      42.92   \n",
       "PARIS 17E  ARRONDISSEMENT                   85.47                      55.75   \n",
       "PARIS  3E  ARRONDISSEMENT                   84.42                      30.25   \n",
       "PARIS 19E  ARRONDISSEMENT                   84.18                      21.28   \n",
       "PARIS 10E  ARRONDISSEMENT                   83.60                      33.75   \n",
       "PARIS 14E  ARRONDISSEMENT                   82.89                      25.50   \n",
       "PARIS 18E  ARRONDISSEMENT                   82.32                      22.07   \n",
       "PARIS 15E  ARRONDISSEMENT                   81.70                      35.73   \n",
       "PARIS 20E  ARRONDISSEMENT                   79.95                      20.83   \n",
       "\n",
       "                                 nombre_d_admis_mention_ab  \\\n",
       "commune_et_arrondissement_lib_l                              \n",
       "PARIS  8E  ARRONDISSEMENT                            25.50   \n",
       "PARIS  5E  ARRONDISSEMENT                            12.71   \n",
       "PARIS  4E  ARRONDISSEMENT                            17.60   \n",
       "PARIS  7E  ARRONDISSEMENT                            14.88   \n",
       "PARIS  2E  ARRONDISSEMENT                            15.00   \n",
       "PARIS 16E  ARRONDISSEMENT                            17.73   \n",
       "PARIS  1ER ARRONDISSEMENT                             5.00   \n",
       "PARIS 11E  ARRONDISSEMENT                            14.27   \n",
       "PARIS  9E  ARRONDISSEMENT                            16.20   \n",
       "PARIS  6E  ARRONDISSEMENT                            12.00   \n",
       "PARIS 13E  ARRONDISSEMENT                            18.18   \n",
       "PARIS 12E  ARRONDISSEMENT                            18.92   \n",
       "PARIS 17E  ARRONDISSEMENT                            17.75   \n",
       "PARIS  3E  ARRONDISSEMENT                            12.25   \n",
       "PARIS 19E  ARRONDISSEMENT                            16.78   \n",
       "PARIS 10E  ARRONDISSEMENT                            16.88   \n",
       "PARIS 14E  ARRONDISSEMENT                            14.40   \n",
       "PARIS 18E  ARRONDISSEMENT                            19.60   \n",
       "PARIS 15E  ARRONDISSEMENT                            15.27   \n",
       "PARIS 20E  ARRONDISSEMENT                            19.00   \n",
       "\n",
       "                                 nombre_d_admis_mention_b  \\\n",
       "commune_et_arrondissement_lib_l                             \n",
       "PARIS  8E  ARRONDISSEMENT                           39.75   \n",
       "PARIS  5E  ARRONDISSEMENT                           23.29   \n",
       "PARIS  4E  ARRONDISSEMENT                           36.60   \n",
       "PARIS  7E  ARRONDISSEMENT                           24.88   \n",
       "PARIS  2E  ARRONDISSEMENT                           11.00   \n",
       "PARIS 16E  ARRONDISSEMENT                           29.67   \n",
       "PARIS  1ER ARRONDISSEMENT                           22.00   \n",
       "PARIS 11E  ARRONDISSEMENT                           20.55   \n",
       "PARIS  9E  ARRONDISSEMENT                           18.60   \n",
       "PARIS  6E  ARRONDISSEMENT                           20.40   \n",
       "PARIS 13E  ARRONDISSEMENT                           24.65   \n",
       "PARIS 12E  ARRONDISSEMENT                           27.77   \n",
       "PARIS 17E  ARRONDISSEMENT                           26.00   \n",
       "PARIS  3E  ARRONDISSEMENT                           20.75   \n",
       "PARIS 19E  ARRONDISSEMENT                           19.50   \n",
       "PARIS 10E  ARRONDISSEMENT                           24.88   \n",
       "PARIS 14E  ARRONDISSEMENT                           14.50   \n",
       "PARIS 18E  ARRONDISSEMENT                           14.87   \n",
       "PARIS 15E  ARRONDISSEMENT                           21.00   \n",
       "PARIS 20E  ARRONDISSEMENT                           18.56   \n",
       "\n",
       "                                 nombre_d_admis_sans_mention  \n",
       "commune_et_arrondissement_lib_l                               \n",
       "PARIS  8E  ARRONDISSEMENT                              10.50  \n",
       "PARIS  5E  ARRONDISSEMENT                               7.71  \n",
       "PARIS  4E  ARRONDISSEMENT                               9.00  \n",
       "PARIS  7E  ARRONDISSEMENT                               8.38  \n",
       "PARIS  2E  ARRONDISSEMENT                               6.00  \n",
       "PARIS 16E  ARRONDISSEMENT                               8.33  \n",
       "PARIS  1ER ARRONDISSEMENT                              12.00  \n",
       "PARIS 11E  ARRONDISSEMENT                              12.36  \n",
       "PARIS  9E  ARRONDISSEMENT                              11.20  \n",
       "PARIS  6E  ARRONDISSEMENT                               9.00  \n",
       "PARIS 13E  ARRONDISSEMENT                              17.00  \n",
       "PARIS 12E  ARRONDISSEMENT                              14.08  \n",
       "PARIS 17E  ARRONDISSEMENT                              12.17  \n",
       "PARIS  3E  ARRONDISSEMENT                              13.00  \n",
       "PARIS 19E  ARRONDISSEMENT                              17.33  \n",
       "PARIS 10E  ARRONDISSEMENT                              11.75  \n",
       "PARIS 14E  ARRONDISSEMENT                              14.90  \n",
       "PARIS 18E  ARRONDISSEMENT                              18.13  \n",
       "PARIS 15E  ARRONDISSEMENT                              14.07  \n",
       "PARIS 20E  ARRONDISSEMENT                              19.00  "
      ]
     },
     "execution_count": 93,
     "metadata": {},
     "output_type": "execute_result"
    }
   ],
   "source": [
    "df1_brevet[(df1_brevet['academie_libelle']=='PARIS') & (df1_brevet['session']==2018)].groupby(['commune_et_arrondissement_lib_l'])['taux_de_reussite','nombre_d_admis_mention_tb','nombre_d_admis_mention_ab', 'nombre_d_admis_mention_b', 'nombre_d_admis_sans_mention'].mean().round(2).sort_values(by=['taux_de_reussite'], ascending=False)"
   ]
  },
  {
   "cell_type": "markdown",
   "id": "b2746bac",
   "metadata": {},
   "source": [
    "**Au niveau de commune, on voit que le 8ème, 5ème, 4ème, 7ème, 2ème, 16ème arrondissements ont le taux de reussitte plus haute, plus de 90%.**"
   ]
  },
  {
   "cell_type": "markdown",
   "id": "3c2780a7",
   "metadata": {},
   "source": [
    "## 1.2 Analyse du taux de réussite au BAC (Technique et géneral)"
   ]
  },
  {
   "cell_type": "code",
   "execution_count": 94,
   "id": "f4e69d99",
   "metadata": {},
   "outputs": [
    {
     "data": {
      "text/plain": [
       "Etablissement                   0\n",
       "Annee                           0\n",
       "Ville                           0\n",
       "UAI                             0\n",
       "Code commune                    0\n",
       "Academie                        0\n",
       "Departement                     0\n",
       "Secteur                         0\n",
       "Presents - L                 4732\n",
       "Presents - ES                3030\n",
       "Presents - S                 1866\n",
       "Presents - STG              18360\n",
       "Presents - STI2D            16052\n",
       "Presents - STD2A            20132\n",
       "Presents - STMG             12142\n",
       "Presents - STI              20215\n",
       "Presents - STL              18520\n",
       "Presents - ST2S             16851\n",
       "Presents - TMD              20632\n",
       "Presents - STHR             20239\n",
       "Presents - Toutes series        0\n",
       "Taux de reussite - L         4732\n",
       "Taux de reussite - ES        3030\n",
       "Taux de reussite - S         1866\n",
       "Taux de reussite - STG      18360\n",
       "Taux de reussite - STI2D    16052\n",
       "Taux de reussite - STD2A    20132\n",
       "Taux de reussite - STMG     12142\n",
       "Taux de reussite - STI      20215\n",
       "Taux de reussite - STL      18520\n",
       "dtype: int64"
      ]
     },
     "execution_count": 94,
     "metadata": {},
     "output_type": "execute_result"
    }
   ],
   "source": [
    "df_bac.isnull().sum().head(30)"
   ]
  },
  {
   "cell_type": "markdown",
   "id": "71ed3c8a",
   "metadata": {},
   "source": [
    "***Parce que certains parcours tel section STD2A, section STG.. etc. que n'existent pas dans les lycées étudiés, donc il a l'air logique qu'on ait des valeurs manquantes dans ces sections.***"
   ]
  },
  {
   "cell_type": "markdown",
   "id": "68a9ba3b",
   "metadata": {},
   "source": [
    "### 1.2.1 Nombre des élèves"
   ]
  },
  {
   "cell_type": "code",
   "execution_count": 129,
   "id": "7ecabac1",
   "metadata": {},
   "outputs": [
    {
     "data": {
      "application/vnd.plotly.v1+json": {
       "config": {
        "plotlyServerURL": "https://plot.ly"
       },
       "data": [
        {
         "alignmentgroup": "True",
         "bingroup": "x",
         "histfunc": "sum",
         "hovertemplate": "code_departement=%{x}<br>sum of total_eleves_technique=%{y}<extra></extra>",
         "legendgroup": "",
         "marker": {
          "color": "#636efa",
          "pattern": {
           "shape": ""
          }
         },
         "name": "",
         "offsetgroup": "",
         "orientation": "v",
         "showlegend": false,
         "type": "histogram",
         "x": [
          "75",
          "92",
          "93",
          "94"
         ],
         "xaxis": "x",
         "y": [
          3085,
          2730,
          4241,
          3158
         ],
         "yaxis": "y"
        }
       ],
       "layout": {
        "barmode": "relative",
        "height": 560,
        "legend": {
         "font": {
          "color": "black",
          "family": "Courier",
          "size": 10
         },
         "title": {
          "font": {
           "color": "blue",
           "size": 20
          }
         },
         "tracegroupgap": 0
        },
        "template": {
         "data": {
          "bar": [
           {
            "error_x": {
             "color": "#2a3f5f"
            },
            "error_y": {
             "color": "#2a3f5f"
            },
            "marker": {
             "line": {
              "color": "#E5ECF6",
              "width": 0.5
             },
             "pattern": {
              "fillmode": "overlay",
              "size": 10,
              "solidity": 0.2
             }
            },
            "type": "bar"
           }
          ],
          "barpolar": [
           {
            "marker": {
             "line": {
              "color": "#E5ECF6",
              "width": 0.5
             },
             "pattern": {
              "fillmode": "overlay",
              "size": 10,
              "solidity": 0.2
             }
            },
            "type": "barpolar"
           }
          ],
          "carpet": [
           {
            "aaxis": {
             "endlinecolor": "#2a3f5f",
             "gridcolor": "white",
             "linecolor": "white",
             "minorgridcolor": "white",
             "startlinecolor": "#2a3f5f"
            },
            "baxis": {
             "endlinecolor": "#2a3f5f",
             "gridcolor": "white",
             "linecolor": "white",
             "minorgridcolor": "white",
             "startlinecolor": "#2a3f5f"
            },
            "type": "carpet"
           }
          ],
          "choropleth": [
           {
            "colorbar": {
             "outlinewidth": 0,
             "ticks": ""
            },
            "type": "choropleth"
           }
          ],
          "contour": [
           {
            "colorbar": {
             "outlinewidth": 0,
             "ticks": ""
            },
            "colorscale": [
             [
              0,
              "#0d0887"
             ],
             [
              0.1111111111111111,
              "#46039f"
             ],
             [
              0.2222222222222222,
              "#7201a8"
             ],
             [
              0.3333333333333333,
              "#9c179e"
             ],
             [
              0.4444444444444444,
              "#bd3786"
             ],
             [
              0.5555555555555556,
              "#d8576b"
             ],
             [
              0.6666666666666666,
              "#ed7953"
             ],
             [
              0.7777777777777778,
              "#fb9f3a"
             ],
             [
              0.8888888888888888,
              "#fdca26"
             ],
             [
              1,
              "#f0f921"
             ]
            ],
            "type": "contour"
           }
          ],
          "contourcarpet": [
           {
            "colorbar": {
             "outlinewidth": 0,
             "ticks": ""
            },
            "type": "contourcarpet"
           }
          ],
          "heatmap": [
           {
            "colorbar": {
             "outlinewidth": 0,
             "ticks": ""
            },
            "colorscale": [
             [
              0,
              "#0d0887"
             ],
             [
              0.1111111111111111,
              "#46039f"
             ],
             [
              0.2222222222222222,
              "#7201a8"
             ],
             [
              0.3333333333333333,
              "#9c179e"
             ],
             [
              0.4444444444444444,
              "#bd3786"
             ],
             [
              0.5555555555555556,
              "#d8576b"
             ],
             [
              0.6666666666666666,
              "#ed7953"
             ],
             [
              0.7777777777777778,
              "#fb9f3a"
             ],
             [
              0.8888888888888888,
              "#fdca26"
             ],
             [
              1,
              "#f0f921"
             ]
            ],
            "type": "heatmap"
           }
          ],
          "heatmapgl": [
           {
            "colorbar": {
             "outlinewidth": 0,
             "ticks": ""
            },
            "colorscale": [
             [
              0,
              "#0d0887"
             ],
             [
              0.1111111111111111,
              "#46039f"
             ],
             [
              0.2222222222222222,
              "#7201a8"
             ],
             [
              0.3333333333333333,
              "#9c179e"
             ],
             [
              0.4444444444444444,
              "#bd3786"
             ],
             [
              0.5555555555555556,
              "#d8576b"
             ],
             [
              0.6666666666666666,
              "#ed7953"
             ],
             [
              0.7777777777777778,
              "#fb9f3a"
             ],
             [
              0.8888888888888888,
              "#fdca26"
             ],
             [
              1,
              "#f0f921"
             ]
            ],
            "type": "heatmapgl"
           }
          ],
          "histogram": [
           {
            "marker": {
             "pattern": {
              "fillmode": "overlay",
              "size": 10,
              "solidity": 0.2
             }
            },
            "type": "histogram"
           }
          ],
          "histogram2d": [
           {
            "colorbar": {
             "outlinewidth": 0,
             "ticks": ""
            },
            "colorscale": [
             [
              0,
              "#0d0887"
             ],
             [
              0.1111111111111111,
              "#46039f"
             ],
             [
              0.2222222222222222,
              "#7201a8"
             ],
             [
              0.3333333333333333,
              "#9c179e"
             ],
             [
              0.4444444444444444,
              "#bd3786"
             ],
             [
              0.5555555555555556,
              "#d8576b"
             ],
             [
              0.6666666666666666,
              "#ed7953"
             ],
             [
              0.7777777777777778,
              "#fb9f3a"
             ],
             [
              0.8888888888888888,
              "#fdca26"
             ],
             [
              1,
              "#f0f921"
             ]
            ],
            "type": "histogram2d"
           }
          ],
          "histogram2dcontour": [
           {
            "colorbar": {
             "outlinewidth": 0,
             "ticks": ""
            },
            "colorscale": [
             [
              0,
              "#0d0887"
             ],
             [
              0.1111111111111111,
              "#46039f"
             ],
             [
              0.2222222222222222,
              "#7201a8"
             ],
             [
              0.3333333333333333,
              "#9c179e"
             ],
             [
              0.4444444444444444,
              "#bd3786"
             ],
             [
              0.5555555555555556,
              "#d8576b"
             ],
             [
              0.6666666666666666,
              "#ed7953"
             ],
             [
              0.7777777777777778,
              "#fb9f3a"
             ],
             [
              0.8888888888888888,
              "#fdca26"
             ],
             [
              1,
              "#f0f921"
             ]
            ],
            "type": "histogram2dcontour"
           }
          ],
          "mesh3d": [
           {
            "colorbar": {
             "outlinewidth": 0,
             "ticks": ""
            },
            "type": "mesh3d"
           }
          ],
          "parcoords": [
           {
            "line": {
             "colorbar": {
              "outlinewidth": 0,
              "ticks": ""
             }
            },
            "type": "parcoords"
           }
          ],
          "pie": [
           {
            "automargin": true,
            "type": "pie"
           }
          ],
          "scatter": [
           {
            "marker": {
             "colorbar": {
              "outlinewidth": 0,
              "ticks": ""
             }
            },
            "type": "scatter"
           }
          ],
          "scatter3d": [
           {
            "line": {
             "colorbar": {
              "outlinewidth": 0,
              "ticks": ""
             }
            },
            "marker": {
             "colorbar": {
              "outlinewidth": 0,
              "ticks": ""
             }
            },
            "type": "scatter3d"
           }
          ],
          "scattercarpet": [
           {
            "marker": {
             "colorbar": {
              "outlinewidth": 0,
              "ticks": ""
             }
            },
            "type": "scattercarpet"
           }
          ],
          "scattergeo": [
           {
            "marker": {
             "colorbar": {
              "outlinewidth": 0,
              "ticks": ""
             }
            },
            "type": "scattergeo"
           }
          ],
          "scattergl": [
           {
            "marker": {
             "colorbar": {
              "outlinewidth": 0,
              "ticks": ""
             }
            },
            "type": "scattergl"
           }
          ],
          "scattermapbox": [
           {
            "marker": {
             "colorbar": {
              "outlinewidth": 0,
              "ticks": ""
             }
            },
            "type": "scattermapbox"
           }
          ],
          "scatterpolar": [
           {
            "marker": {
             "colorbar": {
              "outlinewidth": 0,
              "ticks": ""
             }
            },
            "type": "scatterpolar"
           }
          ],
          "scatterpolargl": [
           {
            "marker": {
             "colorbar": {
              "outlinewidth": 0,
              "ticks": ""
             }
            },
            "type": "scatterpolargl"
           }
          ],
          "scatterternary": [
           {
            "marker": {
             "colorbar": {
              "outlinewidth": 0,
              "ticks": ""
             }
            },
            "type": "scatterternary"
           }
          ],
          "surface": [
           {
            "colorbar": {
             "outlinewidth": 0,
             "ticks": ""
            },
            "colorscale": [
             [
              0,
              "#0d0887"
             ],
             [
              0.1111111111111111,
              "#46039f"
             ],
             [
              0.2222222222222222,
              "#7201a8"
             ],
             [
              0.3333333333333333,
              "#9c179e"
             ],
             [
              0.4444444444444444,
              "#bd3786"
             ],
             [
              0.5555555555555556,
              "#d8576b"
             ],
             [
              0.6666666666666666,
              "#ed7953"
             ],
             [
              0.7777777777777778,
              "#fb9f3a"
             ],
             [
              0.8888888888888888,
              "#fdca26"
             ],
             [
              1,
              "#f0f921"
             ]
            ],
            "type": "surface"
           }
          ],
          "table": [
           {
            "cells": {
             "fill": {
              "color": "#EBF0F8"
             },
             "line": {
              "color": "white"
             }
            },
            "header": {
             "fill": {
              "color": "#C8D4E3"
             },
             "line": {
              "color": "white"
             }
            },
            "type": "table"
           }
          ]
         },
         "layout": {
          "annotationdefaults": {
           "arrowcolor": "#2a3f5f",
           "arrowhead": 0,
           "arrowwidth": 1
          },
          "autotypenumbers": "strict",
          "coloraxis": {
           "colorbar": {
            "outlinewidth": 0,
            "ticks": ""
           }
          },
          "colorscale": {
           "diverging": [
            [
             0,
             "#8e0152"
            ],
            [
             0.1,
             "#c51b7d"
            ],
            [
             0.2,
             "#de77ae"
            ],
            [
             0.3,
             "#f1b6da"
            ],
            [
             0.4,
             "#fde0ef"
            ],
            [
             0.5,
             "#f7f7f7"
            ],
            [
             0.6,
             "#e6f5d0"
            ],
            [
             0.7,
             "#b8e186"
            ],
            [
             0.8,
             "#7fbc41"
            ],
            [
             0.9,
             "#4d9221"
            ],
            [
             1,
             "#276419"
            ]
           ],
           "sequential": [
            [
             0,
             "#0d0887"
            ],
            [
             0.1111111111111111,
             "#46039f"
            ],
            [
             0.2222222222222222,
             "#7201a8"
            ],
            [
             0.3333333333333333,
             "#9c179e"
            ],
            [
             0.4444444444444444,
             "#bd3786"
            ],
            [
             0.5555555555555556,
             "#d8576b"
            ],
            [
             0.6666666666666666,
             "#ed7953"
            ],
            [
             0.7777777777777778,
             "#fb9f3a"
            ],
            [
             0.8888888888888888,
             "#fdca26"
            ],
            [
             1,
             "#f0f921"
            ]
           ],
           "sequentialminus": [
            [
             0,
             "#0d0887"
            ],
            [
             0.1111111111111111,
             "#46039f"
            ],
            [
             0.2222222222222222,
             "#7201a8"
            ],
            [
             0.3333333333333333,
             "#9c179e"
            ],
            [
             0.4444444444444444,
             "#bd3786"
            ],
            [
             0.5555555555555556,
             "#d8576b"
            ],
            [
             0.6666666666666666,
             "#ed7953"
            ],
            [
             0.7777777777777778,
             "#fb9f3a"
            ],
            [
             0.8888888888888888,
             "#fdca26"
            ],
            [
             1,
             "#f0f921"
            ]
           ]
          },
          "colorway": [
           "#636efa",
           "#EF553B",
           "#00cc96",
           "#ab63fa",
           "#FFA15A",
           "#19d3f3",
           "#FF6692",
           "#B6E880",
           "#FF97FF",
           "#FECB52"
          ],
          "font": {
           "color": "#2a3f5f"
          },
          "geo": {
           "bgcolor": "white",
           "lakecolor": "white",
           "landcolor": "#E5ECF6",
           "showlakes": true,
           "showland": true,
           "subunitcolor": "white"
          },
          "hoverlabel": {
           "align": "left"
          },
          "hovermode": "closest",
          "mapbox": {
           "style": "light"
          },
          "paper_bgcolor": "white",
          "plot_bgcolor": "#E5ECF6",
          "polar": {
           "angularaxis": {
            "gridcolor": "white",
            "linecolor": "white",
            "ticks": ""
           },
           "bgcolor": "#E5ECF6",
           "radialaxis": {
            "gridcolor": "white",
            "linecolor": "white",
            "ticks": ""
           }
          },
          "scene": {
           "xaxis": {
            "backgroundcolor": "#E5ECF6",
            "gridcolor": "white",
            "gridwidth": 2,
            "linecolor": "white",
            "showbackground": true,
            "ticks": "",
            "zerolinecolor": "white"
           },
           "yaxis": {
            "backgroundcolor": "#E5ECF6",
            "gridcolor": "white",
            "gridwidth": 2,
            "linecolor": "white",
            "showbackground": true,
            "ticks": "",
            "zerolinecolor": "white"
           },
           "zaxis": {
            "backgroundcolor": "#E5ECF6",
            "gridcolor": "white",
            "gridwidth": 2,
            "linecolor": "white",
            "showbackground": true,
            "ticks": "",
            "zerolinecolor": "white"
           }
          },
          "shapedefaults": {
           "line": {
            "color": "#2a3f5f"
           }
          },
          "ternary": {
           "aaxis": {
            "gridcolor": "white",
            "linecolor": "white",
            "ticks": ""
           },
           "baxis": {
            "gridcolor": "white",
            "linecolor": "white",
            "ticks": ""
           },
           "bgcolor": "#E5ECF6",
           "caxis": {
            "gridcolor": "white",
            "linecolor": "white",
            "ticks": ""
           }
          },
          "title": {
           "x": 0.05
          },
          "xaxis": {
           "automargin": true,
           "gridcolor": "white",
           "linecolor": "white",
           "ticks": "",
           "title": {
            "standoff": 15
           },
           "zerolinecolor": "white",
           "zerolinewidth": 2
          },
          "yaxis": {
           "automargin": true,
           "gridcolor": "white",
           "linecolor": "white",
           "ticks": "",
           "title": {
            "standoff": 15
           },
           "zerolinecolor": "white",
           "zerolinewidth": 2
          }
         }
        },
        "title": {
         "text": "Total élèves - TECHNIQUE"
        },
        "width": 950,
        "xaxis": {
         "anchor": "y",
         "domain": [
          0,
          1
         ],
         "title": {
          "text": "code_departement"
         }
        },
        "yaxis": {
         "anchor": "x",
         "domain": [
          0,
          1
         ],
         "title": {
          "text": "sum of total_eleves_technique"
         }
        }
       }
      },
      "text/html": [
       "<div>                            <div id=\"923afd79-e35b-4899-8395-0f27dbe686c6\" class=\"plotly-graph-div\" style=\"height:560px; width:950px;\"></div>            <script type=\"text/javascript\">                require([\"plotly\"], function(Plotly) {                    window.PLOTLYENV=window.PLOTLYENV || {};                                    if (document.getElementById(\"923afd79-e35b-4899-8395-0f27dbe686c6\")) {                    Plotly.newPlot(                        \"923afd79-e35b-4899-8395-0f27dbe686c6\",                        [{\"alignmentgroup\":\"True\",\"bingroup\":\"x\",\"histfunc\":\"sum\",\"hovertemplate\":\"code_departement=%{x}<br>sum of total_eleves_technique=%{y}<extra></extra>\",\"legendgroup\":\"\",\"marker\":{\"color\":\"#636efa\",\"pattern\":{\"shape\":\"\"}},\"name\":\"\",\"offsetgroup\":\"\",\"orientation\":\"v\",\"showlegend\":false,\"x\":[\"75\",\"92\",\"93\",\"94\"],\"xaxis\":\"x\",\"y\":[3085.0,2730.0,4241.0,3158.0],\"yaxis\":\"y\",\"type\":\"histogram\"}],                        {\"template\":{\"data\":{\"bar\":[{\"error_x\":{\"color\":\"#2a3f5f\"},\"error_y\":{\"color\":\"#2a3f5f\"},\"marker\":{\"line\":{\"color\":\"#E5ECF6\",\"width\":0.5},\"pattern\":{\"fillmode\":\"overlay\",\"size\":10,\"solidity\":0.2}},\"type\":\"bar\"}],\"barpolar\":[{\"marker\":{\"line\":{\"color\":\"#E5ECF6\",\"width\":0.5},\"pattern\":{\"fillmode\":\"overlay\",\"size\":10,\"solidity\":0.2}},\"type\":\"barpolar\"}],\"carpet\":[{\"aaxis\":{\"endlinecolor\":\"#2a3f5f\",\"gridcolor\":\"white\",\"linecolor\":\"white\",\"minorgridcolor\":\"white\",\"startlinecolor\":\"#2a3f5f\"},\"baxis\":{\"endlinecolor\":\"#2a3f5f\",\"gridcolor\":\"white\",\"linecolor\":\"white\",\"minorgridcolor\":\"white\",\"startlinecolor\":\"#2a3f5f\"},\"type\":\"carpet\"}],\"choropleth\":[{\"colorbar\":{\"outlinewidth\":0,\"ticks\":\"\"},\"type\":\"choropleth\"}],\"contour\":[{\"colorbar\":{\"outlinewidth\":0,\"ticks\":\"\"},\"colorscale\":[[0.0,\"#0d0887\"],[0.1111111111111111,\"#46039f\"],[0.2222222222222222,\"#7201a8\"],[0.3333333333333333,\"#9c179e\"],[0.4444444444444444,\"#bd3786\"],[0.5555555555555556,\"#d8576b\"],[0.6666666666666666,\"#ed7953\"],[0.7777777777777778,\"#fb9f3a\"],[0.8888888888888888,\"#fdca26\"],[1.0,\"#f0f921\"]],\"type\":\"contour\"}],\"contourcarpet\":[{\"colorbar\":{\"outlinewidth\":0,\"ticks\":\"\"},\"type\":\"contourcarpet\"}],\"heatmap\":[{\"colorbar\":{\"outlinewidth\":0,\"ticks\":\"\"},\"colorscale\":[[0.0,\"#0d0887\"],[0.1111111111111111,\"#46039f\"],[0.2222222222222222,\"#7201a8\"],[0.3333333333333333,\"#9c179e\"],[0.4444444444444444,\"#bd3786\"],[0.5555555555555556,\"#d8576b\"],[0.6666666666666666,\"#ed7953\"],[0.7777777777777778,\"#fb9f3a\"],[0.8888888888888888,\"#fdca26\"],[1.0,\"#f0f921\"]],\"type\":\"heatmap\"}],\"heatmapgl\":[{\"colorbar\":{\"outlinewidth\":0,\"ticks\":\"\"},\"colorscale\":[[0.0,\"#0d0887\"],[0.1111111111111111,\"#46039f\"],[0.2222222222222222,\"#7201a8\"],[0.3333333333333333,\"#9c179e\"],[0.4444444444444444,\"#bd3786\"],[0.5555555555555556,\"#d8576b\"],[0.6666666666666666,\"#ed7953\"],[0.7777777777777778,\"#fb9f3a\"],[0.8888888888888888,\"#fdca26\"],[1.0,\"#f0f921\"]],\"type\":\"heatmapgl\"}],\"histogram\":[{\"marker\":{\"pattern\":{\"fillmode\":\"overlay\",\"size\":10,\"solidity\":0.2}},\"type\":\"histogram\"}],\"histogram2d\":[{\"colorbar\":{\"outlinewidth\":0,\"ticks\":\"\"},\"colorscale\":[[0.0,\"#0d0887\"],[0.1111111111111111,\"#46039f\"],[0.2222222222222222,\"#7201a8\"],[0.3333333333333333,\"#9c179e\"],[0.4444444444444444,\"#bd3786\"],[0.5555555555555556,\"#d8576b\"],[0.6666666666666666,\"#ed7953\"],[0.7777777777777778,\"#fb9f3a\"],[0.8888888888888888,\"#fdca26\"],[1.0,\"#f0f921\"]],\"type\":\"histogram2d\"}],\"histogram2dcontour\":[{\"colorbar\":{\"outlinewidth\":0,\"ticks\":\"\"},\"colorscale\":[[0.0,\"#0d0887\"],[0.1111111111111111,\"#46039f\"],[0.2222222222222222,\"#7201a8\"],[0.3333333333333333,\"#9c179e\"],[0.4444444444444444,\"#bd3786\"],[0.5555555555555556,\"#d8576b\"],[0.6666666666666666,\"#ed7953\"],[0.7777777777777778,\"#fb9f3a\"],[0.8888888888888888,\"#fdca26\"],[1.0,\"#f0f921\"]],\"type\":\"histogram2dcontour\"}],\"mesh3d\":[{\"colorbar\":{\"outlinewidth\":0,\"ticks\":\"\"},\"type\":\"mesh3d\"}],\"parcoords\":[{\"line\":{\"colorbar\":{\"outlinewidth\":0,\"ticks\":\"\"}},\"type\":\"parcoords\"}],\"pie\":[{\"automargin\":true,\"type\":\"pie\"}],\"scatter\":[{\"marker\":{\"colorbar\":{\"outlinewidth\":0,\"ticks\":\"\"}},\"type\":\"scatter\"}],\"scatter3d\":[{\"line\":{\"colorbar\":{\"outlinewidth\":0,\"ticks\":\"\"}},\"marker\":{\"colorbar\":{\"outlinewidth\":0,\"ticks\":\"\"}},\"type\":\"scatter3d\"}],\"scattercarpet\":[{\"marker\":{\"colorbar\":{\"outlinewidth\":0,\"ticks\":\"\"}},\"type\":\"scattercarpet\"}],\"scattergeo\":[{\"marker\":{\"colorbar\":{\"outlinewidth\":0,\"ticks\":\"\"}},\"type\":\"scattergeo\"}],\"scattergl\":[{\"marker\":{\"colorbar\":{\"outlinewidth\":0,\"ticks\":\"\"}},\"type\":\"scattergl\"}],\"scattermapbox\":[{\"marker\":{\"colorbar\":{\"outlinewidth\":0,\"ticks\":\"\"}},\"type\":\"scattermapbox\"}],\"scatterpolar\":[{\"marker\":{\"colorbar\":{\"outlinewidth\":0,\"ticks\":\"\"}},\"type\":\"scatterpolar\"}],\"scatterpolargl\":[{\"marker\":{\"colorbar\":{\"outlinewidth\":0,\"ticks\":\"\"}},\"type\":\"scatterpolargl\"}],\"scatterternary\":[{\"marker\":{\"colorbar\":{\"outlinewidth\":0,\"ticks\":\"\"}},\"type\":\"scatterternary\"}],\"surface\":[{\"colorbar\":{\"outlinewidth\":0,\"ticks\":\"\"},\"colorscale\":[[0.0,\"#0d0887\"],[0.1111111111111111,\"#46039f\"],[0.2222222222222222,\"#7201a8\"],[0.3333333333333333,\"#9c179e\"],[0.4444444444444444,\"#bd3786\"],[0.5555555555555556,\"#d8576b\"],[0.6666666666666666,\"#ed7953\"],[0.7777777777777778,\"#fb9f3a\"],[0.8888888888888888,\"#fdca26\"],[1.0,\"#f0f921\"]],\"type\":\"surface\"}],\"table\":[{\"cells\":{\"fill\":{\"color\":\"#EBF0F8\"},\"line\":{\"color\":\"white\"}},\"header\":{\"fill\":{\"color\":\"#C8D4E3\"},\"line\":{\"color\":\"white\"}},\"type\":\"table\"}]},\"layout\":{\"annotationdefaults\":{\"arrowcolor\":\"#2a3f5f\",\"arrowhead\":0,\"arrowwidth\":1},\"autotypenumbers\":\"strict\",\"coloraxis\":{\"colorbar\":{\"outlinewidth\":0,\"ticks\":\"\"}},\"colorscale\":{\"diverging\":[[0,\"#8e0152\"],[0.1,\"#c51b7d\"],[0.2,\"#de77ae\"],[0.3,\"#f1b6da\"],[0.4,\"#fde0ef\"],[0.5,\"#f7f7f7\"],[0.6,\"#e6f5d0\"],[0.7,\"#b8e186\"],[0.8,\"#7fbc41\"],[0.9,\"#4d9221\"],[1,\"#276419\"]],\"sequential\":[[0.0,\"#0d0887\"],[0.1111111111111111,\"#46039f\"],[0.2222222222222222,\"#7201a8\"],[0.3333333333333333,\"#9c179e\"],[0.4444444444444444,\"#bd3786\"],[0.5555555555555556,\"#d8576b\"],[0.6666666666666666,\"#ed7953\"],[0.7777777777777778,\"#fb9f3a\"],[0.8888888888888888,\"#fdca26\"],[1.0,\"#f0f921\"]],\"sequentialminus\":[[0.0,\"#0d0887\"],[0.1111111111111111,\"#46039f\"],[0.2222222222222222,\"#7201a8\"],[0.3333333333333333,\"#9c179e\"],[0.4444444444444444,\"#bd3786\"],[0.5555555555555556,\"#d8576b\"],[0.6666666666666666,\"#ed7953\"],[0.7777777777777778,\"#fb9f3a\"],[0.8888888888888888,\"#fdca26\"],[1.0,\"#f0f921\"]]},\"colorway\":[\"#636efa\",\"#EF553B\",\"#00cc96\",\"#ab63fa\",\"#FFA15A\",\"#19d3f3\",\"#FF6692\",\"#B6E880\",\"#FF97FF\",\"#FECB52\"],\"font\":{\"color\":\"#2a3f5f\"},\"geo\":{\"bgcolor\":\"white\",\"lakecolor\":\"white\",\"landcolor\":\"#E5ECF6\",\"showlakes\":true,\"showland\":true,\"subunitcolor\":\"white\"},\"hoverlabel\":{\"align\":\"left\"},\"hovermode\":\"closest\",\"mapbox\":{\"style\":\"light\"},\"paper_bgcolor\":\"white\",\"plot_bgcolor\":\"#E5ECF6\",\"polar\":{\"angularaxis\":{\"gridcolor\":\"white\",\"linecolor\":\"white\",\"ticks\":\"\"},\"bgcolor\":\"#E5ECF6\",\"radialaxis\":{\"gridcolor\":\"white\",\"linecolor\":\"white\",\"ticks\":\"\"}},\"scene\":{\"xaxis\":{\"backgroundcolor\":\"#E5ECF6\",\"gridcolor\":\"white\",\"gridwidth\":2,\"linecolor\":\"white\",\"showbackground\":true,\"ticks\":\"\",\"zerolinecolor\":\"white\"},\"yaxis\":{\"backgroundcolor\":\"#E5ECF6\",\"gridcolor\":\"white\",\"gridwidth\":2,\"linecolor\":\"white\",\"showbackground\":true,\"ticks\":\"\",\"zerolinecolor\":\"white\"},\"zaxis\":{\"backgroundcolor\":\"#E5ECF6\",\"gridcolor\":\"white\",\"gridwidth\":2,\"linecolor\":\"white\",\"showbackground\":true,\"ticks\":\"\",\"zerolinecolor\":\"white\"}},\"shapedefaults\":{\"line\":{\"color\":\"#2a3f5f\"}},\"ternary\":{\"aaxis\":{\"gridcolor\":\"white\",\"linecolor\":\"white\",\"ticks\":\"\"},\"baxis\":{\"gridcolor\":\"white\",\"linecolor\":\"white\",\"ticks\":\"\"},\"bgcolor\":\"#E5ECF6\",\"caxis\":{\"gridcolor\":\"white\",\"linecolor\":\"white\",\"ticks\":\"\"}},\"title\":{\"x\":0.05},\"xaxis\":{\"automargin\":true,\"gridcolor\":\"white\",\"linecolor\":\"white\",\"ticks\":\"\",\"title\":{\"standoff\":15},\"zerolinecolor\":\"white\",\"zerolinewidth\":2},\"yaxis\":{\"automargin\":true,\"gridcolor\":\"white\",\"linecolor\":\"white\",\"ticks\":\"\",\"title\":{\"standoff\":15},\"zerolinecolor\":\"white\",\"zerolinewidth\":2}}},\"xaxis\":{\"anchor\":\"y\",\"domain\":[0.0,1.0],\"title\":{\"text\":\"code_departement\"}},\"yaxis\":{\"anchor\":\"x\",\"domain\":[0.0,1.0],\"title\":{\"text\":\"sum of total_eleves_technique\"}},\"legend\":{\"tracegroupgap\":0,\"font\":{\"family\":\"Courier\",\"size\":10,\"color\":\"black\"},\"title\":{\"font\":{\"size\":20,\"color\":\"blue\"}}},\"title\":{\"text\":\"Total \\u00e9l\\u00e8ves - TECHNIQUE\"},\"barmode\":\"relative\",\"height\":560,\"width\":950},                        {\"responsive\": true}                    ).then(function(){\n",
       "                            \n",
       "var gd = document.getElementById('923afd79-e35b-4899-8395-0f27dbe686c6');\n",
       "var x = new MutationObserver(function (mutations, observer) {{\n",
       "        var display = window.getComputedStyle(gd).display;\n",
       "        if (!display || display === 'none') {{\n",
       "            console.log([gd, 'removed!']);\n",
       "            Plotly.purge(gd);\n",
       "            observer.disconnect();\n",
       "        }}\n",
       "}});\n",
       "\n",
       "// Listen for the removal of the full notebook cells\n",
       "var notebookContainer = gd.closest('#notebook-container');\n",
       "if (notebookContainer) {{\n",
       "    x.observe(notebookContainer, {childList: true});\n",
       "}}\n",
       "\n",
       "// Listen for the clearing of the current output cell\n",
       "var outputEl = gd.closest('.output');\n",
       "if (outputEl) {{\n",
       "    x.observe(outputEl, {childList: true});\n",
       "}}\n",
       "\n",
       "                        })                };                });            </script>        </div>"
      ]
     },
     "metadata": {},
     "output_type": "display_data"
    }
   ],
   "source": [
    "fig = px.histogram(df1_bac[df1_bac['Annee']==2018].groupby(['Annee','code_departement'])['total_eleves_technique'].sum().reset_index(), x='code_departement',y=\"total_eleves_technique\", title='Total élèves - TECHNIQUE', width=950, height=560)\n",
    "fig.update_layout(legend =dict(font = dict(family = \"Courier\", size = 10, color = \"black\")),\n",
    "                  legend_title = dict(font = dict(size = 20, color = \"blue\")))\n",
    "fig.show()"
   ]
  },
  {
   "cell_type": "code",
   "execution_count": 127,
   "id": "a50ea9b9",
   "metadata": {},
   "outputs": [
    {
     "data": {
      "application/vnd.plotly.v1+json": {
       "config": {
        "plotlyServerURL": "https://plot.ly"
       },
       "data": [
        {
         "alignmentgroup": "True",
         "bingroup": "x",
         "histfunc": "sum",
         "hovertemplate": "code_departement=%{x}<br>sum of total_eleves_general=%{y}<extra></extra>",
         "legendgroup": "",
         "marker": {
          "color": "#636efa",
          "pattern": {
           "shape": ""
          }
         },
         "name": "",
         "offsetgroup": "",
         "orientation": "v",
         "showlegend": false,
         "type": "histogram",
         "x": [
          "75",
          "92",
          "93",
          "94"
         ],
         "xaxis": "x",
         "y": [
          12690,
          10239,
          7820,
          6963
         ],
         "yaxis": "y"
        }
       ],
       "layout": {
        "barmode": "relative",
        "height": 560,
        "legend": {
         "font": {
          "color": "black",
          "family": "Courier",
          "size": 10
         },
         "title": {
          "font": {
           "color": "blue",
           "size": 20
          }
         },
         "tracegroupgap": 0
        },
        "template": {
         "data": {
          "bar": [
           {
            "error_x": {
             "color": "#2a3f5f"
            },
            "error_y": {
             "color": "#2a3f5f"
            },
            "marker": {
             "line": {
              "color": "#E5ECF6",
              "width": 0.5
             },
             "pattern": {
              "fillmode": "overlay",
              "size": 10,
              "solidity": 0.2
             }
            },
            "type": "bar"
           }
          ],
          "barpolar": [
           {
            "marker": {
             "line": {
              "color": "#E5ECF6",
              "width": 0.5
             },
             "pattern": {
              "fillmode": "overlay",
              "size": 10,
              "solidity": 0.2
             }
            },
            "type": "barpolar"
           }
          ],
          "carpet": [
           {
            "aaxis": {
             "endlinecolor": "#2a3f5f",
             "gridcolor": "white",
             "linecolor": "white",
             "minorgridcolor": "white",
             "startlinecolor": "#2a3f5f"
            },
            "baxis": {
             "endlinecolor": "#2a3f5f",
             "gridcolor": "white",
             "linecolor": "white",
             "minorgridcolor": "white",
             "startlinecolor": "#2a3f5f"
            },
            "type": "carpet"
           }
          ],
          "choropleth": [
           {
            "colorbar": {
             "outlinewidth": 0,
             "ticks": ""
            },
            "type": "choropleth"
           }
          ],
          "contour": [
           {
            "colorbar": {
             "outlinewidth": 0,
             "ticks": ""
            },
            "colorscale": [
             [
              0,
              "#0d0887"
             ],
             [
              0.1111111111111111,
              "#46039f"
             ],
             [
              0.2222222222222222,
              "#7201a8"
             ],
             [
              0.3333333333333333,
              "#9c179e"
             ],
             [
              0.4444444444444444,
              "#bd3786"
             ],
             [
              0.5555555555555556,
              "#d8576b"
             ],
             [
              0.6666666666666666,
              "#ed7953"
             ],
             [
              0.7777777777777778,
              "#fb9f3a"
             ],
             [
              0.8888888888888888,
              "#fdca26"
             ],
             [
              1,
              "#f0f921"
             ]
            ],
            "type": "contour"
           }
          ],
          "contourcarpet": [
           {
            "colorbar": {
             "outlinewidth": 0,
             "ticks": ""
            },
            "type": "contourcarpet"
           }
          ],
          "heatmap": [
           {
            "colorbar": {
             "outlinewidth": 0,
             "ticks": ""
            },
            "colorscale": [
             [
              0,
              "#0d0887"
             ],
             [
              0.1111111111111111,
              "#46039f"
             ],
             [
              0.2222222222222222,
              "#7201a8"
             ],
             [
              0.3333333333333333,
              "#9c179e"
             ],
             [
              0.4444444444444444,
              "#bd3786"
             ],
             [
              0.5555555555555556,
              "#d8576b"
             ],
             [
              0.6666666666666666,
              "#ed7953"
             ],
             [
              0.7777777777777778,
              "#fb9f3a"
             ],
             [
              0.8888888888888888,
              "#fdca26"
             ],
             [
              1,
              "#f0f921"
             ]
            ],
            "type": "heatmap"
           }
          ],
          "heatmapgl": [
           {
            "colorbar": {
             "outlinewidth": 0,
             "ticks": ""
            },
            "colorscale": [
             [
              0,
              "#0d0887"
             ],
             [
              0.1111111111111111,
              "#46039f"
             ],
             [
              0.2222222222222222,
              "#7201a8"
             ],
             [
              0.3333333333333333,
              "#9c179e"
             ],
             [
              0.4444444444444444,
              "#bd3786"
             ],
             [
              0.5555555555555556,
              "#d8576b"
             ],
             [
              0.6666666666666666,
              "#ed7953"
             ],
             [
              0.7777777777777778,
              "#fb9f3a"
             ],
             [
              0.8888888888888888,
              "#fdca26"
             ],
             [
              1,
              "#f0f921"
             ]
            ],
            "type": "heatmapgl"
           }
          ],
          "histogram": [
           {
            "marker": {
             "pattern": {
              "fillmode": "overlay",
              "size": 10,
              "solidity": 0.2
             }
            },
            "type": "histogram"
           }
          ],
          "histogram2d": [
           {
            "colorbar": {
             "outlinewidth": 0,
             "ticks": ""
            },
            "colorscale": [
             [
              0,
              "#0d0887"
             ],
             [
              0.1111111111111111,
              "#46039f"
             ],
             [
              0.2222222222222222,
              "#7201a8"
             ],
             [
              0.3333333333333333,
              "#9c179e"
             ],
             [
              0.4444444444444444,
              "#bd3786"
             ],
             [
              0.5555555555555556,
              "#d8576b"
             ],
             [
              0.6666666666666666,
              "#ed7953"
             ],
             [
              0.7777777777777778,
              "#fb9f3a"
             ],
             [
              0.8888888888888888,
              "#fdca26"
             ],
             [
              1,
              "#f0f921"
             ]
            ],
            "type": "histogram2d"
           }
          ],
          "histogram2dcontour": [
           {
            "colorbar": {
             "outlinewidth": 0,
             "ticks": ""
            },
            "colorscale": [
             [
              0,
              "#0d0887"
             ],
             [
              0.1111111111111111,
              "#46039f"
             ],
             [
              0.2222222222222222,
              "#7201a8"
             ],
             [
              0.3333333333333333,
              "#9c179e"
             ],
             [
              0.4444444444444444,
              "#bd3786"
             ],
             [
              0.5555555555555556,
              "#d8576b"
             ],
             [
              0.6666666666666666,
              "#ed7953"
             ],
             [
              0.7777777777777778,
              "#fb9f3a"
             ],
             [
              0.8888888888888888,
              "#fdca26"
             ],
             [
              1,
              "#f0f921"
             ]
            ],
            "type": "histogram2dcontour"
           }
          ],
          "mesh3d": [
           {
            "colorbar": {
             "outlinewidth": 0,
             "ticks": ""
            },
            "type": "mesh3d"
           }
          ],
          "parcoords": [
           {
            "line": {
             "colorbar": {
              "outlinewidth": 0,
              "ticks": ""
             }
            },
            "type": "parcoords"
           }
          ],
          "pie": [
           {
            "automargin": true,
            "type": "pie"
           }
          ],
          "scatter": [
           {
            "marker": {
             "colorbar": {
              "outlinewidth": 0,
              "ticks": ""
             }
            },
            "type": "scatter"
           }
          ],
          "scatter3d": [
           {
            "line": {
             "colorbar": {
              "outlinewidth": 0,
              "ticks": ""
             }
            },
            "marker": {
             "colorbar": {
              "outlinewidth": 0,
              "ticks": ""
             }
            },
            "type": "scatter3d"
           }
          ],
          "scattercarpet": [
           {
            "marker": {
             "colorbar": {
              "outlinewidth": 0,
              "ticks": ""
             }
            },
            "type": "scattercarpet"
           }
          ],
          "scattergeo": [
           {
            "marker": {
             "colorbar": {
              "outlinewidth": 0,
              "ticks": ""
             }
            },
            "type": "scattergeo"
           }
          ],
          "scattergl": [
           {
            "marker": {
             "colorbar": {
              "outlinewidth": 0,
              "ticks": ""
             }
            },
            "type": "scattergl"
           }
          ],
          "scattermapbox": [
           {
            "marker": {
             "colorbar": {
              "outlinewidth": 0,
              "ticks": ""
             }
            },
            "type": "scattermapbox"
           }
          ],
          "scatterpolar": [
           {
            "marker": {
             "colorbar": {
              "outlinewidth": 0,
              "ticks": ""
             }
            },
            "type": "scatterpolar"
           }
          ],
          "scatterpolargl": [
           {
            "marker": {
             "colorbar": {
              "outlinewidth": 0,
              "ticks": ""
             }
            },
            "type": "scatterpolargl"
           }
          ],
          "scatterternary": [
           {
            "marker": {
             "colorbar": {
              "outlinewidth": 0,
              "ticks": ""
             }
            },
            "type": "scatterternary"
           }
          ],
          "surface": [
           {
            "colorbar": {
             "outlinewidth": 0,
             "ticks": ""
            },
            "colorscale": [
             [
              0,
              "#0d0887"
             ],
             [
              0.1111111111111111,
              "#46039f"
             ],
             [
              0.2222222222222222,
              "#7201a8"
             ],
             [
              0.3333333333333333,
              "#9c179e"
             ],
             [
              0.4444444444444444,
              "#bd3786"
             ],
             [
              0.5555555555555556,
              "#d8576b"
             ],
             [
              0.6666666666666666,
              "#ed7953"
             ],
             [
              0.7777777777777778,
              "#fb9f3a"
             ],
             [
              0.8888888888888888,
              "#fdca26"
             ],
             [
              1,
              "#f0f921"
             ]
            ],
            "type": "surface"
           }
          ],
          "table": [
           {
            "cells": {
             "fill": {
              "color": "#EBF0F8"
             },
             "line": {
              "color": "white"
             }
            },
            "header": {
             "fill": {
              "color": "#C8D4E3"
             },
             "line": {
              "color": "white"
             }
            },
            "type": "table"
           }
          ]
         },
         "layout": {
          "annotationdefaults": {
           "arrowcolor": "#2a3f5f",
           "arrowhead": 0,
           "arrowwidth": 1
          },
          "autotypenumbers": "strict",
          "coloraxis": {
           "colorbar": {
            "outlinewidth": 0,
            "ticks": ""
           }
          },
          "colorscale": {
           "diverging": [
            [
             0,
             "#8e0152"
            ],
            [
             0.1,
             "#c51b7d"
            ],
            [
             0.2,
             "#de77ae"
            ],
            [
             0.3,
             "#f1b6da"
            ],
            [
             0.4,
             "#fde0ef"
            ],
            [
             0.5,
             "#f7f7f7"
            ],
            [
             0.6,
             "#e6f5d0"
            ],
            [
             0.7,
             "#b8e186"
            ],
            [
             0.8,
             "#7fbc41"
            ],
            [
             0.9,
             "#4d9221"
            ],
            [
             1,
             "#276419"
            ]
           ],
           "sequential": [
            [
             0,
             "#0d0887"
            ],
            [
             0.1111111111111111,
             "#46039f"
            ],
            [
             0.2222222222222222,
             "#7201a8"
            ],
            [
             0.3333333333333333,
             "#9c179e"
            ],
            [
             0.4444444444444444,
             "#bd3786"
            ],
            [
             0.5555555555555556,
             "#d8576b"
            ],
            [
             0.6666666666666666,
             "#ed7953"
            ],
            [
             0.7777777777777778,
             "#fb9f3a"
            ],
            [
             0.8888888888888888,
             "#fdca26"
            ],
            [
             1,
             "#f0f921"
            ]
           ],
           "sequentialminus": [
            [
             0,
             "#0d0887"
            ],
            [
             0.1111111111111111,
             "#46039f"
            ],
            [
             0.2222222222222222,
             "#7201a8"
            ],
            [
             0.3333333333333333,
             "#9c179e"
            ],
            [
             0.4444444444444444,
             "#bd3786"
            ],
            [
             0.5555555555555556,
             "#d8576b"
            ],
            [
             0.6666666666666666,
             "#ed7953"
            ],
            [
             0.7777777777777778,
             "#fb9f3a"
            ],
            [
             0.8888888888888888,
             "#fdca26"
            ],
            [
             1,
             "#f0f921"
            ]
           ]
          },
          "colorway": [
           "#636efa",
           "#EF553B",
           "#00cc96",
           "#ab63fa",
           "#FFA15A",
           "#19d3f3",
           "#FF6692",
           "#B6E880",
           "#FF97FF",
           "#FECB52"
          ],
          "font": {
           "color": "#2a3f5f"
          },
          "geo": {
           "bgcolor": "white",
           "lakecolor": "white",
           "landcolor": "#E5ECF6",
           "showlakes": true,
           "showland": true,
           "subunitcolor": "white"
          },
          "hoverlabel": {
           "align": "left"
          },
          "hovermode": "closest",
          "mapbox": {
           "style": "light"
          },
          "paper_bgcolor": "white",
          "plot_bgcolor": "#E5ECF6",
          "polar": {
           "angularaxis": {
            "gridcolor": "white",
            "linecolor": "white",
            "ticks": ""
           },
           "bgcolor": "#E5ECF6",
           "radialaxis": {
            "gridcolor": "white",
            "linecolor": "white",
            "ticks": ""
           }
          },
          "scene": {
           "xaxis": {
            "backgroundcolor": "#E5ECF6",
            "gridcolor": "white",
            "gridwidth": 2,
            "linecolor": "white",
            "showbackground": true,
            "ticks": "",
            "zerolinecolor": "white"
           },
           "yaxis": {
            "backgroundcolor": "#E5ECF6",
            "gridcolor": "white",
            "gridwidth": 2,
            "linecolor": "white",
            "showbackground": true,
            "ticks": "",
            "zerolinecolor": "white"
           },
           "zaxis": {
            "backgroundcolor": "#E5ECF6",
            "gridcolor": "white",
            "gridwidth": 2,
            "linecolor": "white",
            "showbackground": true,
            "ticks": "",
            "zerolinecolor": "white"
           }
          },
          "shapedefaults": {
           "line": {
            "color": "#2a3f5f"
           }
          },
          "ternary": {
           "aaxis": {
            "gridcolor": "white",
            "linecolor": "white",
            "ticks": ""
           },
           "baxis": {
            "gridcolor": "white",
            "linecolor": "white",
            "ticks": ""
           },
           "bgcolor": "#E5ECF6",
           "caxis": {
            "gridcolor": "white",
            "linecolor": "white",
            "ticks": ""
           }
          },
          "title": {
           "x": 0.05
          },
          "xaxis": {
           "automargin": true,
           "gridcolor": "white",
           "linecolor": "white",
           "ticks": "",
           "title": {
            "standoff": 15
           },
           "zerolinecolor": "white",
           "zerolinewidth": 2
          },
          "yaxis": {
           "automargin": true,
           "gridcolor": "white",
           "linecolor": "white",
           "ticks": "",
           "title": {
            "standoff": 15
           },
           "zerolinecolor": "white",
           "zerolinewidth": 2
          }
         }
        },
        "title": {
         "text": "T - GENERAL"
        },
        "width": 950,
        "xaxis": {
         "anchor": "y",
         "domain": [
          0,
          1
         ],
         "title": {
          "text": "code_departement"
         }
        },
        "yaxis": {
         "anchor": "x",
         "domain": [
          0,
          1
         ],
         "title": {
          "text": "sum of total_eleves_general"
         }
        }
       }
      },
      "text/html": [
       "<div>                            <div id=\"540376fd-64f2-49c1-b1ee-f0163b364dc2\" class=\"plotly-graph-div\" style=\"height:560px; width:950px;\"></div>            <script type=\"text/javascript\">                require([\"plotly\"], function(Plotly) {                    window.PLOTLYENV=window.PLOTLYENV || {};                                    if (document.getElementById(\"540376fd-64f2-49c1-b1ee-f0163b364dc2\")) {                    Plotly.newPlot(                        \"540376fd-64f2-49c1-b1ee-f0163b364dc2\",                        [{\"alignmentgroup\":\"True\",\"bingroup\":\"x\",\"histfunc\":\"sum\",\"hovertemplate\":\"code_departement=%{x}<br>sum of total_eleves_general=%{y}<extra></extra>\",\"legendgroup\":\"\",\"marker\":{\"color\":\"#636efa\",\"pattern\":{\"shape\":\"\"}},\"name\":\"\",\"offsetgroup\":\"\",\"orientation\":\"v\",\"showlegend\":false,\"x\":[\"75\",\"92\",\"93\",\"94\"],\"xaxis\":\"x\",\"y\":[12690.0,10239.0,7820.0,6963.0],\"yaxis\":\"y\",\"type\":\"histogram\"}],                        {\"template\":{\"data\":{\"bar\":[{\"error_x\":{\"color\":\"#2a3f5f\"},\"error_y\":{\"color\":\"#2a3f5f\"},\"marker\":{\"line\":{\"color\":\"#E5ECF6\",\"width\":0.5},\"pattern\":{\"fillmode\":\"overlay\",\"size\":10,\"solidity\":0.2}},\"type\":\"bar\"}],\"barpolar\":[{\"marker\":{\"line\":{\"color\":\"#E5ECF6\",\"width\":0.5},\"pattern\":{\"fillmode\":\"overlay\",\"size\":10,\"solidity\":0.2}},\"type\":\"barpolar\"}],\"carpet\":[{\"aaxis\":{\"endlinecolor\":\"#2a3f5f\",\"gridcolor\":\"white\",\"linecolor\":\"white\",\"minorgridcolor\":\"white\",\"startlinecolor\":\"#2a3f5f\"},\"baxis\":{\"endlinecolor\":\"#2a3f5f\",\"gridcolor\":\"white\",\"linecolor\":\"white\",\"minorgridcolor\":\"white\",\"startlinecolor\":\"#2a3f5f\"},\"type\":\"carpet\"}],\"choropleth\":[{\"colorbar\":{\"outlinewidth\":0,\"ticks\":\"\"},\"type\":\"choropleth\"}],\"contour\":[{\"colorbar\":{\"outlinewidth\":0,\"ticks\":\"\"},\"colorscale\":[[0.0,\"#0d0887\"],[0.1111111111111111,\"#46039f\"],[0.2222222222222222,\"#7201a8\"],[0.3333333333333333,\"#9c179e\"],[0.4444444444444444,\"#bd3786\"],[0.5555555555555556,\"#d8576b\"],[0.6666666666666666,\"#ed7953\"],[0.7777777777777778,\"#fb9f3a\"],[0.8888888888888888,\"#fdca26\"],[1.0,\"#f0f921\"]],\"type\":\"contour\"}],\"contourcarpet\":[{\"colorbar\":{\"outlinewidth\":0,\"ticks\":\"\"},\"type\":\"contourcarpet\"}],\"heatmap\":[{\"colorbar\":{\"outlinewidth\":0,\"ticks\":\"\"},\"colorscale\":[[0.0,\"#0d0887\"],[0.1111111111111111,\"#46039f\"],[0.2222222222222222,\"#7201a8\"],[0.3333333333333333,\"#9c179e\"],[0.4444444444444444,\"#bd3786\"],[0.5555555555555556,\"#d8576b\"],[0.6666666666666666,\"#ed7953\"],[0.7777777777777778,\"#fb9f3a\"],[0.8888888888888888,\"#fdca26\"],[1.0,\"#f0f921\"]],\"type\":\"heatmap\"}],\"heatmapgl\":[{\"colorbar\":{\"outlinewidth\":0,\"ticks\":\"\"},\"colorscale\":[[0.0,\"#0d0887\"],[0.1111111111111111,\"#46039f\"],[0.2222222222222222,\"#7201a8\"],[0.3333333333333333,\"#9c179e\"],[0.4444444444444444,\"#bd3786\"],[0.5555555555555556,\"#d8576b\"],[0.6666666666666666,\"#ed7953\"],[0.7777777777777778,\"#fb9f3a\"],[0.8888888888888888,\"#fdca26\"],[1.0,\"#f0f921\"]],\"type\":\"heatmapgl\"}],\"histogram\":[{\"marker\":{\"pattern\":{\"fillmode\":\"overlay\",\"size\":10,\"solidity\":0.2}},\"type\":\"histogram\"}],\"histogram2d\":[{\"colorbar\":{\"outlinewidth\":0,\"ticks\":\"\"},\"colorscale\":[[0.0,\"#0d0887\"],[0.1111111111111111,\"#46039f\"],[0.2222222222222222,\"#7201a8\"],[0.3333333333333333,\"#9c179e\"],[0.4444444444444444,\"#bd3786\"],[0.5555555555555556,\"#d8576b\"],[0.6666666666666666,\"#ed7953\"],[0.7777777777777778,\"#fb9f3a\"],[0.8888888888888888,\"#fdca26\"],[1.0,\"#f0f921\"]],\"type\":\"histogram2d\"}],\"histogram2dcontour\":[{\"colorbar\":{\"outlinewidth\":0,\"ticks\":\"\"},\"colorscale\":[[0.0,\"#0d0887\"],[0.1111111111111111,\"#46039f\"],[0.2222222222222222,\"#7201a8\"],[0.3333333333333333,\"#9c179e\"],[0.4444444444444444,\"#bd3786\"],[0.5555555555555556,\"#d8576b\"],[0.6666666666666666,\"#ed7953\"],[0.7777777777777778,\"#fb9f3a\"],[0.8888888888888888,\"#fdca26\"],[1.0,\"#f0f921\"]],\"type\":\"histogram2dcontour\"}],\"mesh3d\":[{\"colorbar\":{\"outlinewidth\":0,\"ticks\":\"\"},\"type\":\"mesh3d\"}],\"parcoords\":[{\"line\":{\"colorbar\":{\"outlinewidth\":0,\"ticks\":\"\"}},\"type\":\"parcoords\"}],\"pie\":[{\"automargin\":true,\"type\":\"pie\"}],\"scatter\":[{\"marker\":{\"colorbar\":{\"outlinewidth\":0,\"ticks\":\"\"}},\"type\":\"scatter\"}],\"scatter3d\":[{\"line\":{\"colorbar\":{\"outlinewidth\":0,\"ticks\":\"\"}},\"marker\":{\"colorbar\":{\"outlinewidth\":0,\"ticks\":\"\"}},\"type\":\"scatter3d\"}],\"scattercarpet\":[{\"marker\":{\"colorbar\":{\"outlinewidth\":0,\"ticks\":\"\"}},\"type\":\"scattercarpet\"}],\"scattergeo\":[{\"marker\":{\"colorbar\":{\"outlinewidth\":0,\"ticks\":\"\"}},\"type\":\"scattergeo\"}],\"scattergl\":[{\"marker\":{\"colorbar\":{\"outlinewidth\":0,\"ticks\":\"\"}},\"type\":\"scattergl\"}],\"scattermapbox\":[{\"marker\":{\"colorbar\":{\"outlinewidth\":0,\"ticks\":\"\"}},\"type\":\"scattermapbox\"}],\"scatterpolar\":[{\"marker\":{\"colorbar\":{\"outlinewidth\":0,\"ticks\":\"\"}},\"type\":\"scatterpolar\"}],\"scatterpolargl\":[{\"marker\":{\"colorbar\":{\"outlinewidth\":0,\"ticks\":\"\"}},\"type\":\"scatterpolargl\"}],\"scatterternary\":[{\"marker\":{\"colorbar\":{\"outlinewidth\":0,\"ticks\":\"\"}},\"type\":\"scatterternary\"}],\"surface\":[{\"colorbar\":{\"outlinewidth\":0,\"ticks\":\"\"},\"colorscale\":[[0.0,\"#0d0887\"],[0.1111111111111111,\"#46039f\"],[0.2222222222222222,\"#7201a8\"],[0.3333333333333333,\"#9c179e\"],[0.4444444444444444,\"#bd3786\"],[0.5555555555555556,\"#d8576b\"],[0.6666666666666666,\"#ed7953\"],[0.7777777777777778,\"#fb9f3a\"],[0.8888888888888888,\"#fdca26\"],[1.0,\"#f0f921\"]],\"type\":\"surface\"}],\"table\":[{\"cells\":{\"fill\":{\"color\":\"#EBF0F8\"},\"line\":{\"color\":\"white\"}},\"header\":{\"fill\":{\"color\":\"#C8D4E3\"},\"line\":{\"color\":\"white\"}},\"type\":\"table\"}]},\"layout\":{\"annotationdefaults\":{\"arrowcolor\":\"#2a3f5f\",\"arrowhead\":0,\"arrowwidth\":1},\"autotypenumbers\":\"strict\",\"coloraxis\":{\"colorbar\":{\"outlinewidth\":0,\"ticks\":\"\"}},\"colorscale\":{\"diverging\":[[0,\"#8e0152\"],[0.1,\"#c51b7d\"],[0.2,\"#de77ae\"],[0.3,\"#f1b6da\"],[0.4,\"#fde0ef\"],[0.5,\"#f7f7f7\"],[0.6,\"#e6f5d0\"],[0.7,\"#b8e186\"],[0.8,\"#7fbc41\"],[0.9,\"#4d9221\"],[1,\"#276419\"]],\"sequential\":[[0.0,\"#0d0887\"],[0.1111111111111111,\"#46039f\"],[0.2222222222222222,\"#7201a8\"],[0.3333333333333333,\"#9c179e\"],[0.4444444444444444,\"#bd3786\"],[0.5555555555555556,\"#d8576b\"],[0.6666666666666666,\"#ed7953\"],[0.7777777777777778,\"#fb9f3a\"],[0.8888888888888888,\"#fdca26\"],[1.0,\"#f0f921\"]],\"sequentialminus\":[[0.0,\"#0d0887\"],[0.1111111111111111,\"#46039f\"],[0.2222222222222222,\"#7201a8\"],[0.3333333333333333,\"#9c179e\"],[0.4444444444444444,\"#bd3786\"],[0.5555555555555556,\"#d8576b\"],[0.6666666666666666,\"#ed7953\"],[0.7777777777777778,\"#fb9f3a\"],[0.8888888888888888,\"#fdca26\"],[1.0,\"#f0f921\"]]},\"colorway\":[\"#636efa\",\"#EF553B\",\"#00cc96\",\"#ab63fa\",\"#FFA15A\",\"#19d3f3\",\"#FF6692\",\"#B6E880\",\"#FF97FF\",\"#FECB52\"],\"font\":{\"color\":\"#2a3f5f\"},\"geo\":{\"bgcolor\":\"white\",\"lakecolor\":\"white\",\"landcolor\":\"#E5ECF6\",\"showlakes\":true,\"showland\":true,\"subunitcolor\":\"white\"},\"hoverlabel\":{\"align\":\"left\"},\"hovermode\":\"closest\",\"mapbox\":{\"style\":\"light\"},\"paper_bgcolor\":\"white\",\"plot_bgcolor\":\"#E5ECF6\",\"polar\":{\"angularaxis\":{\"gridcolor\":\"white\",\"linecolor\":\"white\",\"ticks\":\"\"},\"bgcolor\":\"#E5ECF6\",\"radialaxis\":{\"gridcolor\":\"white\",\"linecolor\":\"white\",\"ticks\":\"\"}},\"scene\":{\"xaxis\":{\"backgroundcolor\":\"#E5ECF6\",\"gridcolor\":\"white\",\"gridwidth\":2,\"linecolor\":\"white\",\"showbackground\":true,\"ticks\":\"\",\"zerolinecolor\":\"white\"},\"yaxis\":{\"backgroundcolor\":\"#E5ECF6\",\"gridcolor\":\"white\",\"gridwidth\":2,\"linecolor\":\"white\",\"showbackground\":true,\"ticks\":\"\",\"zerolinecolor\":\"white\"},\"zaxis\":{\"backgroundcolor\":\"#E5ECF6\",\"gridcolor\":\"white\",\"gridwidth\":2,\"linecolor\":\"white\",\"showbackground\":true,\"ticks\":\"\",\"zerolinecolor\":\"white\"}},\"shapedefaults\":{\"line\":{\"color\":\"#2a3f5f\"}},\"ternary\":{\"aaxis\":{\"gridcolor\":\"white\",\"linecolor\":\"white\",\"ticks\":\"\"},\"baxis\":{\"gridcolor\":\"white\",\"linecolor\":\"white\",\"ticks\":\"\"},\"bgcolor\":\"#E5ECF6\",\"caxis\":{\"gridcolor\":\"white\",\"linecolor\":\"white\",\"ticks\":\"\"}},\"title\":{\"x\":0.05},\"xaxis\":{\"automargin\":true,\"gridcolor\":\"white\",\"linecolor\":\"white\",\"ticks\":\"\",\"title\":{\"standoff\":15},\"zerolinecolor\":\"white\",\"zerolinewidth\":2},\"yaxis\":{\"automargin\":true,\"gridcolor\":\"white\",\"linecolor\":\"white\",\"ticks\":\"\",\"title\":{\"standoff\":15},\"zerolinecolor\":\"white\",\"zerolinewidth\":2}}},\"xaxis\":{\"anchor\":\"y\",\"domain\":[0.0,1.0],\"title\":{\"text\":\"code_departement\"}},\"yaxis\":{\"anchor\":\"x\",\"domain\":[0.0,1.0],\"title\":{\"text\":\"sum of total_eleves_general\"}},\"legend\":{\"tracegroupgap\":0,\"font\":{\"family\":\"Courier\",\"size\":10,\"color\":\"black\"},\"title\":{\"font\":{\"size\":20,\"color\":\"blue\"}}},\"title\":{\"text\":\"T - GENERAL\"},\"barmode\":\"relative\",\"height\":560,\"width\":950},                        {\"responsive\": true}                    ).then(function(){\n",
       "                            \n",
       "var gd = document.getElementById('540376fd-64f2-49c1-b1ee-f0163b364dc2');\n",
       "var x = new MutationObserver(function (mutations, observer) {{\n",
       "        var display = window.getComputedStyle(gd).display;\n",
       "        if (!display || display === 'none') {{\n",
       "            console.log([gd, 'removed!']);\n",
       "            Plotly.purge(gd);\n",
       "            observer.disconnect();\n",
       "        }}\n",
       "}});\n",
       "\n",
       "// Listen for the removal of the full notebook cells\n",
       "var notebookContainer = gd.closest('#notebook-container');\n",
       "if (notebookContainer) {{\n",
       "    x.observe(notebookContainer, {childList: true});\n",
       "}}\n",
       "\n",
       "// Listen for the clearing of the current output cell\n",
       "var outputEl = gd.closest('.output');\n",
       "if (outputEl) {{\n",
       "    x.observe(outputEl, {childList: true});\n",
       "}}\n",
       "\n",
       "                        })                };                });            </script>        </div>"
      ]
     },
     "metadata": {},
     "output_type": "display_data"
    }
   ],
   "source": [
    "fig = px.histogram(df1_bac[df1_bac['Annee']==2018].groupby(['Annee','code_departement'])['total_eleves_general'].sum().reset_index(), x='code_departement',y=\"total_eleves_general\", title='T - GENERAL', width=950, height=560)\n",
    "fig.update_layout(legend =dict(font = dict(family = \"Courier\", size = 10, color = \"black\")),\n",
    "                  legend_title = dict(font = dict(size = 20, color = \"blue\")))\n",
    "fig.show()"
   ]
  },
  {
   "cell_type": "markdown",
   "id": "43e5fee3",
   "metadata": {},
   "source": [
    "***On constate qu'il existe une différence dans la proportion du nombre d'étudiants en section générale et technique entre les départements. Nous avons plus d'étudiants en section générale en 75 et plus d'étudiants en section technique en 93.***"
   ]
  },
  {
   "cell_type": "code",
   "execution_count": 97,
   "id": "05a06403",
   "metadata": {},
   "outputs": [
    {
     "data": {
      "application/vnd.plotly.v1+json": {
       "config": {
        "plotlyServerURL": "https://plot.ly"
       },
       "data": [
        {
         "alignmentgroup": "True",
         "bingroup": "x",
         "histfunc": "sum",
         "hovertemplate": "Ville=%{x}<br>sum of total_eleves_technique=%{y}<extra></extra>",
         "legendgroup": "",
         "marker": {
          "color": "#636efa",
          "pattern": {
           "shape": ""
          }
         },
         "name": "",
         "offsetgroup": "",
         "orientation": "v",
         "showlegend": false,
         "type": "histogram",
         "x": [
          "PARIS 03",
          "PARIS 04",
          "PARIS 05",
          "PARIS 06",
          "PARIS 07",
          "PARIS 08",
          "PARIS 09",
          "PARIS 10",
          "PARIS 11",
          "PARIS 12",
          "PARIS 13",
          "PARIS 14",
          "PARIS 15",
          "PARIS 16",
          "PARIS 17",
          "PARIS 18",
          "PARIS 19",
          "PARIS 20"
         ],
         "xaxis": "x",
         "y": [
          119,
          47,
          27,
          401,
          178,
          67,
          103,
          0,
          99,
          207,
          350,
          375,
          101,
          262,
          111,
          215,
          339,
          71
         ],
         "yaxis": "y"
        }
       ],
       "layout": {
        "barmode": "relative",
        "height": 560,
        "legend": {
         "font": {
          "color": "black",
          "family": "Courier",
          "size": 10
         },
         "title": {
          "font": {
           "color": "blue",
           "size": 20
          }
         },
         "tracegroupgap": 0
        },
        "template": {
         "data": {
          "bar": [
           {
            "error_x": {
             "color": "#2a3f5f"
            },
            "error_y": {
             "color": "#2a3f5f"
            },
            "marker": {
             "line": {
              "color": "#E5ECF6",
              "width": 0.5
             },
             "pattern": {
              "fillmode": "overlay",
              "size": 10,
              "solidity": 0.2
             }
            },
            "type": "bar"
           }
          ],
          "barpolar": [
           {
            "marker": {
             "line": {
              "color": "#E5ECF6",
              "width": 0.5
             },
             "pattern": {
              "fillmode": "overlay",
              "size": 10,
              "solidity": 0.2
             }
            },
            "type": "barpolar"
           }
          ],
          "carpet": [
           {
            "aaxis": {
             "endlinecolor": "#2a3f5f",
             "gridcolor": "white",
             "linecolor": "white",
             "minorgridcolor": "white",
             "startlinecolor": "#2a3f5f"
            },
            "baxis": {
             "endlinecolor": "#2a3f5f",
             "gridcolor": "white",
             "linecolor": "white",
             "minorgridcolor": "white",
             "startlinecolor": "#2a3f5f"
            },
            "type": "carpet"
           }
          ],
          "choropleth": [
           {
            "colorbar": {
             "outlinewidth": 0,
             "ticks": ""
            },
            "type": "choropleth"
           }
          ],
          "contour": [
           {
            "colorbar": {
             "outlinewidth": 0,
             "ticks": ""
            },
            "colorscale": [
             [
              0,
              "#0d0887"
             ],
             [
              0.1111111111111111,
              "#46039f"
             ],
             [
              0.2222222222222222,
              "#7201a8"
             ],
             [
              0.3333333333333333,
              "#9c179e"
             ],
             [
              0.4444444444444444,
              "#bd3786"
             ],
             [
              0.5555555555555556,
              "#d8576b"
             ],
             [
              0.6666666666666666,
              "#ed7953"
             ],
             [
              0.7777777777777778,
              "#fb9f3a"
             ],
             [
              0.8888888888888888,
              "#fdca26"
             ],
             [
              1,
              "#f0f921"
             ]
            ],
            "type": "contour"
           }
          ],
          "contourcarpet": [
           {
            "colorbar": {
             "outlinewidth": 0,
             "ticks": ""
            },
            "type": "contourcarpet"
           }
          ],
          "heatmap": [
           {
            "colorbar": {
             "outlinewidth": 0,
             "ticks": ""
            },
            "colorscale": [
             [
              0,
              "#0d0887"
             ],
             [
              0.1111111111111111,
              "#46039f"
             ],
             [
              0.2222222222222222,
              "#7201a8"
             ],
             [
              0.3333333333333333,
              "#9c179e"
             ],
             [
              0.4444444444444444,
              "#bd3786"
             ],
             [
              0.5555555555555556,
              "#d8576b"
             ],
             [
              0.6666666666666666,
              "#ed7953"
             ],
             [
              0.7777777777777778,
              "#fb9f3a"
             ],
             [
              0.8888888888888888,
              "#fdca26"
             ],
             [
              1,
              "#f0f921"
             ]
            ],
            "type": "heatmap"
           }
          ],
          "heatmapgl": [
           {
            "colorbar": {
             "outlinewidth": 0,
             "ticks": ""
            },
            "colorscale": [
             [
              0,
              "#0d0887"
             ],
             [
              0.1111111111111111,
              "#46039f"
             ],
             [
              0.2222222222222222,
              "#7201a8"
             ],
             [
              0.3333333333333333,
              "#9c179e"
             ],
             [
              0.4444444444444444,
              "#bd3786"
             ],
             [
              0.5555555555555556,
              "#d8576b"
             ],
             [
              0.6666666666666666,
              "#ed7953"
             ],
             [
              0.7777777777777778,
              "#fb9f3a"
             ],
             [
              0.8888888888888888,
              "#fdca26"
             ],
             [
              1,
              "#f0f921"
             ]
            ],
            "type": "heatmapgl"
           }
          ],
          "histogram": [
           {
            "marker": {
             "pattern": {
              "fillmode": "overlay",
              "size": 10,
              "solidity": 0.2
             }
            },
            "type": "histogram"
           }
          ],
          "histogram2d": [
           {
            "colorbar": {
             "outlinewidth": 0,
             "ticks": ""
            },
            "colorscale": [
             [
              0,
              "#0d0887"
             ],
             [
              0.1111111111111111,
              "#46039f"
             ],
             [
              0.2222222222222222,
              "#7201a8"
             ],
             [
              0.3333333333333333,
              "#9c179e"
             ],
             [
              0.4444444444444444,
              "#bd3786"
             ],
             [
              0.5555555555555556,
              "#d8576b"
             ],
             [
              0.6666666666666666,
              "#ed7953"
             ],
             [
              0.7777777777777778,
              "#fb9f3a"
             ],
             [
              0.8888888888888888,
              "#fdca26"
             ],
             [
              1,
              "#f0f921"
             ]
            ],
            "type": "histogram2d"
           }
          ],
          "histogram2dcontour": [
           {
            "colorbar": {
             "outlinewidth": 0,
             "ticks": ""
            },
            "colorscale": [
             [
              0,
              "#0d0887"
             ],
             [
              0.1111111111111111,
              "#46039f"
             ],
             [
              0.2222222222222222,
              "#7201a8"
             ],
             [
              0.3333333333333333,
              "#9c179e"
             ],
             [
              0.4444444444444444,
              "#bd3786"
             ],
             [
              0.5555555555555556,
              "#d8576b"
             ],
             [
              0.6666666666666666,
              "#ed7953"
             ],
             [
              0.7777777777777778,
              "#fb9f3a"
             ],
             [
              0.8888888888888888,
              "#fdca26"
             ],
             [
              1,
              "#f0f921"
             ]
            ],
            "type": "histogram2dcontour"
           }
          ],
          "mesh3d": [
           {
            "colorbar": {
             "outlinewidth": 0,
             "ticks": ""
            },
            "type": "mesh3d"
           }
          ],
          "parcoords": [
           {
            "line": {
             "colorbar": {
              "outlinewidth": 0,
              "ticks": ""
             }
            },
            "type": "parcoords"
           }
          ],
          "pie": [
           {
            "automargin": true,
            "type": "pie"
           }
          ],
          "scatter": [
           {
            "marker": {
             "colorbar": {
              "outlinewidth": 0,
              "ticks": ""
             }
            },
            "type": "scatter"
           }
          ],
          "scatter3d": [
           {
            "line": {
             "colorbar": {
              "outlinewidth": 0,
              "ticks": ""
             }
            },
            "marker": {
             "colorbar": {
              "outlinewidth": 0,
              "ticks": ""
             }
            },
            "type": "scatter3d"
           }
          ],
          "scattercarpet": [
           {
            "marker": {
             "colorbar": {
              "outlinewidth": 0,
              "ticks": ""
             }
            },
            "type": "scattercarpet"
           }
          ],
          "scattergeo": [
           {
            "marker": {
             "colorbar": {
              "outlinewidth": 0,
              "ticks": ""
             }
            },
            "type": "scattergeo"
           }
          ],
          "scattergl": [
           {
            "marker": {
             "colorbar": {
              "outlinewidth": 0,
              "ticks": ""
             }
            },
            "type": "scattergl"
           }
          ],
          "scattermapbox": [
           {
            "marker": {
             "colorbar": {
              "outlinewidth": 0,
              "ticks": ""
             }
            },
            "type": "scattermapbox"
           }
          ],
          "scatterpolar": [
           {
            "marker": {
             "colorbar": {
              "outlinewidth": 0,
              "ticks": ""
             }
            },
            "type": "scatterpolar"
           }
          ],
          "scatterpolargl": [
           {
            "marker": {
             "colorbar": {
              "outlinewidth": 0,
              "ticks": ""
             }
            },
            "type": "scatterpolargl"
           }
          ],
          "scatterternary": [
           {
            "marker": {
             "colorbar": {
              "outlinewidth": 0,
              "ticks": ""
             }
            },
            "type": "scatterternary"
           }
          ],
          "surface": [
           {
            "colorbar": {
             "outlinewidth": 0,
             "ticks": ""
            },
            "colorscale": [
             [
              0,
              "#0d0887"
             ],
             [
              0.1111111111111111,
              "#46039f"
             ],
             [
              0.2222222222222222,
              "#7201a8"
             ],
             [
              0.3333333333333333,
              "#9c179e"
             ],
             [
              0.4444444444444444,
              "#bd3786"
             ],
             [
              0.5555555555555556,
              "#d8576b"
             ],
             [
              0.6666666666666666,
              "#ed7953"
             ],
             [
              0.7777777777777778,
              "#fb9f3a"
             ],
             [
              0.8888888888888888,
              "#fdca26"
             ],
             [
              1,
              "#f0f921"
             ]
            ],
            "type": "surface"
           }
          ],
          "table": [
           {
            "cells": {
             "fill": {
              "color": "#EBF0F8"
             },
             "line": {
              "color": "white"
             }
            },
            "header": {
             "fill": {
              "color": "#C8D4E3"
             },
             "line": {
              "color": "white"
             }
            },
            "type": "table"
           }
          ]
         },
         "layout": {
          "annotationdefaults": {
           "arrowcolor": "#2a3f5f",
           "arrowhead": 0,
           "arrowwidth": 1
          },
          "autotypenumbers": "strict",
          "coloraxis": {
           "colorbar": {
            "outlinewidth": 0,
            "ticks": ""
           }
          },
          "colorscale": {
           "diverging": [
            [
             0,
             "#8e0152"
            ],
            [
             0.1,
             "#c51b7d"
            ],
            [
             0.2,
             "#de77ae"
            ],
            [
             0.3,
             "#f1b6da"
            ],
            [
             0.4,
             "#fde0ef"
            ],
            [
             0.5,
             "#f7f7f7"
            ],
            [
             0.6,
             "#e6f5d0"
            ],
            [
             0.7,
             "#b8e186"
            ],
            [
             0.8,
             "#7fbc41"
            ],
            [
             0.9,
             "#4d9221"
            ],
            [
             1,
             "#276419"
            ]
           ],
           "sequential": [
            [
             0,
             "#0d0887"
            ],
            [
             0.1111111111111111,
             "#46039f"
            ],
            [
             0.2222222222222222,
             "#7201a8"
            ],
            [
             0.3333333333333333,
             "#9c179e"
            ],
            [
             0.4444444444444444,
             "#bd3786"
            ],
            [
             0.5555555555555556,
             "#d8576b"
            ],
            [
             0.6666666666666666,
             "#ed7953"
            ],
            [
             0.7777777777777778,
             "#fb9f3a"
            ],
            [
             0.8888888888888888,
             "#fdca26"
            ],
            [
             1,
             "#f0f921"
            ]
           ],
           "sequentialminus": [
            [
             0,
             "#0d0887"
            ],
            [
             0.1111111111111111,
             "#46039f"
            ],
            [
             0.2222222222222222,
             "#7201a8"
            ],
            [
             0.3333333333333333,
             "#9c179e"
            ],
            [
             0.4444444444444444,
             "#bd3786"
            ],
            [
             0.5555555555555556,
             "#d8576b"
            ],
            [
             0.6666666666666666,
             "#ed7953"
            ],
            [
             0.7777777777777778,
             "#fb9f3a"
            ],
            [
             0.8888888888888888,
             "#fdca26"
            ],
            [
             1,
             "#f0f921"
            ]
           ]
          },
          "colorway": [
           "#636efa",
           "#EF553B",
           "#00cc96",
           "#ab63fa",
           "#FFA15A",
           "#19d3f3",
           "#FF6692",
           "#B6E880",
           "#FF97FF",
           "#FECB52"
          ],
          "font": {
           "color": "#2a3f5f"
          },
          "geo": {
           "bgcolor": "white",
           "lakecolor": "white",
           "landcolor": "#E5ECF6",
           "showlakes": true,
           "showland": true,
           "subunitcolor": "white"
          },
          "hoverlabel": {
           "align": "left"
          },
          "hovermode": "closest",
          "mapbox": {
           "style": "light"
          },
          "paper_bgcolor": "white",
          "plot_bgcolor": "#E5ECF6",
          "polar": {
           "angularaxis": {
            "gridcolor": "white",
            "linecolor": "white",
            "ticks": ""
           },
           "bgcolor": "#E5ECF6",
           "radialaxis": {
            "gridcolor": "white",
            "linecolor": "white",
            "ticks": ""
           }
          },
          "scene": {
           "xaxis": {
            "backgroundcolor": "#E5ECF6",
            "gridcolor": "white",
            "gridwidth": 2,
            "linecolor": "white",
            "showbackground": true,
            "ticks": "",
            "zerolinecolor": "white"
           },
           "yaxis": {
            "backgroundcolor": "#E5ECF6",
            "gridcolor": "white",
            "gridwidth": 2,
            "linecolor": "white",
            "showbackground": true,
            "ticks": "",
            "zerolinecolor": "white"
           },
           "zaxis": {
            "backgroundcolor": "#E5ECF6",
            "gridcolor": "white",
            "gridwidth": 2,
            "linecolor": "white",
            "showbackground": true,
            "ticks": "",
            "zerolinecolor": "white"
           }
          },
          "shapedefaults": {
           "line": {
            "color": "#2a3f5f"
           }
          },
          "ternary": {
           "aaxis": {
            "gridcolor": "white",
            "linecolor": "white",
            "ticks": ""
           },
           "baxis": {
            "gridcolor": "white",
            "linecolor": "white",
            "ticks": ""
           },
           "bgcolor": "#E5ECF6",
           "caxis": {
            "gridcolor": "white",
            "linecolor": "white",
            "ticks": ""
           }
          },
          "title": {
           "x": 0.05
          },
          "xaxis": {
           "automargin": true,
           "gridcolor": "white",
           "linecolor": "white",
           "ticks": "",
           "title": {
            "standoff": 15
           },
           "zerolinecolor": "white",
           "zerolinewidth": 2
          },
          "yaxis": {
           "automargin": true,
           "gridcolor": "white",
           "linecolor": "white",
           "ticks": "",
           "title": {
            "standoff": 15
           },
           "zerolinecolor": "white",
           "zerolinewidth": 2
          }
         }
        },
        "title": {
         "text": "Total eleves - TECHNIQUE"
        },
        "width": 950,
        "xaxis": {
         "anchor": "y",
         "domain": [
          0,
          1
         ],
         "title": {
          "text": "Ville"
         }
        },
        "yaxis": {
         "anchor": "x",
         "domain": [
          0,
          1
         ],
         "title": {
          "text": "sum of total_eleves_technique"
         }
        }
       }
      },
      "text/html": [
       "<div>                            <div id=\"10f94703-4a0d-4f0d-a77f-618c8af2893c\" class=\"plotly-graph-div\" style=\"height:560px; width:950px;\"></div>            <script type=\"text/javascript\">                require([\"plotly\"], function(Plotly) {                    window.PLOTLYENV=window.PLOTLYENV || {};                                    if (document.getElementById(\"10f94703-4a0d-4f0d-a77f-618c8af2893c\")) {                    Plotly.newPlot(                        \"10f94703-4a0d-4f0d-a77f-618c8af2893c\",                        [{\"alignmentgroup\":\"True\",\"bingroup\":\"x\",\"histfunc\":\"sum\",\"hovertemplate\":\"Ville=%{x}<br>sum of total_eleves_technique=%{y}<extra></extra>\",\"legendgroup\":\"\",\"marker\":{\"color\":\"#636efa\",\"pattern\":{\"shape\":\"\"}},\"name\":\"\",\"offsetgroup\":\"\",\"orientation\":\"v\",\"showlegend\":false,\"x\":[\"PARIS 03\",\"PARIS 04\",\"PARIS 05\",\"PARIS 06\",\"PARIS 07\",\"PARIS 08\",\"PARIS 09\",\"PARIS 10\",\"PARIS 11\",\"PARIS 12\",\"PARIS 13\",\"PARIS 14\",\"PARIS 15\",\"PARIS 16\",\"PARIS 17\",\"PARIS 18\",\"PARIS 19\",\"PARIS 20\"],\"xaxis\":\"x\",\"y\":[119.0,47.0,27.0,401.0,178.0,67.0,103.0,0.0,99.0,207.0,350.0,375.0,101.0,262.0,111.0,215.0,339.0,71.0],\"yaxis\":\"y\",\"type\":\"histogram\"}],                        {\"template\":{\"data\":{\"bar\":[{\"error_x\":{\"color\":\"#2a3f5f\"},\"error_y\":{\"color\":\"#2a3f5f\"},\"marker\":{\"line\":{\"color\":\"#E5ECF6\",\"width\":0.5},\"pattern\":{\"fillmode\":\"overlay\",\"size\":10,\"solidity\":0.2}},\"type\":\"bar\"}],\"barpolar\":[{\"marker\":{\"line\":{\"color\":\"#E5ECF6\",\"width\":0.5},\"pattern\":{\"fillmode\":\"overlay\",\"size\":10,\"solidity\":0.2}},\"type\":\"barpolar\"}],\"carpet\":[{\"aaxis\":{\"endlinecolor\":\"#2a3f5f\",\"gridcolor\":\"white\",\"linecolor\":\"white\",\"minorgridcolor\":\"white\",\"startlinecolor\":\"#2a3f5f\"},\"baxis\":{\"endlinecolor\":\"#2a3f5f\",\"gridcolor\":\"white\",\"linecolor\":\"white\",\"minorgridcolor\":\"white\",\"startlinecolor\":\"#2a3f5f\"},\"type\":\"carpet\"}],\"choropleth\":[{\"colorbar\":{\"outlinewidth\":0,\"ticks\":\"\"},\"type\":\"choropleth\"}],\"contour\":[{\"colorbar\":{\"outlinewidth\":0,\"ticks\":\"\"},\"colorscale\":[[0.0,\"#0d0887\"],[0.1111111111111111,\"#46039f\"],[0.2222222222222222,\"#7201a8\"],[0.3333333333333333,\"#9c179e\"],[0.4444444444444444,\"#bd3786\"],[0.5555555555555556,\"#d8576b\"],[0.6666666666666666,\"#ed7953\"],[0.7777777777777778,\"#fb9f3a\"],[0.8888888888888888,\"#fdca26\"],[1.0,\"#f0f921\"]],\"type\":\"contour\"}],\"contourcarpet\":[{\"colorbar\":{\"outlinewidth\":0,\"ticks\":\"\"},\"type\":\"contourcarpet\"}],\"heatmap\":[{\"colorbar\":{\"outlinewidth\":0,\"ticks\":\"\"},\"colorscale\":[[0.0,\"#0d0887\"],[0.1111111111111111,\"#46039f\"],[0.2222222222222222,\"#7201a8\"],[0.3333333333333333,\"#9c179e\"],[0.4444444444444444,\"#bd3786\"],[0.5555555555555556,\"#d8576b\"],[0.6666666666666666,\"#ed7953\"],[0.7777777777777778,\"#fb9f3a\"],[0.8888888888888888,\"#fdca26\"],[1.0,\"#f0f921\"]],\"type\":\"heatmap\"}],\"heatmapgl\":[{\"colorbar\":{\"outlinewidth\":0,\"ticks\":\"\"},\"colorscale\":[[0.0,\"#0d0887\"],[0.1111111111111111,\"#46039f\"],[0.2222222222222222,\"#7201a8\"],[0.3333333333333333,\"#9c179e\"],[0.4444444444444444,\"#bd3786\"],[0.5555555555555556,\"#d8576b\"],[0.6666666666666666,\"#ed7953\"],[0.7777777777777778,\"#fb9f3a\"],[0.8888888888888888,\"#fdca26\"],[1.0,\"#f0f921\"]],\"type\":\"heatmapgl\"}],\"histogram\":[{\"marker\":{\"pattern\":{\"fillmode\":\"overlay\",\"size\":10,\"solidity\":0.2}},\"type\":\"histogram\"}],\"histogram2d\":[{\"colorbar\":{\"outlinewidth\":0,\"ticks\":\"\"},\"colorscale\":[[0.0,\"#0d0887\"],[0.1111111111111111,\"#46039f\"],[0.2222222222222222,\"#7201a8\"],[0.3333333333333333,\"#9c179e\"],[0.4444444444444444,\"#bd3786\"],[0.5555555555555556,\"#d8576b\"],[0.6666666666666666,\"#ed7953\"],[0.7777777777777778,\"#fb9f3a\"],[0.8888888888888888,\"#fdca26\"],[1.0,\"#f0f921\"]],\"type\":\"histogram2d\"}],\"histogram2dcontour\":[{\"colorbar\":{\"outlinewidth\":0,\"ticks\":\"\"},\"colorscale\":[[0.0,\"#0d0887\"],[0.1111111111111111,\"#46039f\"],[0.2222222222222222,\"#7201a8\"],[0.3333333333333333,\"#9c179e\"],[0.4444444444444444,\"#bd3786\"],[0.5555555555555556,\"#d8576b\"],[0.6666666666666666,\"#ed7953\"],[0.7777777777777778,\"#fb9f3a\"],[0.8888888888888888,\"#fdca26\"],[1.0,\"#f0f921\"]],\"type\":\"histogram2dcontour\"}],\"mesh3d\":[{\"colorbar\":{\"outlinewidth\":0,\"ticks\":\"\"},\"type\":\"mesh3d\"}],\"parcoords\":[{\"line\":{\"colorbar\":{\"outlinewidth\":0,\"ticks\":\"\"}},\"type\":\"parcoords\"}],\"pie\":[{\"automargin\":true,\"type\":\"pie\"}],\"scatter\":[{\"marker\":{\"colorbar\":{\"outlinewidth\":0,\"ticks\":\"\"}},\"type\":\"scatter\"}],\"scatter3d\":[{\"line\":{\"colorbar\":{\"outlinewidth\":0,\"ticks\":\"\"}},\"marker\":{\"colorbar\":{\"outlinewidth\":0,\"ticks\":\"\"}},\"type\":\"scatter3d\"}],\"scattercarpet\":[{\"marker\":{\"colorbar\":{\"outlinewidth\":0,\"ticks\":\"\"}},\"type\":\"scattercarpet\"}],\"scattergeo\":[{\"marker\":{\"colorbar\":{\"outlinewidth\":0,\"ticks\":\"\"}},\"type\":\"scattergeo\"}],\"scattergl\":[{\"marker\":{\"colorbar\":{\"outlinewidth\":0,\"ticks\":\"\"}},\"type\":\"scattergl\"}],\"scattermapbox\":[{\"marker\":{\"colorbar\":{\"outlinewidth\":0,\"ticks\":\"\"}},\"type\":\"scattermapbox\"}],\"scatterpolar\":[{\"marker\":{\"colorbar\":{\"outlinewidth\":0,\"ticks\":\"\"}},\"type\":\"scatterpolar\"}],\"scatterpolargl\":[{\"marker\":{\"colorbar\":{\"outlinewidth\":0,\"ticks\":\"\"}},\"type\":\"scatterpolargl\"}],\"scatterternary\":[{\"marker\":{\"colorbar\":{\"outlinewidth\":0,\"ticks\":\"\"}},\"type\":\"scatterternary\"}],\"surface\":[{\"colorbar\":{\"outlinewidth\":0,\"ticks\":\"\"},\"colorscale\":[[0.0,\"#0d0887\"],[0.1111111111111111,\"#46039f\"],[0.2222222222222222,\"#7201a8\"],[0.3333333333333333,\"#9c179e\"],[0.4444444444444444,\"#bd3786\"],[0.5555555555555556,\"#d8576b\"],[0.6666666666666666,\"#ed7953\"],[0.7777777777777778,\"#fb9f3a\"],[0.8888888888888888,\"#fdca26\"],[1.0,\"#f0f921\"]],\"type\":\"surface\"}],\"table\":[{\"cells\":{\"fill\":{\"color\":\"#EBF0F8\"},\"line\":{\"color\":\"white\"}},\"header\":{\"fill\":{\"color\":\"#C8D4E3\"},\"line\":{\"color\":\"white\"}},\"type\":\"table\"}]},\"layout\":{\"annotationdefaults\":{\"arrowcolor\":\"#2a3f5f\",\"arrowhead\":0,\"arrowwidth\":1},\"autotypenumbers\":\"strict\",\"coloraxis\":{\"colorbar\":{\"outlinewidth\":0,\"ticks\":\"\"}},\"colorscale\":{\"diverging\":[[0,\"#8e0152\"],[0.1,\"#c51b7d\"],[0.2,\"#de77ae\"],[0.3,\"#f1b6da\"],[0.4,\"#fde0ef\"],[0.5,\"#f7f7f7\"],[0.6,\"#e6f5d0\"],[0.7,\"#b8e186\"],[0.8,\"#7fbc41\"],[0.9,\"#4d9221\"],[1,\"#276419\"]],\"sequential\":[[0.0,\"#0d0887\"],[0.1111111111111111,\"#46039f\"],[0.2222222222222222,\"#7201a8\"],[0.3333333333333333,\"#9c179e\"],[0.4444444444444444,\"#bd3786\"],[0.5555555555555556,\"#d8576b\"],[0.6666666666666666,\"#ed7953\"],[0.7777777777777778,\"#fb9f3a\"],[0.8888888888888888,\"#fdca26\"],[1.0,\"#f0f921\"]],\"sequentialminus\":[[0.0,\"#0d0887\"],[0.1111111111111111,\"#46039f\"],[0.2222222222222222,\"#7201a8\"],[0.3333333333333333,\"#9c179e\"],[0.4444444444444444,\"#bd3786\"],[0.5555555555555556,\"#d8576b\"],[0.6666666666666666,\"#ed7953\"],[0.7777777777777778,\"#fb9f3a\"],[0.8888888888888888,\"#fdca26\"],[1.0,\"#f0f921\"]]},\"colorway\":[\"#636efa\",\"#EF553B\",\"#00cc96\",\"#ab63fa\",\"#FFA15A\",\"#19d3f3\",\"#FF6692\",\"#B6E880\",\"#FF97FF\",\"#FECB52\"],\"font\":{\"color\":\"#2a3f5f\"},\"geo\":{\"bgcolor\":\"white\",\"lakecolor\":\"white\",\"landcolor\":\"#E5ECF6\",\"showlakes\":true,\"showland\":true,\"subunitcolor\":\"white\"},\"hoverlabel\":{\"align\":\"left\"},\"hovermode\":\"closest\",\"mapbox\":{\"style\":\"light\"},\"paper_bgcolor\":\"white\",\"plot_bgcolor\":\"#E5ECF6\",\"polar\":{\"angularaxis\":{\"gridcolor\":\"white\",\"linecolor\":\"white\",\"ticks\":\"\"},\"bgcolor\":\"#E5ECF6\",\"radialaxis\":{\"gridcolor\":\"white\",\"linecolor\":\"white\",\"ticks\":\"\"}},\"scene\":{\"xaxis\":{\"backgroundcolor\":\"#E5ECF6\",\"gridcolor\":\"white\",\"gridwidth\":2,\"linecolor\":\"white\",\"showbackground\":true,\"ticks\":\"\",\"zerolinecolor\":\"white\"},\"yaxis\":{\"backgroundcolor\":\"#E5ECF6\",\"gridcolor\":\"white\",\"gridwidth\":2,\"linecolor\":\"white\",\"showbackground\":true,\"ticks\":\"\",\"zerolinecolor\":\"white\"},\"zaxis\":{\"backgroundcolor\":\"#E5ECF6\",\"gridcolor\":\"white\",\"gridwidth\":2,\"linecolor\":\"white\",\"showbackground\":true,\"ticks\":\"\",\"zerolinecolor\":\"white\"}},\"shapedefaults\":{\"line\":{\"color\":\"#2a3f5f\"}},\"ternary\":{\"aaxis\":{\"gridcolor\":\"white\",\"linecolor\":\"white\",\"ticks\":\"\"},\"baxis\":{\"gridcolor\":\"white\",\"linecolor\":\"white\",\"ticks\":\"\"},\"bgcolor\":\"#E5ECF6\",\"caxis\":{\"gridcolor\":\"white\",\"linecolor\":\"white\",\"ticks\":\"\"}},\"title\":{\"x\":0.05},\"xaxis\":{\"automargin\":true,\"gridcolor\":\"white\",\"linecolor\":\"white\",\"ticks\":\"\",\"title\":{\"standoff\":15},\"zerolinecolor\":\"white\",\"zerolinewidth\":2},\"yaxis\":{\"automargin\":true,\"gridcolor\":\"white\",\"linecolor\":\"white\",\"ticks\":\"\",\"title\":{\"standoff\":15},\"zerolinecolor\":\"white\",\"zerolinewidth\":2}}},\"xaxis\":{\"anchor\":\"y\",\"domain\":[0.0,1.0],\"title\":{\"text\":\"Ville\"}},\"yaxis\":{\"anchor\":\"x\",\"domain\":[0.0,1.0],\"title\":{\"text\":\"sum of total_eleves_technique\"}},\"legend\":{\"tracegroupgap\":0,\"font\":{\"family\":\"Courier\",\"size\":10,\"color\":\"black\"},\"title\":{\"font\":{\"size\":20,\"color\":\"blue\"}}},\"title\":{\"text\":\"Total eleves - TECHNIQUE\"},\"barmode\":\"relative\",\"height\":560,\"width\":950},                        {\"responsive\": true}                    ).then(function(){\n",
       "                            \n",
       "var gd = document.getElementById('10f94703-4a0d-4f0d-a77f-618c8af2893c');\n",
       "var x = new MutationObserver(function (mutations, observer) {{\n",
       "        var display = window.getComputedStyle(gd).display;\n",
       "        if (!display || display === 'none') {{\n",
       "            console.log([gd, 'removed!']);\n",
       "            Plotly.purge(gd);\n",
       "            observer.disconnect();\n",
       "        }}\n",
       "}});\n",
       "\n",
       "// Listen for the removal of the full notebook cells\n",
       "var notebookContainer = gd.closest('#notebook-container');\n",
       "if (notebookContainer) {{\n",
       "    x.observe(notebookContainer, {childList: true});\n",
       "}}\n",
       "\n",
       "// Listen for the clearing of the current output cell\n",
       "var outputEl = gd.closest('.output');\n",
       "if (outputEl) {{\n",
       "    x.observe(outputEl, {childList: true});\n",
       "}}\n",
       "\n",
       "                        })                };                });            </script>        </div>"
      ]
     },
     "metadata": {},
     "output_type": "display_data"
    }
   ],
   "source": [
    "df2_bac=df1_bac[df1_bac['Academie']=='PARIS']\n",
    "fig = px.histogram(df2_bac[df2_bac['Annee']==2019].groupby(['Annee','Ville'])['total_eleves_technique'].sum().reset_index(), x='Ville',y=\"total_eleves_technique\", title='Total eleves - TECHNIQUE', width=950, height=560)\n",
    "fig.update_layout(legend =dict(font = dict(family = \"Courier\", size = 10, color = \"black\")),\n",
    "                  legend_title = dict(font = dict(size = 20, color = \"blue\")))\n",
    "fig.show()"
   ]
  },
  {
   "cell_type": "code",
   "execution_count": 98,
   "id": "b9841145",
   "metadata": {},
   "outputs": [
    {
     "data": {
      "application/vnd.plotly.v1+json": {
       "config": {
        "plotlyServerURL": "https://plot.ly"
       },
       "data": [
        {
         "alignmentgroup": "True",
         "bingroup": "x",
         "histfunc": "sum",
         "hovertemplate": "Ville=%{x}<br>sum of total_eleves_general=%{y}<extra></extra>",
         "legendgroup": "",
         "marker": {
          "color": "#636efa",
          "pattern": {
           "shape": ""
          }
         },
         "name": "",
         "offsetgroup": "",
         "orientation": "v",
         "showlegend": false,
         "type": "histogram",
         "x": [
          "PARIS 03",
          "PARIS 04",
          "PARIS 05",
          "PARIS 06",
          "PARIS 07",
          "PARIS 08",
          "PARIS 09",
          "PARIS 10",
          "PARIS 11",
          "PARIS 12",
          "PARIS 13",
          "PARIS 14",
          "PARIS 15",
          "PARIS 16",
          "PARIS 17",
          "PARIS 18",
          "PARIS 19",
          "PARIS 20"
         ],
         "xaxis": "x",
         "y": [
          156,
          821,
          693,
          1360,
          582,
          556,
          829,
          634,
          505,
          661,
          852,
          214,
          787,
          1732,
          901,
          200,
          253,
          777
         ],
         "yaxis": "y"
        }
       ],
       "layout": {
        "barmode": "relative",
        "height": 560,
        "legend": {
         "font": {
          "color": "black",
          "family": "Courier",
          "size": 10
         },
         "title": {
          "font": {
           "color": "blue",
           "size": 20
          }
         },
         "tracegroupgap": 0
        },
        "template": {
         "data": {
          "bar": [
           {
            "error_x": {
             "color": "#2a3f5f"
            },
            "error_y": {
             "color": "#2a3f5f"
            },
            "marker": {
             "line": {
              "color": "#E5ECF6",
              "width": 0.5
             },
             "pattern": {
              "fillmode": "overlay",
              "size": 10,
              "solidity": 0.2
             }
            },
            "type": "bar"
           }
          ],
          "barpolar": [
           {
            "marker": {
             "line": {
              "color": "#E5ECF6",
              "width": 0.5
             },
             "pattern": {
              "fillmode": "overlay",
              "size": 10,
              "solidity": 0.2
             }
            },
            "type": "barpolar"
           }
          ],
          "carpet": [
           {
            "aaxis": {
             "endlinecolor": "#2a3f5f",
             "gridcolor": "white",
             "linecolor": "white",
             "minorgridcolor": "white",
             "startlinecolor": "#2a3f5f"
            },
            "baxis": {
             "endlinecolor": "#2a3f5f",
             "gridcolor": "white",
             "linecolor": "white",
             "minorgridcolor": "white",
             "startlinecolor": "#2a3f5f"
            },
            "type": "carpet"
           }
          ],
          "choropleth": [
           {
            "colorbar": {
             "outlinewidth": 0,
             "ticks": ""
            },
            "type": "choropleth"
           }
          ],
          "contour": [
           {
            "colorbar": {
             "outlinewidth": 0,
             "ticks": ""
            },
            "colorscale": [
             [
              0,
              "#0d0887"
             ],
             [
              0.1111111111111111,
              "#46039f"
             ],
             [
              0.2222222222222222,
              "#7201a8"
             ],
             [
              0.3333333333333333,
              "#9c179e"
             ],
             [
              0.4444444444444444,
              "#bd3786"
             ],
             [
              0.5555555555555556,
              "#d8576b"
             ],
             [
              0.6666666666666666,
              "#ed7953"
             ],
             [
              0.7777777777777778,
              "#fb9f3a"
             ],
             [
              0.8888888888888888,
              "#fdca26"
             ],
             [
              1,
              "#f0f921"
             ]
            ],
            "type": "contour"
           }
          ],
          "contourcarpet": [
           {
            "colorbar": {
             "outlinewidth": 0,
             "ticks": ""
            },
            "type": "contourcarpet"
           }
          ],
          "heatmap": [
           {
            "colorbar": {
             "outlinewidth": 0,
             "ticks": ""
            },
            "colorscale": [
             [
              0,
              "#0d0887"
             ],
             [
              0.1111111111111111,
              "#46039f"
             ],
             [
              0.2222222222222222,
              "#7201a8"
             ],
             [
              0.3333333333333333,
              "#9c179e"
             ],
             [
              0.4444444444444444,
              "#bd3786"
             ],
             [
              0.5555555555555556,
              "#d8576b"
             ],
             [
              0.6666666666666666,
              "#ed7953"
             ],
             [
              0.7777777777777778,
              "#fb9f3a"
             ],
             [
              0.8888888888888888,
              "#fdca26"
             ],
             [
              1,
              "#f0f921"
             ]
            ],
            "type": "heatmap"
           }
          ],
          "heatmapgl": [
           {
            "colorbar": {
             "outlinewidth": 0,
             "ticks": ""
            },
            "colorscale": [
             [
              0,
              "#0d0887"
             ],
             [
              0.1111111111111111,
              "#46039f"
             ],
             [
              0.2222222222222222,
              "#7201a8"
             ],
             [
              0.3333333333333333,
              "#9c179e"
             ],
             [
              0.4444444444444444,
              "#bd3786"
             ],
             [
              0.5555555555555556,
              "#d8576b"
             ],
             [
              0.6666666666666666,
              "#ed7953"
             ],
             [
              0.7777777777777778,
              "#fb9f3a"
             ],
             [
              0.8888888888888888,
              "#fdca26"
             ],
             [
              1,
              "#f0f921"
             ]
            ],
            "type": "heatmapgl"
           }
          ],
          "histogram": [
           {
            "marker": {
             "pattern": {
              "fillmode": "overlay",
              "size": 10,
              "solidity": 0.2
             }
            },
            "type": "histogram"
           }
          ],
          "histogram2d": [
           {
            "colorbar": {
             "outlinewidth": 0,
             "ticks": ""
            },
            "colorscale": [
             [
              0,
              "#0d0887"
             ],
             [
              0.1111111111111111,
              "#46039f"
             ],
             [
              0.2222222222222222,
              "#7201a8"
             ],
             [
              0.3333333333333333,
              "#9c179e"
             ],
             [
              0.4444444444444444,
              "#bd3786"
             ],
             [
              0.5555555555555556,
              "#d8576b"
             ],
             [
              0.6666666666666666,
              "#ed7953"
             ],
             [
              0.7777777777777778,
              "#fb9f3a"
             ],
             [
              0.8888888888888888,
              "#fdca26"
             ],
             [
              1,
              "#f0f921"
             ]
            ],
            "type": "histogram2d"
           }
          ],
          "histogram2dcontour": [
           {
            "colorbar": {
             "outlinewidth": 0,
             "ticks": ""
            },
            "colorscale": [
             [
              0,
              "#0d0887"
             ],
             [
              0.1111111111111111,
              "#46039f"
             ],
             [
              0.2222222222222222,
              "#7201a8"
             ],
             [
              0.3333333333333333,
              "#9c179e"
             ],
             [
              0.4444444444444444,
              "#bd3786"
             ],
             [
              0.5555555555555556,
              "#d8576b"
             ],
             [
              0.6666666666666666,
              "#ed7953"
             ],
             [
              0.7777777777777778,
              "#fb9f3a"
             ],
             [
              0.8888888888888888,
              "#fdca26"
             ],
             [
              1,
              "#f0f921"
             ]
            ],
            "type": "histogram2dcontour"
           }
          ],
          "mesh3d": [
           {
            "colorbar": {
             "outlinewidth": 0,
             "ticks": ""
            },
            "type": "mesh3d"
           }
          ],
          "parcoords": [
           {
            "line": {
             "colorbar": {
              "outlinewidth": 0,
              "ticks": ""
             }
            },
            "type": "parcoords"
           }
          ],
          "pie": [
           {
            "automargin": true,
            "type": "pie"
           }
          ],
          "scatter": [
           {
            "marker": {
             "colorbar": {
              "outlinewidth": 0,
              "ticks": ""
             }
            },
            "type": "scatter"
           }
          ],
          "scatter3d": [
           {
            "line": {
             "colorbar": {
              "outlinewidth": 0,
              "ticks": ""
             }
            },
            "marker": {
             "colorbar": {
              "outlinewidth": 0,
              "ticks": ""
             }
            },
            "type": "scatter3d"
           }
          ],
          "scattercarpet": [
           {
            "marker": {
             "colorbar": {
              "outlinewidth": 0,
              "ticks": ""
             }
            },
            "type": "scattercarpet"
           }
          ],
          "scattergeo": [
           {
            "marker": {
             "colorbar": {
              "outlinewidth": 0,
              "ticks": ""
             }
            },
            "type": "scattergeo"
           }
          ],
          "scattergl": [
           {
            "marker": {
             "colorbar": {
              "outlinewidth": 0,
              "ticks": ""
             }
            },
            "type": "scattergl"
           }
          ],
          "scattermapbox": [
           {
            "marker": {
             "colorbar": {
              "outlinewidth": 0,
              "ticks": ""
             }
            },
            "type": "scattermapbox"
           }
          ],
          "scatterpolar": [
           {
            "marker": {
             "colorbar": {
              "outlinewidth": 0,
              "ticks": ""
             }
            },
            "type": "scatterpolar"
           }
          ],
          "scatterpolargl": [
           {
            "marker": {
             "colorbar": {
              "outlinewidth": 0,
              "ticks": ""
             }
            },
            "type": "scatterpolargl"
           }
          ],
          "scatterternary": [
           {
            "marker": {
             "colorbar": {
              "outlinewidth": 0,
              "ticks": ""
             }
            },
            "type": "scatterternary"
           }
          ],
          "surface": [
           {
            "colorbar": {
             "outlinewidth": 0,
             "ticks": ""
            },
            "colorscale": [
             [
              0,
              "#0d0887"
             ],
             [
              0.1111111111111111,
              "#46039f"
             ],
             [
              0.2222222222222222,
              "#7201a8"
             ],
             [
              0.3333333333333333,
              "#9c179e"
             ],
             [
              0.4444444444444444,
              "#bd3786"
             ],
             [
              0.5555555555555556,
              "#d8576b"
             ],
             [
              0.6666666666666666,
              "#ed7953"
             ],
             [
              0.7777777777777778,
              "#fb9f3a"
             ],
             [
              0.8888888888888888,
              "#fdca26"
             ],
             [
              1,
              "#f0f921"
             ]
            ],
            "type": "surface"
           }
          ],
          "table": [
           {
            "cells": {
             "fill": {
              "color": "#EBF0F8"
             },
             "line": {
              "color": "white"
             }
            },
            "header": {
             "fill": {
              "color": "#C8D4E3"
             },
             "line": {
              "color": "white"
             }
            },
            "type": "table"
           }
          ]
         },
         "layout": {
          "annotationdefaults": {
           "arrowcolor": "#2a3f5f",
           "arrowhead": 0,
           "arrowwidth": 1
          },
          "autotypenumbers": "strict",
          "coloraxis": {
           "colorbar": {
            "outlinewidth": 0,
            "ticks": ""
           }
          },
          "colorscale": {
           "diverging": [
            [
             0,
             "#8e0152"
            ],
            [
             0.1,
             "#c51b7d"
            ],
            [
             0.2,
             "#de77ae"
            ],
            [
             0.3,
             "#f1b6da"
            ],
            [
             0.4,
             "#fde0ef"
            ],
            [
             0.5,
             "#f7f7f7"
            ],
            [
             0.6,
             "#e6f5d0"
            ],
            [
             0.7,
             "#b8e186"
            ],
            [
             0.8,
             "#7fbc41"
            ],
            [
             0.9,
             "#4d9221"
            ],
            [
             1,
             "#276419"
            ]
           ],
           "sequential": [
            [
             0,
             "#0d0887"
            ],
            [
             0.1111111111111111,
             "#46039f"
            ],
            [
             0.2222222222222222,
             "#7201a8"
            ],
            [
             0.3333333333333333,
             "#9c179e"
            ],
            [
             0.4444444444444444,
             "#bd3786"
            ],
            [
             0.5555555555555556,
             "#d8576b"
            ],
            [
             0.6666666666666666,
             "#ed7953"
            ],
            [
             0.7777777777777778,
             "#fb9f3a"
            ],
            [
             0.8888888888888888,
             "#fdca26"
            ],
            [
             1,
             "#f0f921"
            ]
           ],
           "sequentialminus": [
            [
             0,
             "#0d0887"
            ],
            [
             0.1111111111111111,
             "#46039f"
            ],
            [
             0.2222222222222222,
             "#7201a8"
            ],
            [
             0.3333333333333333,
             "#9c179e"
            ],
            [
             0.4444444444444444,
             "#bd3786"
            ],
            [
             0.5555555555555556,
             "#d8576b"
            ],
            [
             0.6666666666666666,
             "#ed7953"
            ],
            [
             0.7777777777777778,
             "#fb9f3a"
            ],
            [
             0.8888888888888888,
             "#fdca26"
            ],
            [
             1,
             "#f0f921"
            ]
           ]
          },
          "colorway": [
           "#636efa",
           "#EF553B",
           "#00cc96",
           "#ab63fa",
           "#FFA15A",
           "#19d3f3",
           "#FF6692",
           "#B6E880",
           "#FF97FF",
           "#FECB52"
          ],
          "font": {
           "color": "#2a3f5f"
          },
          "geo": {
           "bgcolor": "white",
           "lakecolor": "white",
           "landcolor": "#E5ECF6",
           "showlakes": true,
           "showland": true,
           "subunitcolor": "white"
          },
          "hoverlabel": {
           "align": "left"
          },
          "hovermode": "closest",
          "mapbox": {
           "style": "light"
          },
          "paper_bgcolor": "white",
          "plot_bgcolor": "#E5ECF6",
          "polar": {
           "angularaxis": {
            "gridcolor": "white",
            "linecolor": "white",
            "ticks": ""
           },
           "bgcolor": "#E5ECF6",
           "radialaxis": {
            "gridcolor": "white",
            "linecolor": "white",
            "ticks": ""
           }
          },
          "scene": {
           "xaxis": {
            "backgroundcolor": "#E5ECF6",
            "gridcolor": "white",
            "gridwidth": 2,
            "linecolor": "white",
            "showbackground": true,
            "ticks": "",
            "zerolinecolor": "white"
           },
           "yaxis": {
            "backgroundcolor": "#E5ECF6",
            "gridcolor": "white",
            "gridwidth": 2,
            "linecolor": "white",
            "showbackground": true,
            "ticks": "",
            "zerolinecolor": "white"
           },
           "zaxis": {
            "backgroundcolor": "#E5ECF6",
            "gridcolor": "white",
            "gridwidth": 2,
            "linecolor": "white",
            "showbackground": true,
            "ticks": "",
            "zerolinecolor": "white"
           }
          },
          "shapedefaults": {
           "line": {
            "color": "#2a3f5f"
           }
          },
          "ternary": {
           "aaxis": {
            "gridcolor": "white",
            "linecolor": "white",
            "ticks": ""
           },
           "baxis": {
            "gridcolor": "white",
            "linecolor": "white",
            "ticks": ""
           },
           "bgcolor": "#E5ECF6",
           "caxis": {
            "gridcolor": "white",
            "linecolor": "white",
            "ticks": ""
           }
          },
          "title": {
           "x": 0.05
          },
          "xaxis": {
           "automargin": true,
           "gridcolor": "white",
           "linecolor": "white",
           "ticks": "",
           "title": {
            "standoff": 15
           },
           "zerolinecolor": "white",
           "zerolinewidth": 2
          },
          "yaxis": {
           "automargin": true,
           "gridcolor": "white",
           "linecolor": "white",
           "ticks": "",
           "title": {
            "standoff": 15
           },
           "zerolinecolor": "white",
           "zerolinewidth": 2
          }
         }
        },
        "title": {
         "text": "Total eleves - GENERAL"
        },
        "width": 950,
        "xaxis": {
         "anchor": "y",
         "domain": [
          0,
          1
         ],
         "title": {
          "text": "Ville"
         }
        },
        "yaxis": {
         "anchor": "x",
         "domain": [
          0,
          1
         ],
         "title": {
          "text": "sum of total_eleves_general"
         }
        }
       }
      },
      "text/html": [
       "<div>                            <div id=\"44dcedc4-b21f-45ea-9313-9cb46ddcdd14\" class=\"plotly-graph-div\" style=\"height:560px; width:950px;\"></div>            <script type=\"text/javascript\">                require([\"plotly\"], function(Plotly) {                    window.PLOTLYENV=window.PLOTLYENV || {};                                    if (document.getElementById(\"44dcedc4-b21f-45ea-9313-9cb46ddcdd14\")) {                    Plotly.newPlot(                        \"44dcedc4-b21f-45ea-9313-9cb46ddcdd14\",                        [{\"alignmentgroup\":\"True\",\"bingroup\":\"x\",\"histfunc\":\"sum\",\"hovertemplate\":\"Ville=%{x}<br>sum of total_eleves_general=%{y}<extra></extra>\",\"legendgroup\":\"\",\"marker\":{\"color\":\"#636efa\",\"pattern\":{\"shape\":\"\"}},\"name\":\"\",\"offsetgroup\":\"\",\"orientation\":\"v\",\"showlegend\":false,\"x\":[\"PARIS 03\",\"PARIS 04\",\"PARIS 05\",\"PARIS 06\",\"PARIS 07\",\"PARIS 08\",\"PARIS 09\",\"PARIS 10\",\"PARIS 11\",\"PARIS 12\",\"PARIS 13\",\"PARIS 14\",\"PARIS 15\",\"PARIS 16\",\"PARIS 17\",\"PARIS 18\",\"PARIS 19\",\"PARIS 20\"],\"xaxis\":\"x\",\"y\":[156.0,821.0,693.0,1360.0,582.0,556.0,829.0,634.0,505.0,661.0,852.0,214.0,787.0,1732.0,901.0,200.0,253.0,777.0],\"yaxis\":\"y\",\"type\":\"histogram\"}],                        {\"template\":{\"data\":{\"bar\":[{\"error_x\":{\"color\":\"#2a3f5f\"},\"error_y\":{\"color\":\"#2a3f5f\"},\"marker\":{\"line\":{\"color\":\"#E5ECF6\",\"width\":0.5},\"pattern\":{\"fillmode\":\"overlay\",\"size\":10,\"solidity\":0.2}},\"type\":\"bar\"}],\"barpolar\":[{\"marker\":{\"line\":{\"color\":\"#E5ECF6\",\"width\":0.5},\"pattern\":{\"fillmode\":\"overlay\",\"size\":10,\"solidity\":0.2}},\"type\":\"barpolar\"}],\"carpet\":[{\"aaxis\":{\"endlinecolor\":\"#2a3f5f\",\"gridcolor\":\"white\",\"linecolor\":\"white\",\"minorgridcolor\":\"white\",\"startlinecolor\":\"#2a3f5f\"},\"baxis\":{\"endlinecolor\":\"#2a3f5f\",\"gridcolor\":\"white\",\"linecolor\":\"white\",\"minorgridcolor\":\"white\",\"startlinecolor\":\"#2a3f5f\"},\"type\":\"carpet\"}],\"choropleth\":[{\"colorbar\":{\"outlinewidth\":0,\"ticks\":\"\"},\"type\":\"choropleth\"}],\"contour\":[{\"colorbar\":{\"outlinewidth\":0,\"ticks\":\"\"},\"colorscale\":[[0.0,\"#0d0887\"],[0.1111111111111111,\"#46039f\"],[0.2222222222222222,\"#7201a8\"],[0.3333333333333333,\"#9c179e\"],[0.4444444444444444,\"#bd3786\"],[0.5555555555555556,\"#d8576b\"],[0.6666666666666666,\"#ed7953\"],[0.7777777777777778,\"#fb9f3a\"],[0.8888888888888888,\"#fdca26\"],[1.0,\"#f0f921\"]],\"type\":\"contour\"}],\"contourcarpet\":[{\"colorbar\":{\"outlinewidth\":0,\"ticks\":\"\"},\"type\":\"contourcarpet\"}],\"heatmap\":[{\"colorbar\":{\"outlinewidth\":0,\"ticks\":\"\"},\"colorscale\":[[0.0,\"#0d0887\"],[0.1111111111111111,\"#46039f\"],[0.2222222222222222,\"#7201a8\"],[0.3333333333333333,\"#9c179e\"],[0.4444444444444444,\"#bd3786\"],[0.5555555555555556,\"#d8576b\"],[0.6666666666666666,\"#ed7953\"],[0.7777777777777778,\"#fb9f3a\"],[0.8888888888888888,\"#fdca26\"],[1.0,\"#f0f921\"]],\"type\":\"heatmap\"}],\"heatmapgl\":[{\"colorbar\":{\"outlinewidth\":0,\"ticks\":\"\"},\"colorscale\":[[0.0,\"#0d0887\"],[0.1111111111111111,\"#46039f\"],[0.2222222222222222,\"#7201a8\"],[0.3333333333333333,\"#9c179e\"],[0.4444444444444444,\"#bd3786\"],[0.5555555555555556,\"#d8576b\"],[0.6666666666666666,\"#ed7953\"],[0.7777777777777778,\"#fb9f3a\"],[0.8888888888888888,\"#fdca26\"],[1.0,\"#f0f921\"]],\"type\":\"heatmapgl\"}],\"histogram\":[{\"marker\":{\"pattern\":{\"fillmode\":\"overlay\",\"size\":10,\"solidity\":0.2}},\"type\":\"histogram\"}],\"histogram2d\":[{\"colorbar\":{\"outlinewidth\":0,\"ticks\":\"\"},\"colorscale\":[[0.0,\"#0d0887\"],[0.1111111111111111,\"#46039f\"],[0.2222222222222222,\"#7201a8\"],[0.3333333333333333,\"#9c179e\"],[0.4444444444444444,\"#bd3786\"],[0.5555555555555556,\"#d8576b\"],[0.6666666666666666,\"#ed7953\"],[0.7777777777777778,\"#fb9f3a\"],[0.8888888888888888,\"#fdca26\"],[1.0,\"#f0f921\"]],\"type\":\"histogram2d\"}],\"histogram2dcontour\":[{\"colorbar\":{\"outlinewidth\":0,\"ticks\":\"\"},\"colorscale\":[[0.0,\"#0d0887\"],[0.1111111111111111,\"#46039f\"],[0.2222222222222222,\"#7201a8\"],[0.3333333333333333,\"#9c179e\"],[0.4444444444444444,\"#bd3786\"],[0.5555555555555556,\"#d8576b\"],[0.6666666666666666,\"#ed7953\"],[0.7777777777777778,\"#fb9f3a\"],[0.8888888888888888,\"#fdca26\"],[1.0,\"#f0f921\"]],\"type\":\"histogram2dcontour\"}],\"mesh3d\":[{\"colorbar\":{\"outlinewidth\":0,\"ticks\":\"\"},\"type\":\"mesh3d\"}],\"parcoords\":[{\"line\":{\"colorbar\":{\"outlinewidth\":0,\"ticks\":\"\"}},\"type\":\"parcoords\"}],\"pie\":[{\"automargin\":true,\"type\":\"pie\"}],\"scatter\":[{\"marker\":{\"colorbar\":{\"outlinewidth\":0,\"ticks\":\"\"}},\"type\":\"scatter\"}],\"scatter3d\":[{\"line\":{\"colorbar\":{\"outlinewidth\":0,\"ticks\":\"\"}},\"marker\":{\"colorbar\":{\"outlinewidth\":0,\"ticks\":\"\"}},\"type\":\"scatter3d\"}],\"scattercarpet\":[{\"marker\":{\"colorbar\":{\"outlinewidth\":0,\"ticks\":\"\"}},\"type\":\"scattercarpet\"}],\"scattergeo\":[{\"marker\":{\"colorbar\":{\"outlinewidth\":0,\"ticks\":\"\"}},\"type\":\"scattergeo\"}],\"scattergl\":[{\"marker\":{\"colorbar\":{\"outlinewidth\":0,\"ticks\":\"\"}},\"type\":\"scattergl\"}],\"scattermapbox\":[{\"marker\":{\"colorbar\":{\"outlinewidth\":0,\"ticks\":\"\"}},\"type\":\"scattermapbox\"}],\"scatterpolar\":[{\"marker\":{\"colorbar\":{\"outlinewidth\":0,\"ticks\":\"\"}},\"type\":\"scatterpolar\"}],\"scatterpolargl\":[{\"marker\":{\"colorbar\":{\"outlinewidth\":0,\"ticks\":\"\"}},\"type\":\"scatterpolargl\"}],\"scatterternary\":[{\"marker\":{\"colorbar\":{\"outlinewidth\":0,\"ticks\":\"\"}},\"type\":\"scatterternary\"}],\"surface\":[{\"colorbar\":{\"outlinewidth\":0,\"ticks\":\"\"},\"colorscale\":[[0.0,\"#0d0887\"],[0.1111111111111111,\"#46039f\"],[0.2222222222222222,\"#7201a8\"],[0.3333333333333333,\"#9c179e\"],[0.4444444444444444,\"#bd3786\"],[0.5555555555555556,\"#d8576b\"],[0.6666666666666666,\"#ed7953\"],[0.7777777777777778,\"#fb9f3a\"],[0.8888888888888888,\"#fdca26\"],[1.0,\"#f0f921\"]],\"type\":\"surface\"}],\"table\":[{\"cells\":{\"fill\":{\"color\":\"#EBF0F8\"},\"line\":{\"color\":\"white\"}},\"header\":{\"fill\":{\"color\":\"#C8D4E3\"},\"line\":{\"color\":\"white\"}},\"type\":\"table\"}]},\"layout\":{\"annotationdefaults\":{\"arrowcolor\":\"#2a3f5f\",\"arrowhead\":0,\"arrowwidth\":1},\"autotypenumbers\":\"strict\",\"coloraxis\":{\"colorbar\":{\"outlinewidth\":0,\"ticks\":\"\"}},\"colorscale\":{\"diverging\":[[0,\"#8e0152\"],[0.1,\"#c51b7d\"],[0.2,\"#de77ae\"],[0.3,\"#f1b6da\"],[0.4,\"#fde0ef\"],[0.5,\"#f7f7f7\"],[0.6,\"#e6f5d0\"],[0.7,\"#b8e186\"],[0.8,\"#7fbc41\"],[0.9,\"#4d9221\"],[1,\"#276419\"]],\"sequential\":[[0.0,\"#0d0887\"],[0.1111111111111111,\"#46039f\"],[0.2222222222222222,\"#7201a8\"],[0.3333333333333333,\"#9c179e\"],[0.4444444444444444,\"#bd3786\"],[0.5555555555555556,\"#d8576b\"],[0.6666666666666666,\"#ed7953\"],[0.7777777777777778,\"#fb9f3a\"],[0.8888888888888888,\"#fdca26\"],[1.0,\"#f0f921\"]],\"sequentialminus\":[[0.0,\"#0d0887\"],[0.1111111111111111,\"#46039f\"],[0.2222222222222222,\"#7201a8\"],[0.3333333333333333,\"#9c179e\"],[0.4444444444444444,\"#bd3786\"],[0.5555555555555556,\"#d8576b\"],[0.6666666666666666,\"#ed7953\"],[0.7777777777777778,\"#fb9f3a\"],[0.8888888888888888,\"#fdca26\"],[1.0,\"#f0f921\"]]},\"colorway\":[\"#636efa\",\"#EF553B\",\"#00cc96\",\"#ab63fa\",\"#FFA15A\",\"#19d3f3\",\"#FF6692\",\"#B6E880\",\"#FF97FF\",\"#FECB52\"],\"font\":{\"color\":\"#2a3f5f\"},\"geo\":{\"bgcolor\":\"white\",\"lakecolor\":\"white\",\"landcolor\":\"#E5ECF6\",\"showlakes\":true,\"showland\":true,\"subunitcolor\":\"white\"},\"hoverlabel\":{\"align\":\"left\"},\"hovermode\":\"closest\",\"mapbox\":{\"style\":\"light\"},\"paper_bgcolor\":\"white\",\"plot_bgcolor\":\"#E5ECF6\",\"polar\":{\"angularaxis\":{\"gridcolor\":\"white\",\"linecolor\":\"white\",\"ticks\":\"\"},\"bgcolor\":\"#E5ECF6\",\"radialaxis\":{\"gridcolor\":\"white\",\"linecolor\":\"white\",\"ticks\":\"\"}},\"scene\":{\"xaxis\":{\"backgroundcolor\":\"#E5ECF6\",\"gridcolor\":\"white\",\"gridwidth\":2,\"linecolor\":\"white\",\"showbackground\":true,\"ticks\":\"\",\"zerolinecolor\":\"white\"},\"yaxis\":{\"backgroundcolor\":\"#E5ECF6\",\"gridcolor\":\"white\",\"gridwidth\":2,\"linecolor\":\"white\",\"showbackground\":true,\"ticks\":\"\",\"zerolinecolor\":\"white\"},\"zaxis\":{\"backgroundcolor\":\"#E5ECF6\",\"gridcolor\":\"white\",\"gridwidth\":2,\"linecolor\":\"white\",\"showbackground\":true,\"ticks\":\"\",\"zerolinecolor\":\"white\"}},\"shapedefaults\":{\"line\":{\"color\":\"#2a3f5f\"}},\"ternary\":{\"aaxis\":{\"gridcolor\":\"white\",\"linecolor\":\"white\",\"ticks\":\"\"},\"baxis\":{\"gridcolor\":\"white\",\"linecolor\":\"white\",\"ticks\":\"\"},\"bgcolor\":\"#E5ECF6\",\"caxis\":{\"gridcolor\":\"white\",\"linecolor\":\"white\",\"ticks\":\"\"}},\"title\":{\"x\":0.05},\"xaxis\":{\"automargin\":true,\"gridcolor\":\"white\",\"linecolor\":\"white\",\"ticks\":\"\",\"title\":{\"standoff\":15},\"zerolinecolor\":\"white\",\"zerolinewidth\":2},\"yaxis\":{\"automargin\":true,\"gridcolor\":\"white\",\"linecolor\":\"white\",\"ticks\":\"\",\"title\":{\"standoff\":15},\"zerolinecolor\":\"white\",\"zerolinewidth\":2}}},\"xaxis\":{\"anchor\":\"y\",\"domain\":[0.0,1.0],\"title\":{\"text\":\"Ville\"}},\"yaxis\":{\"anchor\":\"x\",\"domain\":[0.0,1.0],\"title\":{\"text\":\"sum of total_eleves_general\"}},\"legend\":{\"tracegroupgap\":0,\"font\":{\"family\":\"Courier\",\"size\":10,\"color\":\"black\"},\"title\":{\"font\":{\"size\":20,\"color\":\"blue\"}}},\"title\":{\"text\":\"Total eleves - GENERAL\"},\"barmode\":\"relative\",\"height\":560,\"width\":950},                        {\"responsive\": true}                    ).then(function(){\n",
       "                            \n",
       "var gd = document.getElementById('44dcedc4-b21f-45ea-9313-9cb46ddcdd14');\n",
       "var x = new MutationObserver(function (mutations, observer) {{\n",
       "        var display = window.getComputedStyle(gd).display;\n",
       "        if (!display || display === 'none') {{\n",
       "            console.log([gd, 'removed!']);\n",
       "            Plotly.purge(gd);\n",
       "            observer.disconnect();\n",
       "        }}\n",
       "}});\n",
       "\n",
       "// Listen for the removal of the full notebook cells\n",
       "var notebookContainer = gd.closest('#notebook-container');\n",
       "if (notebookContainer) {{\n",
       "    x.observe(notebookContainer, {childList: true});\n",
       "}}\n",
       "\n",
       "// Listen for the clearing of the current output cell\n",
       "var outputEl = gd.closest('.output');\n",
       "if (outputEl) {{\n",
       "    x.observe(outputEl, {childList: true});\n",
       "}}\n",
       "\n",
       "                        })                };                });            </script>        </div>"
      ]
     },
     "metadata": {},
     "output_type": "display_data"
    }
   ],
   "source": [
    "df2_bac=df1_bac[df1_bac['Academie']=='PARIS']\n",
    "fig = px.histogram(df2_bac[df2_bac['Annee']==2019].groupby(['Annee','Ville'])['total_eleves_general'].sum().reset_index(), x='Ville',y=\"total_eleves_general\", title='Total eleves - GENERAL', width=950, height=560)\n",
    "fig.update_layout(legend =dict(font = dict(family = \"Courier\", size = 10, color = \"black\")),\n",
    "                  legend_title = dict(font = dict(size = 20, color = \"blue\")))\n",
    "fig.show()"
   ]
  },
  {
   "cell_type": "markdown",
   "id": "010bb4b5",
   "metadata": {},
   "source": [
    "***Au niveau de l'arrondissement, on peut apprécier une présence plus importante d'étudiants appartenant aux sections techniques dans les 6ème, 13ème, 14ème et 19ème. Alors que la section générale n'est pas dans la même proportion, maintenant une forte présence d'étudiants appartenant au 16ème et 06ème arrondissement.***"
   ]
  },
  {
   "cell_type": "markdown",
   "id": "828d35d4",
   "metadata": {},
   "source": [
    "### 1.2.2 BAC général"
   ]
  },
  {
   "cell_type": "code",
   "execution_count": 99,
   "id": "1908fc61",
   "metadata": {},
   "outputs": [],
   "source": [
    "df1=df_bac.loc[df_bac['Academie'] == 'PARIS']\n",
    "df2=df1[['Etablissement','Annee','Ville','Academie','Taux de reussite - L','Taux de reussite - ES','Taux de reussite - S']]"
   ]
  },
  {
   "cell_type": "code",
   "execution_count": 100,
   "id": "4af114be",
   "metadata": {},
   "outputs": [],
   "source": [
    "df3 = df2[['Etablissement','Annee','Ville','Academie','Taux de reussite - L','Taux de reussite - ES','Taux de reussite - S']]\n",
    "df3=df2.loc[df2['Annee'] == 2018.0]"
   ]
  },
  {
   "cell_type": "code",
   "execution_count": 115,
   "id": "3e93ee74",
   "metadata": {},
   "outputs": [
    {
     "data": {
      "text/html": [
       "<div>\n",
       "<style scoped>\n",
       "    .dataframe tbody tr th:only-of-type {\n",
       "        vertical-align: middle;\n",
       "    }\n",
       "\n",
       "    .dataframe tbody tr th {\n",
       "        vertical-align: top;\n",
       "    }\n",
       "\n",
       "    .dataframe thead th {\n",
       "        text-align: right;\n",
       "    }\n",
       "</style>\n",
       "<table border=\"1\" class=\"dataframe\">\n",
       "  <thead>\n",
       "    <tr style=\"text-align: right;\">\n",
       "      <th></th>\n",
       "      <th></th>\n",
       "      <th>avg_tx_réussite_L</th>\n",
       "      <th>avg_tx_réussite_ES</th>\n",
       "      <th>avg_tx_réussite_S</th>\n",
       "    </tr>\n",
       "    <tr>\n",
       "      <th>Ville</th>\n",
       "      <th>Annee</th>\n",
       "      <th></th>\n",
       "      <th></th>\n",
       "      <th></th>\n",
       "    </tr>\n",
       "  </thead>\n",
       "  <tbody>\n",
       "    <tr>\n",
       "      <th>PARIS 03</th>\n",
       "      <th>2018</th>\n",
       "      <td>95.67</td>\n",
       "      <td>95.50</td>\n",
       "      <td>93.00</td>\n",
       "    </tr>\n",
       "    <tr>\n",
       "      <th>PARIS 04</th>\n",
       "      <th>2018</th>\n",
       "      <td>99.50</td>\n",
       "      <td>98.75</td>\n",
       "      <td>99.50</td>\n",
       "    </tr>\n",
       "    <tr>\n",
       "      <th>PARIS 05</th>\n",
       "      <th>2018</th>\n",
       "      <td>100.00</td>\n",
       "      <td>100.00</td>\n",
       "      <td>99.80</td>\n",
       "    </tr>\n",
       "    <tr>\n",
       "      <th>PARIS 06</th>\n",
       "      <th>2018</th>\n",
       "      <td>98.29</td>\n",
       "      <td>97.71</td>\n",
       "      <td>98.50</td>\n",
       "    </tr>\n",
       "    <tr>\n",
       "      <th>PARIS 07</th>\n",
       "      <th>2018</th>\n",
       "      <td>95.75</td>\n",
       "      <td>98.00</td>\n",
       "      <td>99.83</td>\n",
       "    </tr>\n",
       "    <tr>\n",
       "      <th>PARIS 08</th>\n",
       "      <th>2018</th>\n",
       "      <td>99.50</td>\n",
       "      <td>99.67</td>\n",
       "      <td>98.33</td>\n",
       "    </tr>\n",
       "    <tr>\n",
       "      <th>PARIS 09</th>\n",
       "      <th>2018</th>\n",
       "      <td>93.20</td>\n",
       "      <td>93.00</td>\n",
       "      <td>88.60</td>\n",
       "    </tr>\n",
       "    <tr>\n",
       "      <th>PARIS 10</th>\n",
       "      <th>2018</th>\n",
       "      <td>98.25</td>\n",
       "      <td>96.00</td>\n",
       "      <td>95.25</td>\n",
       "    </tr>\n",
       "    <tr>\n",
       "      <th>PARIS 11</th>\n",
       "      <th>2018</th>\n",
       "      <td>94.00</td>\n",
       "      <td>84.00</td>\n",
       "      <td>91.25</td>\n",
       "    </tr>\n",
       "    <tr>\n",
       "      <th>PARIS 12</th>\n",
       "      <th>2018</th>\n",
       "      <td>95.00</td>\n",
       "      <td>93.00</td>\n",
       "      <td>92.83</td>\n",
       "    </tr>\n",
       "    <tr>\n",
       "      <th>PARIS 13</th>\n",
       "      <th>2018</th>\n",
       "      <td>96.40</td>\n",
       "      <td>96.67</td>\n",
       "      <td>93.43</td>\n",
       "    </tr>\n",
       "    <tr>\n",
       "      <th>PARIS 14</th>\n",
       "      <th>2018</th>\n",
       "      <td>83.50</td>\n",
       "      <td>91.00</td>\n",
       "      <td>92.33</td>\n",
       "    </tr>\n",
       "    <tr>\n",
       "      <th>PARIS 15</th>\n",
       "      <th>2018</th>\n",
       "      <td>98.00</td>\n",
       "      <td>89.83</td>\n",
       "      <td>88.50</td>\n",
       "    </tr>\n",
       "    <tr>\n",
       "      <th>PARIS 16</th>\n",
       "      <th>2018</th>\n",
       "      <td>98.20</td>\n",
       "      <td>96.62</td>\n",
       "      <td>96.67</td>\n",
       "    </tr>\n",
       "    <tr>\n",
       "      <th>PARIS 17</th>\n",
       "      <th>2018</th>\n",
       "      <td>97.80</td>\n",
       "      <td>98.80</td>\n",
       "      <td>97.40</td>\n",
       "    </tr>\n",
       "    <tr>\n",
       "      <th>PARIS 18</th>\n",
       "      <th>2018</th>\n",
       "      <td>69.50</td>\n",
       "      <td>94.00</td>\n",
       "      <td>90.67</td>\n",
       "    </tr>\n",
       "    <tr>\n",
       "      <th>PARIS 19</th>\n",
       "      <th>2018</th>\n",
       "      <td>90.00</td>\n",
       "      <td>93.00</td>\n",
       "      <td>92.00</td>\n",
       "    </tr>\n",
       "    <tr>\n",
       "      <th>PARIS 20</th>\n",
       "      <th>2018</th>\n",
       "      <td>100.00</td>\n",
       "      <td>98.50</td>\n",
       "      <td>96.50</td>\n",
       "    </tr>\n",
       "  </tbody>\n",
       "</table>\n",
       "</div>"
      ],
      "text/plain": [
       "                avg_tx_réussite_L  avg_tx_réussite_ES  avg_tx_réussite_S\n",
       "Ville    Annee                                                          \n",
       "PARIS 03 2018               95.67               95.50              93.00\n",
       "PARIS 04 2018               99.50               98.75              99.50\n",
       "PARIS 05 2018              100.00              100.00              99.80\n",
       "PARIS 06 2018               98.29               97.71              98.50\n",
       "PARIS 07 2018               95.75               98.00              99.83\n",
       "PARIS 08 2018               99.50               99.67              98.33\n",
       "PARIS 09 2018               93.20               93.00              88.60\n",
       "PARIS 10 2018               98.25               96.00              95.25\n",
       "PARIS 11 2018               94.00               84.00              91.25\n",
       "PARIS 12 2018               95.00               93.00              92.83\n",
       "PARIS 13 2018               96.40               96.67              93.43\n",
       "PARIS 14 2018               83.50               91.00              92.33\n",
       "PARIS 15 2018               98.00               89.83              88.50\n",
       "PARIS 16 2018               98.20               96.62              96.67\n",
       "PARIS 17 2018               97.80               98.80              97.40\n",
       "PARIS 18 2018               69.50               94.00              90.67\n",
       "PARIS 19 2018               90.00               93.00              92.00\n",
       "PARIS 20 2018              100.00               98.50              96.50"
      ]
     },
     "execution_count": 115,
     "metadata": {},
     "output_type": "execute_result"
    }
   ],
   "source": [
    "df3.groupby(['Ville','Annee']).agg(avg_tx_réussite_L=('Taux de reussite - L','mean'),avg_tx_réussite_ES = ('Taux de reussite - ES', 'mean'),avg_tx_réussite_S = ('Taux de reussite - S', 'mean')).round(2)"
   ]
  },
  {
   "cell_type": "markdown",
   "id": "04f661e8",
   "metadata": {},
   "source": [
    "***En l'année 2018, le 5e arrodissement a obtenu de bons résultats, avec un taux de réussite de près de 100 % sur les trois parcours du Bac, suivi par des taux de réussite élevés pour les élèves des 4e et 8e arrondissements, et des taux de réussite supérieurs à 80 % dans tous les autres arrondissements, à l'exception du 18e arrondissement , qui a enregistré un taux de réussite de seulement 69 % sur le parcours littérature en l'année 2018.***"
   ]
  },
  {
   "cell_type": "markdown",
   "id": "e99a5b1b",
   "metadata": {},
   "source": [
    "### 1.2.3 BAC technique"
   ]
  },
  {
   "cell_type": "code",
   "execution_count": 102,
   "id": "bf67b53b",
   "metadata": {},
   "outputs": [],
   "source": [
    "\n",
    "df2a = df1[['Etablissement','Annee','Ville','Academie','Presents - STG',\n",
    " 'Presents - STI2D',\n",
    " 'Presents - STD2A',\n",
    " 'Presents - STMG',\n",
    " 'Presents - STI',\n",
    " 'Presents - STL',\n",
    " 'Presents - ST2S',\n",
    " 'Presents - TMD',\n",
    " 'Presents - STHR',\n",
    " 'Taux de reussite - STG',\n",
    " 'Taux de reussite - STI2D',\n",
    " 'Taux de reussite - STD2A',\n",
    " 'Taux de reussite - STMG',\n",
    " 'Taux de reussite - STI',\n",
    " 'Taux de reussite - STL',\n",
    " 'Taux de reussite - ST2S',\n",
    " 'Taux de reussite - TMD',\n",
    " 'Taux de reussite - STHR',\n",
    " 'Taux de mentions - STI2D',\n",
    " 'Taux de mentions - STD2A',\n",
    " 'Taux de mentions - STMG',\n",
    " 'Taux de mentions - STL',\n",
    " 'Taux de mentions - ST2S',\n",
    " 'Taux de mentions - TMD',\n",
    " 'Taux de mentions - STHR']]\n",
    "df4=df2a.loc[df2['Annee'] == 2018.0]"
   ]
  },
  {
   "cell_type": "code",
   "execution_count": 103,
   "id": "e83ca863",
   "metadata": {},
   "outputs": [],
   "source": [
    "df_ayuda=df4[[\n",
    " 'Presents - STG',\n",
    " 'Presents - STI2D',\n",
    " 'Presents - STD2A',\n",
    " 'Presents - STMG',\n",
    " 'Presents - STI',\n",
    " 'Presents - STL',\n",
    " 'Presents - ST2S',\n",
    " 'Presents - TMD',\n",
    " 'Presents - STHR',\n",
    " 'Taux de reussite - STG',\n",
    " 'Taux de reussite - STI2D',\n",
    " 'Taux de reussite - STD2A',\n",
    " 'Taux de reussite - STMG',\n",
    " 'Taux de reussite - STI',\n",
    " 'Taux de reussite - STL',\n",
    " 'Taux de reussite - ST2S',\n",
    " 'Taux de reussite - TMD',\n",
    " 'Taux de reussite - STHR',\n",
    " 'Taux de mentions - STI2D',\n",
    " 'Taux de mentions - STD2A',\n",
    " 'Taux de mentions - STMG',\n",
    " 'Taux de mentions - STL',\n",
    " 'Taux de mentions - ST2S',\n",
    " 'Taux de mentions - TMD',\n",
    " 'Taux de mentions - STHR']]  \n",
    "df_ayuda=df_ayuda.fillna(0)\n",
    "df4['total_eleves_technique']=df_ayuda['Presents - STG']+df_ayuda['Presents - STI2D']+df_ayuda['Presents - STD2A']+df_ayuda['Presents - STMG']+df_ayuda['Presents - STI']+df_ayuda['Presents - STL']+df_ayuda['Presents - ST2S']+df_ayuda['Presents - TMD']+df_ayuda['Presents - STHR']\n",
    "df4['Taux_reussite_technique']= (df_ayuda['Presents - STG']*df_ayuda['Taux de reussite - STG']+ df_ayuda['Presents - STI2D']*df_ayuda['Taux de reussite - STI2D']+df_ayuda['Presents - STD2A']*df_ayuda['Taux de reussite - STD2A']+df_ayuda['Presents - STMG']*df_ayuda['Taux de reussite - STMG']+df_ayuda['Presents - STI']*df_ayuda['Taux de reussite - STI']+df_ayuda['Presents - STL']*df_ayuda['Taux de reussite - STL']+df_ayuda['Presents - ST2S']*df_ayuda['Taux de reussite - ST2S']+df_ayuda['Presents - TMD']*df_ayuda['Taux de reussite - TMD']+df_ayuda['Presents - STHR']*df_ayuda['Taux de reussite - STHR'])/df4['total_eleves_technique']"
   ]
  },
  {
   "cell_type": "code",
   "execution_count": 116,
   "id": "80fbc327",
   "metadata": {
    "scrolled": true
   },
   "outputs": [
    {
     "data": {
      "text/html": [
       "<div>\n",
       "<style scoped>\n",
       "    .dataframe tbody tr th:only-of-type {\n",
       "        vertical-align: middle;\n",
       "    }\n",
       "\n",
       "    .dataframe tbody tr th {\n",
       "        vertical-align: top;\n",
       "    }\n",
       "\n",
       "    .dataframe thead th {\n",
       "        text-align: right;\n",
       "    }\n",
       "</style>\n",
       "<table border=\"1\" class=\"dataframe\">\n",
       "  <thead>\n",
       "    <tr style=\"text-align: right;\">\n",
       "      <th></th>\n",
       "      <th></th>\n",
       "      <th>avg_tx_réussite_tech</th>\n",
       "    </tr>\n",
       "    <tr>\n",
       "      <th>Ville</th>\n",
       "      <th>Annee</th>\n",
       "      <th></th>\n",
       "    </tr>\n",
       "  </thead>\n",
       "  <tbody>\n",
       "    <tr>\n",
       "      <th>PARIS 03</th>\n",
       "      <th>2018</th>\n",
       "      <td>91.50</td>\n",
       "    </tr>\n",
       "    <tr>\n",
       "      <th>PARIS 04</th>\n",
       "      <th>2018</th>\n",
       "      <td>100.00</td>\n",
       "    </tr>\n",
       "    <tr>\n",
       "      <th>PARIS 05</th>\n",
       "      <th>2018</th>\n",
       "      <td>97.00</td>\n",
       "    </tr>\n",
       "    <tr>\n",
       "      <th>PARIS 06</th>\n",
       "      <th>2018</th>\n",
       "      <td>99.04</td>\n",
       "    </tr>\n",
       "    <tr>\n",
       "      <th>PARIS 07</th>\n",
       "      <th>2018</th>\n",
       "      <td>98.51</td>\n",
       "    </tr>\n",
       "    <tr>\n",
       "      <th>PARIS 08</th>\n",
       "      <th>2018</th>\n",
       "      <td>98.00</td>\n",
       "    </tr>\n",
       "    <tr>\n",
       "      <th>PARIS 09</th>\n",
       "      <th>2018</th>\n",
       "      <td>82.50</td>\n",
       "    </tr>\n",
       "    <tr>\n",
       "      <th>PARIS 10</th>\n",
       "      <th>2018</th>\n",
       "      <td>NaN</td>\n",
       "    </tr>\n",
       "    <tr>\n",
       "      <th>PARIS 11</th>\n",
       "      <th>2018</th>\n",
       "      <td>95.50</td>\n",
       "    </tr>\n",
       "    <tr>\n",
       "      <th>PARIS 12</th>\n",
       "      <th>2018</th>\n",
       "      <td>92.67</td>\n",
       "    </tr>\n",
       "    <tr>\n",
       "      <th>PARIS 13</th>\n",
       "      <th>2018</th>\n",
       "      <td>97.00</td>\n",
       "    </tr>\n",
       "    <tr>\n",
       "      <th>PARIS 14</th>\n",
       "      <th>2018</th>\n",
       "      <td>88.07</td>\n",
       "    </tr>\n",
       "    <tr>\n",
       "      <th>PARIS 15</th>\n",
       "      <th>2018</th>\n",
       "      <td>86.89</td>\n",
       "    </tr>\n",
       "    <tr>\n",
       "      <th>PARIS 16</th>\n",
       "      <th>2018</th>\n",
       "      <td>95.59</td>\n",
       "    </tr>\n",
       "    <tr>\n",
       "      <th>PARIS 17</th>\n",
       "      <th>2018</th>\n",
       "      <td>94.00</td>\n",
       "    </tr>\n",
       "    <tr>\n",
       "      <th>PARIS 18</th>\n",
       "      <th>2018</th>\n",
       "      <td>94.99</td>\n",
       "    </tr>\n",
       "    <tr>\n",
       "      <th>PARIS 19</th>\n",
       "      <th>2018</th>\n",
       "      <td>92.60</td>\n",
       "    </tr>\n",
       "    <tr>\n",
       "      <th>PARIS 20</th>\n",
       "      <th>2018</th>\n",
       "      <td>90.00</td>\n",
       "    </tr>\n",
       "  </tbody>\n",
       "</table>\n",
       "</div>"
      ],
      "text/plain": [
       "                avg_tx_réussite_tech\n",
       "Ville    Annee                      \n",
       "PARIS 03 2018                  91.50\n",
       "PARIS 04 2018                 100.00\n",
       "PARIS 05 2018                  97.00\n",
       "PARIS 06 2018                  99.04\n",
       "PARIS 07 2018                  98.51\n",
       "PARIS 08 2018                  98.00\n",
       "PARIS 09 2018                  82.50\n",
       "PARIS 10 2018                    NaN\n",
       "PARIS 11 2018                  95.50\n",
       "PARIS 12 2018                  92.67\n",
       "PARIS 13 2018                  97.00\n",
       "PARIS 14 2018                  88.07\n",
       "PARIS 15 2018                  86.89\n",
       "PARIS 16 2018                  95.59\n",
       "PARIS 17 2018                  94.00\n",
       "PARIS 18 2018                  94.99\n",
       "PARIS 19 2018                  92.60\n",
       "PARIS 20 2018                  90.00"
      ]
     },
     "execution_count": 116,
     "metadata": {},
     "output_type": "execute_result"
    }
   ],
   "source": [
    "df4.groupby(['Ville','Annee']).agg(avg_tx_réussite_tech= ('Taux_reussite_technique','mean')).round(2)"
   ]
  },
  {
   "cell_type": "markdown",
   "id": "9c9a06a4",
   "metadata": {},
   "source": [
    "***On observe que les 4e，6e，7e, 8e, 13e arrondissements de Paris sont très performants avec le note moyen supérieur à 95 en l'année 2018 et par contre que les moins performants sont les 9e, 14e et 15e arrondissements de Paris, ils ont eu un note moyen inférieur à 90 en l'année 2018.***"
   ]
  },
  {
   "cell_type": "markdown",
   "id": "a6001fb1",
   "metadata": {},
   "source": [
    "## 1.3 Analyse des données socio-economiques"
   ]
  },
  {
   "cell_type": "code",
   "execution_count": 105,
   "id": "177e6631",
   "metadata": {},
   "outputs": [],
   "source": [
    "#Base de données pour l'analyse de CSP\n",
    "#SOURCE: https://www.insee.fr/fr/statistiques/5395838?sommaire=5395900#consulter\n",
    "idf= pd.read_excel('Ale/Donn/soceco2018.xlsx')"
   ]
  },
  {
   "cell_type": "code",
   "execution_count": 106,
   "id": "c24f5cc9",
   "metadata": {},
   "outputs": [],
   "source": [
    "# Le taux de chomage \n",
    "# Tous 15-64\n",
    "idf['TCHOM1564']= 100*idf['P18_CHOM1564'] / idf['P18_ACT1564']"
   ]
  },
  {
   "cell_type": "code",
   "execution_count": 107,
   "id": "41483ca4",
   "metadata": {},
   "outputs": [],
   "source": [
    "# Part de cadres dans la population active\n",
    "idf['TCADACTOCC1564'] = 100*idf['C18_ACTOCC1564_CS3'] / idf['C18_ACTOCC1564']"
   ]
  },
  {
   "cell_type": "code",
   "execution_count": 108,
   "id": "d40e51d1",
   "metadata": {},
   "outputs": [],
   "source": [
    "# Le taux d'emploi \n",
    "# Tous 15-64\n",
    "idf['TEMPL1564']= 100*idf['P18_ACTOCC1564'] / idf['P18_POP1564']"
   ]
  },
  {
   "cell_type": "code",
   "execution_count": 109,
   "id": "f832ed19",
   "metadata": {},
   "outputs": [],
   "source": [
    "# On vien de computer les statistiques pour les autres categories socioprofessionnelles.\n",
    "# Part d'artisans, commercants et chefs d'entreprise dans la population active\n",
    "idf['TACCACTOCC1564'] = 100*idf['C18_ACTOCC1564_CS2'] / idf['C18_ACTOCC1564']"
   ]
  },
  {
   "cell_type": "code",
   "execution_count": 110,
   "id": "fedaee99",
   "metadata": {},
   "outputs": [],
   "source": [
    "# Part de professionnelles intermediares dans la population active occupée.\n",
    "idf['TINTACTOCC1564'] = 100*idf['C18_ACTOCC1564_CS4'] / idf['C18_ACTOCC1564']"
   ]
  },
  {
   "cell_type": "code",
   "execution_count": 111,
   "id": "93a2a01a",
   "metadata": {},
   "outputs": [],
   "source": [
    "# Part d'employés dans la population active occupée.\n",
    "idf['TEMPLACTOCC1564'] = 100*idf['C18_ACTOCC1564_CS5'] / idf['C18_ACTOCC1564']"
   ]
  },
  {
   "cell_type": "code",
   "execution_count": 112,
   "id": "88b78e05",
   "metadata": {},
   "outputs": [],
   "source": [
    "# Part d'ouvriers dans la population active occupée.\n",
    "idf['TOUVRACTOCC1564'] = 100*idf['C18_ACTOCC1564_CS6'] / idf['C18_ACTOCC1564']"
   ]
  },
  {
   "cell_type": "markdown",
   "id": "0432a330",
   "metadata": {},
   "source": [
    "### Pour une meilleure visualisation et computation des statistiques descriptives on selectionne que les variables qu'on veut observer."
   ]
  },
  {
   "cell_type": "code",
   "execution_count": 113,
   "id": "5d46681c",
   "metadata": {},
   "outputs": [],
   "source": [
    "idf= idf[['CODGEO','DEP','LIBGEO','TEMPL1564','TCHOM1564','TCADACTOCC1564','TACCACTOCC1564','TINTACTOCC1564','TEMPLACTOCC1564',\n",
    "         'TOUVRACTOCC1564']]\n",
    "# On selectionne que les colomnes que on utiliserà "
   ]
  },
  {
   "cell_type": "code",
   "execution_count": 114,
   "id": "329bcba5",
   "metadata": {},
   "outputs": [
    {
     "data": {
      "text/html": [
       "<div>\n",
       "<style scoped>\n",
       "    .dataframe tbody tr th:only-of-type {\n",
       "        vertical-align: middle;\n",
       "    }\n",
       "\n",
       "    .dataframe tbody tr th {\n",
       "        vertical-align: top;\n",
       "    }\n",
       "\n",
       "    .dataframe thead tr th {\n",
       "        text-align: left;\n",
       "    }\n",
       "\n",
       "    .dataframe thead tr:last-of-type th {\n",
       "        text-align: right;\n",
       "    }\n",
       "</style>\n",
       "<table border=\"1\" class=\"dataframe\">\n",
       "  <thead>\n",
       "    <tr>\n",
       "      <th></th>\n",
       "      <th colspan=\"2\" halign=\"left\">TEMPL1564</th>\n",
       "      <th colspan=\"2\" halign=\"left\">TCHOM1564</th>\n",
       "      <th colspan=\"2\" halign=\"left\">TCADACTOCC1564</th>\n",
       "      <th colspan=\"2\" halign=\"left\">TACCACTOCC1564</th>\n",
       "      <th colspan=\"2\" halign=\"left\">TINTACTOCC1564</th>\n",
       "      <th colspan=\"2\" halign=\"left\">TEMPLACTOCC1564</th>\n",
       "      <th colspan=\"2\" halign=\"left\">TOUVRACTOCC1564</th>\n",
       "    </tr>\n",
       "    <tr>\n",
       "      <th></th>\n",
       "      <th>mean</th>\n",
       "      <th>std</th>\n",
       "      <th>mean</th>\n",
       "      <th>std</th>\n",
       "      <th>mean</th>\n",
       "      <th>std</th>\n",
       "      <th>mean</th>\n",
       "      <th>std</th>\n",
       "      <th>mean</th>\n",
       "      <th>std</th>\n",
       "      <th>mean</th>\n",
       "      <th>std</th>\n",
       "      <th>mean</th>\n",
       "      <th>std</th>\n",
       "    </tr>\n",
       "    <tr>\n",
       "      <th>DEP</th>\n",
       "      <th></th>\n",
       "      <th></th>\n",
       "      <th></th>\n",
       "      <th></th>\n",
       "      <th></th>\n",
       "      <th></th>\n",
       "      <th></th>\n",
       "      <th></th>\n",
       "      <th></th>\n",
       "      <th></th>\n",
       "      <th></th>\n",
       "      <th></th>\n",
       "      <th></th>\n",
       "      <th></th>\n",
       "    </tr>\n",
       "  </thead>\n",
       "  <tbody>\n",
       "    <tr>\n",
       "      <th>75</th>\n",
       "      <td>69.78</td>\n",
       "      <td>3.68</td>\n",
       "      <td>10.84</td>\n",
       "      <td>1.87</td>\n",
       "      <td>50.65</td>\n",
       "      <td>5.47</td>\n",
       "      <td>6.65</td>\n",
       "      <td>2.12</td>\n",
       "      <td>21.08</td>\n",
       "      <td>2.65</td>\n",
       "      <td>16.41</td>\n",
       "      <td>3.12</td>\n",
       "      <td>5.18</td>\n",
       "      <td>1.74</td>\n",
       "    </tr>\n",
       "    <tr>\n",
       "      <th>92</th>\n",
       "      <td>70.01</td>\n",
       "      <td>4.14</td>\n",
       "      <td>10.49</td>\n",
       "      <td>2.79</td>\n",
       "      <td>42.47</td>\n",
       "      <td>10.42</td>\n",
       "      <td>5.15</td>\n",
       "      <td>1.63</td>\n",
       "      <td>23.89</td>\n",
       "      <td>2.37</td>\n",
       "      <td>20.86</td>\n",
       "      <td>5.98</td>\n",
       "      <td>7.61</td>\n",
       "      <td>4.07</td>\n",
       "    </tr>\n",
       "    <tr>\n",
       "      <th>93</th>\n",
       "      <td>60.95</td>\n",
       "      <td>6.19</td>\n",
       "      <td>17.03</td>\n",
       "      <td>4.35</td>\n",
       "      <td>16.78</td>\n",
       "      <td>8.19</td>\n",
       "      <td>5.46</td>\n",
       "      <td>1.04</td>\n",
       "      <td>25.20</td>\n",
       "      <td>4.07</td>\n",
       "      <td>32.61</td>\n",
       "      <td>5.51</td>\n",
       "      <td>19.93</td>\n",
       "      <td>6.36</td>\n",
       "    </tr>\n",
       "    <tr>\n",
       "      <th>94</th>\n",
       "      <td>67.32</td>\n",
       "      <td>4.31</td>\n",
       "      <td>11.70</td>\n",
       "      <td>3.20</td>\n",
       "      <td>26.75</td>\n",
       "      <td>10.68</td>\n",
       "      <td>5.48</td>\n",
       "      <td>1.73</td>\n",
       "      <td>27.16</td>\n",
       "      <td>2.79</td>\n",
       "      <td>27.37</td>\n",
       "      <td>5.91</td>\n",
       "      <td>13.19</td>\n",
       "      <td>5.78</td>\n",
       "    </tr>\n",
       "  </tbody>\n",
       "</table>\n",
       "</div>"
      ],
      "text/plain": [
       "    TEMPL1564       TCHOM1564       TCADACTOCC1564        TACCACTOCC1564  \\\n",
       "         mean   std      mean   std           mean    std           mean   \n",
       "DEP                                                                        \n",
       "75      69.78  3.68     10.84  1.87          50.65   5.47           6.65   \n",
       "92      70.01  4.14     10.49  2.79          42.47  10.42           5.15   \n",
       "93      60.95  6.19     17.03  4.35          16.78   8.19           5.46   \n",
       "94      67.32  4.31     11.70  3.20          26.75  10.68           5.48   \n",
       "\n",
       "          TINTACTOCC1564       TEMPLACTOCC1564       TOUVRACTOCC1564        \n",
       "      std           mean   std            mean   std            mean   std  \n",
       "DEP                                                                         \n",
       "75   2.12          21.08  2.65           16.41  3.12            5.18  1.74  \n",
       "92   1.63          23.89  2.37           20.86  5.98            7.61  4.07  \n",
       "93   1.04          25.20  4.07           32.61  5.51           19.93  6.36  \n",
       "94   1.73          27.16  2.79           27.37  5.91           13.19  5.78  "
      ]
     },
     "execution_count": 114,
     "metadata": {},
     "output_type": "execute_result"
    }
   ],
   "source": [
    "idf.groupby('DEP')['TEMPL1564','TCHOM1564','TCADACTOCC1564','TACCACTOCC1564','TINTACTOCC1564','TEMPLACTOCC1564',\n",
    "         'TOUVRACTOCC1564'].agg(['mean','std']).round(2)\n",
    "# On montre le moyenne et la deviation standard pour les données"
   ]
  },
  {
   "cell_type": "markdown",
   "id": "be3fd286",
   "metadata": {},
   "source": [
    "***Le taux d'emploi est plus élevé dans le haut de seine comme le taux de chommage que dans ce cas est le plus bas en moyenne.\n",
    "Dans Paris il y a moins d'ouvriers ou employées que dans la petite couronne, en particulier si on regarde la difference entre Paris et le departements 93/94 la difference est plus elevée. Ce constat est aussi observable dans le fait que il y a plus de cadres a Paris et dans le Hauts-de-Seine que dans le departements de Seine-Saint-Denis et Val-de-Marne.***"
   ]
  },
  {
   "cell_type": "code",
   "execution_count": 35,
   "id": "9fb47819",
   "metadata": {},
   "outputs": [
    {
     "data": {
      "text/html": [
       "<div>\n",
       "<style scoped>\n",
       "    .dataframe tbody tr th:only-of-type {\n",
       "        vertical-align: middle;\n",
       "    }\n",
       "\n",
       "    .dataframe tbody tr th {\n",
       "        vertical-align: top;\n",
       "    }\n",
       "\n",
       "    .dataframe thead tr th {\n",
       "        text-align: left;\n",
       "    }\n",
       "\n",
       "    .dataframe thead tr:last-of-type th {\n",
       "        text-align: right;\n",
       "    }\n",
       "</style>\n",
       "<table border=\"1\" class=\"dataframe\">\n",
       "  <thead>\n",
       "    <tr>\n",
       "      <th></th>\n",
       "      <th>TEMPL1564</th>\n",
       "      <th>TCHOM1564</th>\n",
       "      <th>TCADACTOCC1564</th>\n",
       "      <th>TACCACTOCC1564</th>\n",
       "      <th>TINTACTOCC1564</th>\n",
       "      <th>TEMPLACTOCC1564</th>\n",
       "      <th>TOUVRACTOCC1564</th>\n",
       "    </tr>\n",
       "    <tr>\n",
       "      <th></th>\n",
       "      <th>mean</th>\n",
       "      <th>mean</th>\n",
       "      <th>mean</th>\n",
       "      <th>mean</th>\n",
       "      <th>mean</th>\n",
       "      <th>mean</th>\n",
       "      <th>mean</th>\n",
       "    </tr>\n",
       "    <tr>\n",
       "      <th>CODGEO</th>\n",
       "      <th></th>\n",
       "      <th></th>\n",
       "      <th></th>\n",
       "      <th></th>\n",
       "      <th></th>\n",
       "      <th></th>\n",
       "      <th></th>\n",
       "    </tr>\n",
       "  </thead>\n",
       "  <tbody>\n",
       "    <tr>\n",
       "      <th>75101</th>\n",
       "      <td>70.41</td>\n",
       "      <td>10.65</td>\n",
       "      <td>51.09</td>\n",
       "      <td>9.33</td>\n",
       "      <td>19.83</td>\n",
       "      <td>15.34</td>\n",
       "      <td>4.41</td>\n",
       "    </tr>\n",
       "    <tr>\n",
       "      <th>75102</th>\n",
       "      <td>76.80</td>\n",
       "      <td>9.79</td>\n",
       "      <td>53.83</td>\n",
       "      <td>7.93</td>\n",
       "      <td>19.79</td>\n",
       "      <td>13.42</td>\n",
       "      <td>4.99</td>\n",
       "    </tr>\n",
       "    <tr>\n",
       "      <th>75103</th>\n",
       "      <td>74.05</td>\n",
       "      <td>9.96</td>\n",
       "      <td>52.60</td>\n",
       "      <td>8.07</td>\n",
       "      <td>21.97</td>\n",
       "      <td>13.86</td>\n",
       "      <td>3.50</td>\n",
       "    </tr>\n",
       "    <tr>\n",
       "      <th>75104</th>\n",
       "      <td>70.60</td>\n",
       "      <td>11.09</td>\n",
       "      <td>50.92</td>\n",
       "      <td>7.70</td>\n",
       "      <td>22.06</td>\n",
       "      <td>15.56</td>\n",
       "      <td>3.69</td>\n",
       "    </tr>\n",
       "    <tr>\n",
       "      <th>75105</th>\n",
       "      <td>65.00</td>\n",
       "      <td>9.15</td>\n",
       "      <td>57.44</td>\n",
       "      <td>6.38</td>\n",
       "      <td>19.62</td>\n",
       "      <td>13.04</td>\n",
       "      <td>3.49</td>\n",
       "    </tr>\n",
       "    <tr>\n",
       "      <th>75106</th>\n",
       "      <td>62.97</td>\n",
       "      <td>9.62</td>\n",
       "      <td>55.75</td>\n",
       "      <td>9.26</td>\n",
       "      <td>17.60</td>\n",
       "      <td>13.44</td>\n",
       "      <td>3.86</td>\n",
       "    </tr>\n",
       "    <tr>\n",
       "      <th>75107</th>\n",
       "      <td>68.32</td>\n",
       "      <td>9.01</td>\n",
       "      <td>54.25</td>\n",
       "      <td>9.73</td>\n",
       "      <td>16.87</td>\n",
       "      <td>15.27</td>\n",
       "      <td>3.80</td>\n",
       "    </tr>\n",
       "    <tr>\n",
       "      <th>75108</th>\n",
       "      <td>70.80</td>\n",
       "      <td>8.23</td>\n",
       "      <td>53.14</td>\n",
       "      <td>9.46</td>\n",
       "      <td>16.89</td>\n",
       "      <td>15.66</td>\n",
       "      <td>4.78</td>\n",
       "    </tr>\n",
       "    <tr>\n",
       "      <th>75109</th>\n",
       "      <td>75.28</td>\n",
       "      <td>9.47</td>\n",
       "      <td>57.48</td>\n",
       "      <td>7.74</td>\n",
       "      <td>18.82</td>\n",
       "      <td>11.95</td>\n",
       "      <td>3.98</td>\n",
       "    </tr>\n",
       "    <tr>\n",
       "      <th>75110</th>\n",
       "      <td>71.41</td>\n",
       "      <td>12.17</td>\n",
       "      <td>51.43</td>\n",
       "      <td>5.78</td>\n",
       "      <td>21.81</td>\n",
       "      <td>15.51</td>\n",
       "      <td>5.45</td>\n",
       "    </tr>\n",
       "    <tr>\n",
       "      <th>75111</th>\n",
       "      <td>73.67</td>\n",
       "      <td>11.10</td>\n",
       "      <td>51.73</td>\n",
       "      <td>4.91</td>\n",
       "      <td>23.68</td>\n",
       "      <td>15.01</td>\n",
       "      <td>4.66</td>\n",
       "    </tr>\n",
       "    <tr>\n",
       "      <th>75112</th>\n",
       "      <td>71.79</td>\n",
       "      <td>10.39</td>\n",
       "      <td>49.03</td>\n",
       "      <td>4.21</td>\n",
       "      <td>24.18</td>\n",
       "      <td>17.18</td>\n",
       "      <td>5.38</td>\n",
       "    </tr>\n",
       "    <tr>\n",
       "      <th>75113</th>\n",
       "      <td>66.81</td>\n",
       "      <td>12.59</td>\n",
       "      <td>43.90</td>\n",
       "      <td>4.02</td>\n",
       "      <td>23.84</td>\n",
       "      <td>21.28</td>\n",
       "      <td>6.94</td>\n",
       "    </tr>\n",
       "    <tr>\n",
       "      <th>75114</th>\n",
       "      <td>67.03</td>\n",
       "      <td>11.07</td>\n",
       "      <td>52.37</td>\n",
       "      <td>4.16</td>\n",
       "      <td>21.46</td>\n",
       "      <td>17.17</td>\n",
       "      <td>4.81</td>\n",
       "    </tr>\n",
       "    <tr>\n",
       "      <th>75115</th>\n",
       "      <td>70.45</td>\n",
       "      <td>9.65</td>\n",
       "      <td>54.12</td>\n",
       "      <td>4.48</td>\n",
       "      <td>21.00</td>\n",
       "      <td>16.13</td>\n",
       "      <td>4.26</td>\n",
       "    </tr>\n",
       "    <tr>\n",
       "      <th>75116</th>\n",
       "      <td>66.53</td>\n",
       "      <td>9.54</td>\n",
       "      <td>51.16</td>\n",
       "      <td>9.56</td>\n",
       "      <td>17.93</td>\n",
       "      <td>16.95</td>\n",
       "      <td>4.31</td>\n",
       "    </tr>\n",
       "    <tr>\n",
       "      <th>75117</th>\n",
       "      <td>71.39</td>\n",
       "      <td>10.92</td>\n",
       "      <td>52.27</td>\n",
       "      <td>6.20</td>\n",
       "      <td>20.44</td>\n",
       "      <td>15.91</td>\n",
       "      <td>5.16</td>\n",
       "    </tr>\n",
       "    <tr>\n",
       "      <th>75118</th>\n",
       "      <td>70.35</td>\n",
       "      <td>12.07</td>\n",
       "      <td>43.24</td>\n",
       "      <td>4.93</td>\n",
       "      <td>23.87</td>\n",
       "      <td>19.53</td>\n",
       "      <td>8.39</td>\n",
       "    </tr>\n",
       "    <tr>\n",
       "      <th>75119</th>\n",
       "      <td>64.58</td>\n",
       "      <td>15.95</td>\n",
       "      <td>37.79</td>\n",
       "      <td>4.70</td>\n",
       "      <td>24.21</td>\n",
       "      <td>23.97</td>\n",
       "      <td>9.31</td>\n",
       "    </tr>\n",
       "    <tr>\n",
       "      <th>75120</th>\n",
       "      <td>67.28</td>\n",
       "      <td>14.37</td>\n",
       "      <td>39.35</td>\n",
       "      <td>4.47</td>\n",
       "      <td>25.71</td>\n",
       "      <td>21.96</td>\n",
       "      <td>8.48</td>\n",
       "    </tr>\n",
       "  </tbody>\n",
       "</table>\n",
       "</div>"
      ],
      "text/plain": [
       "       TEMPL1564 TCHOM1564 TCADACTOCC1564 TACCACTOCC1564 TINTACTOCC1564  \\\n",
       "            mean      mean           mean           mean           mean   \n",
       "CODGEO                                                                    \n",
       "75101      70.41     10.65          51.09           9.33          19.83   \n",
       "75102      76.80      9.79          53.83           7.93          19.79   \n",
       "75103      74.05      9.96          52.60           8.07          21.97   \n",
       "75104      70.60     11.09          50.92           7.70          22.06   \n",
       "75105      65.00      9.15          57.44           6.38          19.62   \n",
       "75106      62.97      9.62          55.75           9.26          17.60   \n",
       "75107      68.32      9.01          54.25           9.73          16.87   \n",
       "75108      70.80      8.23          53.14           9.46          16.89   \n",
       "75109      75.28      9.47          57.48           7.74          18.82   \n",
       "75110      71.41     12.17          51.43           5.78          21.81   \n",
       "75111      73.67     11.10          51.73           4.91          23.68   \n",
       "75112      71.79     10.39          49.03           4.21          24.18   \n",
       "75113      66.81     12.59          43.90           4.02          23.84   \n",
       "75114      67.03     11.07          52.37           4.16          21.46   \n",
       "75115      70.45      9.65          54.12           4.48          21.00   \n",
       "75116      66.53      9.54          51.16           9.56          17.93   \n",
       "75117      71.39     10.92          52.27           6.20          20.44   \n",
       "75118      70.35     12.07          43.24           4.93          23.87   \n",
       "75119      64.58     15.95          37.79           4.70          24.21   \n",
       "75120      67.28     14.37          39.35           4.47          25.71   \n",
       "\n",
       "       TEMPLACTOCC1564 TOUVRACTOCC1564  \n",
       "                  mean            mean  \n",
       "CODGEO                                  \n",
       "75101            15.34            4.41  \n",
       "75102            13.42            4.99  \n",
       "75103            13.86            3.50  \n",
       "75104            15.56            3.69  \n",
       "75105            13.04            3.49  \n",
       "75106            13.44            3.86  \n",
       "75107            15.27            3.80  \n",
       "75108            15.66            4.78  \n",
       "75109            11.95            3.98  \n",
       "75110            15.51            5.45  \n",
       "75111            15.01            4.66  \n",
       "75112            17.18            5.38  \n",
       "75113            21.28            6.94  \n",
       "75114            17.17            4.81  \n",
       "75115            16.13            4.26  \n",
       "75116            16.95            4.31  \n",
       "75117            15.91            5.16  \n",
       "75118            19.53            8.39  \n",
       "75119            23.97            9.31  \n",
       "75120            21.96            8.48  "
      ]
     },
     "execution_count": 35,
     "metadata": {},
     "output_type": "execute_result"
    }
   ],
   "source": [
    "idf.loc[idf['DEP'] == 75].groupby('CODGEO')['TEMPL1564','TCHOM1564','TCADACTOCC1564','TACCACTOCC1564','TINTACTOCC1564','TEMPLACTOCC1564',\n",
    "         'TOUVRACTOCC1564'].agg(['mean']).round(2)"
   ]
  },
  {
   "cell_type": "markdown",
   "id": "395f299e",
   "metadata": {},
   "source": [
    "***Pour Paris, le taux de chommage est plus élevé dans le 19ème et 20ème arrondissements mais le taux d'emploi est plus bas dans le 6ème. Pour ce que regarde les catégories socio-professionnelles les cadres se situent hors 19ème et 20ème arrondissements que sont aussi les arrondissements avec le plus d'employées.***"
   ]
  }
 ],
 "metadata": {
  "kernelspec": {
   "display_name": "Python 3 (ipykernel)",
   "language": "python",
   "name": "python3"
  },
  "language_info": {
   "codemirror_mode": {
    "name": "ipython",
    "version": 3
   },
   "file_extension": ".py",
   "mimetype": "text/x-python",
   "name": "python",
   "nbconvert_exporter": "python",
   "pygments_lexer": "ipython3",
   "version": "3.9.9"
  }
 },
 "nbformat": 4,
 "nbformat_minor": 5
}
