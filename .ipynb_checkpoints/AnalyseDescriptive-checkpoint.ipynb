{
 "cells": [
  {
   "cell_type": "markdown",
   "id": "4a7325ab",
   "metadata": {},
   "source": [
    "# Partie 0: Traitement des données et libraries"
   ]
  },
  {
   "cell_type": "code",
   "execution_count": 5,
   "id": "5fed6552",
   "metadata": {},
   "outputs": [
    {
     "ename": "ModuleNotFoundError",
     "evalue": "No module named 'seaborn'",
     "output_type": "error",
     "traceback": [
      "\u001b[1;31m---------------------------------------------------------------------------\u001b[0m",
      "\u001b[1;31mModuleNotFoundError\u001b[0m                       Traceback (most recent call last)",
      "\u001b[1;32m~\\AppData\\Local\\Temp/ipykernel_16324/4052762101.py\u001b[0m in \u001b[0;36m<module>\u001b[1;34m\u001b[0m\n\u001b[0;32m      6\u001b[0m \u001b[1;31m#from pandas_profiling import ProfileReport\u001b[0m\u001b[1;33m\u001b[0m\u001b[1;33m\u001b[0m\u001b[0m\n\u001b[0;32m      7\u001b[0m \u001b[1;32mimport\u001b[0m \u001b[0mdatetime\u001b[0m \u001b[1;32mas\u001b[0m \u001b[0mdt\u001b[0m\u001b[1;33m\u001b[0m\u001b[1;33m\u001b[0m\u001b[0m\n\u001b[1;32m----> 8\u001b[1;33m \u001b[1;32mimport\u001b[0m \u001b[0mseaborn\u001b[0m \u001b[1;32mas\u001b[0m \u001b[0msns\u001b[0m\u001b[1;33m\u001b[0m\u001b[1;33m\u001b[0m\u001b[0m\n\u001b[0m\u001b[0;32m      9\u001b[0m \u001b[1;32mimport\u001b[0m \u001b[0mplotly\u001b[0m\u001b[1;33m.\u001b[0m\u001b[0mexpress\u001b[0m \u001b[1;32mas\u001b[0m \u001b[0mpx\u001b[0m\u001b[1;33m\u001b[0m\u001b[1;33m\u001b[0m\u001b[0m\n\u001b[0;32m     10\u001b[0m \u001b[0mget_ipython\u001b[0m\u001b[1;33m(\u001b[0m\u001b[1;33m)\u001b[0m\u001b[1;33m.\u001b[0m\u001b[0mrun_line_magic\u001b[0m\u001b[1;33m(\u001b[0m\u001b[1;34m'matplotlib'\u001b[0m\u001b[1;33m,\u001b[0m \u001b[1;34m'inline'\u001b[0m\u001b[1;33m)\u001b[0m\u001b[1;33m\u001b[0m\u001b[1;33m\u001b[0m\u001b[0m\n",
      "\u001b[1;31mModuleNotFoundError\u001b[0m: No module named 'seaborn'"
     ]
    }
   ],
   "source": [
    "import pandas as pd\n",
    "import numpy as np\n",
    "#import edatk as eda\n",
    "import math\n",
    "from matplotlib import pyplot as plt\n",
    "#from pandas_profiling import ProfileReport\n",
    "import datetime as dt\n",
    "import seaborn as sns\n",
    "import plotly.express as px\n",
    "%matplotlib inline\n",
    "import sys\n",
    "import warnings\n",
    "from  matplotlib.colors import LinearSegmentedColormap\n",
    "if not sys.warnoptions:\n",
    "    warnings.simplefilter(\"ignore\")\n",
    "pd.options.display.max_columns = None\n",
    "pd.options.display.max_rows = None"
   ]
  },
  {
   "cell_type": "code",
   "execution_count": 2,
   "id": "cc6a2203",
   "metadata": {},
   "outputs": [
    {
     "ename": "NameError",
     "evalue": "name 'read_csv' is not defined",
     "output_type": "error",
     "traceback": [
      "\u001b[0;31m---------------------------------------------------------------------------\u001b[0m",
      "\u001b[0;31mNameError\u001b[0m                                 Traceback (most recent call last)",
      "\u001b[0;32m<ipython-input-2-a2e29b2f7701>\u001b[0m in \u001b[0;36m<module>\u001b[0;34m\u001b[0m\n\u001b[1;32m      1\u001b[0m \u001b[0mdf_brevet\u001b[0m\u001b[0;34m=\u001b[0m\u001b[0mpd\u001b[0m\u001b[0;34m.\u001b[0m\u001b[0mread_csv\u001b[0m\u001b[0;34m(\u001b[0m\u001b[0;34m\"/Users/macbook/Desktop/fr-en-dnb-par-etablissement.csv\"\u001b[0m\u001b[0;34m,\u001b[0m  \u001b[0mencoding\u001b[0m\u001b[0;34m=\u001b[0m\u001b[0;34m'utf-8-sig'\u001b[0m\u001b[0;34m,\u001b[0m \u001b[0msep\u001b[0m\u001b[0;34m=\u001b[0m\u001b[0;34m';'\u001b[0m\u001b[0;34m,\u001b[0m\u001b[0mna_values\u001b[0m\u001b[0;34m=\u001b[0m\u001b[0;34m[\u001b[0m\u001b[0;34m\"-\"\u001b[0m\u001b[0;34m]\u001b[0m\u001b[0;34m)\u001b[0m\u001b[0;34m\u001b[0m\u001b[0;34m\u001b[0m\u001b[0m\n\u001b[0;32m----> 2\u001b[0;31m \u001b[0mdf\u001b[0m \u001b[0;34m=\u001b[0m \u001b[0mread_csv\u001b[0m\u001b[0;34m(\u001b[0m\u001b[0;34m'/Users/macbook/Desktop/fr-en-indicateurs-de-resultat-des-lycees-denseignement-general-et-technologique.csv'\u001b[0m\u001b[0;34m)\u001b[0m\u001b[0;34m\u001b[0m\u001b[0;34m\u001b[0m\u001b[0m\n\u001b[0m",
      "\u001b[0;31mNameError\u001b[0m: name 'read_csv' is not defined"
     ]
    }
   ],
   "source": [
    "df_brevet=pd.read_csv(\"/Users/macbook/Desktop/fr-en-dnb-par-etablissement.csv\",  encoding='utf-8-sig', sep=';',na_values=[\"-\"])\n"
   ]
  },
  {
   "cell_type": "code",
   "execution_count": null,
   "id": "2f443ab2",
   "metadata": {},
   "outputs": [],
   "source": [
    "# Base de données pour l'analyse de BAC\n",
    "df =pd.read_csv('/Users/macbook/Desktop/fr-en-indicateurs-de-resultat-des-lycees-denseignement-general-et-technologique.csv')"
   ]
  },
  {
   "cell_type": "code",
   "execution_count": 3,
   "id": "2c699f2f",
   "metadata": {},
   "outputs": [],
   "source": [
    "#Traiter les données pour transformer en valeur flotante\n",
    "df_brevet['taux_de_reussite']=df_brevet['taux_de_reussite'].replace('[\\%,]', '', regex=True).astype(float)/100"
   ]
  },
  {
   "cell_type": "code",
   "execution_count": 4,
   "id": "38062ec7",
   "metadata": {},
   "outputs": [
    {
     "data": {
      "text/html": [
       "<div>\n",
       "<style scoped>\n",
       "    .dataframe tbody tr th:only-of-type {\n",
       "        vertical-align: middle;\n",
       "    }\n",
       "\n",
       "    .dataframe tbody tr th {\n",
       "        vertical-align: top;\n",
       "    }\n",
       "\n",
       "    .dataframe thead th {\n",
       "        text-align: right;\n",
       "    }\n",
       "</style>\n",
       "<table border=\"1\" class=\"dataframe\">\n",
       "  <thead>\n",
       "    <tr style=\"text-align: right;\">\n",
       "      <th></th>\n",
       "      <th>session</th>\n",
       "      <th>numero_d_etablissement</th>\n",
       "      <th>denomination_principale</th>\n",
       "      <th>patronyme</th>\n",
       "      <th>secteur_d_enseignement</th>\n",
       "      <th>commune_et_arrondissement</th>\n",
       "      <th>commune_et_arrondissement_lib_l</th>\n",
       "      <th>departement</th>\n",
       "      <th>departement_libelle</th>\n",
       "      <th>academie</th>\n",
       "      <th>...</th>\n",
       "      <th>region</th>\n",
       "      <th>region_libelle</th>\n",
       "      <th>nombre_d_inscrits</th>\n",
       "      <th>nombre_de_presents</th>\n",
       "      <th>nombre_total_d_admis</th>\n",
       "      <th>nombre_d_admis_sans_mention</th>\n",
       "      <th>nombre_d_admis_mention_ab</th>\n",
       "      <th>nombre_d_admis_mention_b</th>\n",
       "      <th>nombre_d_admis_mention_tb</th>\n",
       "      <th>taux_de_reussite</th>\n",
       "    </tr>\n",
       "  </thead>\n",
       "  <tbody>\n",
       "    <tr>\n",
       "      <th>0</th>\n",
       "      <td>2007</td>\n",
       "      <td>0240106K</td>\n",
       "      <td>COLLEGE</td>\n",
       "      <td>&lt;NA&gt;</td>\n",
       "      <td>PUBLIC</td>\n",
       "      <td>24568</td>\n",
       "      <td>VELINES</td>\n",
       "      <td>024</td>\n",
       "      <td>DORDOGNE</td>\n",
       "      <td>4</td>\n",
       "      <td>...</td>\n",
       "      <td>15</td>\n",
       "      <td>NOUVELLE-AQUITAINE</td>\n",
       "      <td>47</td>\n",
       "      <td>46</td>\n",
       "      <td>41</td>\n",
       "      <td>21</td>\n",
       "      <td>13</td>\n",
       "      <td>4</td>\n",
       "      <td>3</td>\n",
       "      <td>89.1</td>\n",
       "    </tr>\n",
       "    <tr>\n",
       "      <th>1</th>\n",
       "      <td>2007</td>\n",
       "      <td>0240158S</td>\n",
       "      <td>COLLEGE</td>\n",
       "      <td>JEAN MONNET</td>\n",
       "      <td>PUBLIC</td>\n",
       "      <td>24223</td>\n",
       "      <td>LALINDE</td>\n",
       "      <td>024</td>\n",
       "      <td>DORDOGNE</td>\n",
       "      <td>4</td>\n",
       "      <td>...</td>\n",
       "      <td>15</td>\n",
       "      <td>NOUVELLE-AQUITAINE</td>\n",
       "      <td>85</td>\n",
       "      <td>84</td>\n",
       "      <td>70</td>\n",
       "      <td>37</td>\n",
       "      <td>25</td>\n",
       "      <td>7</td>\n",
       "      <td>1</td>\n",
       "      <td>83.3</td>\n",
       "    </tr>\n",
       "    <tr>\n",
       "      <th>2</th>\n",
       "      <td>2007</td>\n",
       "      <td>0240650B</td>\n",
       "      <td>COLLEGE</td>\n",
       "      <td>ARTHUR RIMBAUD</td>\n",
       "      <td>PUBLIC</td>\n",
       "      <td>24372</td>\n",
       "      <td>SAINT-ASTIER</td>\n",
       "      <td>024</td>\n",
       "      <td>DORDOGNE</td>\n",
       "      <td>4</td>\n",
       "      <td>...</td>\n",
       "      <td>15</td>\n",
       "      <td>NOUVELLE-AQUITAINE</td>\n",
       "      <td>109</td>\n",
       "      <td>108</td>\n",
       "      <td>105</td>\n",
       "      <td>52</td>\n",
       "      <td>34</td>\n",
       "      <td>16</td>\n",
       "      <td>3</td>\n",
       "      <td>97.2</td>\n",
       "    </tr>\n",
       "    <tr>\n",
       "      <th>3</th>\n",
       "      <td>2007</td>\n",
       "      <td>0241033T</td>\n",
       "      <td>LYCEE PROFESSIONNEL</td>\n",
       "      <td>LE CLUZEAU</td>\n",
       "      <td>PRIVE</td>\n",
       "      <td>24534</td>\n",
       "      <td>SIGOULES-ET-FLAUGEAC</td>\n",
       "      <td>024</td>\n",
       "      <td>DORDOGNE</td>\n",
       "      <td>4</td>\n",
       "      <td>...</td>\n",
       "      <td>15</td>\n",
       "      <td>NOUVELLE-AQUITAINE</td>\n",
       "      <td>39</td>\n",
       "      <td>39</td>\n",
       "      <td>38</td>\n",
       "      <td>13</td>\n",
       "      <td>18</td>\n",
       "      <td>7</td>\n",
       "      <td>0</td>\n",
       "      <td>97.4</td>\n",
       "    </tr>\n",
       "    <tr>\n",
       "      <th>4</th>\n",
       "      <td>2007</td>\n",
       "      <td>0241042C</td>\n",
       "      <td>COLLEGE</td>\n",
       "      <td>BERTRAN DE BORN</td>\n",
       "      <td>PUBLIC</td>\n",
       "      <td>24322</td>\n",
       "      <td>PERIGUEUX</td>\n",
       "      <td>024</td>\n",
       "      <td>DORDOGNE</td>\n",
       "      <td>4</td>\n",
       "      <td>...</td>\n",
       "      <td>15</td>\n",
       "      <td>NOUVELLE-AQUITAINE</td>\n",
       "      <td>122</td>\n",
       "      <td>121</td>\n",
       "      <td>106</td>\n",
       "      <td>34</td>\n",
       "      <td>32</td>\n",
       "      <td>24</td>\n",
       "      <td>16</td>\n",
       "      <td>87.6</td>\n",
       "    </tr>\n",
       "    <tr>\n",
       "      <th>...</th>\n",
       "      <td>...</td>\n",
       "      <td>...</td>\n",
       "      <td>...</td>\n",
       "      <td>...</td>\n",
       "      <td>...</td>\n",
       "      <td>...</td>\n",
       "      <td>...</td>\n",
       "      <td>...</td>\n",
       "      <td>...</td>\n",
       "      <td>...</td>\n",
       "      <td>...</td>\n",
       "      <td>...</td>\n",
       "      <td>...</td>\n",
       "      <td>...</td>\n",
       "      <td>...</td>\n",
       "      <td>...</td>\n",
       "      <td>...</td>\n",
       "      <td>...</td>\n",
       "      <td>...</td>\n",
       "      <td>...</td>\n",
       "      <td>...</td>\n",
       "    </tr>\n",
       "    <tr>\n",
       "      <th>130759</th>\n",
       "      <td>2015</td>\n",
       "      <td>0300039E</td>\n",
       "      <td>COLLEGE</td>\n",
       "      <td>DE LA GALABERTE</td>\n",
       "      <td>PUBLIC</td>\n",
       "      <td>30263</td>\n",
       "      <td>SAINT-HIPPOLYTE-DU-FORT</td>\n",
       "      <td>030</td>\n",
       "      <td>GARD</td>\n",
       "      <td>11</td>\n",
       "      <td>...</td>\n",
       "      <td>16</td>\n",
       "      <td>OCCITANIE</td>\n",
       "      <td>69</td>\n",
       "      <td>69</td>\n",
       "      <td>56</td>\n",
       "      <td>20</td>\n",
       "      <td>17</td>\n",
       "      <td>12</td>\n",
       "      <td>7</td>\n",
       "      <td>81.1</td>\n",
       "    </tr>\n",
       "    <tr>\n",
       "      <th>130760</th>\n",
       "      <td>2015</td>\n",
       "      <td>0300050S</td>\n",
       "      <td>COLLEGE</td>\n",
       "      <td>&lt;NA&gt;</td>\n",
       "      <td>PUBLIC</td>\n",
       "      <td>30344</td>\n",
       "      <td>VERGEZE</td>\n",
       "      <td>030</td>\n",
       "      <td>GARD</td>\n",
       "      <td>11</td>\n",
       "      <td>...</td>\n",
       "      <td>16</td>\n",
       "      <td>OCCITANIE</td>\n",
       "      <td>151</td>\n",
       "      <td>151</td>\n",
       "      <td>129</td>\n",
       "      <td>44</td>\n",
       "      <td>37</td>\n",
       "      <td>28</td>\n",
       "      <td>20</td>\n",
       "      <td>85.4</td>\n",
       "    </tr>\n",
       "    <tr>\n",
       "      <th>130761</th>\n",
       "      <td>2015</td>\n",
       "      <td>0300922P</td>\n",
       "      <td>COLLEGE</td>\n",
       "      <td>TAISSON</td>\n",
       "      <td>PRIVE</td>\n",
       "      <td>30007</td>\n",
       "      <td>ALES</td>\n",
       "      <td>030</td>\n",
       "      <td>GARD</td>\n",
       "      <td>11</td>\n",
       "      <td>...</td>\n",
       "      <td>16</td>\n",
       "      <td>OCCITANIE</td>\n",
       "      <td>109</td>\n",
       "      <td>109</td>\n",
       "      <td>107</td>\n",
       "      <td>48</td>\n",
       "      <td>34</td>\n",
       "      <td>20</td>\n",
       "      <td>5</td>\n",
       "      <td>98.1</td>\n",
       "    </tr>\n",
       "    <tr>\n",
       "      <th>130762</th>\n",
       "      <td>2015</td>\n",
       "      <td>0300949U</td>\n",
       "      <td>COLLEGE</td>\n",
       "      <td>JEAN RACINE</td>\n",
       "      <td>PUBLIC</td>\n",
       "      <td>30007</td>\n",
       "      <td>ALES</td>\n",
       "      <td>030</td>\n",
       "      <td>GARD</td>\n",
       "      <td>11</td>\n",
       "      <td>...</td>\n",
       "      <td>16</td>\n",
       "      <td>OCCITANIE</td>\n",
       "      <td>120</td>\n",
       "      <td>117</td>\n",
       "      <td>105</td>\n",
       "      <td>35</td>\n",
       "      <td>34</td>\n",
       "      <td>24</td>\n",
       "      <td>12</td>\n",
       "      <td>89.7</td>\n",
       "    </tr>\n",
       "    <tr>\n",
       "      <th>130763</th>\n",
       "      <td>2015</td>\n",
       "      <td>0301094B</td>\n",
       "      <td>COLLEGE</td>\n",
       "      <td>DIDEROT</td>\n",
       "      <td>PUBLIC</td>\n",
       "      <td>30189</td>\n",
       "      <td>NIMES</td>\n",
       "      <td>030</td>\n",
       "      <td>GARD</td>\n",
       "      <td>11</td>\n",
       "      <td>...</td>\n",
       "      <td>16</td>\n",
       "      <td>OCCITANIE</td>\n",
       "      <td>70</td>\n",
       "      <td>69</td>\n",
       "      <td>36</td>\n",
       "      <td>21</td>\n",
       "      <td>6</td>\n",
       "      <td>7</td>\n",
       "      <td>2</td>\n",
       "      <td>52.1</td>\n",
       "    </tr>\n",
       "  </tbody>\n",
       "</table>\n",
       "<p>130764 rows × 21 columns</p>\n",
       "</div>"
      ],
      "text/plain": [
       "        session numero_d_etablissement denomination_principale  \\\n",
       "0          2007               0240106K                 COLLEGE   \n",
       "1          2007               0240158S                 COLLEGE   \n",
       "2          2007               0240650B                 COLLEGE   \n",
       "3          2007               0241033T     LYCEE PROFESSIONNEL   \n",
       "4          2007               0241042C                 COLLEGE   \n",
       "...         ...                    ...                     ...   \n",
       "130759     2015               0300039E                 COLLEGE   \n",
       "130760     2015               0300050S                 COLLEGE   \n",
       "130761     2015               0300922P                 COLLEGE   \n",
       "130762     2015               0300949U                 COLLEGE   \n",
       "130763     2015               0301094B                 COLLEGE   \n",
       "\n",
       "              patronyme secteur_d_enseignement commune_et_arrondissement  \\\n",
       "0                  <NA>                 PUBLIC                     24568   \n",
       "1           JEAN MONNET                 PUBLIC                     24223   \n",
       "2        ARTHUR RIMBAUD                 PUBLIC                     24372   \n",
       "3            LE CLUZEAU                  PRIVE                     24534   \n",
       "4       BERTRAN DE BORN                 PUBLIC                     24322   \n",
       "...                 ...                    ...                       ...   \n",
       "130759  DE LA GALABERTE                 PUBLIC                     30263   \n",
       "130760             <NA>                 PUBLIC                     30344   \n",
       "130761          TAISSON                  PRIVE                     30007   \n",
       "130762      JEAN RACINE                 PUBLIC                     30007   \n",
       "130763          DIDEROT                 PUBLIC                     30189   \n",
       "\n",
       "       commune_et_arrondissement_lib_l departement departement_libelle  \\\n",
       "0                              VELINES         024            DORDOGNE   \n",
       "1                              LALINDE         024            DORDOGNE   \n",
       "2                         SAINT-ASTIER         024            DORDOGNE   \n",
       "3                 SIGOULES-ET-FLAUGEAC         024            DORDOGNE   \n",
       "4                            PERIGUEUX         024            DORDOGNE   \n",
       "...                                ...         ...                 ...   \n",
       "130759         SAINT-HIPPOLYTE-DU-FORT         030                GARD   \n",
       "130760                         VERGEZE         030                GARD   \n",
       "130761                            ALES         030                GARD   \n",
       "130762                            ALES         030                GARD   \n",
       "130763                           NIMES         030                GARD   \n",
       "\n",
       "        academie  ... region      region_libelle nombre_d_inscrits  \\\n",
       "0              4  ...     15  NOUVELLE-AQUITAINE                47   \n",
       "1              4  ...     15  NOUVELLE-AQUITAINE                85   \n",
       "2              4  ...     15  NOUVELLE-AQUITAINE               109   \n",
       "3              4  ...     15  NOUVELLE-AQUITAINE                39   \n",
       "4              4  ...     15  NOUVELLE-AQUITAINE               122   \n",
       "...          ...  ...    ...                 ...               ...   \n",
       "130759        11  ...     16           OCCITANIE                69   \n",
       "130760        11  ...     16           OCCITANIE               151   \n",
       "130761        11  ...     16           OCCITANIE               109   \n",
       "130762        11  ...     16           OCCITANIE               120   \n",
       "130763        11  ...     16           OCCITANIE                70   \n",
       "\n",
       "        nombre_de_presents  nombre_total_d_admis  nombre_d_admis_sans_mention  \\\n",
       "0                       46                    41                           21   \n",
       "1                       84                    70                           37   \n",
       "2                      108                   105                           52   \n",
       "3                       39                    38                           13   \n",
       "4                      121                   106                           34   \n",
       "...                    ...                   ...                          ...   \n",
       "130759                  69                    56                           20   \n",
       "130760                 151                   129                           44   \n",
       "130761                 109                   107                           48   \n",
       "130762                 117                   105                           35   \n",
       "130763                  69                    36                           21   \n",
       "\n",
       "        nombre_d_admis_mention_ab  nombre_d_admis_mention_b  \\\n",
       "0                              13                         4   \n",
       "1                              25                         7   \n",
       "2                              34                        16   \n",
       "3                              18                         7   \n",
       "4                              32                        24   \n",
       "...                           ...                       ...   \n",
       "130759                         17                        12   \n",
       "130760                         37                        28   \n",
       "130761                         34                        20   \n",
       "130762                         34                        24   \n",
       "130763                          6                         7   \n",
       "\n",
       "        nombre_d_admis_mention_tb  taux_de_reussite  \n",
       "0                               3              89.1  \n",
       "1                               1              83.3  \n",
       "2                               3              97.2  \n",
       "3                               0              97.4  \n",
       "4                              16              87.6  \n",
       "...                           ...               ...  \n",
       "130759                          7              81.1  \n",
       "130760                         20              85.4  \n",
       "130761                          5              98.1  \n",
       "130762                         12              89.7  \n",
       "130763                          2              52.1  \n",
       "\n",
       "[130764 rows x 21 columns]"
      ]
     },
     "execution_count": 4,
     "metadata": {},
     "output_type": "execute_result"
    }
   ],
   "source": [
    "#Convertir automatiquement les données \n",
    "df_brevet.convert_dtypes(infer_objects=True, convert_string=True,\n",
    "      convert_integer=True, convert_boolean=True, convert_floating=True)"
   ]
  },
  {
   "cell_type": "code",
   "execution_count": 6,
   "id": "1267c080",
   "metadata": {},
   "outputs": [],
   "source": [
    "#Convertir manuellement les donnees en datetime et object\n",
    "df_brevet['session']=pd.to_datetime(df_brevet['session'], format= '%Y')\n",
    "df_brevet['academie']=df_brevet['academie'].astype(str)\n",
    "df_brevet['region']=df_brevet['region'].astype(str)\n",
    "df_brevet['session'] = pd.DatetimeIndex(df_brevet['session']).year"
   ]
  },
  {
   "cell_type": "code",
   "execution_count": 7,
   "id": "71f350a7",
   "metadata": {},
   "outputs": [],
   "source": [
    "#Sélectionner les départements de la petite couronne\n",
    "df1_brevet=df_brevet[df_brevet['departement'].isin(['075','092','093','094'])]"
   ]
  },
  {
   "cell_type": "code",
   "execution_count": 8,
   "id": "48a3a06b-622a-4871-97d8-9ba4f0bc5ede",
   "metadata": {},
   "outputs": [
    {
     "data": {
      "text/plain": [
       "array(['PARIS', 'VERSAILLES', 'CRETEIL'], dtype=object)"
      ]
     },
     "execution_count": 8,
     "metadata": {},
     "output_type": "execute_result"
    }
   ],
   "source": [
    "df1_brevet['academie_libelle'].unique()"
   ]
  },
  {
   "cell_type": "code",
   "execution_count": 9,
   "id": "f17baf62-36a4-4498-8d34-bb2ddd050550",
   "metadata": {},
   "outputs": [],
   "source": [
    "cmap=LinearSegmentedColormap.from_list('rg',[\"r\", \"w\", \"g\"], N=256)"
   ]
  },
  {
   "cell_type": "markdown",
   "id": "3f7d9878",
   "metadata": {},
   "source": [
    "# Partie 1. Analyse du taux de réussite de Paris 2020 "
   ]
  },
  {
   "cell_type": "markdown",
   "id": "c3f692e5-9ca4-4c44-890b-40f825ddcde2",
   "metadata": {},
   "source": [
    "## 1.1 BAC"
   ]
  },
  {
   "cell_type": "markdown",
   "id": "51315a44-f0ba-4272-9085-c326a1414930",
   "metadata": {},
   "source": [
    "## 1.2 Nombre d'élève par département"
   ]
  },
  {
   "cell_type": "code",
   "execution_count": 35,
   "id": "3427cbc1",
   "metadata": {},
   "outputs": [
    {
     "data": {
      "application/vnd.plotly.v1+json": {
       "config": {
        "plotlyServerURL": "https://plot.ly"
       },
       "data": [
        {
         "alignmentgroup": "True",
         "bingroup": "x",
         "histfunc": "sum",
         "hovertemplate": "code_departement=%{x}<br>sum of total_eleves_technique=%{y}<extra></extra>",
         "legendgroup": "",
         "marker": {
          "color": "#636efa",
          "pattern": {
           "shape": ""
          }
         },
         "name": "",
         "offsetgroup": "",
         "orientation": "v",
         "showlegend": false,
         "type": "histogram",
         "x": [
          "75",
          "92",
          "93",
          "94"
         ],
         "xaxis": "x",
         "y": [
          3072,
          2693,
          4285,
          3158
         ],
         "yaxis": "y"
        }
       ],
       "layout": {
        "barmode": "relative",
        "height": 560,
        "legend": {
         "font": {
          "color": "black",
          "family": "Courier",
          "size": 10
         },
         "title": {
          "font": {
           "color": "blue",
           "size": 20
          }
         },
         "tracegroupgap": 0
        },
        "template": {
         "data": {
          "bar": [
           {
            "error_x": {
             "color": "#2a3f5f"
            },
            "error_y": {
             "color": "#2a3f5f"
            },
            "marker": {
             "line": {
              "color": "#E5ECF6",
              "width": 0.5
             },
             "pattern": {
              "fillmode": "overlay",
              "size": 10,
              "solidity": 0.2
             }
            },
            "type": "bar"
           }
          ],
          "barpolar": [
           {
            "marker": {
             "line": {
              "color": "#E5ECF6",
              "width": 0.5
             },
             "pattern": {
              "fillmode": "overlay",
              "size": 10,
              "solidity": 0.2
             }
            },
            "type": "barpolar"
           }
          ],
          "carpet": [
           {
            "aaxis": {
             "endlinecolor": "#2a3f5f",
             "gridcolor": "white",
             "linecolor": "white",
             "minorgridcolor": "white",
             "startlinecolor": "#2a3f5f"
            },
            "baxis": {
             "endlinecolor": "#2a3f5f",
             "gridcolor": "white",
             "linecolor": "white",
             "minorgridcolor": "white",
             "startlinecolor": "#2a3f5f"
            },
            "type": "carpet"
           }
          ],
          "choropleth": [
           {
            "colorbar": {
             "outlinewidth": 0,
             "ticks": ""
            },
            "type": "choropleth"
           }
          ],
          "contour": [
           {
            "colorbar": {
             "outlinewidth": 0,
             "ticks": ""
            },
            "colorscale": [
             [
              0,
              "#0d0887"
             ],
             [
              0.1111111111111111,
              "#46039f"
             ],
             [
              0.2222222222222222,
              "#7201a8"
             ],
             [
              0.3333333333333333,
              "#9c179e"
             ],
             [
              0.4444444444444444,
              "#bd3786"
             ],
             [
              0.5555555555555556,
              "#d8576b"
             ],
             [
              0.6666666666666666,
              "#ed7953"
             ],
             [
              0.7777777777777778,
              "#fb9f3a"
             ],
             [
              0.8888888888888888,
              "#fdca26"
             ],
             [
              1,
              "#f0f921"
             ]
            ],
            "type": "contour"
           }
          ],
          "contourcarpet": [
           {
            "colorbar": {
             "outlinewidth": 0,
             "ticks": ""
            },
            "type": "contourcarpet"
           }
          ],
          "heatmap": [
           {
            "colorbar": {
             "outlinewidth": 0,
             "ticks": ""
            },
            "colorscale": [
             [
              0,
              "#0d0887"
             ],
             [
              0.1111111111111111,
              "#46039f"
             ],
             [
              0.2222222222222222,
              "#7201a8"
             ],
             [
              0.3333333333333333,
              "#9c179e"
             ],
             [
              0.4444444444444444,
              "#bd3786"
             ],
             [
              0.5555555555555556,
              "#d8576b"
             ],
             [
              0.6666666666666666,
              "#ed7953"
             ],
             [
              0.7777777777777778,
              "#fb9f3a"
             ],
             [
              0.8888888888888888,
              "#fdca26"
             ],
             [
              1,
              "#f0f921"
             ]
            ],
            "type": "heatmap"
           }
          ],
          "heatmapgl": [
           {
            "colorbar": {
             "outlinewidth": 0,
             "ticks": ""
            },
            "colorscale": [
             [
              0,
              "#0d0887"
             ],
             [
              0.1111111111111111,
              "#46039f"
             ],
             [
              0.2222222222222222,
              "#7201a8"
             ],
             [
              0.3333333333333333,
              "#9c179e"
             ],
             [
              0.4444444444444444,
              "#bd3786"
             ],
             [
              0.5555555555555556,
              "#d8576b"
             ],
             [
              0.6666666666666666,
              "#ed7953"
             ],
             [
              0.7777777777777778,
              "#fb9f3a"
             ],
             [
              0.8888888888888888,
              "#fdca26"
             ],
             [
              1,
              "#f0f921"
             ]
            ],
            "type": "heatmapgl"
           }
          ],
          "histogram": [
           {
            "marker": {
             "pattern": {
              "fillmode": "overlay",
              "size": 10,
              "solidity": 0.2
             }
            },
            "type": "histogram"
           }
          ],
          "histogram2d": [
           {
            "colorbar": {
             "outlinewidth": 0,
             "ticks": ""
            },
            "colorscale": [
             [
              0,
              "#0d0887"
             ],
             [
              0.1111111111111111,
              "#46039f"
             ],
             [
              0.2222222222222222,
              "#7201a8"
             ],
             [
              0.3333333333333333,
              "#9c179e"
             ],
             [
              0.4444444444444444,
              "#bd3786"
             ],
             [
              0.5555555555555556,
              "#d8576b"
             ],
             [
              0.6666666666666666,
              "#ed7953"
             ],
             [
              0.7777777777777778,
              "#fb9f3a"
             ],
             [
              0.8888888888888888,
              "#fdca26"
             ],
             [
              1,
              "#f0f921"
             ]
            ],
            "type": "histogram2d"
           }
          ],
          "histogram2dcontour": [
           {
            "colorbar": {
             "outlinewidth": 0,
             "ticks": ""
            },
            "colorscale": [
             [
              0,
              "#0d0887"
             ],
             [
              0.1111111111111111,
              "#46039f"
             ],
             [
              0.2222222222222222,
              "#7201a8"
             ],
             [
              0.3333333333333333,
              "#9c179e"
             ],
             [
              0.4444444444444444,
              "#bd3786"
             ],
             [
              0.5555555555555556,
              "#d8576b"
             ],
             [
              0.6666666666666666,
              "#ed7953"
             ],
             [
              0.7777777777777778,
              "#fb9f3a"
             ],
             [
              0.8888888888888888,
              "#fdca26"
             ],
             [
              1,
              "#f0f921"
             ]
            ],
            "type": "histogram2dcontour"
           }
          ],
          "mesh3d": [
           {
            "colorbar": {
             "outlinewidth": 0,
             "ticks": ""
            },
            "type": "mesh3d"
           }
          ],
          "parcoords": [
           {
            "line": {
             "colorbar": {
              "outlinewidth": 0,
              "ticks": ""
             }
            },
            "type": "parcoords"
           }
          ],
          "pie": [
           {
            "automargin": true,
            "type": "pie"
           }
          ],
          "scatter": [
           {
            "marker": {
             "colorbar": {
              "outlinewidth": 0,
              "ticks": ""
             }
            },
            "type": "scatter"
           }
          ],
          "scatter3d": [
           {
            "line": {
             "colorbar": {
              "outlinewidth": 0,
              "ticks": ""
             }
            },
            "marker": {
             "colorbar": {
              "outlinewidth": 0,
              "ticks": ""
             }
            },
            "type": "scatter3d"
           }
          ],
          "scattercarpet": [
           {
            "marker": {
             "colorbar": {
              "outlinewidth": 0,
              "ticks": ""
             }
            },
            "type": "scattercarpet"
           }
          ],
          "scattergeo": [
           {
            "marker": {
             "colorbar": {
              "outlinewidth": 0,
              "ticks": ""
             }
            },
            "type": "scattergeo"
           }
          ],
          "scattergl": [
           {
            "marker": {
             "colorbar": {
              "outlinewidth": 0,
              "ticks": ""
             }
            },
            "type": "scattergl"
           }
          ],
          "scattermapbox": [
           {
            "marker": {
             "colorbar": {
              "outlinewidth": 0,
              "ticks": ""
             }
            },
            "type": "scattermapbox"
           }
          ],
          "scatterpolar": [
           {
            "marker": {
             "colorbar": {
              "outlinewidth": 0,
              "ticks": ""
             }
            },
            "type": "scatterpolar"
           }
          ],
          "scatterpolargl": [
           {
            "marker": {
             "colorbar": {
              "outlinewidth": 0,
              "ticks": ""
             }
            },
            "type": "scatterpolargl"
           }
          ],
          "scatterternary": [
           {
            "marker": {
             "colorbar": {
              "outlinewidth": 0,
              "ticks": ""
             }
            },
            "type": "scatterternary"
           }
          ],
          "surface": [
           {
            "colorbar": {
             "outlinewidth": 0,
             "ticks": ""
            },
            "colorscale": [
             [
              0,
              "#0d0887"
             ],
             [
              0.1111111111111111,
              "#46039f"
             ],
             [
              0.2222222222222222,
              "#7201a8"
             ],
             [
              0.3333333333333333,
              "#9c179e"
             ],
             [
              0.4444444444444444,
              "#bd3786"
             ],
             [
              0.5555555555555556,
              "#d8576b"
             ],
             [
              0.6666666666666666,
              "#ed7953"
             ],
             [
              0.7777777777777778,
              "#fb9f3a"
             ],
             [
              0.8888888888888888,
              "#fdca26"
             ],
             [
              1,
              "#f0f921"
             ]
            ],
            "type": "surface"
           }
          ],
          "table": [
           {
            "cells": {
             "fill": {
              "color": "#EBF0F8"
             },
             "line": {
              "color": "white"
             }
            },
            "header": {
             "fill": {
              "color": "#C8D4E3"
             },
             "line": {
              "color": "white"
             }
            },
            "type": "table"
           }
          ]
         },
         "layout": {
          "annotationdefaults": {
           "arrowcolor": "#2a3f5f",
           "arrowhead": 0,
           "arrowwidth": 1
          },
          "autotypenumbers": "strict",
          "coloraxis": {
           "colorbar": {
            "outlinewidth": 0,
            "ticks": ""
           }
          },
          "colorscale": {
           "diverging": [
            [
             0,
             "#8e0152"
            ],
            [
             0.1,
             "#c51b7d"
            ],
            [
             0.2,
             "#de77ae"
            ],
            [
             0.3,
             "#f1b6da"
            ],
            [
             0.4,
             "#fde0ef"
            ],
            [
             0.5,
             "#f7f7f7"
            ],
            [
             0.6,
             "#e6f5d0"
            ],
            [
             0.7,
             "#b8e186"
            ],
            [
             0.8,
             "#7fbc41"
            ],
            [
             0.9,
             "#4d9221"
            ],
            [
             1,
             "#276419"
            ]
           ],
           "sequential": [
            [
             0,
             "#0d0887"
            ],
            [
             0.1111111111111111,
             "#46039f"
            ],
            [
             0.2222222222222222,
             "#7201a8"
            ],
            [
             0.3333333333333333,
             "#9c179e"
            ],
            [
             0.4444444444444444,
             "#bd3786"
            ],
            [
             0.5555555555555556,
             "#d8576b"
            ],
            [
             0.6666666666666666,
             "#ed7953"
            ],
            [
             0.7777777777777778,
             "#fb9f3a"
            ],
            [
             0.8888888888888888,
             "#fdca26"
            ],
            [
             1,
             "#f0f921"
            ]
           ],
           "sequentialminus": [
            [
             0,
             "#0d0887"
            ],
            [
             0.1111111111111111,
             "#46039f"
            ],
            [
             0.2222222222222222,
             "#7201a8"
            ],
            [
             0.3333333333333333,
             "#9c179e"
            ],
            [
             0.4444444444444444,
             "#bd3786"
            ],
            [
             0.5555555555555556,
             "#d8576b"
            ],
            [
             0.6666666666666666,
             "#ed7953"
            ],
            [
             0.7777777777777778,
             "#fb9f3a"
            ],
            [
             0.8888888888888888,
             "#fdca26"
            ],
            [
             1,
             "#f0f921"
            ]
           ]
          },
          "colorway": [
           "#636efa",
           "#EF553B",
           "#00cc96",
           "#ab63fa",
           "#FFA15A",
           "#19d3f3",
           "#FF6692",
           "#B6E880",
           "#FF97FF",
           "#FECB52"
          ],
          "font": {
           "color": "#2a3f5f"
          },
          "geo": {
           "bgcolor": "white",
           "lakecolor": "white",
           "landcolor": "#E5ECF6",
           "showlakes": true,
           "showland": true,
           "subunitcolor": "white"
          },
          "hoverlabel": {
           "align": "left"
          },
          "hovermode": "closest",
          "mapbox": {
           "style": "light"
          },
          "paper_bgcolor": "white",
          "plot_bgcolor": "#E5ECF6",
          "polar": {
           "angularaxis": {
            "gridcolor": "white",
            "linecolor": "white",
            "ticks": ""
           },
           "bgcolor": "#E5ECF6",
           "radialaxis": {
            "gridcolor": "white",
            "linecolor": "white",
            "ticks": ""
           }
          },
          "scene": {
           "xaxis": {
            "backgroundcolor": "#E5ECF6",
            "gridcolor": "white",
            "gridwidth": 2,
            "linecolor": "white",
            "showbackground": true,
            "ticks": "",
            "zerolinecolor": "white"
           },
           "yaxis": {
            "backgroundcolor": "#E5ECF6",
            "gridcolor": "white",
            "gridwidth": 2,
            "linecolor": "white",
            "showbackground": true,
            "ticks": "",
            "zerolinecolor": "white"
           },
           "zaxis": {
            "backgroundcolor": "#E5ECF6",
            "gridcolor": "white",
            "gridwidth": 2,
            "linecolor": "white",
            "showbackground": true,
            "ticks": "",
            "zerolinecolor": "white"
           }
          },
          "shapedefaults": {
           "line": {
            "color": "#2a3f5f"
           }
          },
          "ternary": {
           "aaxis": {
            "gridcolor": "white",
            "linecolor": "white",
            "ticks": ""
           },
           "baxis": {
            "gridcolor": "white",
            "linecolor": "white",
            "ticks": ""
           },
           "bgcolor": "#E5ECF6",
           "caxis": {
            "gridcolor": "white",
            "linecolor": "white",
            "ticks": ""
           }
          },
          "title": {
           "x": 0.05
          },
          "xaxis": {
           "automargin": true,
           "gridcolor": "white",
           "linecolor": "white",
           "ticks": "",
           "title": {
            "standoff": 15
           },
           "zerolinecolor": "white",
           "zerolinewidth": 2
          },
          "yaxis": {
           "automargin": true,
           "gridcolor": "white",
           "linecolor": "white",
           "ticks": "",
           "title": {
            "standoff": 15
           },
           "zerolinecolor": "white",
           "zerolinewidth": 2
          }
         }
        },
        "title": {
         "text": "Total eleves - TECHNIQUE"
        },
        "width": 950,
        "xaxis": {
         "anchor": "y",
         "autorange": true,
         "domain": [
          0,
          1
         ],
         "range": [
          -0.5,
          3.5
         ],
         "title": {
          "text": "code_departement"
         },
         "type": "category"
        },
        "yaxis": {
         "anchor": "x",
         "autorange": true,
         "domain": [
          0,
          1
         ],
         "range": [
          0,
          4510.526315789473
         ],
         "title": {
          "text": "sum of total_eleves_technique"
         },
         "type": "linear"
        }
       }
      },
      "image/png": "[encoded data removed]",
      "text/html": [
       "<div>                            <div id=\"0e6c1d25-8152-436b-929c-4690ba87cea7\" class=\"plotly-graph-div\" style=\"height:560px; width:950px;\"></div>            <script type=\"text/javascript\">                require([\"plotly\"], function(Plotly) {                    window.PLOTLYENV=window.PLOTLYENV || {};                                    if (document.getElementById(\"0e6c1d25-8152-436b-929c-4690ba87cea7\")) {                    Plotly.newPlot(                        \"0e6c1d25-8152-436b-929c-4690ba87cea7\",                        [{\"alignmentgroup\":\"True\",\"bingroup\":\"x\",\"histfunc\":\"sum\",\"hovertemplate\":\"code_departement=%{x}<br>sum of total_eleves_technique=%{y}<extra></extra>\",\"legendgroup\":\"\",\"marker\":{\"color\":\"#636efa\",\"pattern\":{\"shape\":\"\"}},\"name\":\"\",\"offsetgroup\":\"\",\"orientation\":\"v\",\"showlegend\":false,\"type\":\"histogram\",\"x\":[\"75\",\"92\",\"93\",\"94\"],\"xaxis\":\"x\",\"y\":[3072.0,2693.0,4285.0,3158.0],\"yaxis\":\"y\"}],                        {\"barmode\":\"relative\",\"height\":560,\"legend\":{\"font\":{\"color\":\"black\",\"family\":\"Courier\",\"size\":10},\"title\":{\"font\":{\"color\":\"blue\",\"size\":20}},\"tracegroupgap\":0},\"template\":{\"data\":{\"bar\":[{\"error_x\":{\"color\":\"#2a3f5f\"},\"error_y\":{\"color\":\"#2a3f5f\"},\"marker\":{\"line\":{\"color\":\"#E5ECF6\",\"width\":0.5},\"pattern\":{\"fillmode\":\"overlay\",\"size\":10,\"solidity\":0.2}},\"type\":\"bar\"}],\"barpolar\":[{\"marker\":{\"line\":{\"color\":\"#E5ECF6\",\"width\":0.5},\"pattern\":{\"fillmode\":\"overlay\",\"size\":10,\"solidity\":0.2}},\"type\":\"barpolar\"}],\"carpet\":[{\"aaxis\":{\"endlinecolor\":\"#2a3f5f\",\"gridcolor\":\"white\",\"linecolor\":\"white\",\"minorgridcolor\":\"white\",\"startlinecolor\":\"#2a3f5f\"},\"baxis\":{\"endlinecolor\":\"#2a3f5f\",\"gridcolor\":\"white\",\"linecolor\":\"white\",\"minorgridcolor\":\"white\",\"startlinecolor\":\"#2a3f5f\"},\"type\":\"carpet\"}],\"choropleth\":[{\"colorbar\":{\"outlinewidth\":0,\"ticks\":\"\"},\"type\":\"choropleth\"}],\"contour\":[{\"colorbar\":{\"outlinewidth\":0,\"ticks\":\"\"},\"colorscale\":[[0.0,\"#0d0887\"],[0.1111111111111111,\"#46039f\"],[0.2222222222222222,\"#7201a8\"],[0.3333333333333333,\"#9c179e\"],[0.4444444444444444,\"#bd3786\"],[0.5555555555555556,\"#d8576b\"],[0.6666666666666666,\"#ed7953\"],[0.7777777777777778,\"#fb9f3a\"],[0.8888888888888888,\"#fdca26\"],[1.0,\"#f0f921\"]],\"type\":\"contour\"}],\"contourcarpet\":[{\"colorbar\":{\"outlinewidth\":0,\"ticks\":\"\"},\"type\":\"contourcarpet\"}],\"heatmap\":[{\"colorbar\":{\"outlinewidth\":0,\"ticks\":\"\"},\"colorscale\":[[0.0,\"#0d0887\"],[0.1111111111111111,\"#46039f\"],[0.2222222222222222,\"#7201a8\"],[0.3333333333333333,\"#9c179e\"],[0.4444444444444444,\"#bd3786\"],[0.5555555555555556,\"#d8576b\"],[0.6666666666666666,\"#ed7953\"],[0.7777777777777778,\"#fb9f3a\"],[0.8888888888888888,\"#fdca26\"],[1.0,\"#f0f921\"]],\"type\":\"heatmap\"}],\"heatmapgl\":[{\"colorbar\":{\"outlinewidth\":0,\"ticks\":\"\"},\"colorscale\":[[0.0,\"#0d0887\"],[0.1111111111111111,\"#46039f\"],[0.2222222222222222,\"#7201a8\"],[0.3333333333333333,\"#9c179e\"],[0.4444444444444444,\"#bd3786\"],[0.5555555555555556,\"#d8576b\"],[0.6666666666666666,\"#ed7953\"],[0.7777777777777778,\"#fb9f3a\"],[0.8888888888888888,\"#fdca26\"],[1.0,\"#f0f921\"]],\"type\":\"heatmapgl\"}],\"histogram\":[{\"marker\":{\"pattern\":{\"fillmode\":\"overlay\",\"size\":10,\"solidity\":0.2}},\"type\":\"histogram\"}],\"histogram2d\":[{\"colorbar\":{\"outlinewidth\":0,\"ticks\":\"\"},\"colorscale\":[[0.0,\"#0d0887\"],[0.1111111111111111,\"#46039f\"],[0.2222222222222222,\"#7201a8\"],[0.3333333333333333,\"#9c179e\"],[0.4444444444444444,\"#bd3786\"],[0.5555555555555556,\"#d8576b\"],[0.6666666666666666,\"#ed7953\"],[0.7777777777777778,\"#fb9f3a\"],[0.8888888888888888,\"#fdca26\"],[1.0,\"#f0f921\"]],\"type\":\"histogram2d\"}],\"histogram2dcontour\":[{\"colorbar\":{\"outlinewidth\":0,\"ticks\":\"\"},\"colorscale\":[[0.0,\"#0d0887\"],[0.1111111111111111,\"#46039f\"],[0.2222222222222222,\"#7201a8\"],[0.3333333333333333,\"#9c179e\"],[0.4444444444444444,\"#bd3786\"],[0.5555555555555556,\"#d8576b\"],[0.6666666666666666,\"#ed7953\"],[0.7777777777777778,\"#fb9f3a\"],[0.8888888888888888,\"#fdca26\"],[1.0,\"#f0f921\"]],\"type\":\"histogram2dcontour\"}],\"mesh3d\":[{\"colorbar\":{\"outlinewidth\":0,\"ticks\":\"\"},\"type\":\"mesh3d\"}],\"parcoords\":[{\"line\":{\"colorbar\":{\"outlinewidth\":0,\"ticks\":\"\"}},\"type\":\"parcoords\"}],\"pie\":[{\"automargin\":true,\"type\":\"pie\"}],\"scatter\":[{\"marker\":{\"colorbar\":{\"outlinewidth\":0,\"ticks\":\"\"}},\"type\":\"scatter\"}],\"scatter3d\":[{\"line\":{\"colorbar\":{\"outlinewidth\":0,\"ticks\":\"\"}},\"marker\":{\"colorbar\":{\"outlinewidth\":0,\"ticks\":\"\"}},\"type\":\"scatter3d\"}],\"scattercarpet\":[{\"marker\":{\"colorbar\":{\"outlinewidth\":0,\"ticks\":\"\"}},\"type\":\"scattercarpet\"}],\"scattergeo\":[{\"marker\":{\"colorbar\":{\"outlinewidth\":0,\"ticks\":\"\"}},\"type\":\"scattergeo\"}],\"scattergl\":[{\"marker\":{\"colorbar\":{\"outlinewidth\":0,\"ticks\":\"\"}},\"type\":\"scattergl\"}],\"scattermapbox\":[{\"marker\":{\"colorbar\":{\"outlinewidth\":0,\"ticks\":\"\"}},\"type\":\"scattermapbox\"}],\"scatterpolar\":[{\"marker\":{\"colorbar\":{\"outlinewidth\":0,\"ticks\":\"\"}},\"type\":\"scatterpolar\"}],\"scatterpolargl\":[{\"marker\":{\"colorbar\":{\"outlinewidth\":0,\"ticks\":\"\"}},\"type\":\"scatterpolargl\"}],\"scatterternary\":[{\"marker\":{\"colorbar\":{\"outlinewidth\":0,\"ticks\":\"\"}},\"type\":\"scatterternary\"}],\"surface\":[{\"colorbar\":{\"outlinewidth\":0,\"ticks\":\"\"},\"colorscale\":[[0.0,\"#0d0887\"],[0.1111111111111111,\"#46039f\"],[0.2222222222222222,\"#7201a8\"],[0.3333333333333333,\"#9c179e\"],[0.4444444444444444,\"#bd3786\"],[0.5555555555555556,\"#d8576b\"],[0.6666666666666666,\"#ed7953\"],[0.7777777777777778,\"#fb9f3a\"],[0.8888888888888888,\"#fdca26\"],[1.0,\"#f0f921\"]],\"type\":\"surface\"}],\"table\":[{\"cells\":{\"fill\":{\"color\":\"#EBF0F8\"},\"line\":{\"color\":\"white\"}},\"header\":{\"fill\":{\"color\":\"#C8D4E3\"},\"line\":{\"color\":\"white\"}},\"type\":\"table\"}]},\"layout\":{\"annotationdefaults\":{\"arrowcolor\":\"#2a3f5f\",\"arrowhead\":0,\"arrowwidth\":1},\"autotypenumbers\":\"strict\",\"coloraxis\":{\"colorbar\":{\"outlinewidth\":0,\"ticks\":\"\"}},\"colorscale\":{\"diverging\":[[0,\"#8e0152\"],[0.1,\"#c51b7d\"],[0.2,\"#de77ae\"],[0.3,\"#f1b6da\"],[0.4,\"#fde0ef\"],[0.5,\"#f7f7f7\"],[0.6,\"#e6f5d0\"],[0.7,\"#b8e186\"],[0.8,\"#7fbc41\"],[0.9,\"#4d9221\"],[1,\"#276419\"]],\"sequential\":[[0.0,\"#0d0887\"],[0.1111111111111111,\"#46039f\"],[0.2222222222222222,\"#7201a8\"],[0.3333333333333333,\"#9c179e\"],[0.4444444444444444,\"#bd3786\"],[0.5555555555555556,\"#d8576b\"],[0.6666666666666666,\"#ed7953\"],[0.7777777777777778,\"#fb9f3a\"],[0.8888888888888888,\"#fdca26\"],[1.0,\"#f0f921\"]],\"sequentialminus\":[[0.0,\"#0d0887\"],[0.1111111111111111,\"#46039f\"],[0.2222222222222222,\"#7201a8\"],[0.3333333333333333,\"#9c179e\"],[0.4444444444444444,\"#bd3786\"],[0.5555555555555556,\"#d8576b\"],[0.6666666666666666,\"#ed7953\"],[0.7777777777777778,\"#fb9f3a\"],[0.8888888888888888,\"#fdca26\"],[1.0,\"#f0f921\"]]},\"colorway\":[\"#636efa\",\"#EF553B\",\"#00cc96\",\"#ab63fa\",\"#FFA15A\",\"#19d3f3\",\"#FF6692\",\"#B6E880\",\"#FF97FF\",\"#FECB52\"],\"font\":{\"color\":\"#2a3f5f\"},\"geo\":{\"bgcolor\":\"white\",\"lakecolor\":\"white\",\"landcolor\":\"#E5ECF6\",\"showlakes\":true,\"showland\":true,\"subunitcolor\":\"white\"},\"hoverlabel\":{\"align\":\"left\"},\"hovermode\":\"closest\",\"mapbox\":{\"style\":\"light\"},\"paper_bgcolor\":\"white\",\"plot_bgcolor\":\"#E5ECF6\",\"polar\":{\"angularaxis\":{\"gridcolor\":\"white\",\"linecolor\":\"white\",\"ticks\":\"\"},\"bgcolor\":\"#E5ECF6\",\"radialaxis\":{\"gridcolor\":\"white\",\"linecolor\":\"white\",\"ticks\":\"\"}},\"scene\":{\"xaxis\":{\"backgroundcolor\":\"#E5ECF6\",\"gridcolor\":\"white\",\"gridwidth\":2,\"linecolor\":\"white\",\"showbackground\":true,\"ticks\":\"\",\"zerolinecolor\":\"white\"},\"yaxis\":{\"backgroundcolor\":\"#E5ECF6\",\"gridcolor\":\"white\",\"gridwidth\":2,\"linecolor\":\"white\",\"showbackground\":true,\"ticks\":\"\",\"zerolinecolor\":\"white\"},\"zaxis\":{\"backgroundcolor\":\"#E5ECF6\",\"gridcolor\":\"white\",\"gridwidth\":2,\"linecolor\":\"white\",\"showbackground\":true,\"ticks\":\"\",\"zerolinecolor\":\"white\"}},\"shapedefaults\":{\"line\":{\"color\":\"#2a3f5f\"}},\"ternary\":{\"aaxis\":{\"gridcolor\":\"white\",\"linecolor\":\"white\",\"ticks\":\"\"},\"baxis\":{\"gridcolor\":\"white\",\"linecolor\":\"white\",\"ticks\":\"\"},\"bgcolor\":\"#E5ECF6\",\"caxis\":{\"gridcolor\":\"white\",\"linecolor\":\"white\",\"ticks\":\"\"}},\"title\":{\"x\":0.05},\"xaxis\":{\"automargin\":true,\"gridcolor\":\"white\",\"linecolor\":\"white\",\"ticks\":\"\",\"title\":{\"standoff\":15},\"zerolinecolor\":\"white\",\"zerolinewidth\":2},\"yaxis\":{\"automargin\":true,\"gridcolor\":\"white\",\"linecolor\":\"white\",\"ticks\":\"\",\"title\":{\"standoff\":15},\"zerolinecolor\":\"white\",\"zerolinewidth\":2}}},\"title\":{\"text\":\"Total eleves - TECHNIQUE\"},\"width\":950,\"xaxis\":{\"anchor\":\"y\",\"domain\":[0.0,1.0],\"title\":{\"text\":\"code_departement\"}},\"yaxis\":{\"anchor\":\"x\",\"domain\":[0.0,1.0],\"title\":{\"text\":\"sum of total_eleves_technique\"}}},                        {\"responsive\": true}                    ).then(function(){\n",
       "                            \n",
       "var gd = document.getElementById('0e6c1d25-8152-436b-929c-4690ba87cea7');\n",
       "var x = new MutationObserver(function (mutations, observer) {{\n",
       "        var display = window.getComputedStyle(gd).display;\n",
       "        if (!display || display === 'none') {{\n",
       "            console.log([gd, 'removed!']);\n",
       "            Plotly.purge(gd);\n",
       "            observer.disconnect();\n",
       "        }}\n",
       "}});\n",
       "\n",
       "// Listen for the removal of the full notebook cells\n",
       "var notebookContainer = gd.closest('#notebook-container');\n",
       "if (notebookContainer) {{\n",
       "    x.observe(notebookContainer, {childList: true});\n",
       "}}\n",
       "\n",
       "// Listen for the clearing of the current output cell\n",
       "var outputEl = gd.closest('.output');\n",
       "if (outputEl) {{\n",
       "    x.observe(outputEl, {childList: true});\n",
       "}}\n",
       "\n",
       "                        })                };                });            </script>        </div>"
      ]
     },
     "metadata": {},
     "output_type": "display_data"
    }
   ],
   "source": [
    "fig = px.histogram(df1_bac[df1_bac['Annee']==2020].groupby(['Annee','code_departement'])['total_eleves_technique'].sum().reset_index(), x='code_departement',y=\"total_eleves_technique\", title='Total eleves - TECHNIQUE', width=950, height=560)\n",
    "fig.update_layout(legend =dict(font = dict(family = \"Courier\", size = 10, color = \"black\")),\n",
    "                  legend_title = dict(font = dict(size = 20, color = \"blue\")))\n",
    "fig.show()"
   ]
  },
  {
   "cell_type": "code",
   "execution_count": 36,
   "id": "f242032b",
   "metadata": {},
   "outputs": [
    {
     "data": {
      "application/vnd.plotly.v1+json": {
       "config": {
        "plotlyServerURL": "https://plot.ly"
       },
       "data": [
        {
         "alignmentgroup": "True",
         "bingroup": "x",
         "histfunc": "sum",
         "hovertemplate": "code_departement=%{x}<br>sum of total_eleves_general=%{y}<extra></extra>",
         "legendgroup": "",
         "marker": {
          "color": "#636efa",
          "pattern": {
           "shape": ""
          }
         },
         "name": "",
         "offsetgroup": "",
         "orientation": "v",
         "showlegend": false,
         "type": "histogram",
         "x": [
          "75",
          "92",
          "93",
          "94"
         ],
         "xaxis": "x",
         "y": [
          12513,
          10178,
          7837,
          6884
         ],
         "yaxis": "y"
        }
       ],
       "layout": {
        "barmode": "relative",
        "height": 560,
        "legend": {
         "font": {
          "color": "black",
          "family": "Courier",
          "size": 10
         },
         "title": {
          "font": {
           "color": "blue",
           "size": 20
          }
         },
         "tracegroupgap": 0
        },
        "template": {
         "data": {
          "bar": [
           {
            "error_x": {
             "color": "#2a3f5f"
            },
            "error_y": {
             "color": "#2a3f5f"
            },
            "marker": {
             "line": {
              "color": "#E5ECF6",
              "width": 0.5
             },
             "pattern": {
              "fillmode": "overlay",
              "size": 10,
              "solidity": 0.2
             }
            },
            "type": "bar"
           }
          ],
          "barpolar": [
           {
            "marker": {
             "line": {
              "color": "#E5ECF6",
              "width": 0.5
             },
             "pattern": {
              "fillmode": "overlay",
              "size": 10,
              "solidity": 0.2
             }
            },
            "type": "barpolar"
           }
          ],
          "carpet": [
           {
            "aaxis": {
             "endlinecolor": "#2a3f5f",
             "gridcolor": "white",
             "linecolor": "white",
             "minorgridcolor": "white",
             "startlinecolor": "#2a3f5f"
            },
            "baxis": {
             "endlinecolor": "#2a3f5f",
             "gridcolor": "white",
             "linecolor": "white",
             "minorgridcolor": "white",
             "startlinecolor": "#2a3f5f"
            },
            "type": "carpet"
           }
          ],
          "choropleth": [
           {
            "colorbar": {
             "outlinewidth": 0,
             "ticks": ""
            },
            "type": "choropleth"
           }
          ],
          "contour": [
           {
            "colorbar": {
             "outlinewidth": 0,
             "ticks": ""
            },
            "colorscale": [
             [
              0,
              "#0d0887"
             ],
             [
              0.1111111111111111,
              "#46039f"
             ],
             [
              0.2222222222222222,
              "#7201a8"
             ],
             [
              0.3333333333333333,
              "#9c179e"
             ],
             [
              0.4444444444444444,
              "#bd3786"
             ],
             [
              0.5555555555555556,
              "#d8576b"
             ],
             [
              0.6666666666666666,
              "#ed7953"
             ],
             [
              0.7777777777777778,
              "#fb9f3a"
             ],
             [
              0.8888888888888888,
              "#fdca26"
             ],
             [
              1,
              "#f0f921"
             ]
            ],
            "type": "contour"
           }
          ],
          "contourcarpet": [
           {
            "colorbar": {
             "outlinewidth": 0,
             "ticks": ""
            },
            "type": "contourcarpet"
           }
          ],
          "heatmap": [
           {
            "colorbar": {
             "outlinewidth": 0,
             "ticks": ""
            },
            "colorscale": [
             [
              0,
              "#0d0887"
             ],
             [
              0.1111111111111111,
              "#46039f"
             ],
             [
              0.2222222222222222,
              "#7201a8"
             ],
             [
              0.3333333333333333,
              "#9c179e"
             ],
             [
              0.4444444444444444,
              "#bd3786"
             ],
             [
              0.5555555555555556,
              "#d8576b"
             ],
             [
              0.6666666666666666,
              "#ed7953"
             ],
             [
              0.7777777777777778,
              "#fb9f3a"
             ],
             [
              0.8888888888888888,
              "#fdca26"
             ],
             [
              1,
              "#f0f921"
             ]
            ],
            "type": "heatmap"
           }
          ],
          "heatmapgl": [
           {
            "colorbar": {
             "outlinewidth": 0,
             "ticks": ""
            },
            "colorscale": [
             [
              0,
              "#0d0887"
             ],
             [
              0.1111111111111111,
              "#46039f"
             ],
             [
              0.2222222222222222,
              "#7201a8"
             ],
             [
              0.3333333333333333,
              "#9c179e"
             ],
             [
              0.4444444444444444,
              "#bd3786"
             ],
             [
              0.5555555555555556,
              "#d8576b"
             ],
             [
              0.6666666666666666,
              "#ed7953"
             ],
             [
              0.7777777777777778,
              "#fb9f3a"
             ],
             [
              0.8888888888888888,
              "#fdca26"
             ],
             [
              1,
              "#f0f921"
             ]
            ],
            "type": "heatmapgl"
           }
          ],
          "histogram": [
           {
            "marker": {
             "pattern": {
              "fillmode": "overlay",
              "size": 10,
              "solidity": 0.2
             }
            },
            "type": "histogram"
           }
          ],
          "histogram2d": [
           {
            "colorbar": {
             "outlinewidth": 0,
             "ticks": ""
            },
            "colorscale": [
             [
              0,
              "#0d0887"
             ],
             [
              0.1111111111111111,
              "#46039f"
             ],
             [
              0.2222222222222222,
              "#7201a8"
             ],
             [
              0.3333333333333333,
              "#9c179e"
             ],
             [
              0.4444444444444444,
              "#bd3786"
             ],
             [
              0.5555555555555556,
              "#d8576b"
             ],
             [
              0.6666666666666666,
              "#ed7953"
             ],
             [
              0.7777777777777778,
              "#fb9f3a"
             ],
             [
              0.8888888888888888,
              "#fdca26"
             ],
             [
              1,
              "#f0f921"
             ]
            ],
            "type": "histogram2d"
           }
          ],
          "histogram2dcontour": [
           {
            "colorbar": {
             "outlinewidth": 0,
             "ticks": ""
            },
            "colorscale": [
             [
              0,
              "#0d0887"
             ],
             [
              0.1111111111111111,
              "#46039f"
             ],
             [
              0.2222222222222222,
              "#7201a8"
             ],
             [
              0.3333333333333333,
              "#9c179e"
             ],
             [
              0.4444444444444444,
              "#bd3786"
             ],
             [
              0.5555555555555556,
              "#d8576b"
             ],
             [
              0.6666666666666666,
              "#ed7953"
             ],
             [
              0.7777777777777778,
              "#fb9f3a"
             ],
             [
              0.8888888888888888,
              "#fdca26"
             ],
             [
              1,
              "#f0f921"
             ]
            ],
            "type": "histogram2dcontour"
           }
          ],
          "mesh3d": [
           {
            "colorbar": {
             "outlinewidth": 0,
             "ticks": ""
            },
            "type": "mesh3d"
           }
          ],
          "parcoords": [
           {
            "line": {
             "colorbar": {
              "outlinewidth": 0,
              "ticks": ""
             }
            },
            "type": "parcoords"
           }
          ],
          "pie": [
           {
            "automargin": true,
            "type": "pie"
           }
          ],
          "scatter": [
           {
            "marker": {
             "colorbar": {
              "outlinewidth": 0,
              "ticks": ""
             }
            },
            "type": "scatter"
           }
          ],
          "scatter3d": [
           {
            "line": {
             "colorbar": {
              "outlinewidth": 0,
              "ticks": ""
             }
            },
            "marker": {
             "colorbar": {
              "outlinewidth": 0,
              "ticks": ""
             }
            },
            "type": "scatter3d"
           }
          ],
          "scattercarpet": [
           {
            "marker": {
             "colorbar": {
              "outlinewidth": 0,
              "ticks": ""
             }
            },
            "type": "scattercarpet"
           }
          ],
          "scattergeo": [
           {
            "marker": {
             "colorbar": {
              "outlinewidth": 0,
              "ticks": ""
             }
            },
            "type": "scattergeo"
           }
          ],
          "scattergl": [
           {
            "marker": {
             "colorbar": {
              "outlinewidth": 0,
              "ticks": ""
             }
            },
            "type": "scattergl"
           }
          ],
          "scattermapbox": [
           {
            "marker": {
             "colorbar": {
              "outlinewidth": 0,
              "ticks": ""
             }
            },
            "type": "scattermapbox"
           }
          ],
          "scatterpolar": [
           {
            "marker": {
             "colorbar": {
              "outlinewidth": 0,
              "ticks": ""
             }
            },
            "type": "scatterpolar"
           }
          ],
          "scatterpolargl": [
           {
            "marker": {
             "colorbar": {
              "outlinewidth": 0,
              "ticks": ""
             }
            },
            "type": "scatterpolargl"
           }
          ],
          "scatterternary": [
           {
            "marker": {
             "colorbar": {
              "outlinewidth": 0,
              "ticks": ""
             }
            },
            "type": "scatterternary"
           }
          ],
          "surface": [
           {
            "colorbar": {
             "outlinewidth": 0,
             "ticks": ""
            },
            "colorscale": [
             [
              0,
              "#0d0887"
             ],
             [
              0.1111111111111111,
              "#46039f"
             ],
             [
              0.2222222222222222,
              "#7201a8"
             ],
             [
              0.3333333333333333,
              "#9c179e"
             ],
             [
              0.4444444444444444,
              "#bd3786"
             ],
             [
              0.5555555555555556,
              "#d8576b"
             ],
             [
              0.6666666666666666,
              "#ed7953"
             ],
             [
              0.7777777777777778,
              "#fb9f3a"
             ],
             [
              0.8888888888888888,
              "#fdca26"
             ],
             [
              1,
              "#f0f921"
             ]
            ],
            "type": "surface"
           }
          ],
          "table": [
           {
            "cells": {
             "fill": {
              "color": "#EBF0F8"
             },
             "line": {
              "color": "white"
             }
            },
            "header": {
             "fill": {
              "color": "#C8D4E3"
             },
             "line": {
              "color": "white"
             }
            },
            "type": "table"
           }
          ]
         },
         "layout": {
          "annotationdefaults": {
           "arrowcolor": "#2a3f5f",
           "arrowhead": 0,
           "arrowwidth": 1
          },
          "autotypenumbers": "strict",
          "coloraxis": {
           "colorbar": {
            "outlinewidth": 0,
            "ticks": ""
           }
          },
          "colorscale": {
           "diverging": [
            [
             0,
             "#8e0152"
            ],
            [
             0.1,
             "#c51b7d"
            ],
            [
             0.2,
             "#de77ae"
            ],
            [
             0.3,
             "#f1b6da"
            ],
            [
             0.4,
             "#fde0ef"
            ],
            [
             0.5,
             "#f7f7f7"
            ],
            [
             0.6,
             "#e6f5d0"
            ],
            [
             0.7,
             "#b8e186"
            ],
            [
             0.8,
             "#7fbc41"
            ],
            [
             0.9,
             "#4d9221"
            ],
            [
             1,
             "#276419"
            ]
           ],
           "sequential": [
            [
             0,
             "#0d0887"
            ],
            [
             0.1111111111111111,
             "#46039f"
            ],
            [
             0.2222222222222222,
             "#7201a8"
            ],
            [
             0.3333333333333333,
             "#9c179e"
            ],
            [
             0.4444444444444444,
             "#bd3786"
            ],
            [
             0.5555555555555556,
             "#d8576b"
            ],
            [
             0.6666666666666666,
             "#ed7953"
            ],
            [
             0.7777777777777778,
             "#fb9f3a"
            ],
            [
             0.8888888888888888,
             "#fdca26"
            ],
            [
             1,
             "#f0f921"
            ]
           ],
           "sequentialminus": [
            [
             0,
             "#0d0887"
            ],
            [
             0.1111111111111111,
             "#46039f"
            ],
            [
             0.2222222222222222,
             "#7201a8"
            ],
            [
             0.3333333333333333,
             "#9c179e"
            ],
            [
             0.4444444444444444,
             "#bd3786"
            ],
            [
             0.5555555555555556,
             "#d8576b"
            ],
            [
             0.6666666666666666,
             "#ed7953"
            ],
            [
             0.7777777777777778,
             "#fb9f3a"
            ],
            [
             0.8888888888888888,
             "#fdca26"
            ],
            [
             1,
             "#f0f921"
            ]
           ]
          },
          "colorway": [
           "#636efa",
           "#EF553B",
           "#00cc96",
           "#ab63fa",
           "#FFA15A",
           "#19d3f3",
           "#FF6692",
           "#B6E880",
           "#FF97FF",
           "#FECB52"
          ],
          "font": {
           "color": "#2a3f5f"
          },
          "geo": {
           "bgcolor": "white",
           "lakecolor": "white",
           "landcolor": "#E5ECF6",
           "showlakes": true,
           "showland": true,
           "subunitcolor": "white"
          },
          "hoverlabel": {
           "align": "left"
          },
          "hovermode": "closest",
          "mapbox": {
           "style": "light"
          },
          "paper_bgcolor": "white",
          "plot_bgcolor": "#E5ECF6",
          "polar": {
           "angularaxis": {
            "gridcolor": "white",
            "linecolor": "white",
            "ticks": ""
           },
           "bgcolor": "#E5ECF6",
           "radialaxis": {
            "gridcolor": "white",
            "linecolor": "white",
            "ticks": ""
           }
          },
          "scene": {
           "xaxis": {
            "backgroundcolor": "#E5ECF6",
            "gridcolor": "white",
            "gridwidth": 2,
            "linecolor": "white",
            "showbackground": true,
            "ticks": "",
            "zerolinecolor": "white"
           },
           "yaxis": {
            "backgroundcolor": "#E5ECF6",
            "gridcolor": "white",
            "gridwidth": 2,
            "linecolor": "white",
            "showbackground": true,
            "ticks": "",
            "zerolinecolor": "white"
           },
           "zaxis": {
            "backgroundcolor": "#E5ECF6",
            "gridcolor": "white",
            "gridwidth": 2,
            "linecolor": "white",
            "showbackground": true,
            "ticks": "",
            "zerolinecolor": "white"
           }
          },
          "shapedefaults": {
           "line": {
            "color": "#2a3f5f"
           }
          },
          "ternary": {
           "aaxis": {
            "gridcolor": "white",
            "linecolor": "white",
            "ticks": ""
           },
           "baxis": {
            "gridcolor": "white",
            "linecolor": "white",
            "ticks": ""
           },
           "bgcolor": "#E5ECF6",
           "caxis": {
            "gridcolor": "white",
            "linecolor": "white",
            "ticks": ""
           }
          },
          "title": {
           "x": 0.05
          },
          "xaxis": {
           "automargin": true,
           "gridcolor": "white",
           "linecolor": "white",
           "ticks": "",
           "title": {
            "standoff": 15
           },
           "zerolinecolor": "white",
           "zerolinewidth": 2
          },
          "yaxis": {
           "automargin": true,
           "gridcolor": "white",
           "linecolor": "white",
           "ticks": "",
           "title": {
            "standoff": 15
           },
           "zerolinecolor": "white",
           "zerolinewidth": 2
          }
         }
        },
        "title": {
         "text": "Total eleves - GENERAL"
        },
        "width": 950,
        "xaxis": {
         "anchor": "y",
         "autorange": true,
         "domain": [
          0,
          1
         ],
         "range": [
          -0.5,
          3.5
         ],
         "title": {
          "text": "code_departement"
         },
         "type": "category"
        },
        "yaxis": {
         "anchor": "x",
         "autorange": true,
         "domain": [
          0,
          1
         ],
         "range": [
          0,
          13171.578947368422
         ],
         "title": {
          "text": "sum of total_eleves_general"
         },
         "type": "linear"
        }
       }
      },
      "image/png": "[encoded data removed]",
      "text/html": [
       "<div>                            <div id=\"3b8f2de6-afb2-402c-8689-aa253ef96ea0\" class=\"plotly-graph-div\" style=\"height:560px; width:950px;\"></div>            <script type=\"text/javascript\">                require([\"plotly\"], function(Plotly) {                    window.PLOTLYENV=window.PLOTLYENV || {};                                    if (document.getElementById(\"3b8f2de6-afb2-402c-8689-aa253ef96ea0\")) {                    Plotly.newPlot(                        \"3b8f2de6-afb2-402c-8689-aa253ef96ea0\",                        [{\"alignmentgroup\":\"True\",\"bingroup\":\"x\",\"histfunc\":\"sum\",\"hovertemplate\":\"code_departement=%{x}<br>sum of total_eleves_general=%{y}<extra></extra>\",\"legendgroup\":\"\",\"marker\":{\"color\":\"#636efa\",\"pattern\":{\"shape\":\"\"}},\"name\":\"\",\"offsetgroup\":\"\",\"orientation\":\"v\",\"showlegend\":false,\"type\":\"histogram\",\"x\":[\"75\",\"92\",\"93\",\"94\"],\"xaxis\":\"x\",\"y\":[12513.0,10178.0,7837.0,6884.0],\"yaxis\":\"y\"}],                        {\"barmode\":\"relative\",\"height\":560,\"legend\":{\"font\":{\"color\":\"black\",\"family\":\"Courier\",\"size\":10},\"title\":{\"font\":{\"color\":\"blue\",\"size\":20}},\"tracegroupgap\":0},\"template\":{\"data\":{\"bar\":[{\"error_x\":{\"color\":\"#2a3f5f\"},\"error_y\":{\"color\":\"#2a3f5f\"},\"marker\":{\"line\":{\"color\":\"#E5ECF6\",\"width\":0.5},\"pattern\":{\"fillmode\":\"overlay\",\"size\":10,\"solidity\":0.2}},\"type\":\"bar\"}],\"barpolar\":[{\"marker\":{\"line\":{\"color\":\"#E5ECF6\",\"width\":0.5},\"pattern\":{\"fillmode\":\"overlay\",\"size\":10,\"solidity\":0.2}},\"type\":\"barpolar\"}],\"carpet\":[{\"aaxis\":{\"endlinecolor\":\"#2a3f5f\",\"gridcolor\":\"white\",\"linecolor\":\"white\",\"minorgridcolor\":\"white\",\"startlinecolor\":\"#2a3f5f\"},\"baxis\":{\"endlinecolor\":\"#2a3f5f\",\"gridcolor\":\"white\",\"linecolor\":\"white\",\"minorgridcolor\":\"white\",\"startlinecolor\":\"#2a3f5f\"},\"type\":\"carpet\"}],\"choropleth\":[{\"colorbar\":{\"outlinewidth\":0,\"ticks\":\"\"},\"type\":\"choropleth\"}],\"contour\":[{\"colorbar\":{\"outlinewidth\":0,\"ticks\":\"\"},\"colorscale\":[[0.0,\"#0d0887\"],[0.1111111111111111,\"#46039f\"],[0.2222222222222222,\"#7201a8\"],[0.3333333333333333,\"#9c179e\"],[0.4444444444444444,\"#bd3786\"],[0.5555555555555556,\"#d8576b\"],[0.6666666666666666,\"#ed7953\"],[0.7777777777777778,\"#fb9f3a\"],[0.8888888888888888,\"#fdca26\"],[1.0,\"#f0f921\"]],\"type\":\"contour\"}],\"contourcarpet\":[{\"colorbar\":{\"outlinewidth\":0,\"ticks\":\"\"},\"type\":\"contourcarpet\"}],\"heatmap\":[{\"colorbar\":{\"outlinewidth\":0,\"ticks\":\"\"},\"colorscale\":[[0.0,\"#0d0887\"],[0.1111111111111111,\"#46039f\"],[0.2222222222222222,\"#7201a8\"],[0.3333333333333333,\"#9c179e\"],[0.4444444444444444,\"#bd3786\"],[0.5555555555555556,\"#d8576b\"],[0.6666666666666666,\"#ed7953\"],[0.7777777777777778,\"#fb9f3a\"],[0.8888888888888888,\"#fdca26\"],[1.0,\"#f0f921\"]],\"type\":\"heatmap\"}],\"heatmapgl\":[{\"colorbar\":{\"outlinewidth\":0,\"ticks\":\"\"},\"colorscale\":[[0.0,\"#0d0887\"],[0.1111111111111111,\"#46039f\"],[0.2222222222222222,\"#7201a8\"],[0.3333333333333333,\"#9c179e\"],[0.4444444444444444,\"#bd3786\"],[0.5555555555555556,\"#d8576b\"],[0.6666666666666666,\"#ed7953\"],[0.7777777777777778,\"#fb9f3a\"],[0.8888888888888888,\"#fdca26\"],[1.0,\"#f0f921\"]],\"type\":\"heatmapgl\"}],\"histogram\":[{\"marker\":{\"pattern\":{\"fillmode\":\"overlay\",\"size\":10,\"solidity\":0.2}},\"type\":\"histogram\"}],\"histogram2d\":[{\"colorbar\":{\"outlinewidth\":0,\"ticks\":\"\"},\"colorscale\":[[0.0,\"#0d0887\"],[0.1111111111111111,\"#46039f\"],[0.2222222222222222,\"#7201a8\"],[0.3333333333333333,\"#9c179e\"],[0.4444444444444444,\"#bd3786\"],[0.5555555555555556,\"#d8576b\"],[0.6666666666666666,\"#ed7953\"],[0.7777777777777778,\"#fb9f3a\"],[0.8888888888888888,\"#fdca26\"],[1.0,\"#f0f921\"]],\"type\":\"histogram2d\"}],\"histogram2dcontour\":[{\"colorbar\":{\"outlinewidth\":0,\"ticks\":\"\"},\"colorscale\":[[0.0,\"#0d0887\"],[0.1111111111111111,\"#46039f\"],[0.2222222222222222,\"#7201a8\"],[0.3333333333333333,\"#9c179e\"],[0.4444444444444444,\"#bd3786\"],[0.5555555555555556,\"#d8576b\"],[0.6666666666666666,\"#ed7953\"],[0.7777777777777778,\"#fb9f3a\"],[0.8888888888888888,\"#fdca26\"],[1.0,\"#f0f921\"]],\"type\":\"histogram2dcontour\"}],\"mesh3d\":[{\"colorbar\":{\"outlinewidth\":0,\"ticks\":\"\"},\"type\":\"mesh3d\"}],\"parcoords\":[{\"line\":{\"colorbar\":{\"outlinewidth\":0,\"ticks\":\"\"}},\"type\":\"parcoords\"}],\"pie\":[{\"automargin\":true,\"type\":\"pie\"}],\"scatter\":[{\"marker\":{\"colorbar\":{\"outlinewidth\":0,\"ticks\":\"\"}},\"type\":\"scatter\"}],\"scatter3d\":[{\"line\":{\"colorbar\":{\"outlinewidth\":0,\"ticks\":\"\"}},\"marker\":{\"colorbar\":{\"outlinewidth\":0,\"ticks\":\"\"}},\"type\":\"scatter3d\"}],\"scattercarpet\":[{\"marker\":{\"colorbar\":{\"outlinewidth\":0,\"ticks\":\"\"}},\"type\":\"scattercarpet\"}],\"scattergeo\":[{\"marker\":{\"colorbar\":{\"outlinewidth\":0,\"ticks\":\"\"}},\"type\":\"scattergeo\"}],\"scattergl\":[{\"marker\":{\"colorbar\":{\"outlinewidth\":0,\"ticks\":\"\"}},\"type\":\"scattergl\"}],\"scattermapbox\":[{\"marker\":{\"colorbar\":{\"outlinewidth\":0,\"ticks\":\"\"}},\"type\":\"scattermapbox\"}],\"scatterpolar\":[{\"marker\":{\"colorbar\":{\"outlinewidth\":0,\"ticks\":\"\"}},\"type\":\"scatterpolar\"}],\"scatterpolargl\":[{\"marker\":{\"colorbar\":{\"outlinewidth\":0,\"ticks\":\"\"}},\"type\":\"scatterpolargl\"}],\"scatterternary\":[{\"marker\":{\"colorbar\":{\"outlinewidth\":0,\"ticks\":\"\"}},\"type\":\"scatterternary\"}],\"surface\":[{\"colorbar\":{\"outlinewidth\":0,\"ticks\":\"\"},\"colorscale\":[[0.0,\"#0d0887\"],[0.1111111111111111,\"#46039f\"],[0.2222222222222222,\"#7201a8\"],[0.3333333333333333,\"#9c179e\"],[0.4444444444444444,\"#bd3786\"],[0.5555555555555556,\"#d8576b\"],[0.6666666666666666,\"#ed7953\"],[0.7777777777777778,\"#fb9f3a\"],[0.8888888888888888,\"#fdca26\"],[1.0,\"#f0f921\"]],\"type\":\"surface\"}],\"table\":[{\"cells\":{\"fill\":{\"color\":\"#EBF0F8\"},\"line\":{\"color\":\"white\"}},\"header\":{\"fill\":{\"color\":\"#C8D4E3\"},\"line\":{\"color\":\"white\"}},\"type\":\"table\"}]},\"layout\":{\"annotationdefaults\":{\"arrowcolor\":\"#2a3f5f\",\"arrowhead\":0,\"arrowwidth\":1},\"autotypenumbers\":\"strict\",\"coloraxis\":{\"colorbar\":{\"outlinewidth\":0,\"ticks\":\"\"}},\"colorscale\":{\"diverging\":[[0,\"#8e0152\"],[0.1,\"#c51b7d\"],[0.2,\"#de77ae\"],[0.3,\"#f1b6da\"],[0.4,\"#fde0ef\"],[0.5,\"#f7f7f7\"],[0.6,\"#e6f5d0\"],[0.7,\"#b8e186\"],[0.8,\"#7fbc41\"],[0.9,\"#4d9221\"],[1,\"#276419\"]],\"sequential\":[[0.0,\"#0d0887\"],[0.1111111111111111,\"#46039f\"],[0.2222222222222222,\"#7201a8\"],[0.3333333333333333,\"#9c179e\"],[0.4444444444444444,\"#bd3786\"],[0.5555555555555556,\"#d8576b\"],[0.6666666666666666,\"#ed7953\"],[0.7777777777777778,\"#fb9f3a\"],[0.8888888888888888,\"#fdca26\"],[1.0,\"#f0f921\"]],\"sequentialminus\":[[0.0,\"#0d0887\"],[0.1111111111111111,\"#46039f\"],[0.2222222222222222,\"#7201a8\"],[0.3333333333333333,\"#9c179e\"],[0.4444444444444444,\"#bd3786\"],[0.5555555555555556,\"#d8576b\"],[0.6666666666666666,\"#ed7953\"],[0.7777777777777778,\"#fb9f3a\"],[0.8888888888888888,\"#fdca26\"],[1.0,\"#f0f921\"]]},\"colorway\":[\"#636efa\",\"#EF553B\",\"#00cc96\",\"#ab63fa\",\"#FFA15A\",\"#19d3f3\",\"#FF6692\",\"#B6E880\",\"#FF97FF\",\"#FECB52\"],\"font\":{\"color\":\"#2a3f5f\"},\"geo\":{\"bgcolor\":\"white\",\"lakecolor\":\"white\",\"landcolor\":\"#E5ECF6\",\"showlakes\":true,\"showland\":true,\"subunitcolor\":\"white\"},\"hoverlabel\":{\"align\":\"left\"},\"hovermode\":\"closest\",\"mapbox\":{\"style\":\"light\"},\"paper_bgcolor\":\"white\",\"plot_bgcolor\":\"#E5ECF6\",\"polar\":{\"angularaxis\":{\"gridcolor\":\"white\",\"linecolor\":\"white\",\"ticks\":\"\"},\"bgcolor\":\"#E5ECF6\",\"radialaxis\":{\"gridcolor\":\"white\",\"linecolor\":\"white\",\"ticks\":\"\"}},\"scene\":{\"xaxis\":{\"backgroundcolor\":\"#E5ECF6\",\"gridcolor\":\"white\",\"gridwidth\":2,\"linecolor\":\"white\",\"showbackground\":true,\"ticks\":\"\",\"zerolinecolor\":\"white\"},\"yaxis\":{\"backgroundcolor\":\"#E5ECF6\",\"gridcolor\":\"white\",\"gridwidth\":2,\"linecolor\":\"white\",\"showbackground\":true,\"ticks\":\"\",\"zerolinecolor\":\"white\"},\"zaxis\":{\"backgroundcolor\":\"#E5ECF6\",\"gridcolor\":\"white\",\"gridwidth\":2,\"linecolor\":\"white\",\"showbackground\":true,\"ticks\":\"\",\"zerolinecolor\":\"white\"}},\"shapedefaults\":{\"line\":{\"color\":\"#2a3f5f\"}},\"ternary\":{\"aaxis\":{\"gridcolor\":\"white\",\"linecolor\":\"white\",\"ticks\":\"\"},\"baxis\":{\"gridcolor\":\"white\",\"linecolor\":\"white\",\"ticks\":\"\"},\"bgcolor\":\"#E5ECF6\",\"caxis\":{\"gridcolor\":\"white\",\"linecolor\":\"white\",\"ticks\":\"\"}},\"title\":{\"x\":0.05},\"xaxis\":{\"automargin\":true,\"gridcolor\":\"white\",\"linecolor\":\"white\",\"ticks\":\"\",\"title\":{\"standoff\":15},\"zerolinecolor\":\"white\",\"zerolinewidth\":2},\"yaxis\":{\"automargin\":true,\"gridcolor\":\"white\",\"linecolor\":\"white\",\"ticks\":\"\",\"title\":{\"standoff\":15},\"zerolinecolor\":\"white\",\"zerolinewidth\":2}}},\"title\":{\"text\":\"Total eleves - GENERAL\"},\"width\":950,\"xaxis\":{\"anchor\":\"y\",\"domain\":[0.0,1.0],\"title\":{\"text\":\"code_departement\"}},\"yaxis\":{\"anchor\":\"x\",\"domain\":[0.0,1.0],\"title\":{\"text\":\"sum of total_eleves_general\"}}},                        {\"responsive\": true}                    ).then(function(){\n",
       "                            \n",
       "var gd = document.getElementById('3b8f2de6-afb2-402c-8689-aa253ef96ea0');\n",
       "var x = new MutationObserver(function (mutations, observer) {{\n",
       "        var display = window.getComputedStyle(gd).display;\n",
       "        if (!display || display === 'none') {{\n",
       "            console.log([gd, 'removed!']);\n",
       "            Plotly.purge(gd);\n",
       "            observer.disconnect();\n",
       "        }}\n",
       "}});\n",
       "\n",
       "// Listen for the removal of the full notebook cells\n",
       "var notebookContainer = gd.closest('#notebook-container');\n",
       "if (notebookContainer) {{\n",
       "    x.observe(notebookContainer, {childList: true});\n",
       "}}\n",
       "\n",
       "// Listen for the clearing of the current output cell\n",
       "var outputEl = gd.closest('.output');\n",
       "if (outputEl) {{\n",
       "    x.observe(outputEl, {childList: true});\n",
       "}}\n",
       "\n",
       "                        })                };                });            </script>        </div>"
      ]
     },
     "metadata": {},
     "output_type": "display_data"
    }
   ],
   "source": [
    "fig = px.histogram(df1_bac[df1_bac['Annee']==2019].groupby(['Annee','code_departement'])['total_eleves_general'].sum().reset_index(), x='code_departement',y=\"total_eleves_general\", title='Total eleves - GENERAL', width=950, height=560)\n",
    "fig.update_layout(legend =dict(font = dict(family = \"Courier\", size = 10, color = \"black\")),\n",
    "                  legend_title = dict(font = dict(size = 20, color = \"blue\")))\n",
    "fig.show()"
   ]
  },
  {
   "cell_type": "markdown",
   "id": "7856eb68-7f47-4f09-bd11-f7ee97c09dc5",
   "metadata": {},
   "source": [
    "## 1.3 Nombre d'élève par commune"
   ]
  },
  {
   "cell_type": "code",
   "execution_count": 64,
   "id": "29609322",
   "metadata": {},
   "outputs": [
    {
     "data": {
      "application/vnd.plotly.v1+json": {
       "config": {
        "plotlyServerURL": "https://plot.ly"
       },
       "data": [
        {
         "alignmentgroup": "True",
         "bingroup": "x",
         "histfunc": "sum",
         "hovertemplate": "Ville=%{x}<br>sum of total_eleves_technique=%{y}<extra></extra>",
         "legendgroup": "",
         "marker": {
          "color": "#636efa",
          "pattern": {
           "shape": ""
          }
         },
         "name": "",
         "offsetgroup": "",
         "orientation": "v",
         "showlegend": false,
         "type": "histogram",
         "x": [
          "PARIS 03",
          "PARIS 04",
          "PARIS 05",
          "PARIS 06",
          "PARIS 07",
          "PARIS 08",
          "PARIS 09",
          "PARIS 10",
          "PARIS 11",
          "PARIS 12",
          "PARIS 13",
          "PARIS 14",
          "PARIS 15",
          "PARIS 16",
          "PARIS 17",
          "PARIS 18",
          "PARIS 19",
          "PARIS 20"
         ],
         "xaxis": "x",
         "y": [
          119,
          47,
          27,
          401,
          178,
          67,
          103,
          0,
          99,
          207,
          350,
          375,
          101,
          262,
          111,
          215,
          339,
          71
         ],
         "yaxis": "y"
        }
       ],
       "layout": {
        "barmode": "relative",
        "height": 560,
        "legend": {
         "font": {
          "color": "black",
          "family": "Courier",
          "size": 10
         },
         "title": {
          "font": {
           "color": "blue",
           "size": 20
          }
         },
         "tracegroupgap": 0
        },
        "template": {
         "data": {
          "bar": [
           {
            "error_x": {
             "color": "#2a3f5f"
            },
            "error_y": {
             "color": "#2a3f5f"
            },
            "marker": {
             "line": {
              "color": "#E5ECF6",
              "width": 0.5
             },
             "pattern": {
              "fillmode": "overlay",
              "size": 10,
              "solidity": 0.2
             }
            },
            "type": "bar"
           }
          ],
          "barpolar": [
           {
            "marker": {
             "line": {
              "color": "#E5ECF6",
              "width": 0.5
             },
             "pattern": {
              "fillmode": "overlay",
              "size": 10,
              "solidity": 0.2
             }
            },
            "type": "barpolar"
           }
          ],
          "carpet": [
           {
            "aaxis": {
             "endlinecolor": "#2a3f5f",
             "gridcolor": "white",
             "linecolor": "white",
             "minorgridcolor": "white",
             "startlinecolor": "#2a3f5f"
            },
            "baxis": {
             "endlinecolor": "#2a3f5f",
             "gridcolor": "white",
             "linecolor": "white",
             "minorgridcolor": "white",
             "startlinecolor": "#2a3f5f"
            },
            "type": "carpet"
           }
          ],
          "choropleth": [
           {
            "colorbar": {
             "outlinewidth": 0,
             "ticks": ""
            },
            "type": "choropleth"
           }
          ],
          "contour": [
           {
            "colorbar": {
             "outlinewidth": 0,
             "ticks": ""
            },
            "colorscale": [
             [
              0,
              "#0d0887"
             ],
             [
              0.1111111111111111,
              "#46039f"
             ],
             [
              0.2222222222222222,
              "#7201a8"
             ],
             [
              0.3333333333333333,
              "#9c179e"
             ],
             [
              0.4444444444444444,
              "#bd3786"
             ],
             [
              0.5555555555555556,
              "#d8576b"
             ],
             [
              0.6666666666666666,
              "#ed7953"
             ],
             [
              0.7777777777777778,
              "#fb9f3a"
             ],
             [
              0.8888888888888888,
              "#fdca26"
             ],
             [
              1,
              "#f0f921"
             ]
            ],
            "type": "contour"
           }
          ],
          "contourcarpet": [
           {
            "colorbar": {
             "outlinewidth": 0,
             "ticks": ""
            },
            "type": "contourcarpet"
           }
          ],
          "heatmap": [
           {
            "colorbar": {
             "outlinewidth": 0,
             "ticks": ""
            },
            "colorscale": [
             [
              0,
              "#0d0887"
             ],
             [
              0.1111111111111111,
              "#46039f"
             ],
             [
              0.2222222222222222,
              "#7201a8"
             ],
             [
              0.3333333333333333,
              "#9c179e"
             ],
             [
              0.4444444444444444,
              "#bd3786"
             ],
             [
              0.5555555555555556,
              "#d8576b"
             ],
             [
              0.6666666666666666,
              "#ed7953"
             ],
             [
              0.7777777777777778,
              "#fb9f3a"
             ],
             [
              0.8888888888888888,
              "#fdca26"
             ],
             [
              1,
              "#f0f921"
             ]
            ],
            "type": "heatmap"
           }
          ],
          "heatmapgl": [
           {
            "colorbar": {
             "outlinewidth": 0,
             "ticks": ""
            },
            "colorscale": [
             [
              0,
              "#0d0887"
             ],
             [
              0.1111111111111111,
              "#46039f"
             ],
             [
              0.2222222222222222,
              "#7201a8"
             ],
             [
              0.3333333333333333,
              "#9c179e"
             ],
             [
              0.4444444444444444,
              "#bd3786"
             ],
             [
              0.5555555555555556,
              "#d8576b"
             ],
             [
              0.6666666666666666,
              "#ed7953"
             ],
             [
              0.7777777777777778,
              "#fb9f3a"
             ],
             [
              0.8888888888888888,
              "#fdca26"
             ],
             [
              1,
              "#f0f921"
             ]
            ],
            "type": "heatmapgl"
           }
          ],
          "histogram": [
           {
            "marker": {
             "pattern": {
              "fillmode": "overlay",
              "size": 10,
              "solidity": 0.2
             }
            },
            "type": "histogram"
           }
          ],
          "histogram2d": [
           {
            "colorbar": {
             "outlinewidth": 0,
             "ticks": ""
            },
            "colorscale": [
             [
              0,
              "#0d0887"
             ],
             [
              0.1111111111111111,
              "#46039f"
             ],
             [
              0.2222222222222222,
              "#7201a8"
             ],
             [
              0.3333333333333333,
              "#9c179e"
             ],
             [
              0.4444444444444444,
              "#bd3786"
             ],
             [
              0.5555555555555556,
              "#d8576b"
             ],
             [
              0.6666666666666666,
              "#ed7953"
             ],
             [
              0.7777777777777778,
              "#fb9f3a"
             ],
             [
              0.8888888888888888,
              "#fdca26"
             ],
             [
              1,
              "#f0f921"
             ]
            ],
            "type": "histogram2d"
           }
          ],
          "histogram2dcontour": [
           {
            "colorbar": {
             "outlinewidth": 0,
             "ticks": ""
            },
            "colorscale": [
             [
              0,
              "#0d0887"
             ],
             [
              0.1111111111111111,
              "#46039f"
             ],
             [
              0.2222222222222222,
              "#7201a8"
             ],
             [
              0.3333333333333333,
              "#9c179e"
             ],
             [
              0.4444444444444444,
              "#bd3786"
             ],
             [
              0.5555555555555556,
              "#d8576b"
             ],
             [
              0.6666666666666666,
              "#ed7953"
             ],
             [
              0.7777777777777778,
              "#fb9f3a"
             ],
             [
              0.8888888888888888,
              "#fdca26"
             ],
             [
              1,
              "#f0f921"
             ]
            ],
            "type": "histogram2dcontour"
           }
          ],
          "mesh3d": [
           {
            "colorbar": {
             "outlinewidth": 0,
             "ticks": ""
            },
            "type": "mesh3d"
           }
          ],
          "parcoords": [
           {
            "line": {
             "colorbar": {
              "outlinewidth": 0,
              "ticks": ""
             }
            },
            "type": "parcoords"
           }
          ],
          "pie": [
           {
            "automargin": true,
            "type": "pie"
           }
          ],
          "scatter": [
           {
            "marker": {
             "colorbar": {
              "outlinewidth": 0,
              "ticks": ""
             }
            },
            "type": "scatter"
           }
          ],
          "scatter3d": [
           {
            "line": {
             "colorbar": {
              "outlinewidth": 0,
              "ticks": ""
             }
            },
            "marker": {
             "colorbar": {
              "outlinewidth": 0,
              "ticks": ""
             }
            },
            "type": "scatter3d"
           }
          ],
          "scattercarpet": [
           {
            "marker": {
             "colorbar": {
              "outlinewidth": 0,
              "ticks": ""
             }
            },
            "type": "scattercarpet"
           }
          ],
          "scattergeo": [
           {
            "marker": {
             "colorbar": {
              "outlinewidth": 0,
              "ticks": ""
             }
            },
            "type": "scattergeo"
           }
          ],
          "scattergl": [
           {
            "marker": {
             "colorbar": {
              "outlinewidth": 0,
              "ticks": ""
             }
            },
            "type": "scattergl"
           }
          ],
          "scattermapbox": [
           {
            "marker": {
             "colorbar": {
              "outlinewidth": 0,
              "ticks": ""
             }
            },
            "type": "scattermapbox"
           }
          ],
          "scatterpolar": [
           {
            "marker": {
             "colorbar": {
              "outlinewidth": 0,
              "ticks": ""
             }
            },
            "type": "scatterpolar"
           }
          ],
          "scatterpolargl": [
           {
            "marker": {
             "colorbar": {
              "outlinewidth": 0,
              "ticks": ""
             }
            },
            "type": "scatterpolargl"
           }
          ],
          "scatterternary": [
           {
            "marker": {
             "colorbar": {
              "outlinewidth": 0,
              "ticks": ""
             }
            },
            "type": "scatterternary"
           }
          ],
          "surface": [
           {
            "colorbar": {
             "outlinewidth": 0,
             "ticks": ""
            },
            "colorscale": [
             [
              0,
              "#0d0887"
             ],
             [
              0.1111111111111111,
              "#46039f"
             ],
             [
              0.2222222222222222,
              "#7201a8"
             ],
             [
              0.3333333333333333,
              "#9c179e"
             ],
             [
              0.4444444444444444,
              "#bd3786"
             ],
             [
              0.5555555555555556,
              "#d8576b"
             ],
             [
              0.6666666666666666,
              "#ed7953"
             ],
             [
              0.7777777777777778,
              "#fb9f3a"
             ],
             [
              0.8888888888888888,
              "#fdca26"
             ],
             [
              1,
              "#f0f921"
             ]
            ],
            "type": "surface"
           }
          ],
          "table": [
           {
            "cells": {
             "fill": {
              "color": "#EBF0F8"
             },
             "line": {
              "color": "white"
             }
            },
            "header": {
             "fill": {
              "color": "#C8D4E3"
             },
             "line": {
              "color": "white"
             }
            },
            "type": "table"
           }
          ]
         },
         "layout": {
          "annotationdefaults": {
           "arrowcolor": "#2a3f5f",
           "arrowhead": 0,
           "arrowwidth": 1
          },
          "autotypenumbers": "strict",
          "coloraxis": {
           "colorbar": {
            "outlinewidth": 0,
            "ticks": ""
           }
          },
          "colorscale": {
           "diverging": [
            [
             0,
             "#8e0152"
            ],
            [
             0.1,
             "#c51b7d"
            ],
            [
             0.2,
             "#de77ae"
            ],
            [
             0.3,
             "#f1b6da"
            ],
            [
             0.4,
             "#fde0ef"
            ],
            [
             0.5,
             "#f7f7f7"
            ],
            [
             0.6,
             "#e6f5d0"
            ],
            [
             0.7,
             "#b8e186"
            ],
            [
             0.8,
             "#7fbc41"
            ],
            [
             0.9,
             "#4d9221"
            ],
            [
             1,
             "#276419"
            ]
           ],
           "sequential": [
            [
             0,
             "#0d0887"
            ],
            [
             0.1111111111111111,
             "#46039f"
            ],
            [
             0.2222222222222222,
             "#7201a8"
            ],
            [
             0.3333333333333333,
             "#9c179e"
            ],
            [
             0.4444444444444444,
             "#bd3786"
            ],
            [
             0.5555555555555556,
             "#d8576b"
            ],
            [
             0.6666666666666666,
             "#ed7953"
            ],
            [
             0.7777777777777778,
             "#fb9f3a"
            ],
            [
             0.8888888888888888,
             "#fdca26"
            ],
            [
             1,
             "#f0f921"
            ]
           ],
           "sequentialminus": [
            [
             0,
             "#0d0887"
            ],
            [
             0.1111111111111111,
             "#46039f"
            ],
            [
             0.2222222222222222,
             "#7201a8"
            ],
            [
             0.3333333333333333,
             "#9c179e"
            ],
            [
             0.4444444444444444,
             "#bd3786"
            ],
            [
             0.5555555555555556,
             "#d8576b"
            ],
            [
             0.6666666666666666,
             "#ed7953"
            ],
            [
             0.7777777777777778,
             "#fb9f3a"
            ],
            [
             0.8888888888888888,
             "#fdca26"
            ],
            [
             1,
             "#f0f921"
            ]
           ]
          },
          "colorway": [
           "#636efa",
           "#EF553B",
           "#00cc96",
           "#ab63fa",
           "#FFA15A",
           "#19d3f3",
           "#FF6692",
           "#B6E880",
           "#FF97FF",
           "#FECB52"
          ],
          "font": {
           "color": "#2a3f5f"
          },
          "geo": {
           "bgcolor": "white",
           "lakecolor": "white",
           "landcolor": "#E5ECF6",
           "showlakes": true,
           "showland": true,
           "subunitcolor": "white"
          },
          "hoverlabel": {
           "align": "left"
          },
          "hovermode": "closest",
          "mapbox": {
           "style": "light"
          },
          "paper_bgcolor": "white",
          "plot_bgcolor": "#E5ECF6",
          "polar": {
           "angularaxis": {
            "gridcolor": "white",
            "linecolor": "white",
            "ticks": ""
           },
           "bgcolor": "#E5ECF6",
           "radialaxis": {
            "gridcolor": "white",
            "linecolor": "white",
            "ticks": ""
           }
          },
          "scene": {
           "xaxis": {
            "backgroundcolor": "#E5ECF6",
            "gridcolor": "white",
            "gridwidth": 2,
            "linecolor": "white",
            "showbackground": true,
            "ticks": "",
            "zerolinecolor": "white"
           },
           "yaxis": {
            "backgroundcolor": "#E5ECF6",
            "gridcolor": "white",
            "gridwidth": 2,
            "linecolor": "white",
            "showbackground": true,
            "ticks": "",
            "zerolinecolor": "white"
           },
           "zaxis": {
            "backgroundcolor": "#E5ECF6",
            "gridcolor": "white",
            "gridwidth": 2,
            "linecolor": "white",
            "showbackground": true,
            "ticks": "",
            "zerolinecolor": "white"
           }
          },
          "shapedefaults": {
           "line": {
            "color": "#2a3f5f"
           }
          },
          "ternary": {
           "aaxis": {
            "gridcolor": "white",
            "linecolor": "white",
            "ticks": ""
           },
           "baxis": {
            "gridcolor": "white",
            "linecolor": "white",
            "ticks": ""
           },
           "bgcolor": "#E5ECF6",
           "caxis": {
            "gridcolor": "white",
            "linecolor": "white",
            "ticks": ""
           }
          },
          "title": {
           "x": 0.05
          },
          "xaxis": {
           "automargin": true,
           "gridcolor": "white",
           "linecolor": "white",
           "ticks": "",
           "title": {
            "standoff": 15
           },
           "zerolinecolor": "white",
           "zerolinewidth": 2
          },
          "yaxis": {
           "automargin": true,
           "gridcolor": "white",
           "linecolor": "white",
           "ticks": "",
           "title": {
            "standoff": 15
           },
           "zerolinecolor": "white",
           "zerolinewidth": 2
          }
         }
        },
        "title": {
         "text": "Total eleves - TECHNIQUE"
        },
        "width": 950,
        "xaxis": {
         "anchor": "y",
         "autorange": true,
         "domain": [
          0,
          1
         ],
         "range": [
          -0.5,
          17.5
         ],
         "title": {
          "text": "Ville"
         },
         "type": "category"
        },
        "yaxis": {
         "anchor": "x",
         "autorange": true,
         "domain": [
          0,
          1
         ],
         "range": [
          0,
          422.10526315789474
         ],
         "title": {
          "text": "sum of total_eleves_technique"
         },
         "type": "linear"
        }
       }
      },
      "image/png": "[encoded data removed]",
      "text/html": [
       "<div>                            <div id=\"c004dd64-0da9-446f-92e0-9b864024ab65\" class=\"plotly-graph-div\" style=\"height:560px; width:950px;\"></div>            <script type=\"text/javascript\">                require([\"plotly\"], function(Plotly) {                    window.PLOTLYENV=window.PLOTLYENV || {};                                    if (document.getElementById(\"c004dd64-0da9-446f-92e0-9b864024ab65\")) {                    Plotly.newPlot(                        \"c004dd64-0da9-446f-92e0-9b864024ab65\",                        [{\"alignmentgroup\":\"True\",\"bingroup\":\"x\",\"histfunc\":\"sum\",\"hovertemplate\":\"Ville=%{x}<br>sum of total_eleves_technique=%{y}<extra></extra>\",\"legendgroup\":\"\",\"marker\":{\"color\":\"#636efa\",\"pattern\":{\"shape\":\"\"}},\"name\":\"\",\"offsetgroup\":\"\",\"orientation\":\"v\",\"showlegend\":false,\"type\":\"histogram\",\"x\":[\"PARIS 03\",\"PARIS 04\",\"PARIS 05\",\"PARIS 06\",\"PARIS 07\",\"PARIS 08\",\"PARIS 09\",\"PARIS 10\",\"PARIS 11\",\"PARIS 12\",\"PARIS 13\",\"PARIS 14\",\"PARIS 15\",\"PARIS 16\",\"PARIS 17\",\"PARIS 18\",\"PARIS 19\",\"PARIS 20\"],\"xaxis\":\"x\",\"y\":[119.0,47.0,27.0,401.0,178.0,67.0,103.0,0.0,99.0,207.0,350.0,375.0,101.0,262.0,111.0,215.0,339.0,71.0],\"yaxis\":\"y\"}],                        {\"barmode\":\"relative\",\"height\":560,\"legend\":{\"font\":{\"color\":\"black\",\"family\":\"Courier\",\"size\":10},\"title\":{\"font\":{\"color\":\"blue\",\"size\":20}},\"tracegroupgap\":0},\"template\":{\"data\":{\"bar\":[{\"error_x\":{\"color\":\"#2a3f5f\"},\"error_y\":{\"color\":\"#2a3f5f\"},\"marker\":{\"line\":{\"color\":\"#E5ECF6\",\"width\":0.5},\"pattern\":{\"fillmode\":\"overlay\",\"size\":10,\"solidity\":0.2}},\"type\":\"bar\"}],\"barpolar\":[{\"marker\":{\"line\":{\"color\":\"#E5ECF6\",\"width\":0.5},\"pattern\":{\"fillmode\":\"overlay\",\"size\":10,\"solidity\":0.2}},\"type\":\"barpolar\"}],\"carpet\":[{\"aaxis\":{\"endlinecolor\":\"#2a3f5f\",\"gridcolor\":\"white\",\"linecolor\":\"white\",\"minorgridcolor\":\"white\",\"startlinecolor\":\"#2a3f5f\"},\"baxis\":{\"endlinecolor\":\"#2a3f5f\",\"gridcolor\":\"white\",\"linecolor\":\"white\",\"minorgridcolor\":\"white\",\"startlinecolor\":\"#2a3f5f\"},\"type\":\"carpet\"}],\"choropleth\":[{\"colorbar\":{\"outlinewidth\":0,\"ticks\":\"\"},\"type\":\"choropleth\"}],\"contour\":[{\"colorbar\":{\"outlinewidth\":0,\"ticks\":\"\"},\"colorscale\":[[0.0,\"#0d0887\"],[0.1111111111111111,\"#46039f\"],[0.2222222222222222,\"#7201a8\"],[0.3333333333333333,\"#9c179e\"],[0.4444444444444444,\"#bd3786\"],[0.5555555555555556,\"#d8576b\"],[0.6666666666666666,\"#ed7953\"],[0.7777777777777778,\"#fb9f3a\"],[0.8888888888888888,\"#fdca26\"],[1.0,\"#f0f921\"]],\"type\":\"contour\"}],\"contourcarpet\":[{\"colorbar\":{\"outlinewidth\":0,\"ticks\":\"\"},\"type\":\"contourcarpet\"}],\"heatmap\":[{\"colorbar\":{\"outlinewidth\":0,\"ticks\":\"\"},\"colorscale\":[[0.0,\"#0d0887\"],[0.1111111111111111,\"#46039f\"],[0.2222222222222222,\"#7201a8\"],[0.3333333333333333,\"#9c179e\"],[0.4444444444444444,\"#bd3786\"],[0.5555555555555556,\"#d8576b\"],[0.6666666666666666,\"#ed7953\"],[0.7777777777777778,\"#fb9f3a\"],[0.8888888888888888,\"#fdca26\"],[1.0,\"#f0f921\"]],\"type\":\"heatmap\"}],\"heatmapgl\":[{\"colorbar\":{\"outlinewidth\":0,\"ticks\":\"\"},\"colorscale\":[[0.0,\"#0d0887\"],[0.1111111111111111,\"#46039f\"],[0.2222222222222222,\"#7201a8\"],[0.3333333333333333,\"#9c179e\"],[0.4444444444444444,\"#bd3786\"],[0.5555555555555556,\"#d8576b\"],[0.6666666666666666,\"#ed7953\"],[0.7777777777777778,\"#fb9f3a\"],[0.8888888888888888,\"#fdca26\"],[1.0,\"#f0f921\"]],\"type\":\"heatmapgl\"}],\"histogram\":[{\"marker\":{\"pattern\":{\"fillmode\":\"overlay\",\"size\":10,\"solidity\":0.2}},\"type\":\"histogram\"}],\"histogram2d\":[{\"colorbar\":{\"outlinewidth\":0,\"ticks\":\"\"},\"colorscale\":[[0.0,\"#0d0887\"],[0.1111111111111111,\"#46039f\"],[0.2222222222222222,\"#7201a8\"],[0.3333333333333333,\"#9c179e\"],[0.4444444444444444,\"#bd3786\"],[0.5555555555555556,\"#d8576b\"],[0.6666666666666666,\"#ed7953\"],[0.7777777777777778,\"#fb9f3a\"],[0.8888888888888888,\"#fdca26\"],[1.0,\"#f0f921\"]],\"type\":\"histogram2d\"}],\"histogram2dcontour\":[{\"colorbar\":{\"outlinewidth\":0,\"ticks\":\"\"},\"colorscale\":[[0.0,\"#0d0887\"],[0.1111111111111111,\"#46039f\"],[0.2222222222222222,\"#7201a8\"],[0.3333333333333333,\"#9c179e\"],[0.4444444444444444,\"#bd3786\"],[0.5555555555555556,\"#d8576b\"],[0.6666666666666666,\"#ed7953\"],[0.7777777777777778,\"#fb9f3a\"],[0.8888888888888888,\"#fdca26\"],[1.0,\"#f0f921\"]],\"type\":\"histogram2dcontour\"}],\"mesh3d\":[{\"colorbar\":{\"outlinewidth\":0,\"ticks\":\"\"},\"type\":\"mesh3d\"}],\"parcoords\":[{\"line\":{\"colorbar\":{\"outlinewidth\":0,\"ticks\":\"\"}},\"type\":\"parcoords\"}],\"pie\":[{\"automargin\":true,\"type\":\"pie\"}],\"scatter\":[{\"marker\":{\"colorbar\":{\"outlinewidth\":0,\"ticks\":\"\"}},\"type\":\"scatter\"}],\"scatter3d\":[{\"line\":{\"colorbar\":{\"outlinewidth\":0,\"ticks\":\"\"}},\"marker\":{\"colorbar\":{\"outlinewidth\":0,\"ticks\":\"\"}},\"type\":\"scatter3d\"}],\"scattercarpet\":[{\"marker\":{\"colorbar\":{\"outlinewidth\":0,\"ticks\":\"\"}},\"type\":\"scattercarpet\"}],\"scattergeo\":[{\"marker\":{\"colorbar\":{\"outlinewidth\":0,\"ticks\":\"\"}},\"type\":\"scattergeo\"}],\"scattergl\":[{\"marker\":{\"colorbar\":{\"outlinewidth\":0,\"ticks\":\"\"}},\"type\":\"scattergl\"}],\"scattermapbox\":[{\"marker\":{\"colorbar\":{\"outlinewidth\":0,\"ticks\":\"\"}},\"type\":\"scattermapbox\"}],\"scatterpolar\":[{\"marker\":{\"colorbar\":{\"outlinewidth\":0,\"ticks\":\"\"}},\"type\":\"scatterpolar\"}],\"scatterpolargl\":[{\"marker\":{\"colorbar\":{\"outlinewidth\":0,\"ticks\":\"\"}},\"type\":\"scatterpolargl\"}],\"scatterternary\":[{\"marker\":{\"colorbar\":{\"outlinewidth\":0,\"ticks\":\"\"}},\"type\":\"scatterternary\"}],\"surface\":[{\"colorbar\":{\"outlinewidth\":0,\"ticks\":\"\"},\"colorscale\":[[0.0,\"#0d0887\"],[0.1111111111111111,\"#46039f\"],[0.2222222222222222,\"#7201a8\"],[0.3333333333333333,\"#9c179e\"],[0.4444444444444444,\"#bd3786\"],[0.5555555555555556,\"#d8576b\"],[0.6666666666666666,\"#ed7953\"],[0.7777777777777778,\"#fb9f3a\"],[0.8888888888888888,\"#fdca26\"],[1.0,\"#f0f921\"]],\"type\":\"surface\"}],\"table\":[{\"cells\":{\"fill\":{\"color\":\"#EBF0F8\"},\"line\":{\"color\":\"white\"}},\"header\":{\"fill\":{\"color\":\"#C8D4E3\"},\"line\":{\"color\":\"white\"}},\"type\":\"table\"}]},\"layout\":{\"annotationdefaults\":{\"arrowcolor\":\"#2a3f5f\",\"arrowhead\":0,\"arrowwidth\":1},\"autotypenumbers\":\"strict\",\"coloraxis\":{\"colorbar\":{\"outlinewidth\":0,\"ticks\":\"\"}},\"colorscale\":{\"diverging\":[[0,\"#8e0152\"],[0.1,\"#c51b7d\"],[0.2,\"#de77ae\"],[0.3,\"#f1b6da\"],[0.4,\"#fde0ef\"],[0.5,\"#f7f7f7\"],[0.6,\"#e6f5d0\"],[0.7,\"#b8e186\"],[0.8,\"#7fbc41\"],[0.9,\"#4d9221\"],[1,\"#276419\"]],\"sequential\":[[0.0,\"#0d0887\"],[0.1111111111111111,\"#46039f\"],[0.2222222222222222,\"#7201a8\"],[0.3333333333333333,\"#9c179e\"],[0.4444444444444444,\"#bd3786\"],[0.5555555555555556,\"#d8576b\"],[0.6666666666666666,\"#ed7953\"],[0.7777777777777778,\"#fb9f3a\"],[0.8888888888888888,\"#fdca26\"],[1.0,\"#f0f921\"]],\"sequentialminus\":[[0.0,\"#0d0887\"],[0.1111111111111111,\"#46039f\"],[0.2222222222222222,\"#7201a8\"],[0.3333333333333333,\"#9c179e\"],[0.4444444444444444,\"#bd3786\"],[0.5555555555555556,\"#d8576b\"],[0.6666666666666666,\"#ed7953\"],[0.7777777777777778,\"#fb9f3a\"],[0.8888888888888888,\"#fdca26\"],[1.0,\"#f0f921\"]]},\"colorway\":[\"#636efa\",\"#EF553B\",\"#00cc96\",\"#ab63fa\",\"#FFA15A\",\"#19d3f3\",\"#FF6692\",\"#B6E880\",\"#FF97FF\",\"#FECB52\"],\"font\":{\"color\":\"#2a3f5f\"},\"geo\":{\"bgcolor\":\"white\",\"lakecolor\":\"white\",\"landcolor\":\"#E5ECF6\",\"showlakes\":true,\"showland\":true,\"subunitcolor\":\"white\"},\"hoverlabel\":{\"align\":\"left\"},\"hovermode\":\"closest\",\"mapbox\":{\"style\":\"light\"},\"paper_bgcolor\":\"white\",\"plot_bgcolor\":\"#E5ECF6\",\"polar\":{\"angularaxis\":{\"gridcolor\":\"white\",\"linecolor\":\"white\",\"ticks\":\"\"},\"bgcolor\":\"#E5ECF6\",\"radialaxis\":{\"gridcolor\":\"white\",\"linecolor\":\"white\",\"ticks\":\"\"}},\"scene\":{\"xaxis\":{\"backgroundcolor\":\"#E5ECF6\",\"gridcolor\":\"white\",\"gridwidth\":2,\"linecolor\":\"white\",\"showbackground\":true,\"ticks\":\"\",\"zerolinecolor\":\"white\"},\"yaxis\":{\"backgroundcolor\":\"#E5ECF6\",\"gridcolor\":\"white\",\"gridwidth\":2,\"linecolor\":\"white\",\"showbackground\":true,\"ticks\":\"\",\"zerolinecolor\":\"white\"},\"zaxis\":{\"backgroundcolor\":\"#E5ECF6\",\"gridcolor\":\"white\",\"gridwidth\":2,\"linecolor\":\"white\",\"showbackground\":true,\"ticks\":\"\",\"zerolinecolor\":\"white\"}},\"shapedefaults\":{\"line\":{\"color\":\"#2a3f5f\"}},\"ternary\":{\"aaxis\":{\"gridcolor\":\"white\",\"linecolor\":\"white\",\"ticks\":\"\"},\"baxis\":{\"gridcolor\":\"white\",\"linecolor\":\"white\",\"ticks\":\"\"},\"bgcolor\":\"#E5ECF6\",\"caxis\":{\"gridcolor\":\"white\",\"linecolor\":\"white\",\"ticks\":\"\"}},\"title\":{\"x\":0.05},\"xaxis\":{\"automargin\":true,\"gridcolor\":\"white\",\"linecolor\":\"white\",\"ticks\":\"\",\"title\":{\"standoff\":15},\"zerolinecolor\":\"white\",\"zerolinewidth\":2},\"yaxis\":{\"automargin\":true,\"gridcolor\":\"white\",\"linecolor\":\"white\",\"ticks\":\"\",\"title\":{\"standoff\":15},\"zerolinecolor\":\"white\",\"zerolinewidth\":2}}},\"title\":{\"text\":\"Total eleves - TECHNIQUE\"},\"width\":950,\"xaxis\":{\"anchor\":\"y\",\"domain\":[0.0,1.0],\"title\":{\"text\":\"Ville\"}},\"yaxis\":{\"anchor\":\"x\",\"domain\":[0.0,1.0],\"title\":{\"text\":\"sum of total_eleves_technique\"}}},                        {\"responsive\": true}                    ).then(function(){\n",
       "                            \n",
       "var gd = document.getElementById('c004dd64-0da9-446f-92e0-9b864024ab65');\n",
       "var x = new MutationObserver(function (mutations, observer) {{\n",
       "        var display = window.getComputedStyle(gd).display;\n",
       "        if (!display || display === 'none') {{\n",
       "            console.log([gd, 'removed!']);\n",
       "            Plotly.purge(gd);\n",
       "            observer.disconnect();\n",
       "        }}\n",
       "}});\n",
       "\n",
       "// Listen for the removal of the full notebook cells\n",
       "var notebookContainer = gd.closest('#notebook-container');\n",
       "if (notebookContainer) {{\n",
       "    x.observe(notebookContainer, {childList: true});\n",
       "}}\n",
       "\n",
       "// Listen for the clearing of the current output cell\n",
       "var outputEl = gd.closest('.output');\n",
       "if (outputEl) {{\n",
       "    x.observe(outputEl, {childList: true});\n",
       "}}\n",
       "\n",
       "                        })                };                });            </script>        </div>"
      ]
     },
     "metadata": {},
     "output_type": "display_data"
    }
   ],
   "source": [
    "df2_bac=df1_bac[df1_bac['Academie']=='PARIS']\n",
    "fig = px.histogram(df2_bac[df2_bac['Annee']==2019].groupby(['Annee','Ville'])['total_eleves_technique'].sum().reset_index(), x='Ville',y=\"total_eleves_technique\", title='Total eleves - TECHNIQUE', width=950, height=560)\n",
    "fig.update_layout(legend =dict(font = dict(family = \"Courier\", size = 10, color = \"black\")),\n",
    "                  legend_title = dict(font = dict(size = 20, color = \"blue\")))\n",
    "fig.show()"
   ]
  },
  {
   "cell_type": "code",
   "execution_count": 29,
   "id": "1682e230",
   "metadata": {},
   "outputs": [
    {
     "data": {
      "application/vnd.plotly.v1+json": {
       "config": {
        "plotlyServerURL": "https://plot.ly"
       },
       "data": [
        {
         "alignmentgroup": "True",
         "bingroup": "x",
         "histfunc": "sum",
         "hovertemplate": "Ville=%{x}<br>sum of total_eleves_general=%{y}<extra></extra>",
         "legendgroup": "",
         "marker": {
          "color": "#636efa",
          "pattern": {
           "shape": ""
          }
         },
         "name": "",
         "offsetgroup": "",
         "orientation": "v",
         "showlegend": false,
         "type": "histogram",
         "x": [
          "PARIS 03",
          "PARIS 04",
          "PARIS 05",
          "PARIS 06",
          "PARIS 07",
          "PARIS 08",
          "PARIS 09",
          "PARIS 10",
          "PARIS 11",
          "PARIS 12",
          "PARIS 13",
          "PARIS 14",
          "PARIS 15",
          "PARIS 16",
          "PARIS 17",
          "PARIS 18",
          "PARIS 19",
          "PARIS 20"
         ],
         "xaxis": "x",
         "y": [
          156,
          821,
          693,
          1360,
          582,
          556,
          829,
          634,
          505,
          661,
          852,
          214,
          787,
          1732,
          901,
          200,
          253,
          777
         ],
         "yaxis": "y"
        }
       ],
       "layout": {
        "barmode": "relative",
        "height": 560,
        "legend": {
         "font": {
          "color": "black",
          "family": "Courier",
          "size": 10
         },
         "title": {
          "font": {
           "color": "blue",
           "size": 20
          }
         },
         "tracegroupgap": 0
        },
        "template": {
         "data": {
          "bar": [
           {
            "error_x": {
             "color": "#2a3f5f"
            },
            "error_y": {
             "color": "#2a3f5f"
            },
            "marker": {
             "line": {
              "color": "#E5ECF6",
              "width": 0.5
             },
             "pattern": {
              "fillmode": "overlay",
              "size": 10,
              "solidity": 0.2
             }
            },
            "type": "bar"
           }
          ],
          "barpolar": [
           {
            "marker": {
             "line": {
              "color": "#E5ECF6",
              "width": 0.5
             },
             "pattern": {
              "fillmode": "overlay",
              "size": 10,
              "solidity": 0.2
             }
            },
            "type": "barpolar"
           }
          ],
          "carpet": [
           {
            "aaxis": {
             "endlinecolor": "#2a3f5f",
             "gridcolor": "white",
             "linecolor": "white",
             "minorgridcolor": "white",
             "startlinecolor": "#2a3f5f"
            },
            "baxis": {
             "endlinecolor": "#2a3f5f",
             "gridcolor": "white",
             "linecolor": "white",
             "minorgridcolor": "white",
             "startlinecolor": "#2a3f5f"
            },
            "type": "carpet"
           }
          ],
          "choropleth": [
           {
            "colorbar": {
             "outlinewidth": 0,
             "ticks": ""
            },
            "type": "choropleth"
           }
          ],
          "contour": [
           {
            "colorbar": {
             "outlinewidth": 0,
             "ticks": ""
            },
            "colorscale": [
             [
              0,
              "#0d0887"
             ],
             [
              0.1111111111111111,
              "#46039f"
             ],
             [
              0.2222222222222222,
              "#7201a8"
             ],
             [
              0.3333333333333333,
              "#9c179e"
             ],
             [
              0.4444444444444444,
              "#bd3786"
             ],
             [
              0.5555555555555556,
              "#d8576b"
             ],
             [
              0.6666666666666666,
              "#ed7953"
             ],
             [
              0.7777777777777778,
              "#fb9f3a"
             ],
             [
              0.8888888888888888,
              "#fdca26"
             ],
             [
              1,
              "#f0f921"
             ]
            ],
            "type": "contour"
           }
          ],
          "contourcarpet": [
           {
            "colorbar": {
             "outlinewidth": 0,
             "ticks": ""
            },
            "type": "contourcarpet"
           }
          ],
          "heatmap": [
           {
            "colorbar": {
             "outlinewidth": 0,
             "ticks": ""
            },
            "colorscale": [
             [
              0,
              "#0d0887"
             ],
             [
              0.1111111111111111,
              "#46039f"
             ],
             [
              0.2222222222222222,
              "#7201a8"
             ],
             [
              0.3333333333333333,
              "#9c179e"
             ],
             [
              0.4444444444444444,
              "#bd3786"
             ],
             [
              0.5555555555555556,
              "#d8576b"
             ],
             [
              0.6666666666666666,
              "#ed7953"
             ],
             [
              0.7777777777777778,
              "#fb9f3a"
             ],
             [
              0.8888888888888888,
              "#fdca26"
             ],
             [
              1,
              "#f0f921"
             ]
            ],
            "type": "heatmap"
           }
          ],
          "heatmapgl": [
           {
            "colorbar": {
             "outlinewidth": 0,
             "ticks": ""
            },
            "colorscale": [
             [
              0,
              "#0d0887"
             ],
             [
              0.1111111111111111,
              "#46039f"
             ],
             [
              0.2222222222222222,
              "#7201a8"
             ],
             [
              0.3333333333333333,
              "#9c179e"
             ],
             [
              0.4444444444444444,
              "#bd3786"
             ],
             [
              0.5555555555555556,
              "#d8576b"
             ],
             [
              0.6666666666666666,
              "#ed7953"
             ],
             [
              0.7777777777777778,
              "#fb9f3a"
             ],
             [
              0.8888888888888888,
              "#fdca26"
             ],
             [
              1,
              "#f0f921"
             ]
            ],
            "type": "heatmapgl"
           }
          ],
          "histogram": [
           {
            "marker": {
             "pattern": {
              "fillmode": "overlay",
              "size": 10,
              "solidity": 0.2
             }
            },
            "type": "histogram"
           }
          ],
          "histogram2d": [
           {
            "colorbar": {
             "outlinewidth": 0,
             "ticks": ""
            },
            "colorscale": [
             [
              0,
              "#0d0887"
             ],
             [
              0.1111111111111111,
              "#46039f"
             ],
             [
              0.2222222222222222,
              "#7201a8"
             ],
             [
              0.3333333333333333,
              "#9c179e"
             ],
             [
              0.4444444444444444,
              "#bd3786"
             ],
             [
              0.5555555555555556,
              "#d8576b"
             ],
             [
              0.6666666666666666,
              "#ed7953"
             ],
             [
              0.7777777777777778,
              "#fb9f3a"
             ],
             [
              0.8888888888888888,
              "#fdca26"
             ],
             [
              1,
              "#f0f921"
             ]
            ],
            "type": "histogram2d"
           }
          ],
          "histogram2dcontour": [
           {
            "colorbar": {
             "outlinewidth": 0,
             "ticks": ""
            },
            "colorscale": [
             [
              0,
              "#0d0887"
             ],
             [
              0.1111111111111111,
              "#46039f"
             ],
             [
              0.2222222222222222,
              "#7201a8"
             ],
             [
              0.3333333333333333,
              "#9c179e"
             ],
             [
              0.4444444444444444,
              "#bd3786"
             ],
             [
              0.5555555555555556,
              "#d8576b"
             ],
             [
              0.6666666666666666,
              "#ed7953"
             ],
             [
              0.7777777777777778,
              "#fb9f3a"
             ],
             [
              0.8888888888888888,
              "#fdca26"
             ],
             [
              1,
              "#f0f921"
             ]
            ],
            "type": "histogram2dcontour"
           }
          ],
          "mesh3d": [
           {
            "colorbar": {
             "outlinewidth": 0,
             "ticks": ""
            },
            "type": "mesh3d"
           }
          ],
          "parcoords": [
           {
            "line": {
             "colorbar": {
              "outlinewidth": 0,
              "ticks": ""
             }
            },
            "type": "parcoords"
           }
          ],
          "pie": [
           {
            "automargin": true,
            "type": "pie"
           }
          ],
          "scatter": [
           {
            "marker": {
             "colorbar": {
              "outlinewidth": 0,
              "ticks": ""
             }
            },
            "type": "scatter"
           }
          ],
          "scatter3d": [
           {
            "line": {
             "colorbar": {
              "outlinewidth": 0,
              "ticks": ""
             }
            },
            "marker": {
             "colorbar": {
              "outlinewidth": 0,
              "ticks": ""
             }
            },
            "type": "scatter3d"
           }
          ],
          "scattercarpet": [
           {
            "marker": {
             "colorbar": {
              "outlinewidth": 0,
              "ticks": ""
             }
            },
            "type": "scattercarpet"
           }
          ],
          "scattergeo": [
           {
            "marker": {
             "colorbar": {
              "outlinewidth": 0,
              "ticks": ""
             }
            },
            "type": "scattergeo"
           }
          ],
          "scattergl": [
           {
            "marker": {
             "colorbar": {
              "outlinewidth": 0,
              "ticks": ""
             }
            },
            "type": "scattergl"
           }
          ],
          "scattermapbox": [
           {
            "marker": {
             "colorbar": {
              "outlinewidth": 0,
              "ticks": ""
             }
            },
            "type": "scattermapbox"
           }
          ],
          "scatterpolar": [
           {
            "marker": {
             "colorbar": {
              "outlinewidth": 0,
              "ticks": ""
             }
            },
            "type": "scatterpolar"
           }
          ],
          "scatterpolargl": [
           {
            "marker": {
             "colorbar": {
              "outlinewidth": 0,
              "ticks": ""
             }
            },
            "type": "scatterpolargl"
           }
          ],
          "scatterternary": [
           {
            "marker": {
             "colorbar": {
              "outlinewidth": 0,
              "ticks": ""
             }
            },
            "type": "scatterternary"
           }
          ],
          "surface": [
           {
            "colorbar": {
             "outlinewidth": 0,
             "ticks": ""
            },
            "colorscale": [
             [
              0,
              "#0d0887"
             ],
             [
              0.1111111111111111,
              "#46039f"
             ],
             [
              0.2222222222222222,
              "#7201a8"
             ],
             [
              0.3333333333333333,
              "#9c179e"
             ],
             [
              0.4444444444444444,
              "#bd3786"
             ],
             [
              0.5555555555555556,
              "#d8576b"
             ],
             [
              0.6666666666666666,
              "#ed7953"
             ],
             [
              0.7777777777777778,
              "#fb9f3a"
             ],
             [
              0.8888888888888888,
              "#fdca26"
             ],
             [
              1,
              "#f0f921"
             ]
            ],
            "type": "surface"
           }
          ],
          "table": [
           {
            "cells": {
             "fill": {
              "color": "#EBF0F8"
             },
             "line": {
              "color": "white"
             }
            },
            "header": {
             "fill": {
              "color": "#C8D4E3"
             },
             "line": {
              "color": "white"
             }
            },
            "type": "table"
           }
          ]
         },
         "layout": {
          "annotationdefaults": {
           "arrowcolor": "#2a3f5f",
           "arrowhead": 0,
           "arrowwidth": 1
          },
          "autotypenumbers": "strict",
          "coloraxis": {
           "colorbar": {
            "outlinewidth": 0,
            "ticks": ""
           }
          },
          "colorscale": {
           "diverging": [
            [
             0,
             "#8e0152"
            ],
            [
             0.1,
             "#c51b7d"
            ],
            [
             0.2,
             "#de77ae"
            ],
            [
             0.3,
             "#f1b6da"
            ],
            [
             0.4,
             "#fde0ef"
            ],
            [
             0.5,
             "#f7f7f7"
            ],
            [
             0.6,
             "#e6f5d0"
            ],
            [
             0.7,
             "#b8e186"
            ],
            [
             0.8,
             "#7fbc41"
            ],
            [
             0.9,
             "#4d9221"
            ],
            [
             1,
             "#276419"
            ]
           ],
           "sequential": [
            [
             0,
             "#0d0887"
            ],
            [
             0.1111111111111111,
             "#46039f"
            ],
            [
             0.2222222222222222,
             "#7201a8"
            ],
            [
             0.3333333333333333,
             "#9c179e"
            ],
            [
             0.4444444444444444,
             "#bd3786"
            ],
            [
             0.5555555555555556,
             "#d8576b"
            ],
            [
             0.6666666666666666,
             "#ed7953"
            ],
            [
             0.7777777777777778,
             "#fb9f3a"
            ],
            [
             0.8888888888888888,
             "#fdca26"
            ],
            [
             1,
             "#f0f921"
            ]
           ],
           "sequentialminus": [
            [
             0,
             "#0d0887"
            ],
            [
             0.1111111111111111,
             "#46039f"
            ],
            [
             0.2222222222222222,
             "#7201a8"
            ],
            [
             0.3333333333333333,
             "#9c179e"
            ],
            [
             0.4444444444444444,
             "#bd3786"
            ],
            [
             0.5555555555555556,
             "#d8576b"
            ],
            [
             0.6666666666666666,
             "#ed7953"
            ],
            [
             0.7777777777777778,
             "#fb9f3a"
            ],
            [
             0.8888888888888888,
             "#fdca26"
            ],
            [
             1,
             "#f0f921"
            ]
           ]
          },
          "colorway": [
           "#636efa",
           "#EF553B",
           "#00cc96",
           "#ab63fa",
           "#FFA15A",
           "#19d3f3",
           "#FF6692",
           "#B6E880",
           "#FF97FF",
           "#FECB52"
          ],
          "font": {
           "color": "#2a3f5f"
          },
          "geo": {
           "bgcolor": "white",
           "lakecolor": "white",
           "landcolor": "#E5ECF6",
           "showlakes": true,
           "showland": true,
           "subunitcolor": "white"
          },
          "hoverlabel": {
           "align": "left"
          },
          "hovermode": "closest",
          "mapbox": {
           "style": "light"
          },
          "paper_bgcolor": "white",
          "plot_bgcolor": "#E5ECF6",
          "polar": {
           "angularaxis": {
            "gridcolor": "white",
            "linecolor": "white",
            "ticks": ""
           },
           "bgcolor": "#E5ECF6",
           "radialaxis": {
            "gridcolor": "white",
            "linecolor": "white",
            "ticks": ""
           }
          },
          "scene": {
           "xaxis": {
            "backgroundcolor": "#E5ECF6",
            "gridcolor": "white",
            "gridwidth": 2,
            "linecolor": "white",
            "showbackground": true,
            "ticks": "",
            "zerolinecolor": "white"
           },
           "yaxis": {
            "backgroundcolor": "#E5ECF6",
            "gridcolor": "white",
            "gridwidth": 2,
            "linecolor": "white",
            "showbackground": true,
            "ticks": "",
            "zerolinecolor": "white"
           },
           "zaxis": {
            "backgroundcolor": "#E5ECF6",
            "gridcolor": "white",
            "gridwidth": 2,
            "linecolor": "white",
            "showbackground": true,
            "ticks": "",
            "zerolinecolor": "white"
           }
          },
          "shapedefaults": {
           "line": {
            "color": "#2a3f5f"
           }
          },
          "ternary": {
           "aaxis": {
            "gridcolor": "white",
            "linecolor": "white",
            "ticks": ""
           },
           "baxis": {
            "gridcolor": "white",
            "linecolor": "white",
            "ticks": ""
           },
           "bgcolor": "#E5ECF6",
           "caxis": {
            "gridcolor": "white",
            "linecolor": "white",
            "ticks": ""
           }
          },
          "title": {
           "x": 0.05
          },
          "xaxis": {
           "automargin": true,
           "gridcolor": "white",
           "linecolor": "white",
           "ticks": "",
           "title": {
            "standoff": 15
           },
           "zerolinecolor": "white",
           "zerolinewidth": 2
          },
          "yaxis": {
           "automargin": true,
           "gridcolor": "white",
           "linecolor": "white",
           "ticks": "",
           "title": {
            "standoff": 15
           },
           "zerolinecolor": "white",
           "zerolinewidth": 2
          }
         }
        },
        "title": {
         "text": "Total eleves - GENERAL"
        },
        "width": 950,
        "xaxis": {
         "anchor": "y",
         "autorange": true,
         "domain": [
          0,
          1
         ],
         "range": [
          -0.5,
          17.5
         ],
         "title": {
          "text": "Ville"
         },
         "type": "category"
        },
        "yaxis": {
         "anchor": "x",
         "autorange": true,
         "domain": [
          0,
          1
         ],
         "range": [
          0,
          1823.157894736842
         ],
         "title": {
          "text": "sum of total_eleves_general"
         },
         "type": "linear"
        }
       }
      },
      "image/png": "[encoded data removed]",
      "text/html": [
       "<div>                            <div id=\"0459bee2-ef62-404d-860d-c5434967e426\" class=\"plotly-graph-div\" style=\"height:560px; width:950px;\"></div>            <script type=\"text/javascript\">                require([\"plotly\"], function(Plotly) {                    window.PLOTLYENV=window.PLOTLYENV || {};                                    if (document.getElementById(\"0459bee2-ef62-404d-860d-c5434967e426\")) {                    Plotly.newPlot(                        \"0459bee2-ef62-404d-860d-c5434967e426\",                        [{\"alignmentgroup\":\"True\",\"bingroup\":\"x\",\"histfunc\":\"sum\",\"hovertemplate\":\"Ville=%{x}<br>sum of total_eleves_general=%{y}<extra></extra>\",\"legendgroup\":\"\",\"marker\":{\"color\":\"#636efa\",\"pattern\":{\"shape\":\"\"}},\"name\":\"\",\"offsetgroup\":\"\",\"orientation\":\"v\",\"showlegend\":false,\"type\":\"histogram\",\"x\":[\"PARIS 03\",\"PARIS 04\",\"PARIS 05\",\"PARIS 06\",\"PARIS 07\",\"PARIS 08\",\"PARIS 09\",\"PARIS 10\",\"PARIS 11\",\"PARIS 12\",\"PARIS 13\",\"PARIS 14\",\"PARIS 15\",\"PARIS 16\",\"PARIS 17\",\"PARIS 18\",\"PARIS 19\",\"PARIS 20\"],\"xaxis\":\"x\",\"y\":[156.0,821.0,693.0,1360.0,582.0,556.0,829.0,634.0,505.0,661.0,852.0,214.0,787.0,1732.0,901.0,200.0,253.0,777.0],\"yaxis\":\"y\"}],                        {\"barmode\":\"relative\",\"height\":560,\"legend\":{\"font\":{\"color\":\"black\",\"family\":\"Courier\",\"size\":10},\"title\":{\"font\":{\"color\":\"blue\",\"size\":20}},\"tracegroupgap\":0},\"template\":{\"data\":{\"bar\":[{\"error_x\":{\"color\":\"#2a3f5f\"},\"error_y\":{\"color\":\"#2a3f5f\"},\"marker\":{\"line\":{\"color\":\"#E5ECF6\",\"width\":0.5},\"pattern\":{\"fillmode\":\"overlay\",\"size\":10,\"solidity\":0.2}},\"type\":\"bar\"}],\"barpolar\":[{\"marker\":{\"line\":{\"color\":\"#E5ECF6\",\"width\":0.5},\"pattern\":{\"fillmode\":\"overlay\",\"size\":10,\"solidity\":0.2}},\"type\":\"barpolar\"}],\"carpet\":[{\"aaxis\":{\"endlinecolor\":\"#2a3f5f\",\"gridcolor\":\"white\",\"linecolor\":\"white\",\"minorgridcolor\":\"white\",\"startlinecolor\":\"#2a3f5f\"},\"baxis\":{\"endlinecolor\":\"#2a3f5f\",\"gridcolor\":\"white\",\"linecolor\":\"white\",\"minorgridcolor\":\"white\",\"startlinecolor\":\"#2a3f5f\"},\"type\":\"carpet\"}],\"choropleth\":[{\"colorbar\":{\"outlinewidth\":0,\"ticks\":\"\"},\"type\":\"choropleth\"}],\"contour\":[{\"colorbar\":{\"outlinewidth\":0,\"ticks\":\"\"},\"colorscale\":[[0.0,\"#0d0887\"],[0.1111111111111111,\"#46039f\"],[0.2222222222222222,\"#7201a8\"],[0.3333333333333333,\"#9c179e\"],[0.4444444444444444,\"#bd3786\"],[0.5555555555555556,\"#d8576b\"],[0.6666666666666666,\"#ed7953\"],[0.7777777777777778,\"#fb9f3a\"],[0.8888888888888888,\"#fdca26\"],[1.0,\"#f0f921\"]],\"type\":\"contour\"}],\"contourcarpet\":[{\"colorbar\":{\"outlinewidth\":0,\"ticks\":\"\"},\"type\":\"contourcarpet\"}],\"heatmap\":[{\"colorbar\":{\"outlinewidth\":0,\"ticks\":\"\"},\"colorscale\":[[0.0,\"#0d0887\"],[0.1111111111111111,\"#46039f\"],[0.2222222222222222,\"#7201a8\"],[0.3333333333333333,\"#9c179e\"],[0.4444444444444444,\"#bd3786\"],[0.5555555555555556,\"#d8576b\"],[0.6666666666666666,\"#ed7953\"],[0.7777777777777778,\"#fb9f3a\"],[0.8888888888888888,\"#fdca26\"],[1.0,\"#f0f921\"]],\"type\":\"heatmap\"}],\"heatmapgl\":[{\"colorbar\":{\"outlinewidth\":0,\"ticks\":\"\"},\"colorscale\":[[0.0,\"#0d0887\"],[0.1111111111111111,\"#46039f\"],[0.2222222222222222,\"#7201a8\"],[0.3333333333333333,\"#9c179e\"],[0.4444444444444444,\"#bd3786\"],[0.5555555555555556,\"#d8576b\"],[0.6666666666666666,\"#ed7953\"],[0.7777777777777778,\"#fb9f3a\"],[0.8888888888888888,\"#fdca26\"],[1.0,\"#f0f921\"]],\"type\":\"heatmapgl\"}],\"histogram\":[{\"marker\":{\"pattern\":{\"fillmode\":\"overlay\",\"size\":10,\"solidity\":0.2}},\"type\":\"histogram\"}],\"histogram2d\":[{\"colorbar\":{\"outlinewidth\":0,\"ticks\":\"\"},\"colorscale\":[[0.0,\"#0d0887\"],[0.1111111111111111,\"#46039f\"],[0.2222222222222222,\"#7201a8\"],[0.3333333333333333,\"#9c179e\"],[0.4444444444444444,\"#bd3786\"],[0.5555555555555556,\"#d8576b\"],[0.6666666666666666,\"#ed7953\"],[0.7777777777777778,\"#fb9f3a\"],[0.8888888888888888,\"#fdca26\"],[1.0,\"#f0f921\"]],\"type\":\"histogram2d\"}],\"histogram2dcontour\":[{\"colorbar\":{\"outlinewidth\":0,\"ticks\":\"\"},\"colorscale\":[[0.0,\"#0d0887\"],[0.1111111111111111,\"#46039f\"],[0.2222222222222222,\"#7201a8\"],[0.3333333333333333,\"#9c179e\"],[0.4444444444444444,\"#bd3786\"],[0.5555555555555556,\"#d8576b\"],[0.6666666666666666,\"#ed7953\"],[0.7777777777777778,\"#fb9f3a\"],[0.8888888888888888,\"#fdca26\"],[1.0,\"#f0f921\"]],\"type\":\"histogram2dcontour\"}],\"mesh3d\":[{\"colorbar\":{\"outlinewidth\":0,\"ticks\":\"\"},\"type\":\"mesh3d\"}],\"parcoords\":[{\"line\":{\"colorbar\":{\"outlinewidth\":0,\"ticks\":\"\"}},\"type\":\"parcoords\"}],\"pie\":[{\"automargin\":true,\"type\":\"pie\"}],\"scatter\":[{\"marker\":{\"colorbar\":{\"outlinewidth\":0,\"ticks\":\"\"}},\"type\":\"scatter\"}],\"scatter3d\":[{\"line\":{\"colorbar\":{\"outlinewidth\":0,\"ticks\":\"\"}},\"marker\":{\"colorbar\":{\"outlinewidth\":0,\"ticks\":\"\"}},\"type\":\"scatter3d\"}],\"scattercarpet\":[{\"marker\":{\"colorbar\":{\"outlinewidth\":0,\"ticks\":\"\"}},\"type\":\"scattercarpet\"}],\"scattergeo\":[{\"marker\":{\"colorbar\":{\"outlinewidth\":0,\"ticks\":\"\"}},\"type\":\"scattergeo\"}],\"scattergl\":[{\"marker\":{\"colorbar\":{\"outlinewidth\":0,\"ticks\":\"\"}},\"type\":\"scattergl\"}],\"scattermapbox\":[{\"marker\":{\"colorbar\":{\"outlinewidth\":0,\"ticks\":\"\"}},\"type\":\"scattermapbox\"}],\"scatterpolar\":[{\"marker\":{\"colorbar\":{\"outlinewidth\":0,\"ticks\":\"\"}},\"type\":\"scatterpolar\"}],\"scatterpolargl\":[{\"marker\":{\"colorbar\":{\"outlinewidth\":0,\"ticks\":\"\"}},\"type\":\"scatterpolargl\"}],\"scatterternary\":[{\"marker\":{\"colorbar\":{\"outlinewidth\":0,\"ticks\":\"\"}},\"type\":\"scatterternary\"}],\"surface\":[{\"colorbar\":{\"outlinewidth\":0,\"ticks\":\"\"},\"colorscale\":[[0.0,\"#0d0887\"],[0.1111111111111111,\"#46039f\"],[0.2222222222222222,\"#7201a8\"],[0.3333333333333333,\"#9c179e\"],[0.4444444444444444,\"#bd3786\"],[0.5555555555555556,\"#d8576b\"],[0.6666666666666666,\"#ed7953\"],[0.7777777777777778,\"#fb9f3a\"],[0.8888888888888888,\"#fdca26\"],[1.0,\"#f0f921\"]],\"type\":\"surface\"}],\"table\":[{\"cells\":{\"fill\":{\"color\":\"#EBF0F8\"},\"line\":{\"color\":\"white\"}},\"header\":{\"fill\":{\"color\":\"#C8D4E3\"},\"line\":{\"color\":\"white\"}},\"type\":\"table\"}]},\"layout\":{\"annotationdefaults\":{\"arrowcolor\":\"#2a3f5f\",\"arrowhead\":0,\"arrowwidth\":1},\"autotypenumbers\":\"strict\",\"coloraxis\":{\"colorbar\":{\"outlinewidth\":0,\"ticks\":\"\"}},\"colorscale\":{\"diverging\":[[0,\"#8e0152\"],[0.1,\"#c51b7d\"],[0.2,\"#de77ae\"],[0.3,\"#f1b6da\"],[0.4,\"#fde0ef\"],[0.5,\"#f7f7f7\"],[0.6,\"#e6f5d0\"],[0.7,\"#b8e186\"],[0.8,\"#7fbc41\"],[0.9,\"#4d9221\"],[1,\"#276419\"]],\"sequential\":[[0.0,\"#0d0887\"],[0.1111111111111111,\"#46039f\"],[0.2222222222222222,\"#7201a8\"],[0.3333333333333333,\"#9c179e\"],[0.4444444444444444,\"#bd3786\"],[0.5555555555555556,\"#d8576b\"],[0.6666666666666666,\"#ed7953\"],[0.7777777777777778,\"#fb9f3a\"],[0.8888888888888888,\"#fdca26\"],[1.0,\"#f0f921\"]],\"sequentialminus\":[[0.0,\"#0d0887\"],[0.1111111111111111,\"#46039f\"],[0.2222222222222222,\"#7201a8\"],[0.3333333333333333,\"#9c179e\"],[0.4444444444444444,\"#bd3786\"],[0.5555555555555556,\"#d8576b\"],[0.6666666666666666,\"#ed7953\"],[0.7777777777777778,\"#fb9f3a\"],[0.8888888888888888,\"#fdca26\"],[1.0,\"#f0f921\"]]},\"colorway\":[\"#636efa\",\"#EF553B\",\"#00cc96\",\"#ab63fa\",\"#FFA15A\",\"#19d3f3\",\"#FF6692\",\"#B6E880\",\"#FF97FF\",\"#FECB52\"],\"font\":{\"color\":\"#2a3f5f\"},\"geo\":{\"bgcolor\":\"white\",\"lakecolor\":\"white\",\"landcolor\":\"#E5ECF6\",\"showlakes\":true,\"showland\":true,\"subunitcolor\":\"white\"},\"hoverlabel\":{\"align\":\"left\"},\"hovermode\":\"closest\",\"mapbox\":{\"style\":\"light\"},\"paper_bgcolor\":\"white\",\"plot_bgcolor\":\"#E5ECF6\",\"polar\":{\"angularaxis\":{\"gridcolor\":\"white\",\"linecolor\":\"white\",\"ticks\":\"\"},\"bgcolor\":\"#E5ECF6\",\"radialaxis\":{\"gridcolor\":\"white\",\"linecolor\":\"white\",\"ticks\":\"\"}},\"scene\":{\"xaxis\":{\"backgroundcolor\":\"#E5ECF6\",\"gridcolor\":\"white\",\"gridwidth\":2,\"linecolor\":\"white\",\"showbackground\":true,\"ticks\":\"\",\"zerolinecolor\":\"white\"},\"yaxis\":{\"backgroundcolor\":\"#E5ECF6\",\"gridcolor\":\"white\",\"gridwidth\":2,\"linecolor\":\"white\",\"showbackground\":true,\"ticks\":\"\",\"zerolinecolor\":\"white\"},\"zaxis\":{\"backgroundcolor\":\"#E5ECF6\",\"gridcolor\":\"white\",\"gridwidth\":2,\"linecolor\":\"white\",\"showbackground\":true,\"ticks\":\"\",\"zerolinecolor\":\"white\"}},\"shapedefaults\":{\"line\":{\"color\":\"#2a3f5f\"}},\"ternary\":{\"aaxis\":{\"gridcolor\":\"white\",\"linecolor\":\"white\",\"ticks\":\"\"},\"baxis\":{\"gridcolor\":\"white\",\"linecolor\":\"white\",\"ticks\":\"\"},\"bgcolor\":\"#E5ECF6\",\"caxis\":{\"gridcolor\":\"white\",\"linecolor\":\"white\",\"ticks\":\"\"}},\"title\":{\"x\":0.05},\"xaxis\":{\"automargin\":true,\"gridcolor\":\"white\",\"linecolor\":\"white\",\"ticks\":\"\",\"title\":{\"standoff\":15},\"zerolinecolor\":\"white\",\"zerolinewidth\":2},\"yaxis\":{\"automargin\":true,\"gridcolor\":\"white\",\"linecolor\":\"white\",\"ticks\":\"\",\"title\":{\"standoff\":15},\"zerolinecolor\":\"white\",\"zerolinewidth\":2}}},\"title\":{\"text\":\"Total eleves - GENERAL\"},\"width\":950,\"xaxis\":{\"anchor\":\"y\",\"domain\":[0.0,1.0],\"title\":{\"text\":\"Ville\"}},\"yaxis\":{\"anchor\":\"x\",\"domain\":[0.0,1.0],\"title\":{\"text\":\"sum of total_eleves_general\"}}},                        {\"responsive\": true}                    ).then(function(){\n",
       "                            \n",
       "var gd = document.getElementById('0459bee2-ef62-404d-860d-c5434967e426');\n",
       "var x = new MutationObserver(function (mutations, observer) {{\n",
       "        var display = window.getComputedStyle(gd).display;\n",
       "        if (!display || display === 'none') {{\n",
       "            console.log([gd, 'removed!']);\n",
       "            Plotly.purge(gd);\n",
       "            observer.disconnect();\n",
       "        }}\n",
       "}});\n",
       "\n",
       "// Listen for the removal of the full notebook cells\n",
       "var notebookContainer = gd.closest('#notebook-container');\n",
       "if (notebookContainer) {{\n",
       "    x.observe(notebookContainer, {childList: true});\n",
       "}}\n",
       "\n",
       "// Listen for the clearing of the current output cell\n",
       "var outputEl = gd.closest('.output');\n",
       "if (outputEl) {{\n",
       "    x.observe(outputEl, {childList: true});\n",
       "}}\n",
       "\n",
       "                        })                };                });            </script>        </div>"
      ]
     },
     "metadata": {},
     "output_type": "display_data"
    }
   ],
   "source": [
    "df2_bac=df1_bac[df1_bac['Academie']=='PARIS']\n",
    "fig = px.histogram(df2_bac[df2_bac['Annee']==2019].groupby(['Annee','Ville'])['total_eleves_general'].sum().reset_index(), x='Ville',y=\"total_eleves_general\", title='Total eleves - GENERAL', width=950, height=560)\n",
    "fig.update_layout(legend =dict(font = dict(family = \"Courier\", size = 10, color = \"black\")),\n",
    "                  legend_title = dict(font = dict(size = 20, color = \"blue\")))\n",
    "fig.show()"
   ]
  },
  {
   "cell_type": "code",
   "execution_count": 14,
   "id": "b48f568c",
   "metadata": {},
   "outputs": [
    {
     "data": {
      "text/html": [
       "<div>\n",
       "<style scoped>\n",
       "    .dataframe tbody tr th:only-of-type {\n",
       "        vertical-align: middle;\n",
       "    }\n",
       "\n",
       "    .dataframe tbody tr th {\n",
       "        vertical-align: top;\n",
       "    }\n",
       "\n",
       "    .dataframe thead th {\n",
       "        text-align: right;\n",
       "    }\n",
       "</style>\n",
       "<table border=\"1\" class=\"dataframe\">\n",
       "  <thead>\n",
       "    <tr style=\"text-align: right;\">\n",
       "      <th></th>\n",
       "      <th>Etablissement</th>\n",
       "      <th>Annee</th>\n",
       "      <th>Ville</th>\n",
       "      <th>UAI</th>\n",
       "      <th>Code commune</th>\n",
       "      <th>Academie</th>\n",
       "      <th>Departement</th>\n",
       "      <th>Secteur</th>\n",
       "      <th>Presents - L</th>\n",
       "      <th>Presents - ES</th>\n",
       "      <th>Presents - S</th>\n",
       "      <th>Presents - STG</th>\n",
       "      <th>Presents - STI2D</th>\n",
       "      <th>Presents - STD2A</th>\n",
       "      <th>Presents - STMG</th>\n",
       "      <th>Presents - STI</th>\n",
       "      <th>Presents - STL</th>\n",
       "      <th>Presents - ST2S</th>\n",
       "      <th>Presents - TMD</th>\n",
       "      <th>Presents - STHR</th>\n",
       "      <th>Presents - Toutes series</th>\n",
       "      <th>Taux de reussite - L</th>\n",
       "      <th>Taux de reussite - ES</th>\n",
       "      <th>Taux de reussite - S</th>\n",
       "      <th>Taux de reussite - STG</th>\n",
       "      <th>Taux de reussite - STI2D</th>\n",
       "      <th>Taux de reussite - STD2A</th>\n",
       "      <th>Taux de reussite - STMG</th>\n",
       "      <th>Taux de reussite - STI</th>\n",
       "      <th>Taux de reussite - STL</th>\n",
       "      <th>Taux de reussite - ST2S</th>\n",
       "      <th>Taux de reussite - TMD</th>\n",
       "      <th>Taux de reussite - STHR</th>\n",
       "      <th>Taux de reussite - Toutes series</th>\n",
       "      <th>Taux de reussite attendu acad - L</th>\n",
       "      <th>Taux de reussite attendu acad - ES</th>\n",
       "      <th>Taux de reussite attendu acad - S</th>\n",
       "      <th>Taux de reussite attendu acad - STG</th>\n",
       "      <th>Taux de reussite attendu acad - STI2D</th>\n",
       "      <th>Taux de reussite attendu acad - STD2A</th>\n",
       "      <th>Taux de reussite attendu acad - STMG</th>\n",
       "      <th>Taux de reussite attendu acad - STI</th>\n",
       "      <th>Taux de reussite attendu acad - STL</th>\n",
       "      <th>Taux de reussite attendu acad - ST2S</th>\n",
       "      <th>Taux de reussite attendu acad - TMD</th>\n",
       "      <th>Taux de reussite attendu acad - STHR</th>\n",
       "      <th>Taux de reussite attendu acad - Toutes series</th>\n",
       "      <th>Taux de reussite attendu france - L</th>\n",
       "      <th>Taux de reussite attendu france - ES</th>\n",
       "      <th>Taux de reussite attendu france - S</th>\n",
       "      <th>Taux de reussite attendu france - STG</th>\n",
       "      <th>Taux de reussite attendu france - STI2D</th>\n",
       "      <th>Taux de reussite attendu france - STD2A</th>\n",
       "      <th>Taux de reussite attendu france - STMG</th>\n",
       "      <th>Taux de reussite attendu france - STI</th>\n",
       "      <th>Taux de reussite attendu france - STL</th>\n",
       "      <th>Taux de reussite attendu france - ST2S</th>\n",
       "      <th>Taux de reussite attendu france - TMD</th>\n",
       "      <th>Taux de reussite attendu france - STHR</th>\n",
       "      <th>Taux de reussite attendu france - Toutes series</th>\n",
       "      <th>Taux de mentions - L</th>\n",
       "      <th>Taux de mentions - ES</th>\n",
       "      <th>Taux de mentions - S</th>\n",
       "      <th>Taux de mentions - STI2D</th>\n",
       "      <th>Taux de mentions - STD2A</th>\n",
       "      <th>Taux de mentions - STMG</th>\n",
       "      <th>Taux de mentions - STL</th>\n",
       "      <th>Taux de mentions - ST2S</th>\n",
       "      <th>Taux de mentions - TMD</th>\n",
       "      <th>Taux de mentions - STHR</th>\n",
       "      <th>Taux de mentions - Toutes series</th>\n",
       "      <th>Taux de mentions attendu - L</th>\n",
       "      <th>Taux de mentions attendu - ES</th>\n",
       "      <th>Taux de mentions attendu - S</th>\n",
       "      <th>Taux de mentions attendu - STI2D</th>\n",
       "      <th>Taux de mentions attendu - STD2A</th>\n",
       "      <th>Taux de mentions attendu - STMG</th>\n",
       "      <th>Taux de mentions attendu - STL</th>\n",
       "      <th>Taux de mentions attendu - ST2S</th>\n",
       "      <th>Taux de mentions attendu - TMD</th>\n",
       "      <th>Taux de mentions attendu - STHR</th>\n",
       "      <th>Taux de mentions attendu - Toutes series</th>\n",
       "      <th>Structure pedagogique 5 groupes</th>\n",
       "      <th>Structure pedagogique 7 groupes</th>\n",
       "      <th>Pourcentage bacheliers sortants 2de 1re Terminale Etablissement</th>\n",
       "      <th>Pourcentage bacheliers sortants Terminales Etablissement</th>\n",
       "      <th>Pourcentage bacheliers sortants 2de 1re Terminale Acad</th>\n",
       "      <th>Pourcentage bacheliers sortants Terminale Acad</th>\n",
       "      <th>Pourcentage bacheliers sortants 2de 1re Terminale France</th>\n",
       "      <th>Pourcentage bacheliers sortants Terminale France</th>\n",
       "      <th>Effectif de seconde</th>\n",
       "      <th>Effectif de premiere</th>\n",
       "      <th>Effectif de terminale</th>\n",
       "      <th>Taux d'acces 2nde-bac</th>\n",
       "      <th>Taux d'acces attendu acad 2nde-bac</th>\n",
       "      <th>Taux d'acces attendu france 2nde-bac</th>\n",
       "      <th>Taux d'acces 1ere-bac</th>\n",
       "      <th>Taux d'acces attendu acad 1ere-bac</th>\n",
       "      <th>Taux d'acces attendu france 1ere-bac</th>\n",
       "      <th>Taux d'acces terminale-bac</th>\n",
       "      <th>Taux d'acces attendu france terminale-bac</th>\n",
       "      <th>Region</th>\n",
       "      <th>Code region</th>\n",
       "      <th>code_departement</th>\n",
       "      <th>Departement.1</th>\n",
       "      <th>Valeur ajoutee du taux de reussite - Toutes series</th>\n",
       "      <th>Valeur ajoutee du taux d'acces 2nde-bac</th>\n",
       "      <th>Valeur ajoutee du taux de mentions - Toutes series</th>\n",
       "      <th>Valeur ajoutee du taux de reussite - L</th>\n",
       "      <th>Valeur ajoutee du taux de reussite - ES</th>\n",
       "      <th>Valeur ajoutee du taux de reussite - S</th>\n",
       "      <th>Valeur ajoutee du taux de reussite - STG</th>\n",
       "      <th>Valeur ajoutee du taux de reussite - STI2D</th>\n",
       "      <th>Valeur ajoutee du taux de reussite - STD2A</th>\n",
       "      <th>Valeur ajoutee du taux de reussite - STMG</th>\n",
       "      <th>Valeur ajoutee du taux de reussite - STI</th>\n",
       "      <th>Valeur ajoutee du taux de reussite - STL</th>\n",
       "      <th>Valeur ajoutee du taux de reussite - ST2S</th>\n",
       "      <th>Valeur ajoutee du taux de reussite - TMD</th>\n",
       "      <th>Valeur ajoutee du taux de reussite - STHR</th>\n",
       "      <th>Valeur ajoutee du taux d'acces 1ere-bac</th>\n",
       "      <th>Valeur ajoutee du taux d'acces terminale-bac</th>\n",
       "      <th>Valeur ajoutee du taux de mentions - L</th>\n",
       "      <th>Valeur ajoutee du taux de mentions - ES</th>\n",
       "      <th>Valeur ajoutee du taux de mentions - S</th>\n",
       "      <th>Valeur ajoutee du taux de mentions - STI2D</th>\n",
       "      <th>Valeur ajoutee du taux de mentions - STD2A</th>\n",
       "      <th>Valeur ajoutee du taux de mentions - STMG</th>\n",
       "      <th>Valeur ajoutee du taux de mentions - STL</th>\n",
       "      <th>Valeur ajoutee du taux de mentions - ST2S</th>\n",
       "      <th>Valeur ajoutee du taux de mentions - TMD</th>\n",
       "      <th>Valeur ajoutee du taux de mentions - STHR</th>\n",
       "    </tr>\n",
       "  </thead>\n",
       "  <tbody>\n",
       "    <tr>\n",
       "      <th>0</th>\n",
       "      <td>LYCEE LALANDE</td>\n",
       "      <td>2019.0</td>\n",
       "      <td>BOURG EN BRESSE</td>\n",
       "      <td>0010013J</td>\n",
       "      <td>1053</td>\n",
       "      <td>LYON</td>\n",
       "      <td>Ain</td>\n",
       "      <td>PU</td>\n",
       "      <td>54.0</td>\n",
       "      <td>78.0</td>\n",
       "      <td>181.0</td>\n",
       "      <td>NaN</td>\n",
       "      <td>NaN</td>\n",
       "      <td>NaN</td>\n",
       "      <td>NaN</td>\n",
       "      <td>NaN</td>\n",
       "      <td>NaN</td>\n",
       "      <td>NaN</td>\n",
       "      <td>NaN</td>\n",
       "      <td>NaN</td>\n",
       "      <td>313.0</td>\n",
       "      <td>98.0</td>\n",
       "      <td>97.0</td>\n",
       "      <td>97.0</td>\n",
       "      <td>NaN</td>\n",
       "      <td>NaN</td>\n",
       "      <td>NaN</td>\n",
       "      <td>NaN</td>\n",
       "      <td>NaN</td>\n",
       "      <td>NaN</td>\n",
       "      <td>NaN</td>\n",
       "      <td>NaN</td>\n",
       "      <td>NaN</td>\n",
       "      <td>97.0</td>\n",
       "      <td>NaN</td>\n",
       "      <td>NaN</td>\n",
       "      <td>NaN</td>\n",
       "      <td>NaN</td>\n",
       "      <td>NaN</td>\n",
       "      <td>NaN</td>\n",
       "      <td>NaN</td>\n",
       "      <td>NaN</td>\n",
       "      <td>NaN</td>\n",
       "      <td>NaN</td>\n",
       "      <td>NaN</td>\n",
       "      <td>NaN</td>\n",
       "      <td>NaN</td>\n",
       "      <td>97</td>\n",
       "      <td>97</td>\n",
       "      <td>96</td>\n",
       "      <td>NaN</td>\n",
       "      <td>NaN</td>\n",
       "      <td>NaN</td>\n",
       "      <td>NaN</td>\n",
       "      <td>NaN</td>\n",
       "      <td>NaN</td>\n",
       "      <td>NaN</td>\n",
       "      <td>NaN</td>\n",
       "      <td>NaN</td>\n",
       "      <td>96</td>\n",
       "      <td>65.0</td>\n",
       "      <td>71.0</td>\n",
       "      <td>65.0</td>\n",
       "      <td>NaN</td>\n",
       "      <td>NaN</td>\n",
       "      <td>NaN</td>\n",
       "      <td>NaN</td>\n",
       "      <td>NaN</td>\n",
       "      <td>NaN</td>\n",
       "      <td>NaN</td>\n",
       "      <td>66.0</td>\n",
       "      <td>68</td>\n",
       "      <td>67</td>\n",
       "      <td>67</td>\n",
       "      <td>NaN</td>\n",
       "      <td>NaN</td>\n",
       "      <td>NaN</td>\n",
       "      <td>NaN</td>\n",
       "      <td>NaN</td>\n",
       "      <td>NaN</td>\n",
       "      <td>NaN</td>\n",
       "      <td>67</td>\n",
       "      <td>NaN</td>\n",
       "      <td>A</td>\n",
       "      <td>NaN</td>\n",
       "      <td>NaN</td>\n",
       "      <td>NaN</td>\n",
       "      <td>NaN</td>\n",
       "      <td>NaN</td>\n",
       "      <td>NaN</td>\n",
       "      <td>379.0</td>\n",
       "      <td>355.0</td>\n",
       "      <td>319.0</td>\n",
       "      <td>92</td>\n",
       "      <td>NaN</td>\n",
       "      <td>89</td>\n",
       "      <td>95.0</td>\n",
       "      <td>NaN</td>\n",
       "      <td>95</td>\n",
       "      <td>97.0</td>\n",
       "      <td>98</td>\n",
       "      <td>Auvergne-et-Rhône-Alpes</td>\n",
       "      <td>84.0</td>\n",
       "      <td>1</td>\n",
       "      <td>Ain</td>\n",
       "      <td>1</td>\n",
       "      <td>3</td>\n",
       "      <td>-1</td>\n",
       "      <td>1</td>\n",
       "      <td>0</td>\n",
       "      <td>1</td>\n",
       "      <td>NaN</td>\n",
       "      <td>NaN</td>\n",
       "      <td>NaN</td>\n",
       "      <td>NaN</td>\n",
       "      <td>NaN</td>\n",
       "      <td>NaN</td>\n",
       "      <td>NaN</td>\n",
       "      <td>NaN</td>\n",
       "      <td>NaN</td>\n",
       "      <td>0</td>\n",
       "      <td>-1</td>\n",
       "      <td>-3</td>\n",
       "      <td>4</td>\n",
       "      <td>-2</td>\n",
       "      <td>NaN</td>\n",
       "      <td>NaN</td>\n",
       "      <td>NaN</td>\n",
       "      <td>NaN</td>\n",
       "      <td>NaN</td>\n",
       "      <td>NaN</td>\n",
       "      <td>NaN</td>\n",
       "    </tr>\n",
       "    <tr>\n",
       "      <th>1</th>\n",
       "      <td>LYCEE JOSEPH-MARIE CARRIAT (GENERAL ET TECHNO.)</td>\n",
       "      <td>2019.0</td>\n",
       "      <td>BOURG EN BRESSE</td>\n",
       "      <td>0010016M</td>\n",
       "      <td>1053</td>\n",
       "      <td>LYON</td>\n",
       "      <td>Ain</td>\n",
       "      <td>PU</td>\n",
       "      <td>NaN</td>\n",
       "      <td>51.0</td>\n",
       "      <td>102.0</td>\n",
       "      <td>NaN</td>\n",
       "      <td>136.0</td>\n",
       "      <td>NaN</td>\n",
       "      <td>114.0</td>\n",
       "      <td>NaN</td>\n",
       "      <td>NaN</td>\n",
       "      <td>NaN</td>\n",
       "      <td>NaN</td>\n",
       "      <td>NaN</td>\n",
       "      <td>403.0</td>\n",
       "      <td>NaN</td>\n",
       "      <td>86.0</td>\n",
       "      <td>89.0</td>\n",
       "      <td>NaN</td>\n",
       "      <td>87.0</td>\n",
       "      <td>NaN</td>\n",
       "      <td>56.0</td>\n",
       "      <td>NaN</td>\n",
       "      <td>NaN</td>\n",
       "      <td>NaN</td>\n",
       "      <td>NaN</td>\n",
       "      <td>NaN</td>\n",
       "      <td>79.0</td>\n",
       "      <td>NaN</td>\n",
       "      <td>NaN</td>\n",
       "      <td>NaN</td>\n",
       "      <td>NaN</td>\n",
       "      <td>NaN</td>\n",
       "      <td>NaN</td>\n",
       "      <td>NaN</td>\n",
       "      <td>NaN</td>\n",
       "      <td>NaN</td>\n",
       "      <td>NaN</td>\n",
       "      <td>NaN</td>\n",
       "      <td>NaN</td>\n",
       "      <td>NaN</td>\n",
       "      <td>NaN</td>\n",
       "      <td>94</td>\n",
       "      <td>92</td>\n",
       "      <td>NaN</td>\n",
       "      <td>94</td>\n",
       "      <td>NaN</td>\n",
       "      <td>87</td>\n",
       "      <td>NaN</td>\n",
       "      <td>NaN</td>\n",
       "      <td>NaN</td>\n",
       "      <td>NaN</td>\n",
       "      <td>NaN</td>\n",
       "      <td>91</td>\n",
       "      <td>NaN</td>\n",
       "      <td>35.0</td>\n",
       "      <td>50.0</td>\n",
       "      <td>32.0</td>\n",
       "      <td>NaN</td>\n",
       "      <td>13.0</td>\n",
       "      <td>NaN</td>\n",
       "      <td>NaN</td>\n",
       "      <td>NaN</td>\n",
       "      <td>NaN</td>\n",
       "      <td>32.0</td>\n",
       "      <td>NaN</td>\n",
       "      <td>49</td>\n",
       "      <td>50</td>\n",
       "      <td>47</td>\n",
       "      <td>NaN</td>\n",
       "      <td>34</td>\n",
       "      <td>NaN</td>\n",
       "      <td>NaN</td>\n",
       "      <td>NaN</td>\n",
       "      <td>NaN</td>\n",
       "      <td>44</td>\n",
       "      <td>NaN</td>\n",
       "      <td>C</td>\n",
       "      <td>NaN</td>\n",
       "      <td>NaN</td>\n",
       "      <td>NaN</td>\n",
       "      <td>NaN</td>\n",
       "      <td>NaN</td>\n",
       "      <td>NaN</td>\n",
       "      <td>512.0</td>\n",
       "      <td>458.0</td>\n",
       "      <td>475.0</td>\n",
       "      <td>76</td>\n",
       "      <td>NaN</td>\n",
       "      <td>81</td>\n",
       "      <td>85.0</td>\n",
       "      <td>NaN</td>\n",
       "      <td>90</td>\n",
       "      <td>88.0</td>\n",
       "      <td>93</td>\n",
       "      <td>Auvergne-et-Rhône-Alpes</td>\n",
       "      <td>84.0</td>\n",
       "      <td>1</td>\n",
       "      <td>Ain</td>\n",
       "      <td>-12</td>\n",
       "      <td>-5</td>\n",
       "      <td>-12</td>\n",
       "      <td>NaN</td>\n",
       "      <td>-8</td>\n",
       "      <td>-3</td>\n",
       "      <td>NaN</td>\n",
       "      <td>-7</td>\n",
       "      <td>NaN</td>\n",
       "      <td>-31</td>\n",
       "      <td>NaN</td>\n",
       "      <td>NaN</td>\n",
       "      <td>NaN</td>\n",
       "      <td>NaN</td>\n",
       "      <td>NaN</td>\n",
       "      <td>-5</td>\n",
       "      <td>-5</td>\n",
       "      <td>NaN</td>\n",
       "      <td>-14</td>\n",
       "      <td>0</td>\n",
       "      <td>-15</td>\n",
       "      <td>NaN</td>\n",
       "      <td>-21</td>\n",
       "      <td>NaN</td>\n",
       "      <td>NaN</td>\n",
       "      <td>NaN</td>\n",
       "      <td>NaN</td>\n",
       "    </tr>\n",
       "    <tr>\n",
       "      <th>2</th>\n",
       "      <td>LYCEE INTERNATIONAL (GENERAL ET TECHNO.)</td>\n",
       "      <td>2019.0</td>\n",
       "      <td>FERNEY VOLTAIRE</td>\n",
       "      <td>0010072Y</td>\n",
       "      <td>1160</td>\n",
       "      <td>LYON</td>\n",
       "      <td>Ain</td>\n",
       "      <td>PU</td>\n",
       "      <td>42.0</td>\n",
       "      <td>200.0</td>\n",
       "      <td>243.0</td>\n",
       "      <td>NaN</td>\n",
       "      <td>NaN</td>\n",
       "      <td>NaN</td>\n",
       "      <td>65.0</td>\n",
       "      <td>NaN</td>\n",
       "      <td>NaN</td>\n",
       "      <td>NaN</td>\n",
       "      <td>NaN</td>\n",
       "      <td>NaN</td>\n",
       "      <td>550.0</td>\n",
       "      <td>95.0</td>\n",
       "      <td>87.0</td>\n",
       "      <td>91.0</td>\n",
       "      <td>NaN</td>\n",
       "      <td>NaN</td>\n",
       "      <td>NaN</td>\n",
       "      <td>86.0</td>\n",
       "      <td>NaN</td>\n",
       "      <td>NaN</td>\n",
       "      <td>NaN</td>\n",
       "      <td>NaN</td>\n",
       "      <td>NaN</td>\n",
       "      <td>89.0</td>\n",
       "      <td>NaN</td>\n",
       "      <td>NaN</td>\n",
       "      <td>NaN</td>\n",
       "      <td>NaN</td>\n",
       "      <td>NaN</td>\n",
       "      <td>NaN</td>\n",
       "      <td>NaN</td>\n",
       "      <td>NaN</td>\n",
       "      <td>NaN</td>\n",
       "      <td>NaN</td>\n",
       "      <td>NaN</td>\n",
       "      <td>NaN</td>\n",
       "      <td>NaN</td>\n",
       "      <td>97</td>\n",
       "      <td>95</td>\n",
       "      <td>95</td>\n",
       "      <td>NaN</td>\n",
       "      <td>NaN</td>\n",
       "      <td>NaN</td>\n",
       "      <td>93</td>\n",
       "      <td>NaN</td>\n",
       "      <td>NaN</td>\n",
       "      <td>NaN</td>\n",
       "      <td>NaN</td>\n",
       "      <td>NaN</td>\n",
       "      <td>95</td>\n",
       "      <td>71.0</td>\n",
       "      <td>48.0</td>\n",
       "      <td>56.0</td>\n",
       "      <td>NaN</td>\n",
       "      <td>NaN</td>\n",
       "      <td>31.0</td>\n",
       "      <td>NaN</td>\n",
       "      <td>NaN</td>\n",
       "      <td>NaN</td>\n",
       "      <td>NaN</td>\n",
       "      <td>51.0</td>\n",
       "      <td>73</td>\n",
       "      <td>55</td>\n",
       "      <td>64</td>\n",
       "      <td>NaN</td>\n",
       "      <td>NaN</td>\n",
       "      <td>48</td>\n",
       "      <td>NaN</td>\n",
       "      <td>NaN</td>\n",
       "      <td>NaN</td>\n",
       "      <td>NaN</td>\n",
       "      <td>60</td>\n",
       "      <td>NaN</td>\n",
       "      <td>B</td>\n",
       "      <td>NaN</td>\n",
       "      <td>NaN</td>\n",
       "      <td>NaN</td>\n",
       "      <td>NaN</td>\n",
       "      <td>NaN</td>\n",
       "      <td>NaN</td>\n",
       "      <td>706.0</td>\n",
       "      <td>630.0</td>\n",
       "      <td>609.0</td>\n",
       "      <td>88</td>\n",
       "      <td>NaN</td>\n",
       "      <td>85</td>\n",
       "      <td>91.0</td>\n",
       "      <td>NaN</td>\n",
       "      <td>93</td>\n",
       "      <td>93.0</td>\n",
       "      <td>97</td>\n",
       "      <td>Auvergne-et-Rhône-Alpes</td>\n",
       "      <td>84.0</td>\n",
       "      <td>1</td>\n",
       "      <td>Ain</td>\n",
       "      <td>-6</td>\n",
       "      <td>3</td>\n",
       "      <td>-9</td>\n",
       "      <td>-2</td>\n",
       "      <td>-8</td>\n",
       "      <td>-4</td>\n",
       "      <td>NaN</td>\n",
       "      <td>NaN</td>\n",
       "      <td>NaN</td>\n",
       "      <td>-7</td>\n",
       "      <td>NaN</td>\n",
       "      <td>NaN</td>\n",
       "      <td>NaN</td>\n",
       "      <td>NaN</td>\n",
       "      <td>NaN</td>\n",
       "      <td>-2</td>\n",
       "      <td>-4</td>\n",
       "      <td>-2</td>\n",
       "      <td>-7</td>\n",
       "      <td>-8</td>\n",
       "      <td>NaN</td>\n",
       "      <td>NaN</td>\n",
       "      <td>-17</td>\n",
       "      <td>NaN</td>\n",
       "      <td>NaN</td>\n",
       "      <td>NaN</td>\n",
       "      <td>NaN</td>\n",
       "    </tr>\n",
       "    <tr>\n",
       "      <th>3</th>\n",
       "      <td>LYCEE JEANNE D'ARC</td>\n",
       "      <td>2019.0</td>\n",
       "      <td>CESSY</td>\n",
       "      <td>0010878Z</td>\n",
       "      <td>1071</td>\n",
       "      <td>LYON</td>\n",
       "      <td>Ain</td>\n",
       "      <td>PR</td>\n",
       "      <td>19.0</td>\n",
       "      <td>39.0</td>\n",
       "      <td>57.0</td>\n",
       "      <td>NaN</td>\n",
       "      <td>NaN</td>\n",
       "      <td>NaN</td>\n",
       "      <td>NaN</td>\n",
       "      <td>NaN</td>\n",
       "      <td>NaN</td>\n",
       "      <td>NaN</td>\n",
       "      <td>NaN</td>\n",
       "      <td>NaN</td>\n",
       "      <td>115.0</td>\n",
       "      <td>100.0</td>\n",
       "      <td>97.0</td>\n",
       "      <td>100.0</td>\n",
       "      <td>NaN</td>\n",
       "      <td>NaN</td>\n",
       "      <td>NaN</td>\n",
       "      <td>NaN</td>\n",
       "      <td>NaN</td>\n",
       "      <td>NaN</td>\n",
       "      <td>NaN</td>\n",
       "      <td>NaN</td>\n",
       "      <td>NaN</td>\n",
       "      <td>99.0</td>\n",
       "      <td>NaN</td>\n",
       "      <td>NaN</td>\n",
       "      <td>NaN</td>\n",
       "      <td>NaN</td>\n",
       "      <td>NaN</td>\n",
       "      <td>NaN</td>\n",
       "      <td>NaN</td>\n",
       "      <td>NaN</td>\n",
       "      <td>NaN</td>\n",
       "      <td>NaN</td>\n",
       "      <td>NaN</td>\n",
       "      <td>NaN</td>\n",
       "      <td>NaN</td>\n",
       "      <td>98</td>\n",
       "      <td>98</td>\n",
       "      <td>98</td>\n",
       "      <td>NaN</td>\n",
       "      <td>NaN</td>\n",
       "      <td>NaN</td>\n",
       "      <td>NaN</td>\n",
       "      <td>NaN</td>\n",
       "      <td>NaN</td>\n",
       "      <td>NaN</td>\n",
       "      <td>NaN</td>\n",
       "      <td>NaN</td>\n",
       "      <td>98</td>\n",
       "      <td>74.0</td>\n",
       "      <td>62.0</td>\n",
       "      <td>91.0</td>\n",
       "      <td>NaN</td>\n",
       "      <td>NaN</td>\n",
       "      <td>NaN</td>\n",
       "      <td>NaN</td>\n",
       "      <td>NaN</td>\n",
       "      <td>NaN</td>\n",
       "      <td>NaN</td>\n",
       "      <td>78.0</td>\n",
       "      <td>79</td>\n",
       "      <td>77</td>\n",
       "      <td>76</td>\n",
       "      <td>NaN</td>\n",
       "      <td>NaN</td>\n",
       "      <td>NaN</td>\n",
       "      <td>NaN</td>\n",
       "      <td>NaN</td>\n",
       "      <td>NaN</td>\n",
       "      <td>NaN</td>\n",
       "      <td>77</td>\n",
       "      <td>NaN</td>\n",
       "      <td>A</td>\n",
       "      <td>NaN</td>\n",
       "      <td>NaN</td>\n",
       "      <td>NaN</td>\n",
       "      <td>NaN</td>\n",
       "      <td>NaN</td>\n",
       "      <td>NaN</td>\n",
       "      <td>144.0</td>\n",
       "      <td>114.0</td>\n",
       "      <td>97.0</td>\n",
       "      <td>86</td>\n",
       "      <td>NaN</td>\n",
       "      <td>90</td>\n",
       "      <td>95.0</td>\n",
       "      <td>NaN</td>\n",
       "      <td>95</td>\n",
       "      <td>98.0</td>\n",
       "      <td>99</td>\n",
       "      <td>Auvergne-et-Rhône-Alpes</td>\n",
       "      <td>84.0</td>\n",
       "      <td>1</td>\n",
       "      <td>Ain</td>\n",
       "      <td>1</td>\n",
       "      <td>-4</td>\n",
       "      <td>1</td>\n",
       "      <td>2</td>\n",
       "      <td>-1</td>\n",
       "      <td>2</td>\n",
       "      <td>NaN</td>\n",
       "      <td>NaN</td>\n",
       "      <td>NaN</td>\n",
       "      <td>NaN</td>\n",
       "      <td>NaN</td>\n",
       "      <td>NaN</td>\n",
       "      <td>NaN</td>\n",
       "      <td>NaN</td>\n",
       "      <td>NaN</td>\n",
       "      <td>0</td>\n",
       "      <td>-1</td>\n",
       "      <td>-5</td>\n",
       "      <td>-15</td>\n",
       "      <td>15</td>\n",
       "      <td>NaN</td>\n",
       "      <td>NaN</td>\n",
       "      <td>NaN</td>\n",
       "      <td>NaN</td>\n",
       "      <td>NaN</td>\n",
       "      <td>NaN</td>\n",
       "      <td>NaN</td>\n",
       "    </tr>\n",
       "    <tr>\n",
       "      <th>4</th>\n",
       "      <td>LYCEE LA PROVIDENCE</td>\n",
       "      <td>2019.0</td>\n",
       "      <td>LAON</td>\n",
       "      <td>0021872Z</td>\n",
       "      <td>2408</td>\n",
       "      <td>AMIENS</td>\n",
       "      <td>Aisne</td>\n",
       "      <td>PR</td>\n",
       "      <td>3.0</td>\n",
       "      <td>18.0</td>\n",
       "      <td>22.0</td>\n",
       "      <td>NaN</td>\n",
       "      <td>NaN</td>\n",
       "      <td>NaN</td>\n",
       "      <td>17.0</td>\n",
       "      <td>NaN</td>\n",
       "      <td>NaN</td>\n",
       "      <td>NaN</td>\n",
       "      <td>NaN</td>\n",
       "      <td>NaN</td>\n",
       "      <td>60.0</td>\n",
       "      <td>100.0</td>\n",
       "      <td>94.0</td>\n",
       "      <td>77.0</td>\n",
       "      <td>NaN</td>\n",
       "      <td>NaN</td>\n",
       "      <td>NaN</td>\n",
       "      <td>71.0</td>\n",
       "      <td>NaN</td>\n",
       "      <td>NaN</td>\n",
       "      <td>NaN</td>\n",
       "      <td>NaN</td>\n",
       "      <td>NaN</td>\n",
       "      <td>82.0</td>\n",
       "      <td>NaN</td>\n",
       "      <td>NaN</td>\n",
       "      <td>NaN</td>\n",
       "      <td>NaN</td>\n",
       "      <td>NaN</td>\n",
       "      <td>NaN</td>\n",
       "      <td>NaN</td>\n",
       "      <td>NaN</td>\n",
       "      <td>NaN</td>\n",
       "      <td>NaN</td>\n",
       "      <td>NaN</td>\n",
       "      <td>NaN</td>\n",
       "      <td>NaN</td>\n",
       "      <td>ND</td>\n",
       "      <td>96</td>\n",
       "      <td>95</td>\n",
       "      <td>NaN</td>\n",
       "      <td>NaN</td>\n",
       "      <td>NaN</td>\n",
       "      <td>91</td>\n",
       "      <td>NaN</td>\n",
       "      <td>NaN</td>\n",
       "      <td>NaN</td>\n",
       "      <td>NaN</td>\n",
       "      <td>NaN</td>\n",
       "      <td>94</td>\n",
       "      <td>33.0</td>\n",
       "      <td>28.0</td>\n",
       "      <td>18.0</td>\n",
       "      <td>NaN</td>\n",
       "      <td>NaN</td>\n",
       "      <td>18.0</td>\n",
       "      <td>NaN</td>\n",
       "      <td>NaN</td>\n",
       "      <td>NaN</td>\n",
       "      <td>NaN</td>\n",
       "      <td>22.0</td>\n",
       "      <td>ND</td>\n",
       "      <td>57</td>\n",
       "      <td>58</td>\n",
       "      <td>NaN</td>\n",
       "      <td>NaN</td>\n",
       "      <td>39</td>\n",
       "      <td>NaN</td>\n",
       "      <td>NaN</td>\n",
       "      <td>NaN</td>\n",
       "      <td>NaN</td>\n",
       "      <td>52</td>\n",
       "      <td>NaN</td>\n",
       "      <td>B</td>\n",
       "      <td>NaN</td>\n",
       "      <td>NaN</td>\n",
       "      <td>NaN</td>\n",
       "      <td>NaN</td>\n",
       "      <td>NaN</td>\n",
       "      <td>NaN</td>\n",
       "      <td>41.0</td>\n",
       "      <td>34.0</td>\n",
       "      <td>63.0</td>\n",
       "      <td>65</td>\n",
       "      <td>NaN</td>\n",
       "      <td>82</td>\n",
       "      <td>82.0</td>\n",
       "      <td>NaN</td>\n",
       "      <td>93</td>\n",
       "      <td>88.0</td>\n",
       "      <td>95</td>\n",
       "      <td>Hauts-de-France</td>\n",
       "      <td>32.0</td>\n",
       "      <td>2</td>\n",
       "      <td>Aisne</td>\n",
       "      <td>-12</td>\n",
       "      <td>-17</td>\n",
       "      <td>-30</td>\n",
       "      <td>ND</td>\n",
       "      <td>-2</td>\n",
       "      <td>-18</td>\n",
       "      <td>NaN</td>\n",
       "      <td>NaN</td>\n",
       "      <td>NaN</td>\n",
       "      <td>-20</td>\n",
       "      <td>NaN</td>\n",
       "      <td>NaN</td>\n",
       "      <td>NaN</td>\n",
       "      <td>NaN</td>\n",
       "      <td>NaN</td>\n",
       "      <td>-11</td>\n",
       "      <td>-7</td>\n",
       "      <td>ND</td>\n",
       "      <td>-29</td>\n",
       "      <td>-40</td>\n",
       "      <td>NaN</td>\n",
       "      <td>NaN</td>\n",
       "      <td>-21</td>\n",
       "      <td>NaN</td>\n",
       "      <td>NaN</td>\n",
       "      <td>NaN</td>\n",
       "      <td>NaN</td>\n",
       "    </tr>\n",
       "  </tbody>\n",
       "</table>\n",
       "</div>"
      ],
      "text/plain": [
       "                                     Etablissement   Annee            Ville  \\\n",
       "0                                    LYCEE LALANDE  2019.0  BOURG EN BRESSE   \n",
       "1  LYCEE JOSEPH-MARIE CARRIAT (GENERAL ET TECHNO.)  2019.0  BOURG EN BRESSE   \n",
       "2         LYCEE INTERNATIONAL (GENERAL ET TECHNO.)  2019.0  FERNEY VOLTAIRE   \n",
       "3                               LYCEE JEANNE D'ARC  2019.0            CESSY   \n",
       "4                              LYCEE LA PROVIDENCE  2019.0             LAON   \n",
       "\n",
       "        UAI Code commune Academie Departement Secteur  Presents - L  \\\n",
       "0  0010013J         1053     LYON         Ain      PU          54.0   \n",
       "1  0010016M         1053     LYON         Ain      PU           NaN   \n",
       "2  0010072Y         1160     LYON         Ain      PU          42.0   \n",
       "3  0010878Z         1071     LYON         Ain      PR          19.0   \n",
       "4  0021872Z         2408   AMIENS       Aisne      PR           3.0   \n",
       "\n",
       "   Presents - ES  Presents - S  Presents - STG  Presents - STI2D  \\\n",
       "0           78.0         181.0             NaN               NaN   \n",
       "1           51.0         102.0             NaN             136.0   \n",
       "2          200.0         243.0             NaN               NaN   \n",
       "3           39.0          57.0             NaN               NaN   \n",
       "4           18.0          22.0             NaN               NaN   \n",
       "\n",
       "   Presents - STD2A  Presents - STMG  Presents - STI  Presents - STL  \\\n",
       "0               NaN              NaN             NaN             NaN   \n",
       "1               NaN            114.0             NaN             NaN   \n",
       "2               NaN             65.0             NaN             NaN   \n",
       "3               NaN              NaN             NaN             NaN   \n",
       "4               NaN             17.0             NaN             NaN   \n",
       "\n",
       "   Presents - ST2S  Presents - TMD  Presents - STHR  Presents - Toutes series  \\\n",
       "0              NaN             NaN              NaN                     313.0   \n",
       "1              NaN             NaN              NaN                     403.0   \n",
       "2              NaN             NaN              NaN                     550.0   \n",
       "3              NaN             NaN              NaN                     115.0   \n",
       "4              NaN             NaN              NaN                      60.0   \n",
       "\n",
       "   Taux de reussite - L  Taux de reussite - ES  Taux de reussite - S  \\\n",
       "0                  98.0                   97.0                  97.0   \n",
       "1                   NaN                   86.0                  89.0   \n",
       "2                  95.0                   87.0                  91.0   \n",
       "3                 100.0                   97.0                 100.0   \n",
       "4                 100.0                   94.0                  77.0   \n",
       "\n",
       "   Taux de reussite - STG  Taux de reussite - STI2D  Taux de reussite - STD2A  \\\n",
       "0                     NaN                       NaN                       NaN   \n",
       "1                     NaN                      87.0                       NaN   \n",
       "2                     NaN                       NaN                       NaN   \n",
       "3                     NaN                       NaN                       NaN   \n",
       "4                     NaN                       NaN                       NaN   \n",
       "\n",
       "   Taux de reussite - STMG  Taux de reussite - STI  Taux de reussite - STL  \\\n",
       "0                      NaN                     NaN                     NaN   \n",
       "1                     56.0                     NaN                     NaN   \n",
       "2                     86.0                     NaN                     NaN   \n",
       "3                      NaN                     NaN                     NaN   \n",
       "4                     71.0                     NaN                     NaN   \n",
       "\n",
       "   Taux de reussite - ST2S  Taux de reussite - TMD  Taux de reussite - STHR  \\\n",
       "0                      NaN                     NaN                      NaN   \n",
       "1                      NaN                     NaN                      NaN   \n",
       "2                      NaN                     NaN                      NaN   \n",
       "3                      NaN                     NaN                      NaN   \n",
       "4                      NaN                     NaN                      NaN   \n",
       "\n",
       "   Taux de reussite - Toutes series  Taux de reussite attendu acad - L  \\\n",
       "0                              97.0                                NaN   \n",
       "1                              79.0                                NaN   \n",
       "2                              89.0                                NaN   \n",
       "3                              99.0                                NaN   \n",
       "4                              82.0                                NaN   \n",
       "\n",
       "   Taux de reussite attendu acad - ES  Taux de reussite attendu acad - S  \\\n",
       "0                                 NaN                                NaN   \n",
       "1                                 NaN                                NaN   \n",
       "2                                 NaN                                NaN   \n",
       "3                                 NaN                                NaN   \n",
       "4                                 NaN                                NaN   \n",
       "\n",
       "   Taux de reussite attendu acad - STG  Taux de reussite attendu acad - STI2D  \\\n",
       "0                                  NaN                                    NaN   \n",
       "1                                  NaN                                    NaN   \n",
       "2                                  NaN                                    NaN   \n",
       "3                                  NaN                                    NaN   \n",
       "4                                  NaN                                    NaN   \n",
       "\n",
       "   Taux de reussite attendu acad - STD2A  \\\n",
       "0                                    NaN   \n",
       "1                                    NaN   \n",
       "2                                    NaN   \n",
       "3                                    NaN   \n",
       "4                                    NaN   \n",
       "\n",
       "   Taux de reussite attendu acad - STMG  Taux de reussite attendu acad - STI  \\\n",
       "0                                   NaN                                  NaN   \n",
       "1                                   NaN                                  NaN   \n",
       "2                                   NaN                                  NaN   \n",
       "3                                   NaN                                  NaN   \n",
       "4                                   NaN                                  NaN   \n",
       "\n",
       "   Taux de reussite attendu acad - STL  Taux de reussite attendu acad - ST2S  \\\n",
       "0                                  NaN                                   NaN   \n",
       "1                                  NaN                                   NaN   \n",
       "2                                  NaN                                   NaN   \n",
       "3                                  NaN                                   NaN   \n",
       "4                                  NaN                                   NaN   \n",
       "\n",
       "   Taux de reussite attendu acad - TMD  Taux de reussite attendu acad - STHR  \\\n",
       "0                                  NaN                                   NaN   \n",
       "1                                  NaN                                   NaN   \n",
       "2                                  NaN                                   NaN   \n",
       "3                                  NaN                                   NaN   \n",
       "4                                  NaN                                   NaN   \n",
       "\n",
       "   Taux de reussite attendu acad - Toutes series  \\\n",
       "0                                            NaN   \n",
       "1                                            NaN   \n",
       "2                                            NaN   \n",
       "3                                            NaN   \n",
       "4                                            NaN   \n",
       "\n",
       "  Taux de reussite attendu france - L Taux de reussite attendu france - ES  \\\n",
       "0                                  97                                   97   \n",
       "1                                 NaN                                   94   \n",
       "2                                  97                                   95   \n",
       "3                                  98                                   98   \n",
       "4                                  ND                                   96   \n",
       "\n",
       "  Taux de reussite attendu france - S  Taux de reussite attendu france - STG  \\\n",
       "0                                  96                                    NaN   \n",
       "1                                  92                                    NaN   \n",
       "2                                  95                                    NaN   \n",
       "3                                  98                                    NaN   \n",
       "4                                  95                                    NaN   \n",
       "\n",
       "  Taux de reussite attendu france - STI2D  \\\n",
       "0                                     NaN   \n",
       "1                                      94   \n",
       "2                                     NaN   \n",
       "3                                     NaN   \n",
       "4                                     NaN   \n",
       "\n",
       "  Taux de reussite attendu france - STD2A  \\\n",
       "0                                     NaN   \n",
       "1                                     NaN   \n",
       "2                                     NaN   \n",
       "3                                     NaN   \n",
       "4                                     NaN   \n",
       "\n",
       "  Taux de reussite attendu france - STMG  \\\n",
       "0                                    NaN   \n",
       "1                                     87   \n",
       "2                                     93   \n",
       "3                                    NaN   \n",
       "4                                     91   \n",
       "\n",
       "   Taux de reussite attendu france - STI  \\\n",
       "0                                    NaN   \n",
       "1                                    NaN   \n",
       "2                                    NaN   \n",
       "3                                    NaN   \n",
       "4                                    NaN   \n",
       "\n",
       "  Taux de reussite attendu france - STL  \\\n",
       "0                                   NaN   \n",
       "1                                   NaN   \n",
       "2                                   NaN   \n",
       "3                                   NaN   \n",
       "4                                   NaN   \n",
       "\n",
       "  Taux de reussite attendu france - ST2S  \\\n",
       "0                                    NaN   \n",
       "1                                    NaN   \n",
       "2                                    NaN   \n",
       "3                                    NaN   \n",
       "4                                    NaN   \n",
       "\n",
       "  Taux de reussite attendu france - TMD  \\\n",
       "0                                   NaN   \n",
       "1                                   NaN   \n",
       "2                                   NaN   \n",
       "3                                   NaN   \n",
       "4                                   NaN   \n",
       "\n",
       "  Taux de reussite attendu france - STHR  \\\n",
       "0                                    NaN   \n",
       "1                                    NaN   \n",
       "2                                    NaN   \n",
       "3                                    NaN   \n",
       "4                                    NaN   \n",
       "\n",
       "  Taux de reussite attendu france - Toutes series  Taux de mentions - L  \\\n",
       "0                                              96                  65.0   \n",
       "1                                              91                   NaN   \n",
       "2                                              95                  71.0   \n",
       "3                                              98                  74.0   \n",
       "4                                              94                  33.0   \n",
       "\n",
       "   Taux de mentions - ES  Taux de mentions - S  Taux de mentions - STI2D  \\\n",
       "0                   71.0                  65.0                       NaN   \n",
       "1                   35.0                  50.0                      32.0   \n",
       "2                   48.0                  56.0                       NaN   \n",
       "3                   62.0                  91.0                       NaN   \n",
       "4                   28.0                  18.0                       NaN   \n",
       "\n",
       "   Taux de mentions - STD2A  Taux de mentions - STMG  Taux de mentions - STL  \\\n",
       "0                       NaN                      NaN                     NaN   \n",
       "1                       NaN                     13.0                     NaN   \n",
       "2                       NaN                     31.0                     NaN   \n",
       "3                       NaN                      NaN                     NaN   \n",
       "4                       NaN                     18.0                     NaN   \n",
       "\n",
       "   Taux de mentions - ST2S  Taux de mentions - TMD  Taux de mentions - STHR  \\\n",
       "0                      NaN                     NaN                      NaN   \n",
       "1                      NaN                     NaN                      NaN   \n",
       "2                      NaN                     NaN                      NaN   \n",
       "3                      NaN                     NaN                      NaN   \n",
       "4                      NaN                     NaN                      NaN   \n",
       "\n",
       "   Taux de mentions - Toutes series Taux de mentions attendu - L  \\\n",
       "0                              66.0                           68   \n",
       "1                              32.0                          NaN   \n",
       "2                              51.0                           73   \n",
       "3                              78.0                           79   \n",
       "4                              22.0                           ND   \n",
       "\n",
       "  Taux de mentions attendu - ES Taux de mentions attendu - S  \\\n",
       "0                            67                           67   \n",
       "1                            49                           50   \n",
       "2                            55                           64   \n",
       "3                            77                           76   \n",
       "4                            57                           58   \n",
       "\n",
       "  Taux de mentions attendu - STI2D Taux de mentions attendu - STD2A  \\\n",
       "0                              NaN                              NaN   \n",
       "1                               47                              NaN   \n",
       "2                              NaN                              NaN   \n",
       "3                              NaN                              NaN   \n",
       "4                              NaN                              NaN   \n",
       "\n",
       "  Taux de mentions attendu - STMG Taux de mentions attendu - STL  \\\n",
       "0                             NaN                            NaN   \n",
       "1                              34                            NaN   \n",
       "2                              48                            NaN   \n",
       "3                             NaN                            NaN   \n",
       "4                              39                            NaN   \n",
       "\n",
       "  Taux de mentions attendu - ST2S Taux de mentions attendu - TMD  \\\n",
       "0                             NaN                            NaN   \n",
       "1                             NaN                            NaN   \n",
       "2                             NaN                            NaN   \n",
       "3                             NaN                            NaN   \n",
       "4                             NaN                            NaN   \n",
       "\n",
       "  Taux de mentions attendu - STHR Taux de mentions attendu - Toutes series  \\\n",
       "0                             NaN                                       67   \n",
       "1                             NaN                                       44   \n",
       "2                             NaN                                       60   \n",
       "3                             NaN                                       77   \n",
       "4                             NaN                                       52   \n",
       "\n",
       "   Structure pedagogique 5 groupes Structure pedagogique 7 groupes  \\\n",
       "0                              NaN                               A   \n",
       "1                              NaN                               C   \n",
       "2                              NaN                               B   \n",
       "3                              NaN                               A   \n",
       "4                              NaN                               B   \n",
       "\n",
       "   Pourcentage bacheliers sortants 2de 1re Terminale Etablissement  \\\n",
       "0                                                NaN                 \n",
       "1                                                NaN                 \n",
       "2                                                NaN                 \n",
       "3                                                NaN                 \n",
       "4                                                NaN                 \n",
       "\n",
       "   Pourcentage bacheliers sortants Terminales Etablissement  \\\n",
       "0                                                NaN          \n",
       "1                                                NaN          \n",
       "2                                                NaN          \n",
       "3                                                NaN          \n",
       "4                                                NaN          \n",
       "\n",
       "   Pourcentage bacheliers sortants 2de 1re Terminale Acad  \\\n",
       "0                                                NaN        \n",
       "1                                                NaN        \n",
       "2                                                NaN        \n",
       "3                                                NaN        \n",
       "4                                                NaN        \n",
       "\n",
       "   Pourcentage bacheliers sortants Terminale Acad  \\\n",
       "0                                             NaN   \n",
       "1                                             NaN   \n",
       "2                                             NaN   \n",
       "3                                             NaN   \n",
       "4                                             NaN   \n",
       "\n",
       "   Pourcentage bacheliers sortants 2de 1re Terminale France  \\\n",
       "0                                                NaN          \n",
       "1                                                NaN          \n",
       "2                                                NaN          \n",
       "3                                                NaN          \n",
       "4                                                NaN          \n",
       "\n",
       "   Pourcentage bacheliers sortants Terminale France  Effectif de seconde  \\\n",
       "0                                               NaN                379.0   \n",
       "1                                               NaN                512.0   \n",
       "2                                               NaN                706.0   \n",
       "3                                               NaN                144.0   \n",
       "4                                               NaN                 41.0   \n",
       "\n",
       "   Effectif de premiere  Effectif de terminale Taux d'acces 2nde-bac  \\\n",
       "0                 355.0                  319.0                    92   \n",
       "1                 458.0                  475.0                    76   \n",
       "2                 630.0                  609.0                    88   \n",
       "3                 114.0                   97.0                    86   \n",
       "4                  34.0                   63.0                    65   \n",
       "\n",
       "   Taux d'acces attendu acad 2nde-bac Taux d'acces attendu france 2nde-bac  \\\n",
       "0                                 NaN                                   89   \n",
       "1                                 NaN                                   81   \n",
       "2                                 NaN                                   85   \n",
       "3                                 NaN                                   90   \n",
       "4                                 NaN                                   82   \n",
       "\n",
       "   Taux d'acces 1ere-bac  Taux d'acces attendu acad 1ere-bac  \\\n",
       "0                   95.0                                 NaN   \n",
       "1                   85.0                                 NaN   \n",
       "2                   91.0                                 NaN   \n",
       "3                   95.0                                 NaN   \n",
       "4                   82.0                                 NaN   \n",
       "\n",
       "  Taux d'acces attendu france 1ere-bac  Taux d'acces terminale-bac  \\\n",
       "0                                   95                        97.0   \n",
       "1                                   90                        88.0   \n",
       "2                                   93                        93.0   \n",
       "3                                   95                        98.0   \n",
       "4                                   93                        88.0   \n",
       "\n",
       "  Taux d'acces attendu france terminale-bac                   Region  \\\n",
       "0                                        98  Auvergne-et-Rhône-Alpes   \n",
       "1                                        93  Auvergne-et-Rhône-Alpes   \n",
       "2                                        97  Auvergne-et-Rhône-Alpes   \n",
       "3                                        99  Auvergne-et-Rhône-Alpes   \n",
       "4                                        95          Hauts-de-France   \n",
       "\n",
       "   Code region code_departement Departement.1  \\\n",
       "0         84.0                1           Ain   \n",
       "1         84.0                1           Ain   \n",
       "2         84.0                1           Ain   \n",
       "3         84.0                1           Ain   \n",
       "4         32.0                2         Aisne   \n",
       "\n",
       "  Valeur ajoutee du taux de reussite - Toutes series  \\\n",
       "0                                                  1   \n",
       "1                                                -12   \n",
       "2                                                 -6   \n",
       "3                                                  1   \n",
       "4                                                -12   \n",
       "\n",
       "  Valeur ajoutee du taux d'acces 2nde-bac  \\\n",
       "0                                       3   \n",
       "1                                      -5   \n",
       "2                                       3   \n",
       "3                                      -4   \n",
       "4                                     -17   \n",
       "\n",
       "  Valeur ajoutee du taux de mentions - Toutes series  \\\n",
       "0                                                 -1   \n",
       "1                                                -12   \n",
       "2                                                 -9   \n",
       "3                                                  1   \n",
       "4                                                -30   \n",
       "\n",
       "  Valeur ajoutee du taux de reussite - L  \\\n",
       "0                                      1   \n",
       "1                                    NaN   \n",
       "2                                     -2   \n",
       "3                                      2   \n",
       "4                                     ND   \n",
       "\n",
       "  Valeur ajoutee du taux de reussite - ES  \\\n",
       "0                                       0   \n",
       "1                                      -8   \n",
       "2                                      -8   \n",
       "3                                      -1   \n",
       "4                                      -2   \n",
       "\n",
       "  Valeur ajoutee du taux de reussite - S  \\\n",
       "0                                      1   \n",
       "1                                     -3   \n",
       "2                                     -4   \n",
       "3                                      2   \n",
       "4                                    -18   \n",
       "\n",
       "  Valeur ajoutee du taux de reussite - STG  \\\n",
       "0                                      NaN   \n",
       "1                                      NaN   \n",
       "2                                      NaN   \n",
       "3                                      NaN   \n",
       "4                                      NaN   \n",
       "\n",
       "  Valeur ajoutee du taux de reussite - STI2D  \\\n",
       "0                                        NaN   \n",
       "1                                         -7   \n",
       "2                                        NaN   \n",
       "3                                        NaN   \n",
       "4                                        NaN   \n",
       "\n",
       "  Valeur ajoutee du taux de reussite - STD2A  \\\n",
       "0                                        NaN   \n",
       "1                                        NaN   \n",
       "2                                        NaN   \n",
       "3                                        NaN   \n",
       "4                                        NaN   \n",
       "\n",
       "  Valeur ajoutee du taux de reussite - STMG  \\\n",
       "0                                       NaN   \n",
       "1                                       -31   \n",
       "2                                        -7   \n",
       "3                                       NaN   \n",
       "4                                       -20   \n",
       "\n",
       "  Valeur ajoutee du taux de reussite - STI  \\\n",
       "0                                      NaN   \n",
       "1                                      NaN   \n",
       "2                                      NaN   \n",
       "3                                      NaN   \n",
       "4                                      NaN   \n",
       "\n",
       "  Valeur ajoutee du taux de reussite - STL  \\\n",
       "0                                      NaN   \n",
       "1                                      NaN   \n",
       "2                                      NaN   \n",
       "3                                      NaN   \n",
       "4                                      NaN   \n",
       "\n",
       "  Valeur ajoutee du taux de reussite - ST2S  \\\n",
       "0                                       NaN   \n",
       "1                                       NaN   \n",
       "2                                       NaN   \n",
       "3                                       NaN   \n",
       "4                                       NaN   \n",
       "\n",
       "  Valeur ajoutee du taux de reussite - TMD  \\\n",
       "0                                      NaN   \n",
       "1                                      NaN   \n",
       "2                                      NaN   \n",
       "3                                      NaN   \n",
       "4                                      NaN   \n",
       "\n",
       "  Valeur ajoutee du taux de reussite - STHR  \\\n",
       "0                                       NaN   \n",
       "1                                       NaN   \n",
       "2                                       NaN   \n",
       "3                                       NaN   \n",
       "4                                       NaN   \n",
       "\n",
       "  Valeur ajoutee du taux d'acces 1ere-bac  \\\n",
       "0                                       0   \n",
       "1                                      -5   \n",
       "2                                      -2   \n",
       "3                                       0   \n",
       "4                                     -11   \n",
       "\n",
       "  Valeur ajoutee du taux d'acces terminale-bac  \\\n",
       "0                                           -1   \n",
       "1                                           -5   \n",
       "2                                           -4   \n",
       "3                                           -1   \n",
       "4                                           -7   \n",
       "\n",
       "  Valeur ajoutee du taux de mentions - L  \\\n",
       "0                                     -3   \n",
       "1                                    NaN   \n",
       "2                                     -2   \n",
       "3                                     -5   \n",
       "4                                     ND   \n",
       "\n",
       "  Valeur ajoutee du taux de mentions - ES  \\\n",
       "0                                       4   \n",
       "1                                     -14   \n",
       "2                                      -7   \n",
       "3                                     -15   \n",
       "4                                     -29   \n",
       "\n",
       "  Valeur ajoutee du taux de mentions - S  \\\n",
       "0                                     -2   \n",
       "1                                      0   \n",
       "2                                     -8   \n",
       "3                                     15   \n",
       "4                                    -40   \n",
       "\n",
       "  Valeur ajoutee du taux de mentions - STI2D  \\\n",
       "0                                        NaN   \n",
       "1                                        -15   \n",
       "2                                        NaN   \n",
       "3                                        NaN   \n",
       "4                                        NaN   \n",
       "\n",
       "  Valeur ajoutee du taux de mentions - STD2A  \\\n",
       "0                                        NaN   \n",
       "1                                        NaN   \n",
       "2                                        NaN   \n",
       "3                                        NaN   \n",
       "4                                        NaN   \n",
       "\n",
       "  Valeur ajoutee du taux de mentions - STMG  \\\n",
       "0                                       NaN   \n",
       "1                                       -21   \n",
       "2                                       -17   \n",
       "3                                       NaN   \n",
       "4                                       -21   \n",
       "\n",
       "  Valeur ajoutee du taux de mentions - STL  \\\n",
       "0                                      NaN   \n",
       "1                                      NaN   \n",
       "2                                      NaN   \n",
       "3                                      NaN   \n",
       "4                                      NaN   \n",
       "\n",
       "  Valeur ajoutee du taux de mentions - ST2S  \\\n",
       "0                                       NaN   \n",
       "1                                       NaN   \n",
       "2                                       NaN   \n",
       "3                                       NaN   \n",
       "4                                       NaN   \n",
       "\n",
       "  Valeur ajoutee du taux de mentions - TMD  \\\n",
       "0                                      NaN   \n",
       "1                                      NaN   \n",
       "2                                      NaN   \n",
       "3                                      NaN   \n",
       "4                                      NaN   \n",
       "\n",
       "  Valeur ajoutee du taux de mentions - STHR  \n",
       "0                                       NaN  \n",
       "1                                       NaN  \n",
       "2                                       NaN  \n",
       "3                                       NaN  \n",
       "4                                       NaN  "
      ]
     },
     "execution_count": 14,
     "metadata": {},
     "output_type": "execute_result"
    }
   ],
   "source": [
    "df.head()"
   ]
  },
  {
   "cell_type": "code",
   "execution_count": 15,
   "id": "4cea1a0f",
   "metadata": {},
   "outputs": [
    {
     "data": {
      "text/plain": [
       "Etablissement                   0\n",
       "Annee                           6\n",
       "Ville                           6\n",
       "UAI                             6\n",
       "Code commune                    6\n",
       "Academie                        6\n",
       "Departement                     6\n",
       "Secteur                         6\n",
       "Presents - L                 4738\n",
       "Presents - ES                3033\n",
       "Presents - S                 1872\n",
       "Presents - STG              18362\n",
       "Presents - STI2D            16052\n",
       "Presents - STD2A            20132\n",
       "Presents - STMG             12146\n",
       "Presents - STI              20215\n",
       "Presents - STL              18520\n",
       "Presents - ST2S             16851\n",
       "Presents - TMD              20632\n",
       "Presents - STHR             20239\n",
       "Presents - Toutes series        6\n",
       "Taux de reussite - L         4738\n",
       "Taux de reussite - ES        3033\n",
       "Taux de reussite - S         1872\n",
       "Taux de reussite - STG      18362\n",
       "Taux de reussite - STI2D    16052\n",
       "Taux de reussite - STD2A    20132\n",
       "Taux de reussite - STMG     12146\n",
       "Taux de reussite - STI      20215\n",
       "Taux de reussite - STL      18520\n",
       "dtype: int64"
      ]
     },
     "execution_count": 15,
     "metadata": {},
     "output_type": "execute_result"
    }
   ],
   "source": [
    "df.isnull().sum().head(30)"
   ]
  },
  {
   "cell_type": "code",
   "execution_count": 16,
   "id": "0e3b43ef",
   "metadata": {},
   "outputs": [
    {
     "data": {
      "text/html": [
       "<div>\n",
       "<style scoped>\n",
       "    .dataframe tbody tr th:only-of-type {\n",
       "        vertical-align: middle;\n",
       "    }\n",
       "\n",
       "    .dataframe tbody tr th {\n",
       "        vertical-align: top;\n",
       "    }\n",
       "\n",
       "    .dataframe thead th {\n",
       "        text-align: right;\n",
       "    }\n",
       "</style>\n",
       "<table border=\"1\" class=\"dataframe\">\n",
       "  <thead>\n",
       "    <tr style=\"text-align: right;\">\n",
       "      <th></th>\n",
       "      <th>Etablissement</th>\n",
       "      <th>Annee</th>\n",
       "      <th>Ville</th>\n",
       "      <th>UAI</th>\n",
       "      <th>Code commune</th>\n",
       "      <th>Academie</th>\n",
       "      <th>Departement</th>\n",
       "      <th>Secteur</th>\n",
       "      <th>Presents - L</th>\n",
       "      <th>Presents - ES</th>\n",
       "      <th>Presents - S</th>\n",
       "      <th>Presents - STG</th>\n",
       "      <th>Presents - STI2D</th>\n",
       "      <th>Presents - STD2A</th>\n",
       "      <th>Presents - STMG</th>\n",
       "      <th>Presents - STI</th>\n",
       "      <th>Presents - STL</th>\n",
       "      <th>Presents - ST2S</th>\n",
       "      <th>Presents - TMD</th>\n",
       "      <th>Presents - STHR</th>\n",
       "      <th>Presents - Toutes series</th>\n",
       "      <th>Taux de reussite - L</th>\n",
       "      <th>Taux de reussite - ES</th>\n",
       "      <th>Taux de reussite - S</th>\n",
       "      <th>Taux de reussite - STG</th>\n",
       "      <th>Taux de reussite - STI2D</th>\n",
       "      <th>Taux de reussite - STD2A</th>\n",
       "      <th>Taux de reussite - STMG</th>\n",
       "      <th>Taux de reussite - STI</th>\n",
       "      <th>Taux de reussite - STL</th>\n",
       "      <th>Taux de reussite - ST2S</th>\n",
       "      <th>Taux de reussite - TMD</th>\n",
       "      <th>Taux de reussite - STHR</th>\n",
       "      <th>Taux de reussite - Toutes series</th>\n",
       "      <th>Taux de reussite attendu acad - L</th>\n",
       "      <th>Taux de reussite attendu acad - ES</th>\n",
       "      <th>Taux de reussite attendu acad - S</th>\n",
       "      <th>Taux de reussite attendu acad - STG</th>\n",
       "      <th>Taux de reussite attendu acad - STI2D</th>\n",
       "      <th>Taux de reussite attendu acad - STD2A</th>\n",
       "      <th>Taux de reussite attendu acad - STMG</th>\n",
       "      <th>Taux de reussite attendu acad - STI</th>\n",
       "      <th>Taux de reussite attendu acad - STL</th>\n",
       "      <th>Taux de reussite attendu acad - ST2S</th>\n",
       "      <th>Taux de reussite attendu acad - TMD</th>\n",
       "      <th>Taux de reussite attendu acad - STHR</th>\n",
       "      <th>Taux de reussite attendu acad - Toutes series</th>\n",
       "      <th>Taux de reussite attendu france - L</th>\n",
       "      <th>Taux de reussite attendu france - ES</th>\n",
       "      <th>Taux de reussite attendu france - S</th>\n",
       "      <th>Taux de reussite attendu france - STG</th>\n",
       "      <th>Taux de reussite attendu france - STI2D</th>\n",
       "      <th>Taux de reussite attendu france - STD2A</th>\n",
       "      <th>Taux de reussite attendu france - STMG</th>\n",
       "      <th>Taux de reussite attendu france - STI</th>\n",
       "      <th>Taux de reussite attendu france - STL</th>\n",
       "      <th>Taux de reussite attendu france - ST2S</th>\n",
       "      <th>Taux de reussite attendu france - TMD</th>\n",
       "      <th>Taux de reussite attendu france - STHR</th>\n",
       "      <th>Taux de reussite attendu france - Toutes series</th>\n",
       "      <th>Taux de mentions - L</th>\n",
       "      <th>Taux de mentions - ES</th>\n",
       "      <th>Taux de mentions - S</th>\n",
       "      <th>Taux de mentions - STI2D</th>\n",
       "      <th>Taux de mentions - STD2A</th>\n",
       "      <th>Taux de mentions - STMG</th>\n",
       "      <th>Taux de mentions - STL</th>\n",
       "      <th>Taux de mentions - ST2S</th>\n",
       "      <th>Taux de mentions - TMD</th>\n",
       "      <th>Taux de mentions - STHR</th>\n",
       "      <th>Taux de mentions - Toutes series</th>\n",
       "      <th>Taux de mentions attendu - L</th>\n",
       "      <th>Taux de mentions attendu - ES</th>\n",
       "      <th>Taux de mentions attendu - S</th>\n",
       "      <th>Taux de mentions attendu - STI2D</th>\n",
       "      <th>Taux de mentions attendu - STD2A</th>\n",
       "      <th>Taux de mentions attendu - STMG</th>\n",
       "      <th>Taux de mentions attendu - STL</th>\n",
       "      <th>Taux de mentions attendu - ST2S</th>\n",
       "      <th>Taux de mentions attendu - TMD</th>\n",
       "      <th>Taux de mentions attendu - STHR</th>\n",
       "      <th>Taux de mentions attendu - Toutes series</th>\n",
       "      <th>Structure pedagogique 5 groupes</th>\n",
       "      <th>Structure pedagogique 7 groupes</th>\n",
       "      <th>Pourcentage bacheliers sortants 2de 1re Terminale Etablissement</th>\n",
       "      <th>Pourcentage bacheliers sortants Terminales Etablissement</th>\n",
       "      <th>Pourcentage bacheliers sortants 2de 1re Terminale Acad</th>\n",
       "      <th>Pourcentage bacheliers sortants Terminale Acad</th>\n",
       "      <th>Pourcentage bacheliers sortants 2de 1re Terminale France</th>\n",
       "      <th>Pourcentage bacheliers sortants Terminale France</th>\n",
       "      <th>Effectif de seconde</th>\n",
       "      <th>Effectif de premiere</th>\n",
       "      <th>Effectif de terminale</th>\n",
       "      <th>Taux d'acces 2nde-bac</th>\n",
       "      <th>Taux d'acces attendu acad 2nde-bac</th>\n",
       "      <th>Taux d'acces attendu france 2nde-bac</th>\n",
       "      <th>Taux d'acces 1ere-bac</th>\n",
       "      <th>Taux d'acces attendu acad 1ere-bac</th>\n",
       "      <th>Taux d'acces attendu france 1ere-bac</th>\n",
       "      <th>Taux d'acces terminale-bac</th>\n",
       "      <th>Taux d'acces attendu france terminale-bac</th>\n",
       "      <th>Region</th>\n",
       "      <th>Code region</th>\n",
       "      <th>code_departement</th>\n",
       "      <th>Departement.1</th>\n",
       "      <th>Valeur ajoutee du taux de reussite - Toutes series</th>\n",
       "      <th>Valeur ajoutee du taux d'acces 2nde-bac</th>\n",
       "      <th>Valeur ajoutee du taux de mentions - Toutes series</th>\n",
       "      <th>Valeur ajoutee du taux de reussite - L</th>\n",
       "      <th>Valeur ajoutee du taux de reussite - ES</th>\n",
       "      <th>Valeur ajoutee du taux de reussite - S</th>\n",
       "      <th>Valeur ajoutee du taux de reussite - STG</th>\n",
       "      <th>Valeur ajoutee du taux de reussite - STI2D</th>\n",
       "      <th>Valeur ajoutee du taux de reussite - STD2A</th>\n",
       "      <th>Valeur ajoutee du taux de reussite - STMG</th>\n",
       "      <th>Valeur ajoutee du taux de reussite - STI</th>\n",
       "      <th>Valeur ajoutee du taux de reussite - STL</th>\n",
       "      <th>Valeur ajoutee du taux de reussite - ST2S</th>\n",
       "      <th>Valeur ajoutee du taux de reussite - TMD</th>\n",
       "      <th>Valeur ajoutee du taux de reussite - STHR</th>\n",
       "      <th>Valeur ajoutee du taux d'acces 1ere-bac</th>\n",
       "      <th>Valeur ajoutee du taux d'acces terminale-bac</th>\n",
       "      <th>Valeur ajoutee du taux de mentions - L</th>\n",
       "      <th>Valeur ajoutee du taux de mentions - ES</th>\n",
       "      <th>Valeur ajoutee du taux de mentions - S</th>\n",
       "      <th>Valeur ajoutee du taux de mentions - STI2D</th>\n",
       "      <th>Valeur ajoutee du taux de mentions - STD2A</th>\n",
       "      <th>Valeur ajoutee du taux de mentions - STMG</th>\n",
       "      <th>Valeur ajoutee du taux de mentions - STL</th>\n",
       "      <th>Valeur ajoutee du taux de mentions - ST2S</th>\n",
       "      <th>Valeur ajoutee du taux de mentions - TMD</th>\n",
       "      <th>Valeur ajoutee du taux de mentions - STHR</th>\n",
       "    </tr>\n",
       "  </thead>\n",
       "  <tbody>\n",
       "    <tr>\n",
       "      <th>293</th>\n",
       "      <td>LYCEE TURGOT</td>\n",
       "      <td>2019.0</td>\n",
       "      <td>PARIS 03</td>\n",
       "      <td>0750647W</td>\n",
       "      <td>75103</td>\n",
       "      <td>PARIS</td>\n",
       "      <td>Paris</td>\n",
       "      <td>PU</td>\n",
       "      <td>28.0</td>\n",
       "      <td>59.0</td>\n",
       "      <td>69.0</td>\n",
       "      <td>NaN</td>\n",
       "      <td>NaN</td>\n",
       "      <td>NaN</td>\n",
       "      <td>60.0</td>\n",
       "      <td>NaN</td>\n",
       "      <td>NaN</td>\n",
       "      <td>NaN</td>\n",
       "      <td>NaN</td>\n",
       "      <td>NaN</td>\n",
       "      <td>216.0</td>\n",
       "      <td>93.0</td>\n",
       "      <td>97.0</td>\n",
       "      <td>90.0</td>\n",
       "      <td>NaN</td>\n",
       "      <td>NaN</td>\n",
       "      <td>NaN</td>\n",
       "      <td>93.0</td>\n",
       "      <td>NaN</td>\n",
       "      <td>NaN</td>\n",
       "      <td>NaN</td>\n",
       "      <td>NaN</td>\n",
       "      <td>NaN</td>\n",
       "      <td>93.0</td>\n",
       "      <td>NaN</td>\n",
       "      <td>NaN</td>\n",
       "      <td>NaN</td>\n",
       "      <td>NaN</td>\n",
       "      <td>NaN</td>\n",
       "      <td>NaN</td>\n",
       "      <td>NaN</td>\n",
       "      <td>NaN</td>\n",
       "      <td>NaN</td>\n",
       "      <td>NaN</td>\n",
       "      <td>NaN</td>\n",
       "      <td>NaN</td>\n",
       "      <td>NaN</td>\n",
       "      <td>95</td>\n",
       "      <td>91</td>\n",
       "      <td>82</td>\n",
       "      <td>NaN</td>\n",
       "      <td>NaN</td>\n",
       "      <td>NaN</td>\n",
       "      <td>87</td>\n",
       "      <td>NaN</td>\n",
       "      <td>NaN</td>\n",
       "      <td>NaN</td>\n",
       "      <td>NaN</td>\n",
       "      <td>NaN</td>\n",
       "      <td>88</td>\n",
       "      <td>61.0</td>\n",
       "      <td>49.0</td>\n",
       "      <td>30.0</td>\n",
       "      <td>NaN</td>\n",
       "      <td>NaN</td>\n",
       "      <td>65.0</td>\n",
       "      <td>NaN</td>\n",
       "      <td>NaN</td>\n",
       "      <td>NaN</td>\n",
       "      <td>NaN</td>\n",
       "      <td>49.0</td>\n",
       "      <td>60</td>\n",
       "      <td>40</td>\n",
       "      <td>26</td>\n",
       "      <td>NaN</td>\n",
       "      <td>NaN</td>\n",
       "      <td>35</td>\n",
       "      <td>NaN</td>\n",
       "      <td>NaN</td>\n",
       "      <td>NaN</td>\n",
       "      <td>NaN</td>\n",
       "      <td>37</td>\n",
       "      <td>NaN</td>\n",
       "      <td>B</td>\n",
       "      <td>NaN</td>\n",
       "      <td>NaN</td>\n",
       "      <td>NaN</td>\n",
       "      <td>NaN</td>\n",
       "      <td>NaN</td>\n",
       "      <td>NaN</td>\n",
       "      <td>240.0</td>\n",
       "      <td>212.0</td>\n",
       "      <td>230.0</td>\n",
       "      <td>83</td>\n",
       "      <td>NaN</td>\n",
       "      <td>84</td>\n",
       "      <td>87.0</td>\n",
       "      <td>NaN</td>\n",
       "      <td>90</td>\n",
       "      <td>93.0</td>\n",
       "      <td>93</td>\n",
       "      <td>Ile-de-France</td>\n",
       "      <td>11.0</td>\n",
       "      <td>75</td>\n",
       "      <td>Paris</td>\n",
       "      <td>5</td>\n",
       "      <td>-1</td>\n",
       "      <td>12</td>\n",
       "      <td>-2</td>\n",
       "      <td>6</td>\n",
       "      <td>8</td>\n",
       "      <td>NaN</td>\n",
       "      <td>NaN</td>\n",
       "      <td>NaN</td>\n",
       "      <td>6</td>\n",
       "      <td>NaN</td>\n",
       "      <td>NaN</td>\n",
       "      <td>NaN</td>\n",
       "      <td>NaN</td>\n",
       "      <td>NaN</td>\n",
       "      <td>-3</td>\n",
       "      <td>0</td>\n",
       "      <td>1</td>\n",
       "      <td>9</td>\n",
       "      <td>4</td>\n",
       "      <td>NaN</td>\n",
       "      <td>NaN</td>\n",
       "      <td>30</td>\n",
       "      <td>NaN</td>\n",
       "      <td>NaN</td>\n",
       "      <td>NaN</td>\n",
       "      <td>NaN</td>\n",
       "    </tr>\n",
       "    <tr>\n",
       "      <th>294</th>\n",
       "      <td>LYCEE HENRI IV</td>\n",
       "      <td>2019.0</td>\n",
       "      <td>PARIS 05</td>\n",
       "      <td>0750654D</td>\n",
       "      <td>75105</td>\n",
       "      <td>PARIS</td>\n",
       "      <td>Paris</td>\n",
       "      <td>PU</td>\n",
       "      <td>32.0</td>\n",
       "      <td>68.0</td>\n",
       "      <td>191.0</td>\n",
       "      <td>NaN</td>\n",
       "      <td>NaN</td>\n",
       "      <td>NaN</td>\n",
       "      <td>NaN</td>\n",
       "      <td>NaN</td>\n",
       "      <td>NaN</td>\n",
       "      <td>NaN</td>\n",
       "      <td>NaN</td>\n",
       "      <td>NaN</td>\n",
       "      <td>291.0</td>\n",
       "      <td>100.0</td>\n",
       "      <td>100.0</td>\n",
       "      <td>100.0</td>\n",
       "      <td>NaN</td>\n",
       "      <td>NaN</td>\n",
       "      <td>NaN</td>\n",
       "      <td>NaN</td>\n",
       "      <td>NaN</td>\n",
       "      <td>NaN</td>\n",
       "      <td>NaN</td>\n",
       "      <td>NaN</td>\n",
       "      <td>NaN</td>\n",
       "      <td>100.0</td>\n",
       "      <td>NaN</td>\n",
       "      <td>NaN</td>\n",
       "      <td>NaN</td>\n",
       "      <td>NaN</td>\n",
       "      <td>NaN</td>\n",
       "      <td>NaN</td>\n",
       "      <td>NaN</td>\n",
       "      <td>NaN</td>\n",
       "      <td>NaN</td>\n",
       "      <td>NaN</td>\n",
       "      <td>NaN</td>\n",
       "      <td>NaN</td>\n",
       "      <td>NaN</td>\n",
       "      <td>100</td>\n",
       "      <td>99</td>\n",
       "      <td>99</td>\n",
       "      <td>NaN</td>\n",
       "      <td>NaN</td>\n",
       "      <td>NaN</td>\n",
       "      <td>NaN</td>\n",
       "      <td>NaN</td>\n",
       "      <td>NaN</td>\n",
       "      <td>NaN</td>\n",
       "      <td>NaN</td>\n",
       "      <td>NaN</td>\n",
       "      <td>99</td>\n",
       "      <td>100.0</td>\n",
       "      <td>99.0</td>\n",
       "      <td>98.0</td>\n",
       "      <td>NaN</td>\n",
       "      <td>NaN</td>\n",
       "      <td>NaN</td>\n",
       "      <td>NaN</td>\n",
       "      <td>NaN</td>\n",
       "      <td>NaN</td>\n",
       "      <td>NaN</td>\n",
       "      <td>98.0</td>\n",
       "      <td>96</td>\n",
       "      <td>89</td>\n",
       "      <td>92</td>\n",
       "      <td>NaN</td>\n",
       "      <td>NaN</td>\n",
       "      <td>NaN</td>\n",
       "      <td>NaN</td>\n",
       "      <td>NaN</td>\n",
       "      <td>NaN</td>\n",
       "      <td>NaN</td>\n",
       "      <td>92</td>\n",
       "      <td>NaN</td>\n",
       "      <td>A</td>\n",
       "      <td>NaN</td>\n",
       "      <td>NaN</td>\n",
       "      <td>NaN</td>\n",
       "      <td>NaN</td>\n",
       "      <td>NaN</td>\n",
       "      <td>NaN</td>\n",
       "      <td>273.0</td>\n",
       "      <td>290.0</td>\n",
       "      <td>296.0</td>\n",
       "      <td>98</td>\n",
       "      <td>NaN</td>\n",
       "      <td>94</td>\n",
       "      <td>99.0</td>\n",
       "      <td>NaN</td>\n",
       "      <td>98</td>\n",
       "      <td>100.0</td>\n",
       "      <td>100</td>\n",
       "      <td>Ile-de-France</td>\n",
       "      <td>11.0</td>\n",
       "      <td>75</td>\n",
       "      <td>Paris</td>\n",
       "      <td>1</td>\n",
       "      <td>4</td>\n",
       "      <td>6</td>\n",
       "      <td>0</td>\n",
       "      <td>1</td>\n",
       "      <td>1</td>\n",
       "      <td>NaN</td>\n",
       "      <td>NaN</td>\n",
       "      <td>NaN</td>\n",
       "      <td>NaN</td>\n",
       "      <td>NaN</td>\n",
       "      <td>NaN</td>\n",
       "      <td>NaN</td>\n",
       "      <td>NaN</td>\n",
       "      <td>NaN</td>\n",
       "      <td>1</td>\n",
       "      <td>0</td>\n",
       "      <td>4</td>\n",
       "      <td>10</td>\n",
       "      <td>6</td>\n",
       "      <td>NaN</td>\n",
       "      <td>NaN</td>\n",
       "      <td>NaN</td>\n",
       "      <td>NaN</td>\n",
       "      <td>NaN</td>\n",
       "      <td>NaN</td>\n",
       "      <td>NaN</td>\n",
       "    </tr>\n",
       "    <tr>\n",
       "      <th>295</th>\n",
       "      <td>LYCEE LOUIS LE GRAND</td>\n",
       "      <td>2019.0</td>\n",
       "      <td>PARIS 05</td>\n",
       "      <td>0750655E</td>\n",
       "      <td>75105</td>\n",
       "      <td>PARIS</td>\n",
       "      <td>Paris</td>\n",
       "      <td>PU</td>\n",
       "      <td>24.0</td>\n",
       "      <td>NaN</td>\n",
       "      <td>267.0</td>\n",
       "      <td>NaN</td>\n",
       "      <td>27.0</td>\n",
       "      <td>NaN</td>\n",
       "      <td>NaN</td>\n",
       "      <td>NaN</td>\n",
       "      <td>NaN</td>\n",
       "      <td>NaN</td>\n",
       "      <td>NaN</td>\n",
       "      <td>NaN</td>\n",
       "      <td>318.0</td>\n",
       "      <td>100.0</td>\n",
       "      <td>NaN</td>\n",
       "      <td>100.0</td>\n",
       "      <td>NaN</td>\n",
       "      <td>100.0</td>\n",
       "      <td>NaN</td>\n",
       "      <td>NaN</td>\n",
       "      <td>NaN</td>\n",
       "      <td>NaN</td>\n",
       "      <td>NaN</td>\n",
       "      <td>NaN</td>\n",
       "      <td>NaN</td>\n",
       "      <td>100.0</td>\n",
       "      <td>NaN</td>\n",
       "      <td>NaN</td>\n",
       "      <td>NaN</td>\n",
       "      <td>NaN</td>\n",
       "      <td>NaN</td>\n",
       "      <td>NaN</td>\n",
       "      <td>NaN</td>\n",
       "      <td>NaN</td>\n",
       "      <td>NaN</td>\n",
       "      <td>NaN</td>\n",
       "      <td>NaN</td>\n",
       "      <td>NaN</td>\n",
       "      <td>NaN</td>\n",
       "      <td>100</td>\n",
       "      <td>NaN</td>\n",
       "      <td>99</td>\n",
       "      <td>NaN</td>\n",
       "      <td>96</td>\n",
       "      <td>NaN</td>\n",
       "      <td>NaN</td>\n",
       "      <td>NaN</td>\n",
       "      <td>NaN</td>\n",
       "      <td>NaN</td>\n",
       "      <td>NaN</td>\n",
       "      <td>NaN</td>\n",
       "      <td>99</td>\n",
       "      <td>96.0</td>\n",
       "      <td>NaN</td>\n",
       "      <td>97.0</td>\n",
       "      <td>78.0</td>\n",
       "      <td>NaN</td>\n",
       "      <td>NaN</td>\n",
       "      <td>NaN</td>\n",
       "      <td>NaN</td>\n",
       "      <td>NaN</td>\n",
       "      <td>NaN</td>\n",
       "      <td>95.0</td>\n",
       "      <td>95</td>\n",
       "      <td>NaN</td>\n",
       "      <td>93</td>\n",
       "      <td>61</td>\n",
       "      <td>NaN</td>\n",
       "      <td>NaN</td>\n",
       "      <td>NaN</td>\n",
       "      <td>NaN</td>\n",
       "      <td>NaN</td>\n",
       "      <td>NaN</td>\n",
       "      <td>90</td>\n",
       "      <td>NaN</td>\n",
       "      <td>E</td>\n",
       "      <td>NaN</td>\n",
       "      <td>NaN</td>\n",
       "      <td>NaN</td>\n",
       "      <td>NaN</td>\n",
       "      <td>NaN</td>\n",
       "      <td>NaN</td>\n",
       "      <td>258.0</td>\n",
       "      <td>325.0</td>\n",
       "      <td>310.0</td>\n",
       "      <td>98</td>\n",
       "      <td>NaN</td>\n",
       "      <td>92</td>\n",
       "      <td>98.0</td>\n",
       "      <td>NaN</td>\n",
       "      <td>96</td>\n",
       "      <td>99.0</td>\n",
       "      <td>99</td>\n",
       "      <td>Ile-de-France</td>\n",
       "      <td>11.0</td>\n",
       "      <td>75</td>\n",
       "      <td>Paris</td>\n",
       "      <td>1</td>\n",
       "      <td>6</td>\n",
       "      <td>5</td>\n",
       "      <td>0</td>\n",
       "      <td>NaN</td>\n",
       "      <td>1</td>\n",
       "      <td>NaN</td>\n",
       "      <td>4</td>\n",
       "      <td>NaN</td>\n",
       "      <td>NaN</td>\n",
       "      <td>NaN</td>\n",
       "      <td>NaN</td>\n",
       "      <td>NaN</td>\n",
       "      <td>NaN</td>\n",
       "      <td>NaN</td>\n",
       "      <td>2</td>\n",
       "      <td>0</td>\n",
       "      <td>1</td>\n",
       "      <td>NaN</td>\n",
       "      <td>4</td>\n",
       "      <td>17</td>\n",
       "      <td>NaN</td>\n",
       "      <td>NaN</td>\n",
       "      <td>NaN</td>\n",
       "      <td>NaN</td>\n",
       "      <td>NaN</td>\n",
       "      <td>NaN</td>\n",
       "    </tr>\n",
       "    <tr>\n",
       "      <th>296</th>\n",
       "      <td>LYCEE LAVOISIER</td>\n",
       "      <td>2019.0</td>\n",
       "      <td>PARIS 05</td>\n",
       "      <td>0750656F</td>\n",
       "      <td>75105</td>\n",
       "      <td>PARIS</td>\n",
       "      <td>Paris</td>\n",
       "      <td>PU</td>\n",
       "      <td>24.0</td>\n",
       "      <td>34.0</td>\n",
       "      <td>150.0</td>\n",
       "      <td>NaN</td>\n",
       "      <td>NaN</td>\n",
       "      <td>NaN</td>\n",
       "      <td>NaN</td>\n",
       "      <td>NaN</td>\n",
       "      <td>NaN</td>\n",
       "      <td>NaN</td>\n",
       "      <td>NaN</td>\n",
       "      <td>NaN</td>\n",
       "      <td>208.0</td>\n",
       "      <td>96.0</td>\n",
       "      <td>100.0</td>\n",
       "      <td>99.0</td>\n",
       "      <td>NaN</td>\n",
       "      <td>NaN</td>\n",
       "      <td>NaN</td>\n",
       "      <td>NaN</td>\n",
       "      <td>NaN</td>\n",
       "      <td>NaN</td>\n",
       "      <td>NaN</td>\n",
       "      <td>NaN</td>\n",
       "      <td>NaN</td>\n",
       "      <td>99.0</td>\n",
       "      <td>NaN</td>\n",
       "      <td>NaN</td>\n",
       "      <td>NaN</td>\n",
       "      <td>NaN</td>\n",
       "      <td>NaN</td>\n",
       "      <td>NaN</td>\n",
       "      <td>NaN</td>\n",
       "      <td>NaN</td>\n",
       "      <td>NaN</td>\n",
       "      <td>NaN</td>\n",
       "      <td>NaN</td>\n",
       "      <td>NaN</td>\n",
       "      <td>NaN</td>\n",
       "      <td>99</td>\n",
       "      <td>99</td>\n",
       "      <td>98</td>\n",
       "      <td>NaN</td>\n",
       "      <td>NaN</td>\n",
       "      <td>NaN</td>\n",
       "      <td>NaN</td>\n",
       "      <td>NaN</td>\n",
       "      <td>NaN</td>\n",
       "      <td>NaN</td>\n",
       "      <td>NaN</td>\n",
       "      <td>NaN</td>\n",
       "      <td>98</td>\n",
       "      <td>75.0</td>\n",
       "      <td>85.0</td>\n",
       "      <td>90.0</td>\n",
       "      <td>NaN</td>\n",
       "      <td>NaN</td>\n",
       "      <td>NaN</td>\n",
       "      <td>NaN</td>\n",
       "      <td>NaN</td>\n",
       "      <td>NaN</td>\n",
       "      <td>NaN</td>\n",
       "      <td>88.0</td>\n",
       "      <td>84</td>\n",
       "      <td>81</td>\n",
       "      <td>79</td>\n",
       "      <td>NaN</td>\n",
       "      <td>NaN</td>\n",
       "      <td>NaN</td>\n",
       "      <td>NaN</td>\n",
       "      <td>NaN</td>\n",
       "      <td>NaN</td>\n",
       "      <td>NaN</td>\n",
       "      <td>80</td>\n",
       "      <td>NaN</td>\n",
       "      <td>A</td>\n",
       "      <td>NaN</td>\n",
       "      <td>NaN</td>\n",
       "      <td>NaN</td>\n",
       "      <td>NaN</td>\n",
       "      <td>NaN</td>\n",
       "      <td>NaN</td>\n",
       "      <td>176.0</td>\n",
       "      <td>214.0</td>\n",
       "      <td>208.0</td>\n",
       "      <td>98</td>\n",
       "      <td>NaN</td>\n",
       "      <td>92</td>\n",
       "      <td>99.0</td>\n",
       "      <td>NaN</td>\n",
       "      <td>97</td>\n",
       "      <td>99.0</td>\n",
       "      <td>99</td>\n",
       "      <td>Ile-de-France</td>\n",
       "      <td>11.0</td>\n",
       "      <td>75</td>\n",
       "      <td>Paris</td>\n",
       "      <td>1</td>\n",
       "      <td>6</td>\n",
       "      <td>8</td>\n",
       "      <td>-3</td>\n",
       "      <td>1</td>\n",
       "      <td>1</td>\n",
       "      <td>NaN</td>\n",
       "      <td>NaN</td>\n",
       "      <td>NaN</td>\n",
       "      <td>NaN</td>\n",
       "      <td>NaN</td>\n",
       "      <td>NaN</td>\n",
       "      <td>NaN</td>\n",
       "      <td>NaN</td>\n",
       "      <td>NaN</td>\n",
       "      <td>2</td>\n",
       "      <td>0</td>\n",
       "      <td>-9</td>\n",
       "      <td>4</td>\n",
       "      <td>11</td>\n",
       "      <td>NaN</td>\n",
       "      <td>NaN</td>\n",
       "      <td>NaN</td>\n",
       "      <td>NaN</td>\n",
       "      <td>NaN</td>\n",
       "      <td>NaN</td>\n",
       "      <td>NaN</td>\n",
       "    </tr>\n",
       "    <tr>\n",
       "      <th>297</th>\n",
       "      <td>LYCEE MONTAIGNE</td>\n",
       "      <td>2019.0</td>\n",
       "      <td>PARIS 06</td>\n",
       "      <td>0750657G</td>\n",
       "      <td>75106</td>\n",
       "      <td>PARIS</td>\n",
       "      <td>Paris</td>\n",
       "      <td>PU</td>\n",
       "      <td>34.0</td>\n",
       "      <td>123.0</td>\n",
       "      <td>148.0</td>\n",
       "      <td>NaN</td>\n",
       "      <td>NaN</td>\n",
       "      <td>NaN</td>\n",
       "      <td>NaN</td>\n",
       "      <td>NaN</td>\n",
       "      <td>NaN</td>\n",
       "      <td>NaN</td>\n",
       "      <td>NaN</td>\n",
       "      <td>NaN</td>\n",
       "      <td>305.0</td>\n",
       "      <td>94.0</td>\n",
       "      <td>96.0</td>\n",
       "      <td>95.0</td>\n",
       "      <td>NaN</td>\n",
       "      <td>NaN</td>\n",
       "      <td>NaN</td>\n",
       "      <td>NaN</td>\n",
       "      <td>NaN</td>\n",
       "      <td>NaN</td>\n",
       "      <td>NaN</td>\n",
       "      <td>NaN</td>\n",
       "      <td>NaN</td>\n",
       "      <td>95.0</td>\n",
       "      <td>NaN</td>\n",
       "      <td>NaN</td>\n",
       "      <td>NaN</td>\n",
       "      <td>NaN</td>\n",
       "      <td>NaN</td>\n",
       "      <td>NaN</td>\n",
       "      <td>NaN</td>\n",
       "      <td>NaN</td>\n",
       "      <td>NaN</td>\n",
       "      <td>NaN</td>\n",
       "      <td>NaN</td>\n",
       "      <td>NaN</td>\n",
       "      <td>NaN</td>\n",
       "      <td>96</td>\n",
       "      <td>95</td>\n",
       "      <td>95</td>\n",
       "      <td>NaN</td>\n",
       "      <td>NaN</td>\n",
       "      <td>NaN</td>\n",
       "      <td>NaN</td>\n",
       "      <td>NaN</td>\n",
       "      <td>NaN</td>\n",
       "      <td>NaN</td>\n",
       "      <td>NaN</td>\n",
       "      <td>NaN</td>\n",
       "      <td>95</td>\n",
       "      <td>47.0</td>\n",
       "      <td>64.0</td>\n",
       "      <td>61.0</td>\n",
       "      <td>NaN</td>\n",
       "      <td>NaN</td>\n",
       "      <td>NaN</td>\n",
       "      <td>NaN</td>\n",
       "      <td>NaN</td>\n",
       "      <td>NaN</td>\n",
       "      <td>NaN</td>\n",
       "      <td>61.0</td>\n",
       "      <td>65</td>\n",
       "      <td>54</td>\n",
       "      <td>53</td>\n",
       "      <td>NaN</td>\n",
       "      <td>NaN</td>\n",
       "      <td>NaN</td>\n",
       "      <td>NaN</td>\n",
       "      <td>NaN</td>\n",
       "      <td>NaN</td>\n",
       "      <td>NaN</td>\n",
       "      <td>55</td>\n",
       "      <td>NaN</td>\n",
       "      <td>A</td>\n",
       "      <td>NaN</td>\n",
       "      <td>NaN</td>\n",
       "      <td>NaN</td>\n",
       "      <td>NaN</td>\n",
       "      <td>NaN</td>\n",
       "      <td>NaN</td>\n",
       "      <td>353.0</td>\n",
       "      <td>329.0</td>\n",
       "      <td>319.0</td>\n",
       "      <td>93</td>\n",
       "      <td>NaN</td>\n",
       "      <td>87</td>\n",
       "      <td>95.0</td>\n",
       "      <td>NaN</td>\n",
       "      <td>94</td>\n",
       "      <td>96.0</td>\n",
       "      <td>97</td>\n",
       "      <td>Ile-de-France</td>\n",
       "      <td>11.0</td>\n",
       "      <td>75</td>\n",
       "      <td>Paris</td>\n",
       "      <td>0</td>\n",
       "      <td>6</td>\n",
       "      <td>6</td>\n",
       "      <td>-2</td>\n",
       "      <td>1</td>\n",
       "      <td>0</td>\n",
       "      <td>NaN</td>\n",
       "      <td>NaN</td>\n",
       "      <td>NaN</td>\n",
       "      <td>NaN</td>\n",
       "      <td>NaN</td>\n",
       "      <td>NaN</td>\n",
       "      <td>NaN</td>\n",
       "      <td>NaN</td>\n",
       "      <td>NaN</td>\n",
       "      <td>1</td>\n",
       "      <td>-1</td>\n",
       "      <td>-18</td>\n",
       "      <td>10</td>\n",
       "      <td>8</td>\n",
       "      <td>NaN</td>\n",
       "      <td>NaN</td>\n",
       "      <td>NaN</td>\n",
       "      <td>NaN</td>\n",
       "      <td>NaN</td>\n",
       "      <td>NaN</td>\n",
       "      <td>NaN</td>\n",
       "    </tr>\n",
       "  </tbody>\n",
       "</table>\n",
       "</div>"
      ],
      "text/plain": [
       "            Etablissement   Annee     Ville       UAI Code commune Academie  \\\n",
       "293          LYCEE TURGOT  2019.0  PARIS 03  0750647W        75103    PARIS   \n",
       "294        LYCEE HENRI IV  2019.0  PARIS 05  0750654D        75105    PARIS   \n",
       "295  LYCEE LOUIS LE GRAND  2019.0  PARIS 05  0750655E        75105    PARIS   \n",
       "296       LYCEE LAVOISIER  2019.0  PARIS 05  0750656F        75105    PARIS   \n",
       "297       LYCEE MONTAIGNE  2019.0  PARIS 06  0750657G        75106    PARIS   \n",
       "\n",
       "    Departement Secteur  Presents - L  Presents - ES  Presents - S  \\\n",
       "293       Paris      PU          28.0           59.0          69.0   \n",
       "294       Paris      PU          32.0           68.0         191.0   \n",
       "295       Paris      PU          24.0            NaN         267.0   \n",
       "296       Paris      PU          24.0           34.0         150.0   \n",
       "297       Paris      PU          34.0          123.0         148.0   \n",
       "\n",
       "     Presents - STG  Presents - STI2D  Presents - STD2A  Presents - STMG  \\\n",
       "293             NaN               NaN               NaN             60.0   \n",
       "294             NaN               NaN               NaN              NaN   \n",
       "295             NaN              27.0               NaN              NaN   \n",
       "296             NaN               NaN               NaN              NaN   \n",
       "297             NaN               NaN               NaN              NaN   \n",
       "\n",
       "     Presents - STI  Presents - STL  Presents - ST2S  Presents - TMD  \\\n",
       "293             NaN             NaN              NaN             NaN   \n",
       "294             NaN             NaN              NaN             NaN   \n",
       "295             NaN             NaN              NaN             NaN   \n",
       "296             NaN             NaN              NaN             NaN   \n",
       "297             NaN             NaN              NaN             NaN   \n",
       "\n",
       "     Presents - STHR  Presents - Toutes series  Taux de reussite - L  \\\n",
       "293              NaN                     216.0                  93.0   \n",
       "294              NaN                     291.0                 100.0   \n",
       "295              NaN                     318.0                 100.0   \n",
       "296              NaN                     208.0                  96.0   \n",
       "297              NaN                     305.0                  94.0   \n",
       "\n",
       "     Taux de reussite - ES  Taux de reussite - S  Taux de reussite - STG  \\\n",
       "293                   97.0                  90.0                     NaN   \n",
       "294                  100.0                 100.0                     NaN   \n",
       "295                    NaN                 100.0                     NaN   \n",
       "296                  100.0                  99.0                     NaN   \n",
       "297                   96.0                  95.0                     NaN   \n",
       "\n",
       "     Taux de reussite - STI2D  Taux de reussite - STD2A  \\\n",
       "293                       NaN                       NaN   \n",
       "294                       NaN                       NaN   \n",
       "295                     100.0                       NaN   \n",
       "296                       NaN                       NaN   \n",
       "297                       NaN                       NaN   \n",
       "\n",
       "     Taux de reussite - STMG  Taux de reussite - STI  Taux de reussite - STL  \\\n",
       "293                     93.0                     NaN                     NaN   \n",
       "294                      NaN                     NaN                     NaN   \n",
       "295                      NaN                     NaN                     NaN   \n",
       "296                      NaN                     NaN                     NaN   \n",
       "297                      NaN                     NaN                     NaN   \n",
       "\n",
       "     Taux de reussite - ST2S  Taux de reussite - TMD  Taux de reussite - STHR  \\\n",
       "293                      NaN                     NaN                      NaN   \n",
       "294                      NaN                     NaN                      NaN   \n",
       "295                      NaN                     NaN                      NaN   \n",
       "296                      NaN                     NaN                      NaN   \n",
       "297                      NaN                     NaN                      NaN   \n",
       "\n",
       "     Taux de reussite - Toutes series  Taux de reussite attendu acad - L  \\\n",
       "293                              93.0                                NaN   \n",
       "294                             100.0                                NaN   \n",
       "295                             100.0                                NaN   \n",
       "296                              99.0                                NaN   \n",
       "297                              95.0                                NaN   \n",
       "\n",
       "     Taux de reussite attendu acad - ES  Taux de reussite attendu acad - S  \\\n",
       "293                                 NaN                                NaN   \n",
       "294                                 NaN                                NaN   \n",
       "295                                 NaN                                NaN   \n",
       "296                                 NaN                                NaN   \n",
       "297                                 NaN                                NaN   \n",
       "\n",
       "     Taux de reussite attendu acad - STG  \\\n",
       "293                                  NaN   \n",
       "294                                  NaN   \n",
       "295                                  NaN   \n",
       "296                                  NaN   \n",
       "297                                  NaN   \n",
       "\n",
       "     Taux de reussite attendu acad - STI2D  \\\n",
       "293                                    NaN   \n",
       "294                                    NaN   \n",
       "295                                    NaN   \n",
       "296                                    NaN   \n",
       "297                                    NaN   \n",
       "\n",
       "     Taux de reussite attendu acad - STD2A  \\\n",
       "293                                    NaN   \n",
       "294                                    NaN   \n",
       "295                                    NaN   \n",
       "296                                    NaN   \n",
       "297                                    NaN   \n",
       "\n",
       "     Taux de reussite attendu acad - STMG  \\\n",
       "293                                   NaN   \n",
       "294                                   NaN   \n",
       "295                                   NaN   \n",
       "296                                   NaN   \n",
       "297                                   NaN   \n",
       "\n",
       "     Taux de reussite attendu acad - STI  Taux de reussite attendu acad - STL  \\\n",
       "293                                  NaN                                  NaN   \n",
       "294                                  NaN                                  NaN   \n",
       "295                                  NaN                                  NaN   \n",
       "296                                  NaN                                  NaN   \n",
       "297                                  NaN                                  NaN   \n",
       "\n",
       "     Taux de reussite attendu acad - ST2S  \\\n",
       "293                                   NaN   \n",
       "294                                   NaN   \n",
       "295                                   NaN   \n",
       "296                                   NaN   \n",
       "297                                   NaN   \n",
       "\n",
       "     Taux de reussite attendu acad - TMD  \\\n",
       "293                                  NaN   \n",
       "294                                  NaN   \n",
       "295                                  NaN   \n",
       "296                                  NaN   \n",
       "297                                  NaN   \n",
       "\n",
       "     Taux de reussite attendu acad - STHR  \\\n",
       "293                                   NaN   \n",
       "294                                   NaN   \n",
       "295                                   NaN   \n",
       "296                                   NaN   \n",
       "297                                   NaN   \n",
       "\n",
       "     Taux de reussite attendu acad - Toutes series  \\\n",
       "293                                            NaN   \n",
       "294                                            NaN   \n",
       "295                                            NaN   \n",
       "296                                            NaN   \n",
       "297                                            NaN   \n",
       "\n",
       "    Taux de reussite attendu france - L Taux de reussite attendu france - ES  \\\n",
       "293                                  95                                   91   \n",
       "294                                 100                                   99   \n",
       "295                                 100                                  NaN   \n",
       "296                                  99                                   99   \n",
       "297                                  96                                   95   \n",
       "\n",
       "    Taux de reussite attendu france - S  \\\n",
       "293                                  82   \n",
       "294                                  99   \n",
       "295                                  99   \n",
       "296                                  98   \n",
       "297                                  95   \n",
       "\n",
       "     Taux de reussite attendu france - STG  \\\n",
       "293                                    NaN   \n",
       "294                                    NaN   \n",
       "295                                    NaN   \n",
       "296                                    NaN   \n",
       "297                                    NaN   \n",
       "\n",
       "    Taux de reussite attendu france - STI2D  \\\n",
       "293                                     NaN   \n",
       "294                                     NaN   \n",
       "295                                      96   \n",
       "296                                     NaN   \n",
       "297                                     NaN   \n",
       "\n",
       "    Taux de reussite attendu france - STD2A  \\\n",
       "293                                     NaN   \n",
       "294                                     NaN   \n",
       "295                                     NaN   \n",
       "296                                     NaN   \n",
       "297                                     NaN   \n",
       "\n",
       "    Taux de reussite attendu france - STMG  \\\n",
       "293                                     87   \n",
       "294                                    NaN   \n",
       "295                                    NaN   \n",
       "296                                    NaN   \n",
       "297                                    NaN   \n",
       "\n",
       "     Taux de reussite attendu france - STI  \\\n",
       "293                                    NaN   \n",
       "294                                    NaN   \n",
       "295                                    NaN   \n",
       "296                                    NaN   \n",
       "297                                    NaN   \n",
       "\n",
       "    Taux de reussite attendu france - STL  \\\n",
       "293                                   NaN   \n",
       "294                                   NaN   \n",
       "295                                   NaN   \n",
       "296                                   NaN   \n",
       "297                                   NaN   \n",
       "\n",
       "    Taux de reussite attendu france - ST2S  \\\n",
       "293                                    NaN   \n",
       "294                                    NaN   \n",
       "295                                    NaN   \n",
       "296                                    NaN   \n",
       "297                                    NaN   \n",
       "\n",
       "    Taux de reussite attendu france - TMD  \\\n",
       "293                                   NaN   \n",
       "294                                   NaN   \n",
       "295                                   NaN   \n",
       "296                                   NaN   \n",
       "297                                   NaN   \n",
       "\n",
       "    Taux de reussite attendu france - STHR  \\\n",
       "293                                    NaN   \n",
       "294                                    NaN   \n",
       "295                                    NaN   \n",
       "296                                    NaN   \n",
       "297                                    NaN   \n",
       "\n",
       "    Taux de reussite attendu france - Toutes series  Taux de mentions - L  \\\n",
       "293                                              88                  61.0   \n",
       "294                                              99                 100.0   \n",
       "295                                              99                  96.0   \n",
       "296                                              98                  75.0   \n",
       "297                                              95                  47.0   \n",
       "\n",
       "     Taux de mentions - ES  Taux de mentions - S  Taux de mentions - STI2D  \\\n",
       "293                   49.0                  30.0                       NaN   \n",
       "294                   99.0                  98.0                       NaN   \n",
       "295                    NaN                  97.0                      78.0   \n",
       "296                   85.0                  90.0                       NaN   \n",
       "297                   64.0                  61.0                       NaN   \n",
       "\n",
       "     Taux de mentions - STD2A  Taux de mentions - STMG  \\\n",
       "293                       NaN                     65.0   \n",
       "294                       NaN                      NaN   \n",
       "295                       NaN                      NaN   \n",
       "296                       NaN                      NaN   \n",
       "297                       NaN                      NaN   \n",
       "\n",
       "     Taux de mentions - STL  Taux de mentions - ST2S  Taux de mentions - TMD  \\\n",
       "293                     NaN                      NaN                     NaN   \n",
       "294                     NaN                      NaN                     NaN   \n",
       "295                     NaN                      NaN                     NaN   \n",
       "296                     NaN                      NaN                     NaN   \n",
       "297                     NaN                      NaN                     NaN   \n",
       "\n",
       "     Taux de mentions - STHR  Taux de mentions - Toutes series  \\\n",
       "293                      NaN                              49.0   \n",
       "294                      NaN                              98.0   \n",
       "295                      NaN                              95.0   \n",
       "296                      NaN                              88.0   \n",
       "297                      NaN                              61.0   \n",
       "\n",
       "    Taux de mentions attendu - L Taux de mentions attendu - ES  \\\n",
       "293                           60                            40   \n",
       "294                           96                            89   \n",
       "295                           95                           NaN   \n",
       "296                           84                            81   \n",
       "297                           65                            54   \n",
       "\n",
       "    Taux de mentions attendu - S Taux de mentions attendu - STI2D  \\\n",
       "293                           26                              NaN   \n",
       "294                           92                              NaN   \n",
       "295                           93                               61   \n",
       "296                           79                              NaN   \n",
       "297                           53                              NaN   \n",
       "\n",
       "    Taux de mentions attendu - STD2A Taux de mentions attendu - STMG  \\\n",
       "293                              NaN                              35   \n",
       "294                              NaN                             NaN   \n",
       "295                              NaN                             NaN   \n",
       "296                              NaN                             NaN   \n",
       "297                              NaN                             NaN   \n",
       "\n",
       "    Taux de mentions attendu - STL Taux de mentions attendu - ST2S  \\\n",
       "293                            NaN                             NaN   \n",
       "294                            NaN                             NaN   \n",
       "295                            NaN                             NaN   \n",
       "296                            NaN                             NaN   \n",
       "297                            NaN                             NaN   \n",
       "\n",
       "    Taux de mentions attendu - TMD Taux de mentions attendu - STHR  \\\n",
       "293                            NaN                             NaN   \n",
       "294                            NaN                             NaN   \n",
       "295                            NaN                             NaN   \n",
       "296                            NaN                             NaN   \n",
       "297                            NaN                             NaN   \n",
       "\n",
       "    Taux de mentions attendu - Toutes series  Structure pedagogique 5 groupes  \\\n",
       "293                                       37                              NaN   \n",
       "294                                       92                              NaN   \n",
       "295                                       90                              NaN   \n",
       "296                                       80                              NaN   \n",
       "297                                       55                              NaN   \n",
       "\n",
       "    Structure pedagogique 7 groupes  \\\n",
       "293                               B   \n",
       "294                               A   \n",
       "295                               E   \n",
       "296                               A   \n",
       "297                               A   \n",
       "\n",
       "     Pourcentage bacheliers sortants 2de 1re Terminale Etablissement  \\\n",
       "293                                                NaN                 \n",
       "294                                                NaN                 \n",
       "295                                                NaN                 \n",
       "296                                                NaN                 \n",
       "297                                                NaN                 \n",
       "\n",
       "     Pourcentage bacheliers sortants Terminales Etablissement  \\\n",
       "293                                                NaN          \n",
       "294                                                NaN          \n",
       "295                                                NaN          \n",
       "296                                                NaN          \n",
       "297                                                NaN          \n",
       "\n",
       "     Pourcentage bacheliers sortants 2de 1re Terminale Acad  \\\n",
       "293                                                NaN        \n",
       "294                                                NaN        \n",
       "295                                                NaN        \n",
       "296                                                NaN        \n",
       "297                                                NaN        \n",
       "\n",
       "     Pourcentage bacheliers sortants Terminale Acad  \\\n",
       "293                                             NaN   \n",
       "294                                             NaN   \n",
       "295                                             NaN   \n",
       "296                                             NaN   \n",
       "297                                             NaN   \n",
       "\n",
       "     Pourcentage bacheliers sortants 2de 1re Terminale France  \\\n",
       "293                                                NaN          \n",
       "294                                                NaN          \n",
       "295                                                NaN          \n",
       "296                                                NaN          \n",
       "297                                                NaN          \n",
       "\n",
       "     Pourcentage bacheliers sortants Terminale France  Effectif de seconde  \\\n",
       "293                                               NaN                240.0   \n",
       "294                                               NaN                273.0   \n",
       "295                                               NaN                258.0   \n",
       "296                                               NaN                176.0   \n",
       "297                                               NaN                353.0   \n",
       "\n",
       "     Effectif de premiere  Effectif de terminale Taux d'acces 2nde-bac  \\\n",
       "293                 212.0                  230.0                    83   \n",
       "294                 290.0                  296.0                    98   \n",
       "295                 325.0                  310.0                    98   \n",
       "296                 214.0                  208.0                    98   \n",
       "297                 329.0                  319.0                    93   \n",
       "\n",
       "     Taux d'acces attendu acad 2nde-bac Taux d'acces attendu france 2nde-bac  \\\n",
       "293                                 NaN                                   84   \n",
       "294                                 NaN                                   94   \n",
       "295                                 NaN                                   92   \n",
       "296                                 NaN                                   92   \n",
       "297                                 NaN                                   87   \n",
       "\n",
       "     Taux d'acces 1ere-bac  Taux d'acces attendu acad 1ere-bac  \\\n",
       "293                   87.0                                 NaN   \n",
       "294                   99.0                                 NaN   \n",
       "295                   98.0                                 NaN   \n",
       "296                   99.0                                 NaN   \n",
       "297                   95.0                                 NaN   \n",
       "\n",
       "    Taux d'acces attendu france 1ere-bac  Taux d'acces terminale-bac  \\\n",
       "293                                   90                        93.0   \n",
       "294                                   98                       100.0   \n",
       "295                                   96                        99.0   \n",
       "296                                   97                        99.0   \n",
       "297                                   94                        96.0   \n",
       "\n",
       "    Taux d'acces attendu france terminale-bac         Region  Code region  \\\n",
       "293                                        93  Ile-de-France         11.0   \n",
       "294                                       100  Ile-de-France         11.0   \n",
       "295                                        99  Ile-de-France         11.0   \n",
       "296                                        99  Ile-de-France         11.0   \n",
       "297                                        97  Ile-de-France         11.0   \n",
       "\n",
       "    code_departement Departement.1  \\\n",
       "293               75         Paris   \n",
       "294               75         Paris   \n",
       "295               75         Paris   \n",
       "296               75         Paris   \n",
       "297               75         Paris   \n",
       "\n",
       "    Valeur ajoutee du taux de reussite - Toutes series  \\\n",
       "293                                                  5   \n",
       "294                                                  1   \n",
       "295                                                  1   \n",
       "296                                                  1   \n",
       "297                                                  0   \n",
       "\n",
       "    Valeur ajoutee du taux d'acces 2nde-bac  \\\n",
       "293                                      -1   \n",
       "294                                       4   \n",
       "295                                       6   \n",
       "296                                       6   \n",
       "297                                       6   \n",
       "\n",
       "    Valeur ajoutee du taux de mentions - Toutes series  \\\n",
       "293                                                 12   \n",
       "294                                                  6   \n",
       "295                                                  5   \n",
       "296                                                  8   \n",
       "297                                                  6   \n",
       "\n",
       "    Valeur ajoutee du taux de reussite - L  \\\n",
       "293                                     -2   \n",
       "294                                      0   \n",
       "295                                      0   \n",
       "296                                     -3   \n",
       "297                                     -2   \n",
       "\n",
       "    Valeur ajoutee du taux de reussite - ES  \\\n",
       "293                                       6   \n",
       "294                                       1   \n",
       "295                                     NaN   \n",
       "296                                       1   \n",
       "297                                       1   \n",
       "\n",
       "    Valeur ajoutee du taux de reussite - S  \\\n",
       "293                                      8   \n",
       "294                                      1   \n",
       "295                                      1   \n",
       "296                                      1   \n",
       "297                                      0   \n",
       "\n",
       "    Valeur ajoutee du taux de reussite - STG  \\\n",
       "293                                      NaN   \n",
       "294                                      NaN   \n",
       "295                                      NaN   \n",
       "296                                      NaN   \n",
       "297                                      NaN   \n",
       "\n",
       "    Valeur ajoutee du taux de reussite - STI2D  \\\n",
       "293                                        NaN   \n",
       "294                                        NaN   \n",
       "295                                          4   \n",
       "296                                        NaN   \n",
       "297                                        NaN   \n",
       "\n",
       "    Valeur ajoutee du taux de reussite - STD2A  \\\n",
       "293                                        NaN   \n",
       "294                                        NaN   \n",
       "295                                        NaN   \n",
       "296                                        NaN   \n",
       "297                                        NaN   \n",
       "\n",
       "    Valeur ajoutee du taux de reussite - STMG  \\\n",
       "293                                         6   \n",
       "294                                       NaN   \n",
       "295                                       NaN   \n",
       "296                                       NaN   \n",
       "297                                       NaN   \n",
       "\n",
       "    Valeur ajoutee du taux de reussite - STI  \\\n",
       "293                                      NaN   \n",
       "294                                      NaN   \n",
       "295                                      NaN   \n",
       "296                                      NaN   \n",
       "297                                      NaN   \n",
       "\n",
       "    Valeur ajoutee du taux de reussite - STL  \\\n",
       "293                                      NaN   \n",
       "294                                      NaN   \n",
       "295                                      NaN   \n",
       "296                                      NaN   \n",
       "297                                      NaN   \n",
       "\n",
       "    Valeur ajoutee du taux de reussite - ST2S  \\\n",
       "293                                       NaN   \n",
       "294                                       NaN   \n",
       "295                                       NaN   \n",
       "296                                       NaN   \n",
       "297                                       NaN   \n",
       "\n",
       "    Valeur ajoutee du taux de reussite - TMD  \\\n",
       "293                                      NaN   \n",
       "294                                      NaN   \n",
       "295                                      NaN   \n",
       "296                                      NaN   \n",
       "297                                      NaN   \n",
       "\n",
       "    Valeur ajoutee du taux de reussite - STHR  \\\n",
       "293                                       NaN   \n",
       "294                                       NaN   \n",
       "295                                       NaN   \n",
       "296                                       NaN   \n",
       "297                                       NaN   \n",
       "\n",
       "    Valeur ajoutee du taux d'acces 1ere-bac  \\\n",
       "293                                      -3   \n",
       "294                                       1   \n",
       "295                                       2   \n",
       "296                                       2   \n",
       "297                                       1   \n",
       "\n",
       "    Valeur ajoutee du taux d'acces terminale-bac  \\\n",
       "293                                            0   \n",
       "294                                            0   \n",
       "295                                            0   \n",
       "296                                            0   \n",
       "297                                           -1   \n",
       "\n",
       "    Valeur ajoutee du taux de mentions - L  \\\n",
       "293                                      1   \n",
       "294                                      4   \n",
       "295                                      1   \n",
       "296                                     -9   \n",
       "297                                    -18   \n",
       "\n",
       "    Valeur ajoutee du taux de mentions - ES  \\\n",
       "293                                       9   \n",
       "294                                      10   \n",
       "295                                     NaN   \n",
       "296                                       4   \n",
       "297                                      10   \n",
       "\n",
       "    Valeur ajoutee du taux de mentions - S  \\\n",
       "293                                      4   \n",
       "294                                      6   \n",
       "295                                      4   \n",
       "296                                     11   \n",
       "297                                      8   \n",
       "\n",
       "    Valeur ajoutee du taux de mentions - STI2D  \\\n",
       "293                                        NaN   \n",
       "294                                        NaN   \n",
       "295                                         17   \n",
       "296                                        NaN   \n",
       "297                                        NaN   \n",
       "\n",
       "    Valeur ajoutee du taux de mentions - STD2A  \\\n",
       "293                                        NaN   \n",
       "294                                        NaN   \n",
       "295                                        NaN   \n",
       "296                                        NaN   \n",
       "297                                        NaN   \n",
       "\n",
       "    Valeur ajoutee du taux de mentions - STMG  \\\n",
       "293                                        30   \n",
       "294                                       NaN   \n",
       "295                                       NaN   \n",
       "296                                       NaN   \n",
       "297                                       NaN   \n",
       "\n",
       "    Valeur ajoutee du taux de mentions - STL  \\\n",
       "293                                      NaN   \n",
       "294                                      NaN   \n",
       "295                                      NaN   \n",
       "296                                      NaN   \n",
       "297                                      NaN   \n",
       "\n",
       "    Valeur ajoutee du taux de mentions - ST2S  \\\n",
       "293                                       NaN   \n",
       "294                                       NaN   \n",
       "295                                       NaN   \n",
       "296                                       NaN   \n",
       "297                                       NaN   \n",
       "\n",
       "    Valeur ajoutee du taux de mentions - TMD  \\\n",
       "293                                      NaN   \n",
       "294                                      NaN   \n",
       "295                                      NaN   \n",
       "296                                      NaN   \n",
       "297                                      NaN   \n",
       "\n",
       "    Valeur ajoutee du taux de mentions - STHR  \n",
       "293                                       NaN  \n",
       "294                                       NaN  \n",
       "295                                       NaN  \n",
       "296                                       NaN  \n",
       "297                                       NaN  "
      ]
     },
     "execution_count": 16,
     "metadata": {},
     "output_type": "execute_result"
    }
   ],
   "source": [
    "df1=df.loc[df['Academie'] == 'PARIS']\n",
    "df1.head(5)"
   ]
  },
  {
   "cell_type": "code",
   "execution_count": 17,
   "id": "0633b106",
   "metadata": {},
   "outputs": [],
   "source": [
    "# BAC général\n",
    "df2 = df1[['Etablissement','Annee','Ville','Academie','Taux de reussite - L','Taux de reussite - ES','Taux de reussite - S']]"
   ]
  },
  {
   "cell_type": "code",
   "execution_count": 18,
   "id": "7fb47fd3",
   "metadata": {},
   "outputs": [],
   "source": [
    "# check the missing value\n",
    "val_manq = df2.isna().sum()"
   ]
  },
  {
   "cell_type": "code",
   "execution_count": 19,
   "id": "b299fe47",
   "metadata": {},
   "outputs": [
    {
     "data": {
      "text/plain": [
       "Etablissement              0\n",
       "Annee                      0\n",
       "Ville                      0\n",
       "Academie                   0\n",
       "Taux de reussite - L     317\n",
       "Taux de reussite - ES    177\n",
       "Taux de reussite - S     158\n",
       "dtype: int64"
      ]
     },
     "execution_count": 19,
     "metadata": {},
     "output_type": "execute_result"
    }
   ],
   "source": [
    "val_manq"
   ]
  },
  {
   "cell_type": "code",
   "execution_count": 20,
   "id": "e79dedcb",
   "metadata": {},
   "outputs": [
    {
     "data": {
      "text/html": [
       "<div>\n",
       "<style scoped>\n",
       "    .dataframe tbody tr th:only-of-type {\n",
       "        vertical-align: middle;\n",
       "    }\n",
       "\n",
       "    .dataframe tbody tr th {\n",
       "        vertical-align: top;\n",
       "    }\n",
       "\n",
       "    .dataframe thead th {\n",
       "        text-align: right;\n",
       "    }\n",
       "</style>\n",
       "<table border=\"1\" class=\"dataframe\">\n",
       "  <thead>\n",
       "    <tr style=\"text-align: right;\">\n",
       "      <th></th>\n",
       "      <th>avg_tx_réussite_L</th>\n",
       "    </tr>\n",
       "    <tr>\n",
       "      <th>Ville</th>\n",
       "      <th></th>\n",
       "    </tr>\n",
       "  </thead>\n",
       "  <tbody>\n",
       "    <tr>\n",
       "      <th>PARIS</th>\n",
       "      <td>93.000000</td>\n",
       "    </tr>\n",
       "    <tr>\n",
       "      <th>PARIS 03</th>\n",
       "      <td>94.346154</td>\n",
       "    </tr>\n",
       "    <tr>\n",
       "      <th>PARIS 04</th>\n",
       "      <td>99.250000</td>\n",
       "    </tr>\n",
       "    <tr>\n",
       "      <th>PARIS 05</th>\n",
       "      <td>99.266667</td>\n",
       "    </tr>\n",
       "    <tr>\n",
       "      <th>PARIS 06</th>\n",
       "      <td>98.000000</td>\n",
       "    </tr>\n",
       "    <tr>\n",
       "      <th>PARIS 07</th>\n",
       "      <td>96.500000</td>\n",
       "    </tr>\n",
       "    <tr>\n",
       "      <th>PARIS 08</th>\n",
       "      <td>98.888889</td>\n",
       "    </tr>\n",
       "    <tr>\n",
       "      <th>PARIS 09</th>\n",
       "      <td>90.543478</td>\n",
       "    </tr>\n",
       "    <tr>\n",
       "      <th>PARIS 10</th>\n",
       "      <td>96.083333</td>\n",
       "    </tr>\n",
       "    <tr>\n",
       "      <th>PARIS 11</th>\n",
       "      <td>93.384615</td>\n",
       "    </tr>\n",
       "    <tr>\n",
       "      <th>PARIS 12</th>\n",
       "      <td>95.000000</td>\n",
       "    </tr>\n",
       "    <tr>\n",
       "      <th>PARIS 13</th>\n",
       "      <td>93.250000</td>\n",
       "    </tr>\n",
       "    <tr>\n",
       "      <th>PARIS 14</th>\n",
       "      <td>80.555556</td>\n",
       "    </tr>\n",
       "    <tr>\n",
       "      <th>PARIS 15</th>\n",
       "      <td>90.720000</td>\n",
       "    </tr>\n",
       "    <tr>\n",
       "      <th>PARIS 16</th>\n",
       "      <td>96.933333</td>\n",
       "    </tr>\n",
       "    <tr>\n",
       "      <th>PARIS 17</th>\n",
       "      <td>98.250000</td>\n",
       "    </tr>\n",
       "    <tr>\n",
       "      <th>PARIS 18</th>\n",
       "      <td>87.588235</td>\n",
       "    </tr>\n",
       "    <tr>\n",
       "      <th>PARIS 19</th>\n",
       "      <td>91.869565</td>\n",
       "    </tr>\n",
       "    <tr>\n",
       "      <th>PARIS 20</th>\n",
       "      <td>96.086957</td>\n",
       "    </tr>\n",
       "  </tbody>\n",
       "</table>\n",
       "</div>"
      ],
      "text/plain": [
       "          avg_tx_réussite_L\n",
       "Ville                      \n",
       "PARIS             93.000000\n",
       "PARIS 03          94.346154\n",
       "PARIS 04          99.250000\n",
       "PARIS 05          99.266667\n",
       "PARIS 06          98.000000\n",
       "PARIS 07          96.500000\n",
       "PARIS 08          98.888889\n",
       "PARIS 09          90.543478\n",
       "PARIS 10          96.083333\n",
       "PARIS 11          93.384615\n",
       "PARIS 12          95.000000\n",
       "PARIS 13          93.250000\n",
       "PARIS 14          80.555556\n",
       "PARIS 15          90.720000\n",
       "PARIS 16          96.933333\n",
       "PARIS 17          98.250000\n",
       "PARIS 18          87.588235\n",
       "PARIS 19          91.869565\n",
       "PARIS 20          96.086957"
      ]
     },
     "execution_count": 20,
     "metadata": {},
     "output_type": "execute_result"
    }
   ],
   "source": [
    "df2.groupby('Ville')['Taux de reussite - L'].agg([('avg_tx_réussite_L',np.mean)]) "
   ]
  },
  {
   "cell_type": "code",
   "execution_count": 21,
   "id": "723f5d64",
   "metadata": {},
   "outputs": [],
   "source": [
    "df3 = df2[['Etablissement','Annee','Ville','Academie','Taux de reussite - L','Taux de reussite - ES','Taux de reussite - S']]\n",
    "df3=df2.loc[df2['Annee'] == 2020.0]"
   ]
  },
  {
   "cell_type": "code",
   "execution_count": 23,
   "id": "f6f43d8a",
   "metadata": {},
   "outputs": [
    {
     "data": {
      "text/html": [
       "<div>\n",
       "<style scoped>\n",
       "    .dataframe tbody tr th:only-of-type {\n",
       "        vertical-align: middle;\n",
       "    }\n",
       "\n",
       "    .dataframe tbody tr th {\n",
       "        vertical-align: top;\n",
       "    }\n",
       "\n",
       "    .dataframe thead th {\n",
       "        text-align: right;\n",
       "    }\n",
       "</style>\n",
       "<table border=\"1\" class=\"dataframe\">\n",
       "  <thead>\n",
       "    <tr style=\"text-align: right;\">\n",
       "      <th></th>\n",
       "      <th></th>\n",
       "      <th>avg_tx_réussite_L</th>\n",
       "      <th>avg_tx_réussite_ES</th>\n",
       "      <th>avg_tx_réussite_S</th>\n",
       "    </tr>\n",
       "    <tr>\n",
       "      <th>Ville</th>\n",
       "      <th>Annee</th>\n",
       "      <th></th>\n",
       "      <th></th>\n",
       "      <th></th>\n",
       "    </tr>\n",
       "  </thead>\n",
       "  <tbody>\n",
       "    <tr>\n",
       "      <th>PARIS 03</th>\n",
       "      <th>2020.0</th>\n",
       "      <td>92.666667</td>\n",
       "      <td>99.000000</td>\n",
       "      <td>100.000000</td>\n",
       "    </tr>\n",
       "    <tr>\n",
       "      <th>PARIS 04</th>\n",
       "      <th>2020.0</th>\n",
       "      <td>100.000000</td>\n",
       "      <td>100.000000</td>\n",
       "      <td>99.750000</td>\n",
       "    </tr>\n",
       "    <tr>\n",
       "      <th>PARIS 05</th>\n",
       "      <th>2020.0</th>\n",
       "      <td>100.000000</td>\n",
       "      <td>100.000000</td>\n",
       "      <td>99.800000</td>\n",
       "    </tr>\n",
       "    <tr>\n",
       "      <th>PARIS 06</th>\n",
       "      <th>2020.0</th>\n",
       "      <td>100.000000</td>\n",
       "      <td>99.571429</td>\n",
       "      <td>99.375000</td>\n",
       "    </tr>\n",
       "    <tr>\n",
       "      <th>PARIS 07</th>\n",
       "      <th>2020.0</th>\n",
       "      <td>100.000000</td>\n",
       "      <td>99.666667</td>\n",
       "      <td>100.000000</td>\n",
       "    </tr>\n",
       "    <tr>\n",
       "      <th>PARIS 08</th>\n",
       "      <th>2020.0</th>\n",
       "      <td>100.000000</td>\n",
       "      <td>99.666667</td>\n",
       "      <td>99.000000</td>\n",
       "    </tr>\n",
       "    <tr>\n",
       "      <th>PARIS 09</th>\n",
       "      <th>2020.0</th>\n",
       "      <td>96.200000</td>\n",
       "      <td>95.000000</td>\n",
       "      <td>98.400000</td>\n",
       "    </tr>\n",
       "    <tr>\n",
       "      <th>PARIS 10</th>\n",
       "      <th>2020.0</th>\n",
       "      <td>99.500000</td>\n",
       "      <td>98.500000</td>\n",
       "      <td>99.250000</td>\n",
       "    </tr>\n",
       "    <tr>\n",
       "      <th>PARIS 11</th>\n",
       "      <th>2020.0</th>\n",
       "      <td>98.000000</td>\n",
       "      <td>97.500000</td>\n",
       "      <td>97.500000</td>\n",
       "    </tr>\n",
       "    <tr>\n",
       "      <th>PARIS 12</th>\n",
       "      <th>2020.0</th>\n",
       "      <td>99.000000</td>\n",
       "      <td>97.666667</td>\n",
       "      <td>97.666667</td>\n",
       "    </tr>\n",
       "    <tr>\n",
       "      <th>PARIS 13</th>\n",
       "      <th>2020.0</th>\n",
       "      <td>98.200000</td>\n",
       "      <td>99.000000</td>\n",
       "      <td>99.000000</td>\n",
       "    </tr>\n",
       "    <tr>\n",
       "      <th>PARIS 14</th>\n",
       "      <th>2020.0</th>\n",
       "      <td>98.000000</td>\n",
       "      <td>98.333333</td>\n",
       "      <td>96.333333</td>\n",
       "    </tr>\n",
       "    <tr>\n",
       "      <th>PARIS 15</th>\n",
       "      <th>2020.0</th>\n",
       "      <td>100.000000</td>\n",
       "      <td>95.166667</td>\n",
       "      <td>95.666667</td>\n",
       "    </tr>\n",
       "    <tr>\n",
       "      <th>PARIS 16</th>\n",
       "      <th>2020.0</th>\n",
       "      <td>98.300000</td>\n",
       "      <td>98.615385</td>\n",
       "      <td>99.153846</td>\n",
       "    </tr>\n",
       "    <tr>\n",
       "      <th>PARIS 17</th>\n",
       "      <th>2020.0</th>\n",
       "      <td>100.000000</td>\n",
       "      <td>99.800000</td>\n",
       "      <td>99.600000</td>\n",
       "    </tr>\n",
       "    <tr>\n",
       "      <th>PARIS 18</th>\n",
       "      <th>2020.0</th>\n",
       "      <td>96.500000</td>\n",
       "      <td>97.000000</td>\n",
       "      <td>100.000000</td>\n",
       "    </tr>\n",
       "    <tr>\n",
       "      <th>PARIS 19</th>\n",
       "      <th>2020.0</th>\n",
       "      <td>99.000000</td>\n",
       "      <td>98.600000</td>\n",
       "      <td>98.285714</td>\n",
       "    </tr>\n",
       "    <tr>\n",
       "      <th>PARIS 20</th>\n",
       "      <th>2020.0</th>\n",
       "      <td>97.666667</td>\n",
       "      <td>100.000000</td>\n",
       "      <td>99.750000</td>\n",
       "    </tr>\n",
       "  </tbody>\n",
       "</table>\n",
       "</div>"
      ],
      "text/plain": [
       "                 avg_tx_réussite_L  avg_tx_réussite_ES  avg_tx_réussite_S\n",
       "Ville    Annee                                                           \n",
       "PARIS 03 2020.0          92.666667           99.000000         100.000000\n",
       "PARIS 04 2020.0         100.000000          100.000000          99.750000\n",
       "PARIS 05 2020.0         100.000000          100.000000          99.800000\n",
       "PARIS 06 2020.0         100.000000           99.571429          99.375000\n",
       "PARIS 07 2020.0         100.000000           99.666667         100.000000\n",
       "PARIS 08 2020.0         100.000000           99.666667          99.000000\n",
       "PARIS 09 2020.0          96.200000           95.000000          98.400000\n",
       "PARIS 10 2020.0          99.500000           98.500000          99.250000\n",
       "PARIS 11 2020.0          98.000000           97.500000          97.500000\n",
       "PARIS 12 2020.0          99.000000           97.666667          97.666667\n",
       "PARIS 13 2020.0          98.200000           99.000000          99.000000\n",
       "PARIS 14 2020.0          98.000000           98.333333          96.333333\n",
       "PARIS 15 2020.0         100.000000           95.166667          95.666667\n",
       "PARIS 16 2020.0          98.300000           98.615385          99.153846\n",
       "PARIS 17 2020.0         100.000000           99.800000          99.600000\n",
       "PARIS 18 2020.0          96.500000           97.000000         100.000000\n",
       "PARIS 19 2020.0          99.000000           98.600000          98.285714\n",
       "PARIS 20 2020.0          97.666667          100.000000          99.750000"
      ]
     },
     "execution_count": 23,
     "metadata": {},
     "output_type": "execute_result"
    }
   ],
   "source": [
    "df3.groupby(['Ville','Annee']).agg(avg_tx_réussite_L=('Taux de reussite - L','mean'),avg_tx_réussite_ES = ('Taux de reussite - ES', 'mean'),avg_tx_réussite_S = ('Taux de reussite - S', 'mean'))"
   ]
  },
  {
   "cell_type": "markdown",
   "id": "34ad1e3b",
   "metadata": {},
   "source": [
    "On observe que les 4e，5e，7e, 8e, 17e arrondissements de Paris sont très performants et que les moins performants sont les 12e, 13e, 18e et 19e arrondissements de Paris."
   ]
  },
  {
   "cell_type": "code",
   "execution_count": 70,
   "id": "46789821",
   "metadata": {},
   "outputs": [],
   "source": [
    "# BAC technique\n",
    "df2a = df1[['Etablissement','Annee','Ville','Academie',\"Taux de reussite - STL\",'Taux de reussite - STI2D','Taux de reussite - STD2A',\"Taux de reussite - STMG\",\"Taux de reussite - STG\"]]\n",
    "df4=df2a.loc[df2['Annee'] == 2020.0]"
   ]
  },
  {
   "cell_type": "code",
   "execution_count": 71,
   "id": "472956cc",
   "metadata": {},
   "outputs": [
    {
     "data": {
      "text/html": [
       "<div>\n",
       "<style scoped>\n",
       "    .dataframe tbody tr th:only-of-type {\n",
       "        vertical-align: middle;\n",
       "    }\n",
       "\n",
       "    .dataframe tbody tr th {\n",
       "        vertical-align: top;\n",
       "    }\n",
       "\n",
       "    .dataframe thead th {\n",
       "        text-align: right;\n",
       "    }\n",
       "</style>\n",
       "<table border=\"1\" class=\"dataframe\">\n",
       "  <thead>\n",
       "    <tr style=\"text-align: right;\">\n",
       "      <th></th>\n",
       "      <th>Etablissement</th>\n",
       "      <th>Annee</th>\n",
       "      <th>Ville</th>\n",
       "      <th>Academie</th>\n",
       "      <th>Taux de reussite - STL</th>\n",
       "      <th>Taux de reussite - STI2D</th>\n",
       "      <th>Taux de reussite - STD2A</th>\n",
       "      <th>Taux de reussite - STMG</th>\n",
       "      <th>Taux de reussite - STG</th>\n",
       "    </tr>\n",
       "  </thead>\n",
       "  <tbody>\n",
       "    <tr>\n",
       "      <th>4060</th>\n",
       "      <td>LYCEE MAXIMILIEN VOX-ART-DESSIN (GENERAL ET TE...</td>\n",
       "      <td>2020.0</td>\n",
       "      <td>PARIS 06</td>\n",
       "      <td>PARIS</td>\n",
       "      <td>NaN</td>\n",
       "      <td>NaN</td>\n",
       "      <td>99.0</td>\n",
       "      <td>NaN</td>\n",
       "      <td>NaN</td>\n",
       "    </tr>\n",
       "    <tr>\n",
       "      <th>4061</th>\n",
       "      <td>LYCEE LAVOISIER</td>\n",
       "      <td>2020.0</td>\n",
       "      <td>PARIS 05</td>\n",
       "      <td>PARIS</td>\n",
       "      <td>NaN</td>\n",
       "      <td>NaN</td>\n",
       "      <td>NaN</td>\n",
       "      <td>NaN</td>\n",
       "      <td>NaN</td>\n",
       "    </tr>\n",
       "    <tr>\n",
       "      <th>4062</th>\n",
       "      <td>LYCEE MONTAIGNE</td>\n",
       "      <td>2020.0</td>\n",
       "      <td>PARIS 06</td>\n",
       "      <td>PARIS</td>\n",
       "      <td>NaN</td>\n",
       "      <td>NaN</td>\n",
       "      <td>NaN</td>\n",
       "      <td>NaN</td>\n",
       "      <td>NaN</td>\n",
       "    </tr>\n",
       "    <tr>\n",
       "      <th>4063</th>\n",
       "      <td>LYCEE CONDORCET</td>\n",
       "      <td>2020.0</td>\n",
       "      <td>PARIS 09</td>\n",
       "      <td>PARIS</td>\n",
       "      <td>NaN</td>\n",
       "      <td>NaN</td>\n",
       "      <td>NaN</td>\n",
       "      <td>NaN</td>\n",
       "      <td>NaN</td>\n",
       "    </tr>\n",
       "    <tr>\n",
       "      <th>4064</th>\n",
       "      <td>LYCEE PAUL VALERY</td>\n",
       "      <td>2020.0</td>\n",
       "      <td>PARIS 12</td>\n",
       "      <td>PARIS</td>\n",
       "      <td>NaN</td>\n",
       "      <td>93.0</td>\n",
       "      <td>NaN</td>\n",
       "      <td>NaN</td>\n",
       "      <td>NaN</td>\n",
       "    </tr>\n",
       "    <tr>\n",
       "      <th>4065</th>\n",
       "      <td>LYCEE PIERRE-GILLES DE GENNES-ENCPB</td>\n",
       "      <td>2020.0</td>\n",
       "      <td>PARIS 13</td>\n",
       "      <td>PARIS</td>\n",
       "      <td>88.0</td>\n",
       "      <td>NaN</td>\n",
       "      <td>NaN</td>\n",
       "      <td>NaN</td>\n",
       "      <td>NaN</td>\n",
       "    </tr>\n",
       "    <tr>\n",
       "      <th>4066</th>\n",
       "      <td>LYCEE FRANCOIS VILLON</td>\n",
       "      <td>2020.0</td>\n",
       "      <td>PARIS 14</td>\n",
       "      <td>PARIS</td>\n",
       "      <td>NaN</td>\n",
       "      <td>NaN</td>\n",
       "      <td>NaN</td>\n",
       "      <td>88.0</td>\n",
       "      <td>NaN</td>\n",
       "    </tr>\n",
       "    <tr>\n",
       "      <th>4067</th>\n",
       "      <td>LYCEE CAMILLE SEE</td>\n",
       "      <td>2020.0</td>\n",
       "      <td>PARIS 15</td>\n",
       "      <td>PARIS</td>\n",
       "      <td>NaN</td>\n",
       "      <td>NaN</td>\n",
       "      <td>NaN</td>\n",
       "      <td>NaN</td>\n",
       "      <td>NaN</td>\n",
       "    </tr>\n",
       "    <tr>\n",
       "      <th>4068</th>\n",
       "      <td>LYCEE JANSON DE SAILLY</td>\n",
       "      <td>2020.0</td>\n",
       "      <td>PARIS 16</td>\n",
       "      <td>PARIS</td>\n",
       "      <td>NaN</td>\n",
       "      <td>100.0</td>\n",
       "      <td>NaN</td>\n",
       "      <td>NaN</td>\n",
       "      <td>NaN</td>\n",
       "    </tr>\n",
       "    <tr>\n",
       "      <th>4069</th>\n",
       "      <td>LYCEE JEAN DROUANT (GENERAL ET TECHNO.)</td>\n",
       "      <td>2020.0</td>\n",
       "      <td>PARIS 17</td>\n",
       "      <td>PARIS</td>\n",
       "      <td>NaN</td>\n",
       "      <td>NaN</td>\n",
       "      <td>NaN</td>\n",
       "      <td>NaN</td>\n",
       "      <td>NaN</td>\n",
       "    </tr>\n",
       "  </tbody>\n",
       "</table>\n",
       "</div>"
      ],
      "text/plain": [
       "                                          Etablissement   Annee     Ville  \\\n",
       "4060  LYCEE MAXIMILIEN VOX-ART-DESSIN (GENERAL ET TE...  2020.0  PARIS 06   \n",
       "4061                                    LYCEE LAVOISIER  2020.0  PARIS 05   \n",
       "4062                                    LYCEE MONTAIGNE  2020.0  PARIS 06   \n",
       "4063                                    LYCEE CONDORCET  2020.0  PARIS 09   \n",
       "4064                                  LYCEE PAUL VALERY  2020.0  PARIS 12   \n",
       "4065                LYCEE PIERRE-GILLES DE GENNES-ENCPB  2020.0  PARIS 13   \n",
       "4066                              LYCEE FRANCOIS VILLON  2020.0  PARIS 14   \n",
       "4067                                  LYCEE CAMILLE SEE  2020.0  PARIS 15   \n",
       "4068                             LYCEE JANSON DE SAILLY  2020.0  PARIS 16   \n",
       "4069            LYCEE JEAN DROUANT (GENERAL ET TECHNO.)  2020.0  PARIS 17   \n",
       "\n",
       "     Academie  Taux de reussite - STL  Taux de reussite - STI2D  \\\n",
       "4060    PARIS                     NaN                       NaN   \n",
       "4061    PARIS                     NaN                       NaN   \n",
       "4062    PARIS                     NaN                       NaN   \n",
       "4063    PARIS                     NaN                       NaN   \n",
       "4064    PARIS                     NaN                      93.0   \n",
       "4065    PARIS                    88.0                       NaN   \n",
       "4066    PARIS                     NaN                       NaN   \n",
       "4067    PARIS                     NaN                       NaN   \n",
       "4068    PARIS                     NaN                     100.0   \n",
       "4069    PARIS                     NaN                       NaN   \n",
       "\n",
       "      Taux de reussite - STD2A  Taux de reussite - STMG  \\\n",
       "4060                      99.0                      NaN   \n",
       "4061                       NaN                      NaN   \n",
       "4062                       NaN                      NaN   \n",
       "4063                       NaN                      NaN   \n",
       "4064                       NaN                      NaN   \n",
       "4065                       NaN                      NaN   \n",
       "4066                       NaN                     88.0   \n",
       "4067                       NaN                      NaN   \n",
       "4068                       NaN                      NaN   \n",
       "4069                       NaN                      NaN   \n",
       "\n",
       "      Taux de reussite - STG  \n",
       "4060                     NaN  \n",
       "4061                     NaN  \n",
       "4062                     NaN  \n",
       "4063                     NaN  \n",
       "4064                     NaN  \n",
       "4065                     NaN  \n",
       "4066                     NaN  \n",
       "4067                     NaN  \n",
       "4068                     NaN  \n",
       "4069                     NaN  "
      ]
     },
     "execution_count": 71,
     "metadata": {},
     "output_type": "execute_result"
    }
   ],
   "source": [
    "df4.head(10)"
   ]
  },
  {
   "cell_type": "code",
   "execution_count": 72,
   "id": "b788dd41",
   "metadata": {},
   "outputs": [
    {
     "data": {
      "text/html": [
       "<div>\n",
       "<style scoped>\n",
       "    .dataframe tbody tr th:only-of-type {\n",
       "        vertical-align: middle;\n",
       "    }\n",
       "\n",
       "    .dataframe tbody tr th {\n",
       "        vertical-align: top;\n",
       "    }\n",
       "\n",
       "    .dataframe thead th {\n",
       "        text-align: right;\n",
       "    }\n",
       "</style>\n",
       "<table border=\"1\" class=\"dataframe\">\n",
       "  <thead>\n",
       "    <tr style=\"text-align: right;\">\n",
       "      <th></th>\n",
       "      <th></th>\n",
       "      <th>avg_tx_réussite_STL</th>\n",
       "      <th>avg_tx_réussite_STMG</th>\n",
       "      <th>avg_tx_réussite_STI2D</th>\n",
       "      <th>avg_tx_réussite_STD2A</th>\n",
       "      <th>avg_tx_réussite_STG</th>\n",
       "    </tr>\n",
       "    <tr>\n",
       "      <th>Ville</th>\n",
       "      <th>Annee</th>\n",
       "      <th></th>\n",
       "      <th></th>\n",
       "      <th></th>\n",
       "      <th></th>\n",
       "      <th></th>\n",
       "    </tr>\n",
       "  </thead>\n",
       "  <tbody>\n",
       "    <tr>\n",
       "      <th>PARIS 03</th>\n",
       "      <th>2020.0</th>\n",
       "      <td>NaN</td>\n",
       "      <td>92.00</td>\n",
       "      <td>NaN</td>\n",
       "      <td>NaN</td>\n",
       "      <td>NaN</td>\n",
       "    </tr>\n",
       "    <tr>\n",
       "      <th>PARIS 04</th>\n",
       "      <th>2020.0</th>\n",
       "      <td>NaN</td>\n",
       "      <td>96.50</td>\n",
       "      <td>NaN</td>\n",
       "      <td>NaN</td>\n",
       "      <td>NaN</td>\n",
       "    </tr>\n",
       "    <tr>\n",
       "      <th>PARIS 05</th>\n",
       "      <th>2020.0</th>\n",
       "      <td>NaN</td>\n",
       "      <td>NaN</td>\n",
       "      <td>88.0</td>\n",
       "      <td>NaN</td>\n",
       "      <td>NaN</td>\n",
       "    </tr>\n",
       "    <tr>\n",
       "      <th>PARIS 06</th>\n",
       "      <th>2020.0</th>\n",
       "      <td>NaN</td>\n",
       "      <td>98.50</td>\n",
       "      <td>100.0</td>\n",
       "      <td>99.5</td>\n",
       "      <td>NaN</td>\n",
       "    </tr>\n",
       "    <tr>\n",
       "      <th>PARIS 07</th>\n",
       "      <th>2020.0</th>\n",
       "      <td>NaN</td>\n",
       "      <td>99.00</td>\n",
       "      <td>100.0</td>\n",
       "      <td>100.0</td>\n",
       "      <td>NaN</td>\n",
       "    </tr>\n",
       "    <tr>\n",
       "      <th>PARIS 08</th>\n",
       "      <th>2020.0</th>\n",
       "      <td>NaN</td>\n",
       "      <td>94.00</td>\n",
       "      <td>100.0</td>\n",
       "      <td>NaN</td>\n",
       "      <td>NaN</td>\n",
       "    </tr>\n",
       "    <tr>\n",
       "      <th>PARIS 09</th>\n",
       "      <th>2020.0</th>\n",
       "      <td>NaN</td>\n",
       "      <td>84.00</td>\n",
       "      <td>NaN</td>\n",
       "      <td>NaN</td>\n",
       "      <td>NaN</td>\n",
       "    </tr>\n",
       "    <tr>\n",
       "      <th>PARIS 10</th>\n",
       "      <th>2020.0</th>\n",
       "      <td>NaN</td>\n",
       "      <td>NaN</td>\n",
       "      <td>NaN</td>\n",
       "      <td>NaN</td>\n",
       "      <td>NaN</td>\n",
       "    </tr>\n",
       "    <tr>\n",
       "      <th>PARIS 11</th>\n",
       "      <th>2020.0</th>\n",
       "      <td>NaN</td>\n",
       "      <td>100.00</td>\n",
       "      <td>99.0</td>\n",
       "      <td>NaN</td>\n",
       "      <td>NaN</td>\n",
       "    </tr>\n",
       "    <tr>\n",
       "      <th>PARIS 12</th>\n",
       "      <th>2020.0</th>\n",
       "      <td>100.0</td>\n",
       "      <td>91.50</td>\n",
       "      <td>93.0</td>\n",
       "      <td>100.0</td>\n",
       "      <td>NaN</td>\n",
       "    </tr>\n",
       "    <tr>\n",
       "      <th>PARIS 13</th>\n",
       "      <th>2020.0</th>\n",
       "      <td>94.0</td>\n",
       "      <td>100.00</td>\n",
       "      <td>NaN</td>\n",
       "      <td>NaN</td>\n",
       "      <td>NaN</td>\n",
       "    </tr>\n",
       "    <tr>\n",
       "      <th>PARIS 14</th>\n",
       "      <th>2020.0</th>\n",
       "      <td>NaN</td>\n",
       "      <td>91.75</td>\n",
       "      <td>NaN</td>\n",
       "      <td>NaN</td>\n",
       "      <td>NaN</td>\n",
       "    </tr>\n",
       "    <tr>\n",
       "      <th>PARIS 15</th>\n",
       "      <th>2020.0</th>\n",
       "      <td>NaN</td>\n",
       "      <td>84.00</td>\n",
       "      <td>96.0</td>\n",
       "      <td>NaN</td>\n",
       "      <td>NaN</td>\n",
       "    </tr>\n",
       "    <tr>\n",
       "      <th>PARIS 16</th>\n",
       "      <th>2020.0</th>\n",
       "      <td>NaN</td>\n",
       "      <td>98.00</td>\n",
       "      <td>100.0</td>\n",
       "      <td>NaN</td>\n",
       "      <td>NaN</td>\n",
       "    </tr>\n",
       "    <tr>\n",
       "      <th>PARIS 17</th>\n",
       "      <th>2020.0</th>\n",
       "      <td>NaN</td>\n",
       "      <td>95.00</td>\n",
       "      <td>NaN</td>\n",
       "      <td>NaN</td>\n",
       "      <td>NaN</td>\n",
       "    </tr>\n",
       "    <tr>\n",
       "      <th>PARIS 18</th>\n",
       "      <th>2020.0</th>\n",
       "      <td>91.0</td>\n",
       "      <td>100.00</td>\n",
       "      <td>NaN</td>\n",
       "      <td>98.0</td>\n",
       "      <td>NaN</td>\n",
       "    </tr>\n",
       "    <tr>\n",
       "      <th>PARIS 19</th>\n",
       "      <th>2020.0</th>\n",
       "      <td>NaN</td>\n",
       "      <td>96.00</td>\n",
       "      <td>98.0</td>\n",
       "      <td>NaN</td>\n",
       "      <td>NaN</td>\n",
       "    </tr>\n",
       "    <tr>\n",
       "      <th>PARIS 20</th>\n",
       "      <th>2020.0</th>\n",
       "      <td>NaN</td>\n",
       "      <td>89.00</td>\n",
       "      <td>NaN</td>\n",
       "      <td>NaN</td>\n",
       "      <td>NaN</td>\n",
       "    </tr>\n",
       "  </tbody>\n",
       "</table>\n",
       "</div>"
      ],
      "text/plain": [
       "                 avg_tx_réussite_STL  avg_tx_réussite_STMG  \\\n",
       "Ville    Annee                                               \n",
       "PARIS 03 2020.0                  NaN                 92.00   \n",
       "PARIS 04 2020.0                  NaN                 96.50   \n",
       "PARIS 05 2020.0                  NaN                   NaN   \n",
       "PARIS 06 2020.0                  NaN                 98.50   \n",
       "PARIS 07 2020.0                  NaN                 99.00   \n",
       "PARIS 08 2020.0                  NaN                 94.00   \n",
       "PARIS 09 2020.0                  NaN                 84.00   \n",
       "PARIS 10 2020.0                  NaN                   NaN   \n",
       "PARIS 11 2020.0                  NaN                100.00   \n",
       "PARIS 12 2020.0                100.0                 91.50   \n",
       "PARIS 13 2020.0                 94.0                100.00   \n",
       "PARIS 14 2020.0                  NaN                 91.75   \n",
       "PARIS 15 2020.0                  NaN                 84.00   \n",
       "PARIS 16 2020.0                  NaN                 98.00   \n",
       "PARIS 17 2020.0                  NaN                 95.00   \n",
       "PARIS 18 2020.0                 91.0                100.00   \n",
       "PARIS 19 2020.0                  NaN                 96.00   \n",
       "PARIS 20 2020.0                  NaN                 89.00   \n",
       "\n",
       "                 avg_tx_réussite_STI2D  avg_tx_réussite_STD2A  \\\n",
       "Ville    Annee                                                  \n",
       "PARIS 03 2020.0                    NaN                    NaN   \n",
       "PARIS 04 2020.0                    NaN                    NaN   \n",
       "PARIS 05 2020.0                   88.0                    NaN   \n",
       "PARIS 06 2020.0                  100.0                   99.5   \n",
       "PARIS 07 2020.0                  100.0                  100.0   \n",
       "PARIS 08 2020.0                  100.0                    NaN   \n",
       "PARIS 09 2020.0                    NaN                    NaN   \n",
       "PARIS 10 2020.0                    NaN                    NaN   \n",
       "PARIS 11 2020.0                   99.0                    NaN   \n",
       "PARIS 12 2020.0                   93.0                  100.0   \n",
       "PARIS 13 2020.0                    NaN                    NaN   \n",
       "PARIS 14 2020.0                    NaN                    NaN   \n",
       "PARIS 15 2020.0                   96.0                    NaN   \n",
       "PARIS 16 2020.0                  100.0                    NaN   \n",
       "PARIS 17 2020.0                    NaN                    NaN   \n",
       "PARIS 18 2020.0                    NaN                   98.0   \n",
       "PARIS 19 2020.0                   98.0                    NaN   \n",
       "PARIS 20 2020.0                    NaN                    NaN   \n",
       "\n",
       "                 avg_tx_réussite_STG  \n",
       "Ville    Annee                        \n",
       "PARIS 03 2020.0                  NaN  \n",
       "PARIS 04 2020.0                  NaN  \n",
       "PARIS 05 2020.0                  NaN  \n",
       "PARIS 06 2020.0                  NaN  \n",
       "PARIS 07 2020.0                  NaN  \n",
       "PARIS 08 2020.0                  NaN  \n",
       "PARIS 09 2020.0                  NaN  \n",
       "PARIS 10 2020.0                  NaN  \n",
       "PARIS 11 2020.0                  NaN  \n",
       "PARIS 12 2020.0                  NaN  \n",
       "PARIS 13 2020.0                  NaN  \n",
       "PARIS 14 2020.0                  NaN  \n",
       "PARIS 15 2020.0                  NaN  \n",
       "PARIS 16 2020.0                  NaN  \n",
       "PARIS 17 2020.0                  NaN  \n",
       "PARIS 18 2020.0                  NaN  \n",
       "PARIS 19 2020.0                  NaN  \n",
       "PARIS 20 2020.0                  NaN  "
      ]
     },
     "execution_count": 72,
     "metadata": {},
     "output_type": "execute_result"
    }
   ],
   "source": [
    "df4.groupby(['Ville','Annee']).agg(avg_tx_réussite_STL = ('Taux de reussite - STL','mean'),avg_tx_réussite_STMG=('Taux de reussite - STMG', 'mean'),avg_tx_réussite_STI2D=('Taux de reussite - STI2D', 'mean'),avg_tx_réussite_STD2A=('Taux de reussite - STD2A', 'mean'),avg_tx_réussite_STG = ('Taux de reussite - STG', 'mean'))"
   ]
  },
  {
   "cell_type": "markdown",
   "id": "8ecdaa70",
   "metadata": {},
   "source": [
    "Ce tableau ne nous donne pas beaucoup d'informations utiles，nous pouvons juste dire que paris 11e,13e et 18e arrondissement a un bon performant en taux de réussite STMG ensuite 9e et 15e arrondissement sont les moins performants."
   ]
  },
  {
   "cell_type": "markdown",
   "id": "fec23d0a",
   "metadata": {},
   "source": [
    "## Pour les données socio-economiques"
   ]
  },
  {
   "cell_type": "code",
   "execution_count": 6,
   "id": "9247fdfc",
   "metadata": {},
   "outputs": [
    {
     "ename": "FileNotFoundError",
     "evalue": "[Errno 2] No such file or directory: 'Donn/soceco2018.xlsx'",
     "output_type": "error",
     "traceback": [
      "\u001b[1;31m---------------------------------------------------------------------------\u001b[0m",
      "\u001b[1;31mFileNotFoundError\u001b[0m                         Traceback (most recent call last)",
      "\u001b[1;32m~\\AppData\\Local\\Temp/ipykernel_16324/3615986041.py\u001b[0m in \u001b[0;36m<module>\u001b[1;34m\u001b[0m\n\u001b[1;32m----> 1\u001b[1;33m \u001b[0midf\u001b[0m\u001b[1;33m=\u001b[0m \u001b[0mpd\u001b[0m\u001b[1;33m.\u001b[0m\u001b[0mread_excel\u001b[0m\u001b[1;33m(\u001b[0m\u001b[1;34m'Donn/soceco2018.xlsx'\u001b[0m\u001b[1;33m)\u001b[0m\u001b[1;33m\u001b[0m\u001b[1;33m\u001b[0m\u001b[0m\n\u001b[0m",
      "\u001b[1;32mD:\\Users\\alepi\\anaconda3\\envs\\geo_env\\lib\\site-packages\\pandas\\util\\_decorators.py\u001b[0m in \u001b[0;36mwrapper\u001b[1;34m(*args, **kwargs)\u001b[0m\n\u001b[0;32m    309\u001b[0m                     \u001b[0mstacklevel\u001b[0m\u001b[1;33m=\u001b[0m\u001b[0mstacklevel\u001b[0m\u001b[1;33m,\u001b[0m\u001b[1;33m\u001b[0m\u001b[1;33m\u001b[0m\u001b[0m\n\u001b[0;32m    310\u001b[0m                 )\n\u001b[1;32m--> 311\u001b[1;33m             \u001b[1;32mreturn\u001b[0m \u001b[0mfunc\u001b[0m\u001b[1;33m(\u001b[0m\u001b[1;33m*\u001b[0m\u001b[0margs\u001b[0m\u001b[1;33m,\u001b[0m \u001b[1;33m**\u001b[0m\u001b[0mkwargs\u001b[0m\u001b[1;33m)\u001b[0m\u001b[1;33m\u001b[0m\u001b[1;33m\u001b[0m\u001b[0m\n\u001b[0m\u001b[0;32m    312\u001b[0m \u001b[1;33m\u001b[0m\u001b[0m\n\u001b[0;32m    313\u001b[0m         \u001b[1;32mreturn\u001b[0m \u001b[0mwrapper\u001b[0m\u001b[1;33m\u001b[0m\u001b[1;33m\u001b[0m\u001b[0m\n",
      "\u001b[1;32mD:\\Users\\alepi\\anaconda3\\envs\\geo_env\\lib\\site-packages\\pandas\\io\\excel\\_base.py\u001b[0m in \u001b[0;36mread_excel\u001b[1;34m(io, sheet_name, header, names, index_col, usecols, squeeze, dtype, engine, converters, true_values, false_values, skiprows, nrows, na_values, keep_default_na, na_filter, verbose, parse_dates, date_parser, thousands, comment, skipfooter, convert_float, mangle_dupe_cols, storage_options)\u001b[0m\n\u001b[0;32m    362\u001b[0m     \u001b[1;32mif\u001b[0m \u001b[1;32mnot\u001b[0m \u001b[0misinstance\u001b[0m\u001b[1;33m(\u001b[0m\u001b[0mio\u001b[0m\u001b[1;33m,\u001b[0m \u001b[0mExcelFile\u001b[0m\u001b[1;33m)\u001b[0m\u001b[1;33m:\u001b[0m\u001b[1;33m\u001b[0m\u001b[1;33m\u001b[0m\u001b[0m\n\u001b[0;32m    363\u001b[0m         \u001b[0mshould_close\u001b[0m \u001b[1;33m=\u001b[0m \u001b[1;32mTrue\u001b[0m\u001b[1;33m\u001b[0m\u001b[1;33m\u001b[0m\u001b[0m\n\u001b[1;32m--> 364\u001b[1;33m         \u001b[0mio\u001b[0m \u001b[1;33m=\u001b[0m \u001b[0mExcelFile\u001b[0m\u001b[1;33m(\u001b[0m\u001b[0mio\u001b[0m\u001b[1;33m,\u001b[0m \u001b[0mstorage_options\u001b[0m\u001b[1;33m=\u001b[0m\u001b[0mstorage_options\u001b[0m\u001b[1;33m,\u001b[0m \u001b[0mengine\u001b[0m\u001b[1;33m=\u001b[0m\u001b[0mengine\u001b[0m\u001b[1;33m)\u001b[0m\u001b[1;33m\u001b[0m\u001b[1;33m\u001b[0m\u001b[0m\n\u001b[0m\u001b[0;32m    365\u001b[0m     \u001b[1;32melif\u001b[0m \u001b[0mengine\u001b[0m \u001b[1;32mand\u001b[0m \u001b[0mengine\u001b[0m \u001b[1;33m!=\u001b[0m \u001b[0mio\u001b[0m\u001b[1;33m.\u001b[0m\u001b[0mengine\u001b[0m\u001b[1;33m:\u001b[0m\u001b[1;33m\u001b[0m\u001b[1;33m\u001b[0m\u001b[0m\n\u001b[0;32m    366\u001b[0m         raise ValueError(\n",
      "\u001b[1;32mD:\\Users\\alepi\\anaconda3\\envs\\geo_env\\lib\\site-packages\\pandas\\io\\excel\\_base.py\u001b[0m in \u001b[0;36m__init__\u001b[1;34m(self, path_or_buffer, engine, storage_options)\u001b[0m\n\u001b[0;32m   1189\u001b[0m                 \u001b[0mext\u001b[0m \u001b[1;33m=\u001b[0m \u001b[1;34m\"xls\"\u001b[0m\u001b[1;33m\u001b[0m\u001b[1;33m\u001b[0m\u001b[0m\n\u001b[0;32m   1190\u001b[0m             \u001b[1;32melse\u001b[0m\u001b[1;33m:\u001b[0m\u001b[1;33m\u001b[0m\u001b[1;33m\u001b[0m\u001b[0m\n\u001b[1;32m-> 1191\u001b[1;33m                 ext = inspect_excel_format(\n\u001b[0m\u001b[0;32m   1192\u001b[0m                     \u001b[0mcontent_or_path\u001b[0m\u001b[1;33m=\u001b[0m\u001b[0mpath_or_buffer\u001b[0m\u001b[1;33m,\u001b[0m \u001b[0mstorage_options\u001b[0m\u001b[1;33m=\u001b[0m\u001b[0mstorage_options\u001b[0m\u001b[1;33m\u001b[0m\u001b[1;33m\u001b[0m\u001b[0m\n\u001b[0;32m   1193\u001b[0m                 )\n",
      "\u001b[1;32mD:\\Users\\alepi\\anaconda3\\envs\\geo_env\\lib\\site-packages\\pandas\\io\\excel\\_base.py\u001b[0m in \u001b[0;36minspect_excel_format\u001b[1;34m(content_or_path, storage_options)\u001b[0m\n\u001b[0;32m   1068\u001b[0m         \u001b[0mcontent_or_path\u001b[0m \u001b[1;33m=\u001b[0m \u001b[0mBytesIO\u001b[0m\u001b[1;33m(\u001b[0m\u001b[0mcontent_or_path\u001b[0m\u001b[1;33m)\u001b[0m\u001b[1;33m\u001b[0m\u001b[1;33m\u001b[0m\u001b[0m\n\u001b[0;32m   1069\u001b[0m \u001b[1;33m\u001b[0m\u001b[0m\n\u001b[1;32m-> 1070\u001b[1;33m     with get_handle(\n\u001b[0m\u001b[0;32m   1071\u001b[0m         \u001b[0mcontent_or_path\u001b[0m\u001b[1;33m,\u001b[0m \u001b[1;34m\"rb\"\u001b[0m\u001b[1;33m,\u001b[0m \u001b[0mstorage_options\u001b[0m\u001b[1;33m=\u001b[0m\u001b[0mstorage_options\u001b[0m\u001b[1;33m,\u001b[0m \u001b[0mis_text\u001b[0m\u001b[1;33m=\u001b[0m\u001b[1;32mFalse\u001b[0m\u001b[1;33m\u001b[0m\u001b[1;33m\u001b[0m\u001b[0m\n\u001b[0;32m   1072\u001b[0m     ) as handle:\n",
      "\u001b[1;32mD:\\Users\\alepi\\anaconda3\\envs\\geo_env\\lib\\site-packages\\pandas\\io\\common.py\u001b[0m in \u001b[0;36mget_handle\u001b[1;34m(path_or_buf, mode, encoding, compression, memory_map, is_text, errors, storage_options)\u001b[0m\n\u001b[0;32m    709\u001b[0m         \u001b[1;32melse\u001b[0m\u001b[1;33m:\u001b[0m\u001b[1;33m\u001b[0m\u001b[1;33m\u001b[0m\u001b[0m\n\u001b[0;32m    710\u001b[0m             \u001b[1;31m# Binary mode\u001b[0m\u001b[1;33m\u001b[0m\u001b[1;33m\u001b[0m\u001b[0m\n\u001b[1;32m--> 711\u001b[1;33m             \u001b[0mhandle\u001b[0m \u001b[1;33m=\u001b[0m \u001b[0mopen\u001b[0m\u001b[1;33m(\u001b[0m\u001b[0mhandle\u001b[0m\u001b[1;33m,\u001b[0m \u001b[0mioargs\u001b[0m\u001b[1;33m.\u001b[0m\u001b[0mmode\u001b[0m\u001b[1;33m)\u001b[0m\u001b[1;33m\u001b[0m\u001b[1;33m\u001b[0m\u001b[0m\n\u001b[0m\u001b[0;32m    712\u001b[0m         \u001b[0mhandles\u001b[0m\u001b[1;33m.\u001b[0m\u001b[0mappend\u001b[0m\u001b[1;33m(\u001b[0m\u001b[0mhandle\u001b[0m\u001b[1;33m)\u001b[0m\u001b[1;33m\u001b[0m\u001b[1;33m\u001b[0m\u001b[0m\n\u001b[0;32m    713\u001b[0m \u001b[1;33m\u001b[0m\u001b[0m\n",
      "\u001b[1;31mFileNotFoundError\u001b[0m: [Errno 2] No such file or directory: 'Donn/soceco2018.xlsx'"
     ]
    }
   ],
   "source": [
    "idf= pd.read_excel('Donn/soceco2018.xlsx')"
   ]
  },
  {
   "cell_type": "code",
   "execution_count": null,
   "id": "e6b288ce",
   "metadata": {},
   "outputs": [],
   "source": [
    "# Le taux de chomage \n",
    "# Tous 15-64\n",
    "idf['TCHOM1564']= 100*idf['P18_CHOM1564'] / idf['P18_ACT1564']"
   ]
  },
  {
   "cell_type": "code",
   "execution_count": null,
   "id": "470bb349",
   "metadata": {},
   "outputs": [],
   "source": [
    "# Part de cadres dans la population active\n",
    "idf['TCADACTOCC1564'] = 100*idf['C18_ACTOCC1564_CS3'] / idf['C18_ACTOCC1564']"
   ]
  },
  {
   "cell_type": "code",
   "execution_count": 2,
   "id": "0b9722e8",
   "metadata": {},
   "outputs": [
    {
     "ename": "NameError",
     "evalue": "name 'idf' is not defined",
     "output_type": "error",
     "traceback": [
      "\u001b[1;31m---------------------------------------------------------------------------\u001b[0m",
      "\u001b[1;31mNameError\u001b[0m                                 Traceback (most recent call last)",
      "\u001b[1;32m~\\AppData\\Local\\Temp/ipykernel_16324/2306637121.py\u001b[0m in \u001b[0;36m<module>\u001b[1;34m\u001b[0m\n\u001b[0;32m      1\u001b[0m \u001b[1;31m# Le taux d'emploi\u001b[0m\u001b[1;33m\u001b[0m\u001b[1;33m\u001b[0m\u001b[0m\n\u001b[0;32m      2\u001b[0m \u001b[1;31m# Tous 15-64\u001b[0m\u001b[1;33m\u001b[0m\u001b[1;33m\u001b[0m\u001b[0m\n\u001b[1;32m----> 3\u001b[1;33m \u001b[0midf\u001b[0m\u001b[1;33m[\u001b[0m\u001b[1;34m'TEMPL1564'\u001b[0m\u001b[1;33m]\u001b[0m\u001b[1;33m=\u001b[0m \u001b[1;36m100\u001b[0m\u001b[1;33m*\u001b[0m\u001b[0midf\u001b[0m\u001b[1;33m[\u001b[0m\u001b[1;34m'P18_ACTOCC1564'\u001b[0m\u001b[1;33m]\u001b[0m \u001b[1;33m/\u001b[0m \u001b[0midf\u001b[0m\u001b[1;33m[\u001b[0m\u001b[1;34m'P18_POP1564'\u001b[0m\u001b[1;33m]\u001b[0m\u001b[1;33m\u001b[0m\u001b[1;33m\u001b[0m\u001b[0m\n\u001b[0m",
      "\u001b[1;31mNameError\u001b[0m: name 'idf' is not defined"
     ]
    }
   ],
   "source": [
    "# Le taux d'emploi \n",
    "# Tous 15-64\n",
    "idf['TEMPL1564']= 100*idf['P18_ACTOCC1564'] / idf['P18_POP1564']"
   ]
  },
  {
   "cell_type": "code",
   "execution_count": 3,
   "id": "acf3c77d",
   "metadata": {},
   "outputs": [
    {
     "ename": "NameError",
     "evalue": "name 'idf' is not defined",
     "output_type": "error",
     "traceback": [
      "\u001b[1;31m---------------------------------------------------------------------------\u001b[0m",
      "\u001b[1;31mNameError\u001b[0m                                 Traceback (most recent call last)",
      "\u001b[1;32m~\\AppData\\Local\\Temp/ipykernel_16324/3652446160.py\u001b[0m in \u001b[0;36m<module>\u001b[1;34m\u001b[0m\n\u001b[0;32m      1\u001b[0m \u001b[1;31m# On vien de computer les statistiques pour les autres categories socioprofessionnelles.\u001b[0m\u001b[1;33m\u001b[0m\u001b[1;33m\u001b[0m\u001b[0m\n\u001b[0;32m      2\u001b[0m \u001b[1;31m# Part d'artisans, commercants et chefs d'entreprise dans la population active\u001b[0m\u001b[1;33m\u001b[0m\u001b[1;33m\u001b[0m\u001b[0m\n\u001b[1;32m----> 3\u001b[1;33m \u001b[0midf\u001b[0m\u001b[1;33m[\u001b[0m\u001b[1;34m'TACCACTOCC1564'\u001b[0m\u001b[1;33m]\u001b[0m \u001b[1;33m=\u001b[0m \u001b[1;36m100\u001b[0m\u001b[1;33m*\u001b[0m\u001b[0midf\u001b[0m\u001b[1;33m[\u001b[0m\u001b[1;34m'C18_ACTOCC1564_CS2'\u001b[0m\u001b[1;33m]\u001b[0m \u001b[1;33m/\u001b[0m \u001b[0midf\u001b[0m\u001b[1;33m[\u001b[0m\u001b[1;34m'C18_ACTOCC1564'\u001b[0m\u001b[1;33m]\u001b[0m\u001b[1;33m\u001b[0m\u001b[1;33m\u001b[0m\u001b[0m\n\u001b[0m",
      "\u001b[1;31mNameError\u001b[0m: name 'idf' is not defined"
     ]
    }
   ],
   "source": [
    "# On vien de computer les statistiques pour les autres categories socioprofessionnelles.\n",
    "# Part d'artisans, commercants et chefs d'entreprise dans la population active\n",
    "idf['TACCACTOCC1564'] = 100*idf['C18_ACTOCC1564_CS2'] / idf['C18_ACTOCC1564']"
   ]
  },
  {
   "cell_type": "code",
   "execution_count": 4,
   "id": "bfdb6aa8",
   "metadata": {},
   "outputs": [
    {
     "ename": "NameError",
     "evalue": "name 'idf' is not defined",
     "output_type": "error",
     "traceback": [
      "\u001b[1;31m---------------------------------------------------------------------------\u001b[0m",
      "\u001b[1;31mNameError\u001b[0m                                 Traceback (most recent call last)",
      "\u001b[1;32m~\\AppData\\Local\\Temp/ipykernel_16324/2104027145.py\u001b[0m in \u001b[0;36m<module>\u001b[1;34m\u001b[0m\n\u001b[0;32m      1\u001b[0m \u001b[1;31m# Part de professionnelles intermediares dans la population active occupée.\u001b[0m\u001b[1;33m\u001b[0m\u001b[1;33m\u001b[0m\u001b[0m\n\u001b[1;32m----> 2\u001b[1;33m \u001b[0midf\u001b[0m\u001b[1;33m[\u001b[0m\u001b[1;34m'TINTACTOCC1564'\u001b[0m\u001b[1;33m]\u001b[0m \u001b[1;33m=\u001b[0m \u001b[1;36m100\u001b[0m\u001b[1;33m*\u001b[0m\u001b[0midf\u001b[0m\u001b[1;33m[\u001b[0m\u001b[1;34m'C18_ACTOCC1564_CS4'\u001b[0m\u001b[1;33m]\u001b[0m \u001b[1;33m/\u001b[0m \u001b[0midf\u001b[0m\u001b[1;33m[\u001b[0m\u001b[1;34m'C18_ACTOCC1564'\u001b[0m\u001b[1;33m]\u001b[0m\u001b[1;33m\u001b[0m\u001b[1;33m\u001b[0m\u001b[0m\n\u001b[0m",
      "\u001b[1;31mNameError\u001b[0m: name 'idf' is not defined"
     ]
    }
   ],
   "source": [
    "# Part de professionnelles intermediares dans la population active occupée.\n",
    "idf['TINTACTOCC1564'] = 100*idf['C18_ACTOCC1564_CS4'] / idf['C18_ACTOCC1564']"
   ]
  },
  {
   "cell_type": "code",
   "execution_count": null,
   "id": "7ecdd269",
   "metadata": {},
   "outputs": [],
   "source": [
    "# Part d'employés dans la population active occupée.\n",
    "idf['TEMPLACTOCC1564'] = 100*idf['C18_ACTOCC1564_CS5'] / idf['C18_ACTOCC1564']"
   ]
  },
  {
   "cell_type": "code",
   "execution_count": null,
   "id": "247bbf0b",
   "metadata": {},
   "outputs": [],
   "source": [
    "# Part d'ouvriers dans la population active occupée.\n",
    "idf['TOUVRACTOCC1564'] = 100*idf['C18_ACTOCC1564_CS6'] / idf['C18_ACTOCC1564']"
   ]
  },
  {
   "cell_type": "markdown",
   "id": "16d13a8f",
   "metadata": {},
   "source": [
    "### Pour une meilleure visualisation et computation des statistiques descriptives on selectionne que les variables qu'on veut observer."
   ]
  },
  {
   "cell_type": "code",
   "execution_count": null,
   "id": "b0186b40",
   "metadata": {},
   "outputs": [],
   "source": [
    "idf= idf[['CODGEO','DEP','LIBGEO','TEMPL1564','TCHOM1564','TCADACTOCC1564','TACCACTOCC1564','TINTACTOCC1564','TEMPLACTOCC1564',\n",
    "         'TOUVRACTOCC1564']]\n",
    "# On selectionne que les colomnes que on utiliserà "
   ]
  },
  {
   "cell_type": "code",
   "execution_count": null,
   "id": "0dc46aad",
   "metadata": {},
   "outputs": [],
   "source": [
    "idf.groupby('DEP')['TEMPL1564','TCHOM1564','TCADACTOCC1564','TACCACTOCC1564','TINTACTOCC1564','TEMPLACTOCC1564',\n",
    "         'TOUVRACTOCC1564'].agg(['mean','std'])\n",
    "# On montre le moyenne et la deviation standard pour les données"
   ]
  }
 ],
 "metadata": {
  "kernelspec": {
   "display_name": "Python 3 (ipykernel)",
   "language": "python",
   "name": "python3"
  },
  "language_info": {
   "codemirror_mode": {
    "name": "ipython",
    "version": 3
   },
   "file_extension": ".py",
   "mimetype": "text/x-python",
   "name": "python",
   "nbconvert_exporter": "python",
   "pygments_lexer": "ipython3",
   "version": "3.9.7"
  }
 },
 "nbformat": 4,
 "nbformat_minor": 5
}
